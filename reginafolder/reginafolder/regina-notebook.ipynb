{
 "cells": [
  {
   "cell_type": "markdown",
   "metadata": {},
   "source": [
    "### IMPORT"
   ]
  },
  {
   "cell_type": "code",
   "execution_count": 1,
   "metadata": {
    "collapsed": true
   },
   "outputs": [
    {
     "name": "stderr",
     "output_type": "stream",
     "text": [
      "/Users/starspace/anaconda3/lib/python3.7/site-packages/tensorflow/python/framework/dtypes.py:516: FutureWarning: Passing (type, 1) or '1type' as a synonym of type is deprecated; in a future version of numpy, it will be understood as (type, (1,)) / '(1,)type'.\n",
      "  _np_qint8 = np.dtype([(\"qint8\", np.int8, 1)])\n",
      "/Users/starspace/anaconda3/lib/python3.7/site-packages/tensorflow/python/framework/dtypes.py:517: FutureWarning: Passing (type, 1) or '1type' as a synonym of type is deprecated; in a future version of numpy, it will be understood as (type, (1,)) / '(1,)type'.\n",
      "  _np_quint8 = np.dtype([(\"quint8\", np.uint8, 1)])\n",
      "/Users/starspace/anaconda3/lib/python3.7/site-packages/tensorflow/python/framework/dtypes.py:518: FutureWarning: Passing (type, 1) or '1type' as a synonym of type is deprecated; in a future version of numpy, it will be understood as (type, (1,)) / '(1,)type'.\n",
      "  _np_qint16 = np.dtype([(\"qint16\", np.int16, 1)])\n",
      "/Users/starspace/anaconda3/lib/python3.7/site-packages/tensorflow/python/framework/dtypes.py:519: FutureWarning: Passing (type, 1) or '1type' as a synonym of type is deprecated; in a future version of numpy, it will be understood as (type, (1,)) / '(1,)type'.\n",
      "  _np_quint16 = np.dtype([(\"quint16\", np.uint16, 1)])\n",
      "/Users/starspace/anaconda3/lib/python3.7/site-packages/tensorflow/python/framework/dtypes.py:520: FutureWarning: Passing (type, 1) or '1type' as a synonym of type is deprecated; in a future version of numpy, it will be understood as (type, (1,)) / '(1,)type'.\n",
      "  _np_qint32 = np.dtype([(\"qint32\", np.int32, 1)])\n",
      "/Users/starspace/anaconda3/lib/python3.7/site-packages/tensorflow/python/framework/dtypes.py:525: FutureWarning: Passing (type, 1) or '1type' as a synonym of type is deprecated; in a future version of numpy, it will be understood as (type, (1,)) / '(1,)type'.\n",
      "  np_resource = np.dtype([(\"resource\", np.ubyte, 1)])\n",
      "/Users/starspace/anaconda3/lib/python3.7/site-packages/tensorboard/compat/tensorflow_stub/dtypes.py:541: FutureWarning: Passing (type, 1) or '1type' as a synonym of type is deprecated; in a future version of numpy, it will be understood as (type, (1,)) / '(1,)type'.\n",
      "  _np_qint8 = np.dtype([(\"qint8\", np.int8, 1)])\n",
      "/Users/starspace/anaconda3/lib/python3.7/site-packages/tensorboard/compat/tensorflow_stub/dtypes.py:542: FutureWarning: Passing (type, 1) or '1type' as a synonym of type is deprecated; in a future version of numpy, it will be understood as (type, (1,)) / '(1,)type'.\n",
      "  _np_quint8 = np.dtype([(\"quint8\", np.uint8, 1)])\n",
      "/Users/starspace/anaconda3/lib/python3.7/site-packages/tensorboard/compat/tensorflow_stub/dtypes.py:543: FutureWarning: Passing (type, 1) or '1type' as a synonym of type is deprecated; in a future version of numpy, it will be understood as (type, (1,)) / '(1,)type'.\n",
      "  _np_qint16 = np.dtype([(\"qint16\", np.int16, 1)])\n",
      "/Users/starspace/anaconda3/lib/python3.7/site-packages/tensorboard/compat/tensorflow_stub/dtypes.py:544: FutureWarning: Passing (type, 1) or '1type' as a synonym of type is deprecated; in a future version of numpy, it will be understood as (type, (1,)) / '(1,)type'.\n",
      "  _np_quint16 = np.dtype([(\"quint16\", np.uint16, 1)])\n",
      "/Users/starspace/anaconda3/lib/python3.7/site-packages/tensorboard/compat/tensorflow_stub/dtypes.py:545: FutureWarning: Passing (type, 1) or '1type' as a synonym of type is deprecated; in a future version of numpy, it will be understood as (type, (1,)) / '(1,)type'.\n",
      "  _np_qint32 = np.dtype([(\"qint32\", np.int32, 1)])\n",
      "/Users/starspace/anaconda3/lib/python3.7/site-packages/tensorboard/compat/tensorflow_stub/dtypes.py:550: FutureWarning: Passing (type, 1) or '1type' as a synonym of type is deprecated; in a future version of numpy, it will be understood as (type, (1,)) / '(1,)type'.\n",
      "  np_resource = np.dtype([(\"resource\", np.ubyte, 1)])\n"
     ]
    }
   ],
   "source": [
    "import re\n",
    "import json\n",
    "import time\n",
    "from tokenizer import split_into_sentences\n",
    "import pos\n",
    "import time"
   ]
  },
  {
   "cell_type": "code",
   "execution_count": 2,
   "metadata": {},
   "outputs": [],
   "source": [
    "from tqdm import tqdm"
   ]
  },
  {
   "cell_type": "code",
   "execution_count": 3,
   "metadata": {},
   "outputs": [],
   "source": [
    "import abbr_functions as af\n",
    "import number_help as nh\n",
    "import number_functions as nf\n",
    "import wlinks "
   ]
  },
  {
   "cell_type": "code",
   "execution_count": 4,
   "metadata": {},
   "outputs": [],
   "source": [
    "import area_dict as ad\n",
    "import currency_dict as cd\n",
    "import distance_dict as dd\n",
    "import electronic_dict as ed\n",
    "import period_dict as pd\n",
    "import rest_dict as rd\n",
    "import time_dict as td\n",
    "import volume_dict as vd\n",
    "import weight_dict as wd\n",
    "import pre_help_dicts as phd\n",
    "import symbols_dict as sd"
   ]
  },
  {
   "cell_type": "code",
   "execution_count": 5,
   "metadata": {},
   "outputs": [],
   "source": [
    "import cardinal_ones_tuples as cot\n",
    "import cardinal_thousands_tuples as ctt\n",
    "import cardinal_million_tuples as cmt\n",
    "import cardinal_big_tuples as cbt\n",
    "import ordinal_ones_tuples as oot\n",
    "import ordinal_thousands_tuples as ott\n",
    "import ordinal_million_tuples as omt\n",
    "import ordinal_big_tuples as obt\n",
    "import decimal_thousands_tuples as dtt\n",
    "import fraction_tuples as ft\n",
    "import sport_tuples as st\n",
    "import time_tuples as tt\n",
    "import abbr_functions as af"
   ]
  },
  {
   "cell_type": "code",
   "execution_count": 6,
   "metadata": {},
   "outputs": [],
   "source": [
    "import tuple_rules"
   ]
  },
  {
   "cell_type": "code",
   "execution_count": 7,
   "metadata": {},
   "outputs": [],
   "source": [
    "import number_patterns"
   ]
  },
  {
   "cell_type": "code",
   "execution_count": 8,
   "metadata": {},
   "outputs": [],
   "source": [
    "tagger = pos.Tagger(\n",
    "    model_file=\"tagger-v2.0.0.pt\",\n",
    "    device=\"cpu\",\n",
    ")"
   ]
  },
  {
   "cell_type": "code",
   "execution_count": 9,
   "metadata": {},
   "outputs": [],
   "source": [
    "abbr_dict = json.load(open(\"abbrdict.txt\"))\n",
    "direction_ptrn = \"[SN]?V|N|[SN]?A|S\"\n",
    "direction_dict = json.load(open(\"directiondict.txt\"))\n",
    "denominator_dict = json.load(open(\"denominatordict.txt\"))"
   ]
  },
  {
   "cell_type": "code",
   "execution_count": 10,
   "metadata": {},
   "outputs": [],
   "source": [
    "pre_help_dict = phd.pre_help_dicts\n",
    "area_dict = ad.make_area_dict()\n",
    "currency_dict = cd.make_currency_dict()\n",
    "distance_dict = dd.make_distance_dict()\n",
    "electronic_dict = ed.make_electronic_dict()\n",
    "period_dict = pd.make_period_dict()\n",
    "rest_dict = rd.make_rest_measure_dict()\n",
    "time_dict = td.make_time_dict()\n",
    "volume_dict = vd.make_volume_dict()\n",
    "weight_dict = wd.make_weight_dict()\n",
    "symb_dict = sd.symb_dict"
   ]
  },
  {
   "cell_type": "code",
   "execution_count": 11,
   "metadata": {},
   "outputs": [],
   "source": [
    "cardinal_thousand_tuples = cot.cardinal_ones_tuples + ctt.cardinal_thousands_tuples\n",
    "cardinal_million_tuples = cardinal_thousand_tuples + cmt.cardinal_million_tuples\n",
    "cardinal_big_tuples = cardinal_million_tuples + cbt.cardinal_big_tuples\n",
    "\n",
    "ordinal_thousand_tuples = oot.ordinal_ones_tuples + ott.ordinal_thousands_tuples + ctt.cardinal_thousands_tuples\n",
    "ordinal_million_tuples = ordinal_thousand_tuples + cmt.cardinal_million_tuples + omt.ordinal_million_tuples\n",
    "ordinal_big_tuples = ordinal_million_tuples + cbt.cardinal_big_tuples + obt.ordinal_big_tuples\n",
    "\n",
    "decimal_thousand_tuples = cardinal_thousand_tuples + dtt.decimal_thousands_tuples\n",
    "\n",
    "decimal_big_tuples = cardinal_big_tuples + dtt.decimal_thousands_tuples\n",
    "\n",
    "fraction_tuples = cardinal_thousand_tuples + ft.fraction_tuples\n",
    "\n",
    "sport_tuples = st.sport_tuples\n",
    "\n",
    "time_tuples = tt.time_tuples"
   ]
  },
  {
   "cell_type": "markdown",
   "metadata": {},
   "source": [
    "### RUN\n",
    "\n",
    "```\n",
    "    sent = 'some string with words to be normalized'  \n",
    "    abbr_sent = af.replace_abbreviations(sent, domain) # domain can be 'sport' or 'other'  \n",
    "    no_sent = nf.handle_sentence(abbr_sent, domain)\n",
    "```"
   ]
  },
  {
   "cell_type": "code",
   "execution_count": 12,
   "metadata": {},
   "outputs": [],
   "source": [
    "grein = \"Auknar takmarkanir hefjast á miðnætti í París og víðar í Frakklandi vegna ótta við þriðju bylgju \" + \\\n",
    "        \"kórónuveirunnar. Aðgerðirnar hafa áhrif á um 21 milljón manns sem búa á 16 svæðum í landinu. Þær \" + \\\n",
    "        \"verða ekki ekki eins strangar og áður. Að sögn forsætisráðherrans Jean Castex fær fólk t.a.m. \" + \\\n",
    "        \"að stunda æfingar utandyra, að því er kemur fram á BBC. Þetta var 4. dagur 120. mánaðar, \" + \\\n",
    "        \"300. árs. Á ég 4 krónur, 40.000 krónur eða 234.000.000 krónur? Áttu 1/2 mínútu? Klukkan er \" + \\\n",
    "        \"10:08, klukkan var 07 áðan. Hann átti 23/23 fráköst. Það er hneyksli að KFUM sé ekki búið að skipta \" + \\\n",
    "        \"sér af. Kristján IX. kom til landsins um daginn, bíðum eftir Kristjáni IXIIXIXVIX. Létt & laggott seldi \" + \\\n",
    "        \"hlut sinn þann 02.03.2021. Það er hægt að lesa um það á https://mbl.is/innlent. Leikurinn tók 3-4 tíma. \" + \\\n",
    "        \"Síminn minn er 581-2345.\"\n",
    "\n",
    "sent_grein = list(split_into_sentences(grein))"
   ]
  },
  {
   "cell_type": "code",
   "execution_count": 13,
   "metadata": {},
   "outputs": [],
   "source": [
    "sent_expand = []\n",
    "for sent in sent_grein:\n",
    "    abbr_sent = af.replace_abbreviations(sent, 'other')\n",
    "    no_sent = nf.handle_sentence(abbr_sent, 'other')\n",
    "    sent_expand.append(no_sent)\n",
    "    "
   ]
  },
  {
   "cell_type": "code",
   "execution_count": 14,
   "metadata": {},
   "outputs": [
    {
     "data": {
      "text/plain": [
       "['Auknar takmarkanir hefjast á miðnætti í París og víðar í Frakklandi vegna ótta við þriðju bylgju kórónuveirunnar . ',\n",
       " 'Aðgerðirnar hafa áhrif á um  tuttugu og eina milljón manns sem búa á  sextán svæðum í landinu . ',\n",
       " 'Þær verða ekki ekki eins strangar og áður . ',\n",
       " 'Að sögn forsætisráðherrans Jean Castex fær fólk til að mynda að stunda æfingar utandyra , að því er kemur fram á B B C . ',\n",
       " 'Þetta var  fjórði dagur hundrað og tuttugasta mánaðar ,  þrjú hundruðasta árs . ',\n",
       " 'Á ég  fjórar krónur ,  fjörutíu þúsund krónur eða  tvö hundruð þrjátíu og fjórar milljónir krónur ? ',\n",
       " 'Áttu  hálfa mínútu ? ',\n",
       " 'Klukkan er  tíu núll átta , klukkan var núll  sjö áðan . ',\n",
       " 'Hann átti  tuttugu og þrjú /  tuttugu og þrjú fráköst . ',\n",
       " 'Það er hneyksli að K F U M sé ekki búið að skipta sér af . ',\n",
       " 'Kristján níundi kom til landsins um daginn , bíðum eftir Kristjáni I X I I X I X V I X . ',\n",
       " 'Létt og laggott seldi hlut sinn þann núll annan núll þriðja  tvö þúsund tuttugu og eitt . ',\n",
       " 'Það er hægt að lesa um það á h t t p s tvípunktur skástrik skástrik m b l punktur i s skástrik i n n l e n t . ',\n",
       " 'Leikurinn tók  þrjú til  fjóra tíma . ',\n",
       " 'Síminn minn er  fimm átta einn <sil> tveir þrír fjórir fimm . ']"
      ]
     },
     "execution_count": 14,
     "metadata": {},
     "output_type": "execute_result"
    }
   ],
   "source": [
    "sent_expand"
   ]
  },
  {
   "cell_type": "code",
   "execution_count": 15,
   "metadata": {},
   "outputs": [
    {
     "data": {
      "text/plain": [
       "['Auknar takmarkanir hefjast á miðnætti í París og víðar í Frakklandi vegna ótta við þriðju bylgju kórónuveirunnar .',\n",
       " 'Aðgerðirnar hafa áhrif á um 21 milljón manns sem búa á 16 svæðum í landinu .',\n",
       " 'Þær verða ekki ekki eins strangar og áður .',\n",
       " 'Að sögn forsætisráðherrans Jean Castex fær fólk t.a.m. að stunda æfingar utandyra , að því er kemur fram á BBC .',\n",
       " 'Þetta var 4. dagur 120. mánaðar , 300. árs .',\n",
       " 'Á ég 4 krónur , 40.000 krónur eða 234.000.000 krónur ?',\n",
       " 'Áttu 1/2 mínútu ?',\n",
       " 'Klukkan er 10:08 , klukkan var 07 áðan .',\n",
       " 'Hann átti 23 / 23 fráköst .',\n",
       " 'Það er hneyksli að KFUM sé ekki búið að skipta sér af .',\n",
       " 'Kristján IX. kom til landsins um daginn , bíðum eftir Kristjáni IXIIXIXVIX .',\n",
       " 'Létt & laggott seldi hlut sinn þann 02.03.2021 .',\n",
       " 'Það er hægt að lesa um það á https://mbl.is/innlent .',\n",
       " 'Leikurinn tók 3 - 4 tíma .',\n",
       " 'Síminn minn er 581-2345 .']"
      ]
     },
     "execution_count": 15,
     "metadata": {},
     "output_type": "execute_result"
    }
   ],
   "source": [
    "sent_grein"
   ]
  },
  {
   "cell_type": "code",
   "execution_count": null,
   "metadata": {},
   "outputs": [],
   "source": []
  }
 ],
 "metadata": {
  "kernelspec": {
   "display_name": "Python 3",
   "language": "python",
   "name": "python3"
  },
  "language_info": {
   "codemirror_mode": {
    "name": "ipython",
    "version": 3
   },
   "file_extension": ".py",
   "mimetype": "text/x-python",
   "name": "python",
   "nbconvert_exporter": "python",
   "pygments_lexer": "ipython3",
   "version": "3.7.7"
  }
 },
 "nbformat": 4,
 "nbformat_minor": 4
}
