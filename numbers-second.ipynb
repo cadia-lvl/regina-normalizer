{
 "cells": [
  {
   "cell_type": "code",
   "execution_count": 1,
   "metadata": {},
   "outputs": [],
   "source": [
    "import warnings\n",
    "warnings.filterwarnings(\"ignore\")\n",
    "import regex as re\n",
    "import numpy as np\n",
    "import pandas as pd\n",
    "pd.set_option('display.max_rows', None)\n",
    "from tokenizer import split_into_sentences\n",
    "import time\n",
    "from tqdm.auto import tqdm\n",
    "tqdm.pandas()"
   ]
  },
  {
   "cell_type": "code",
   "execution_count": 2,
   "metadata": {},
   "outputs": [],
   "source": [
    "df_sport = pd.read_csv('sport_df_tagged_0503.csv')"
   ]
  },
  {
   "cell_type": "code",
   "execution_count": 2,
   "metadata": {},
   "outputs": [],
   "source": [
    "df_other = pd.read_csv('other_df_tagged_0302.csv', keep_default_na=False, na_values=['_'])"
   ]
  },
  {
   "cell_type": "code",
   "execution_count": 3,
   "metadata": {},
   "outputs": [],
   "source": [
    "ordinal_ptrn = \"^(([1-9]\\d{0,2}\\.)(\\d{3}\\.)*\\d{3}|[1-9]\\d*)\\.$\"\n",
    "cardinal_ptrn = \"^((([1-9]\\d{0,2}\\.)(\\d{3}\\.)*\\d{3}|[1-9]\\d*)|0)((,\\d+)?|( [1-9]\\d*\\/[1-9]\\d*| ?(½|⅓|⅔|¼|¾)))$\"\n",
    "fraction_ptrn = \"^([1-9]\\d*\\/([2-9]|[1-9]\\d+)|(½|⅓|⅔|¼|¾))$\"\n",
    "time_ptrn = \"^([01]?\\d|2[0-4])[:\\.][0-5]\\d$\"\n",
    "time_digit_ptrn = \"^0\\d$\"\n",
    "sprt_ptrn = \"^(?!1\\/2)([1-9]\\d?\\/[1-9]\\d?)$\"\n",
    "letters_ptrn = r\"^(?!^(RÚV|SPRON|\\-|\\.)$)[\\-\\.A-ZÁÐÉÍÓÚÝÞÆÖ]{1,5}$\"\n",
    "roman_letters_ptrn = r\"[IVXLCDM]{5,20}\"\n",
    "all_numbers_ptrn = ordinal_ptrn + \"|\" + cardinal_ptrn + \"|\" + fraction_ptrn + \"|\" + time_ptrn + \"|\" + time_digit_ptrn + \"|\" + roman_letters_ptrn"
   ]
  },
  {
   "cell_type": "code",
   "execution_count": 4,
   "metadata": {},
   "outputs": [],
   "source": [
    "def make_type(df, domain):\n",
    "    start = time.time()\n",
    "    df.loc[(df['after_measure'].str.match(ordinal_ptrn)), 'type'] = \"ordinal\"\n",
    "    df.loc[(df['after_measure'].str.match(cardinal_ptrn)), 'type'] = \"cardinal\"\n",
    "    df.loc[(df['after_measure'].str.match(time_ptrn)), 'type'] = \"time\"\n",
    "    df.loc[(df['after_measure'].str.match(time_digit_ptrn)), 'type'] = \"timedigit\"\n",
    "    df.loc[(df['after_measure'].str.match(fraction_ptrn)), 'type'] = \"fraction\"\n",
    "    if domain == 'sport':\n",
    "        df.loc[(df['after_measure'].str.match(sprt_ptrn)), 'type'] = \"sport\"\n",
    "    elif 'other':\n",
    "        pass\n",
    "    df.loc[(df['after_measure'].str.match(letters_ptrn)), 'type'] = \"letters\"\n",
    "    df.loc[(df['after_measure'].str.match(roman_letters_ptrn)), 'type'] = \"letters\"\n",
    "    df.loc[(df['after_measure'].str.match(\"^0\\d\\.$\")), 'type'] = \"digitzero\"\n",
    "    df.loc[((df['after_measure'].str.match(\"^\\d{7}$\")) & (df['type'] == \"cardinal\")), 'type'] = \"digit\"\n",
    "    df.loc[((df['after_measure'].str.match(\"\\d\")) & (df['type'] == \"\")), 'type'] = \"digit\"\n",
    "    print(f\"make_type done in {time.time() - start}\")"
   ]
  },
  {
   "cell_type": "code",
   "execution_count": 5,
   "metadata": {},
   "outputs": [
    {
     "name": "stdout",
     "output_type": "stream",
     "text": [
      "make_type done in 2.169097900390625\n"
     ]
    }
   ],
   "source": [
    "make_type(df_sport, 'sport')"
   ]
  },
  {
   "cell_type": "code",
   "execution_count": 5,
   "metadata": {},
   "outputs": [
    {
     "name": "stdout",
     "output_type": "stream",
     "text": [
      "make_type done in 112.44260120391846\n"
     ]
    }
   ],
   "source": [
    "make_type(df_other, 'other')"
   ]
  },
  {
   "cell_type": "code",
   "execution_count": 6,
   "metadata": {},
   "outputs": [],
   "source": [
    "df_sport['tag'] = df_sport['next_tag']\n",
    "df_sport['word'] = df_sport['after_measure']"
   ]
  },
  {
   "cell_type": "code",
   "execution_count": 6,
   "metadata": {},
   "outputs": [],
   "source": [
    "df_other['tag'] = df_other['next_tag']\n",
    "df_other['word'] = df_other['after_measure']"
   ]
  },
  {
   "cell_type": "code",
   "execution_count": 171,
   "metadata": {},
   "outputs": [],
   "source": [
    "df_sample['tag'] = df_sample['next_tag']\n",
    "df_sample['word'] = df_sample['after_measure']"
   ]
  },
  {
   "cell_type": "code",
   "execution_count": 7,
   "metadata": {},
   "outputs": [],
   "source": [
    "df_sport_run = df_sport[['sentence_id', 'token_id', 'word', 'tag', 'type']]"
   ]
  },
  {
   "cell_type": "code",
   "execution_count": 7,
   "metadata": {},
   "outputs": [],
   "source": [
    "df_other_run = df_other[['sentence_id', 'token_id', 'word', 'tag', 'type']]"
   ]
  },
  {
   "cell_type": "code",
   "execution_count": 172,
   "metadata": {},
   "outputs": [],
   "source": [
    "df_sample_run = df_sample[['sentence_id', 'token_id', 'word', 'tag', 'type']]"
   ]
  },
  {
   "cell_type": "markdown",
   "metadata": {},
   "source": [
    "# GRAMMAR"
   ]
  },
  {
   "cell_type": "code",
   "execution_count": 8,
   "metadata": {},
   "outputs": [],
   "source": [
    "hálfur = \"[nl]ke[n]-?((g?s?)|([svo]?[fme]?))\"\n",
    "hálfan = \"[nl]ke[o]-?((g?s?)|([svo]?[fme]?))\"\n",
    "hálfum = \"[nl][kvh][ef]þ-?((g?s?)|([svo]?[fme]?))\"\n",
    "hálfs = \"[nl][kh]ee-?((g?s?)|([svo]?[fme]?))\"\n",
    "hálf = \"(([nl]ven)|([n|l]hf[n|o]))-?((g?s?)|([svo]?[fme]?))\"\n",
    "hálfa = \"[nl][k|v][f|e]o-?((g?s?)|([svo]?[fme]?))\"\n",
    "hálfri = \"[nl]veþ-?((g?s?)|([svo]?[fme]?))\"\n",
    "hálfrar = \"[nl]vee-?((g?s?)|([svo]?[fme]?))\"\n",
    "hálft = \"[nl]he[n|o]-?((g?s?)|([svo]?[fme]?))\"\n",
    "hálfu = \"[nl]heþ-?((g?s?)|([svo]?[fme]?))\"\n",
    "hálfir = \"[nl]kfn-?((g?s?)|([svo]?[fme]?))\"\n",
    "hálfa = \"[nl][k|v][f|e]o-?((g?s?)|([svo]?[fme]?))\"\n",
    "hálfra = \"[nl][k|v|h]fe-?((g?s?)|([svo]?[fme]?))\"\n",
    "hálfar = \"[nl]vf[n|o]-?((g?s?)|([svo]?[fme]?))\"\n",
    "\n",
    "einn = \"[nl]k[ef][no]-?((g?s?)|([svo]?[fme]?))\"\n",
    "einum = \"[nl]k[ef]þ-?((g?s?)|([svo]?[fme]?))\"\n",
    "eins = \"[nl][kh][ef]e-?((g?s?)|([svo]?[fme]?))\"\n",
    "ein = \"(([nl]v[ef]n)|([n|l]hf[n|o]))-?((g?s?)|([svo]?[fme]?))\"\n",
    "eina = \"[nl]v[ef]o-?((g?s?)|([svo]?[fme]?))\"\n",
    "einni = \"[nl]v[ef]þ-?((g?s?)|([svo]?[fme]?))\"\n",
    "einnar = \"[nl]v[ef]e-?((g?s?)|([svo]?[fme]?))\"\n",
    "eitt = \"[nl]h[ef][no]-?((g?s?)|([svo]?[fme]?))\"\n",
    "einu = \"[nl]h[ef]þ-?((g?s?)|([svo]?[fme]?))\"\n",
    "\n",
    "tveir = \"[nl]k[ef]n-?((g?s?)|([svo]?[fme]?))\"\n",
    "tvo = \"[nl]k[ef]o-?((g?s?)|([svo]?[fme]?))\"\n",
    "tveimur = \"[nl][kvh][ef]þ-?((g?s?)|([svo]?[fme]?))\"\n",
    "tveggja = \"[nl][kvh][ef]e-?((g?s?)|([svo]?[fme]?))\"\n",
    "tvær = \"[nl]v[ef][no]-?((g?s?)|([svo]?[fme]?))\"\n",
    "tvö = \"[nl]h[ef][no]-?((g?s?)|([svo]?[fme]?))\"\n",
    "\n",
    "þrír = \"[nl]k[ef]n-?((g?s?)|([svo]?[fme]?))\"\n",
    "þrjá = \"[nl]k[ef]o-?((g?s?)|([svo]?[fme]?))\"\n",
    "þremur = \"[nl][kvh][ef]þ-?((g?s?)|([svo]?[fme]?))\"\n",
    "þriggja = \"[nl][kvh][ef]e-?((g?s?)|([svo]?[fme]?))\"\n",
    "þrjár = \"[nl]v[ef][no]-?((g?s?)|([svo]?[fme]?))\"\n",
    "þrjú = \"[nl]h[ef][no]-?((g?s?)|([svo]?[fme]?))\"\n",
    "\n",
    "fjórir = \"[nl]k[ef]n-?((g?s?)|([svo]?[fme]?))\"\n",
    "fjóra = \"[nl]k[ef]o-?((g?s?)|([svo]?[fme]?))\"\n",
    "fjórum = \"[nl][kvh][ef]þ-?((g?s?)|([svo]?[fme]?))\"\n",
    "fjögurra = \"[nl][kvh][ef]e-?((g?s?)|([svo]?[fme]?))\"\n",
    "fjórar = \"[nl]v[ef][no]-?((g?s?)|([svo]?[fme]?))\"\n",
    "fjögur = \"[nl]h[ef][no]-?((g?s?)|([svo]?[fme]?))\"\n",
    "\n",
    "nonoun = \"^(?![nl][kvh][ef][noþe]-?((g?s?)|([svo]?[fme]?)))[a-záðéíóúýþæö\\d\\-]+$\""
   ]
  },
  {
   "cell_type": "markdown",
   "metadata": {},
   "source": [
    "## REGEX RULES\n"
   ]
  },
  {
   "cell_type": "code",
   "execution_count": 9,
   "metadata": {},
   "outputs": [],
   "source": [
    "zeropnt_ptrn = \"^(([1-9]((\\d{0,2}(\\.\\d{3})*\\.)\\d{3}))|\\d+|0),\"\n",
    "tns_ptrn = \"^((([1-9]((\\d{0,2}(\\.\\d{3})*\\.)|\\d*))\\d)|[1-9])?\"\n",
    "dec_ptrn = \"((,\\d*)|(\\s1\\/2|\\s?½))?$\"\n",
    "dec_ptrn_def = \"(,\\d*)|(\\s1\\/2|\\s?½)$\"\n",
    "dec_ptrn_ordinal = \"(\\.|(,\\d*)|(\\s1\\/2|\\s?½))?$\"\n",
    "\n",
    "ones_ptrn_no11 = \"^((([1-9]((\\d{0,2}(\\.\\d{3})*\\.\\d)|\\d*))[02-9])|[2-9]?)?\"\n",
    "hndrds_ptrn_no11 = \"^([1-9]((\\d{0,2}(\\.\\d{3})*\\.)|\\d*))?\"\n",
    "hndrds_ptrn_no11_def = \"^([1-9]((\\d{0,2}(\\.\\d{3})*\\.)|\\d*))\"\n",
    "\n",
    "ones_ptrn_11 = \"^([1-9]((\\d{0,2}(\\.\\d{3})*\\.\\d{2}|\\d*))|[1-9]?)?\"\n",
    "hndrds_ptrn_11 = \"^((([1-9]((\\d{0,2}(\\.\\d{3})*\\.)|\\d*)))|[1-9]?)\"\n",
    "\n",
    "half_ptrn = \"^(([1-9]((\\d{0,2}(\\.\\d{3})*))|\\d+))\\s?(1\\/2|½)$\"\n",
    "fraction_ptrn_before = \"^(([1-9]((\\d{0,2}(\\.\\d{3})*))|\\d+))\\s\"\n",
    "thsnds_ptrn_after = \"(\\.?(000|(0[2-9][1-9])|([1-9](?!00)\\d{2})))\"\n",
    "thsnds_and_ptrn_cardinal = \"\\.?(0([01][1-9]|[1-9]0)|[1-9]00)\"\n",
    "thsnds_and_ptrn_ordinal = \"\\.?(0[2-9]0|[1-9]00)\\.$\"\n",
    "\n",
    "hndrds_ptrn_after = \"(0([01][1-9]|[2-9]0))|([1-9]00)\"\n",
    "hndrd_thsnd_after = \"([2-9][1-9])(\\.?\\d{3})\"\n",
    "hndrd_and_thsnd = \"(([01][1-9]\\.?\\d{3})|([2-9]0\\.?\\d{3}))\"\n",
    "\n",
    "million_and_cardinal = \"\\.(([1-9]00\\.000)|(0[1-9]0\\.000)|(00[1-9]\\.000)|(000\\.[1-9]00)|(000\\.0([01][1-9]|[2-9]0)))\"\n",
    "million_and_ordinal = \"\\.(([1-9]00\\.000)|(0[1-9]0\\.000)|(00[1-9]\\.000)|(000\\.[1-9]00)|(000\\.0[2-9]0))\\.$\"\n",
    "milln_ptrn_after = \"\\.((000\\.000)|([1-9](?!00\\.000)\\d{2}\\.\\d{3})|(0[1-9](?!0\\.000)\\d\\.\\d{3})|(00[1-9]\\.(?!0{3})\\d{3})|(0{3}\\.0[2-9][1-9]))\"\n",
    "hndrd_and_million = \"([01][1-9]|[2-9]0)(\\.\\d{3}){2}\"\n",
    "hndrd_million = \"([2-9][1-9])(\\.\\d{3}){2}\"\n",
    "\n",
    "billion_and_cardinal = \"\\.((([1-9]00)|(0[1-9]0)|(00[1-9]))(\\.0{3}){2}|(0{3}\\.([1-9]00|0[1-9]0|00[1-9])\\.0{3})|((0{3}\\.){2}([1-9]00|0[1-9]0|0[01][1-9])))\"\n",
    "billion_and_ordinal = \"\\.((([1-9]00)|(0[1-9]0)|(00[1-9]))(\\.0{3}){2}|(0{3}\\.([1-9]00|0[1-9]0|00[1-9])\\.0{3})|((0{3}\\.){2}([1-9]00|0[1-9]0)|10))\\.$\"\n",
    "billion1 = \"([1-9](?!00(\\.000){2})\\d{2}(\\.\\d{3}){2})\"\n",
    "billion2 = \"(0[1-9](?!0(\\.000){2})\\d(\\.\\d{3}){2})\"\n",
    "billion3 = \"(00[1-9](?!(\\.000){2})(\\.\\d{3}){2})\"\n",
    "billion4 = \"(0{3}\\.[1-9](?!00\\.000)\\d{2}\\.\\d{3})\"\n",
    "billion5 = \"(0{3}\\.0[1-9](?!0\\.000)\\d\\.\\d{3})\"\n",
    "billion6 = \"(0{3}\\.00[1-9]\\.(?!000)\\d{3})\"\n",
    "billion7 = \"((0{3}\\.){2}[1-9](?!00)\\d{2})\"\n",
    "billion8 = \"((0{3}\\.){2}0[2-9][1-9])\"\n",
    "\n",
    "billion_after = \"\\.((000(\\.0{3}){2})|\" + billion1 + \"|\" + billion2 + \"|\" + billion3 + \"|\" + billion4 + \"|\" + billion5 + \"|\" + billion6 + \"|\" + billion7 + \"|\" + billion8 + \")\"\n",
    "\n",
    "hndrd_and_billion = \"([01][1-9]|[2-9]0)(\\.\\d{3}){3}\"\n",
    "hndrd_billion = \"([2-9][1-9])(\\.\\d{3}){3}\""
   ]
  },
  {
   "cell_type": "markdown",
   "metadata": {},
   "source": [
    "## RULES FOR CARDINAL ONES"
   ]
  },
  {
   "cell_type": "code",
   "execution_count": 10,
   "metadata": {},
   "outputs": [],
   "source": [
    "def replace_zero_cardinal(df):\n",
    "    print(\"replace_zero_cardinal\")\n",
    "    df.loc[df['word'].str.match(\"^0(,\\d+)?$\"), 'ones'] = 'núll'\n",
    "    df.loc[((df['word'].str.match(zeropnt_ptrn + \"0\\d*$\")) & (df['type'] == \"cardinal\")), 'points'] = ' komma núll'\n",
    "    df.loc[((df['word'].str.match(zeropnt_ptrn + \"\\d0\\d*$\")) & (df['type'] == \"cardinal\")), 'point2'] = ' núll'\n",
    "    df.loc[((df['word'].str.match(zeropnt_ptrn + \"\\d{2}0\\d*$\")) & (df['type'] == \"cardinal\")), 'point3'] = ' núll'\n",
    "    df.loc[((df['word'].str.match(zeropnt_ptrn + \"\\d{3}0\\d*$\")) & (df['type'] == \"cardinal\")), 'point4'] = ' núll'\n",
    "    df.loc[((df['word'].str.match(zeropnt_ptrn + \"\\d{4}0\\d*$\")) & (df['type'] == \"cardinal\")), 'point5'] = ' núll'\n",
    "    df.loc[((df['word'].str.match(zeropnt_ptrn + \"\\d{5}0\\d*$\")) & (df['type'] == \"cardinal\")), 'point6'] = ' núll'\n",
    "    df.loc[((df['word'].str.match(zeropnt_ptrn + \"\\d{6}0\\d*$\")) & (df['type'] == \"cardinal\")), 'point7'] = ' núll'\n",
    "    df.loc[((df['word'].str.match(zeropnt_ptrn + \"\\d{7}0\\d*$\")) & (df['type'] == \"cardinal\")), 'point8'] = ' núll'\n",
    "    df.loc[((df['word'].str.match(zeropnt_ptrn + \"\\d{8}0\\d*$\")) & (df['type'] == \"cardinal\")), 'point9'] = ' núll'\n",
    "    df.loc[((df['word'].str.match(zeropnt_ptrn + \"\\d{9}0\\d*$\")) & (df['type'] == \"cardinal\")), 'point10'] = ' núll'\n",
    "\n",
    "ones_zip = [(einn, ' einn', \"1\"),\n",
    "            (einum, ' einum', \"1\"), \n",
    "            (eins, ' eins', \"1\"),\n",
    "            (ein, ' ein', \"1\"), \n",
    "            (eina, ' eina', \"1\"), \n",
    "            (einni, ' einni', \"1\"), \n",
    "            (einnar, ' einnar', \"1\"),\n",
    "            (eitt, ' eitt', \"1\"),\n",
    "            (einu, ' einu', \"1\"),\n",
    "            (tveir, ' tveir', \"2\"),\n",
    "            (tvo, ' tvo', \"2\"),\n",
    "            (tveimur, ' tveimur', \"2\"),\n",
    "            (tveggja, ' tveggja', \"2\"),\n",
    "            (tvær, ' tvær', \"2\"),\n",
    "            (tvö, ' tvö', \"2\"),\n",
    "            (þrír, ' þrír', \"3\"),\n",
    "            (þrjá, ' þrjá', \"3\"),\n",
    "            (þremur, ' þremur', \"3\"),\n",
    "            (þriggja, ' þriggja', \"3\"),\n",
    "            (þrjár, ' þrjár', \"3\"),\n",
    "            (þrjú, ' þrjú', \"3\"),\n",
    "            (fjórir, ' fjórir', \"4\"),\n",
    "            (fjóra, ' fjóra', \"4\"),\n",
    "            (fjórum, ' fjórum', \"4\"),\n",
    "            (fjögurra, ' fjögurra', \"4\"),\n",
    "            (fjórar, ' fjórar', \"4\"),\n",
    "            (fjögur, ' fjögur', \"4\")]\n",
    "\n",
    "\n",
    "def replace_ones_cardinal(df):\n",
    "    print(\"replace_ones_cardinal\")\n",
    "    for rule, string, number in tqdm(ones_zip):\n",
    "        df.loc[((df['word'].str.match(ones_ptrn_no11 + number + dec_ptrn)) & (df['tag'].str.match(rule)) & (df['type'] == \"cardinal\")), 'ones'] = string\n",
    "        df.loc[((df['word'].str.match(zeropnt_ptrn + number + \"\\d*$\")) & (df['tag'].str.match(rule)) & (df['type'] == \"cardinal\")), 'points'] = ' komma' + string\n",
    "        df.loc[((df['word'].str.match(zeropnt_ptrn + \"\\d\" + number + \"\\d*$\")) & (df['tag'].str.match(rule)) & (df['type'] == \"cardinal\")), 'point2'] = string\n",
    "        df.loc[((df['word'].str.match(zeropnt_ptrn + \"\\d{2}\" + number + \"\\d*$\")) & (df['tag'].str.match(rule)) & (df['type'] == \"cardinal\")), 'point3'] = string\n",
    "        df.loc[((df['word'].str.match(zeropnt_ptrn + \"\\d{3}\" + number + \"\\d*$\")) & (df['tag'].str.match(rule)) & (df['type'] == \"cardinal\")), 'point4'] = string\n",
    "        df.loc[((df['word'].str.match(zeropnt_ptrn + \"\\d{4}\" + number + \"\\d*$\")) & (df['tag'].str.match(rule)) & (df['type'] == \"cardinal\")), 'point5'] = string\n",
    "        df.loc[((df['word'].str.match(zeropnt_ptrn + \"\\d{5}\" + number + \"\\d*$\")) & (df['tag'].str.match(rule)) & (df['type'] == \"cardinal\")), 'point6'] = string\n",
    "        df.loc[((df['word'].str.match(zeropnt_ptrn + \"\\d{6}\" + number + \"\\d*$\")) & (df['tag'].str.match(rule)) & (df['type'] == \"cardinal\")), 'point7'] = string\n",
    "        df.loc[((df['word'].str.match(zeropnt_ptrn + \"\\d{7}\" + number + \"\\d*$\")) & (df['tag'].str.match(rule)) & (df['type'] == \"cardinal\")), 'point8'] = string\n",
    "        df.loc[((df['word'].str.match(zeropnt_ptrn + \"\\d{8}\" + number + \"\\d*$\")) & (df['tag'].str.match(rule)) & (df['type'] == \"cardinal\")), 'point9'] = string\n",
    "        df.loc[((df['word'].str.match(zeropnt_ptrn + \"\\d{9}\" + number + \"\\d*$\")) & (df['tag'].str.match(rule)) & (df['type'] == \"cardinal\")), 'point10'] = string\n",
    "\n",
    "\n",
    "dec_ones_male = [(' einn', '1'), (' tveir', '2'), (' þrír', '3'), (' fjórir', '4')]\n",
    "def replace_no_rule_cardinal_decimal(df):\n",
    "    print(\"replace_no_rule_cardinal_decimal\")\n",
    "    for string, number in tqdm(dec_ones_male):\n",
    "        df.loc[((df['word'].str.match(ones_ptrn_no11 + number + dec_ptrn_def)) & (df['tag'].str.match(nonoun)) & (df['type'] == 'cardinal')), 'ones'] = string\n",
    "        df.loc[((df['word'].str.match(zeropnt_ptrn + number + \"\\d*$\")) & (df['tag'].str.match(nonoun)) & (df['type'] == 'cardinal')), 'points'] = ' komma' + string\n",
    "        df.loc[((df['word'].str.match(zeropnt_ptrn + \"\\d\" + number + \"\\d*$\")) & (df['tag'].str.match(nonoun)) & (df['type'] == 'cardinal')), 'point2'] = string\n",
    "        df.loc[((df['word'].str.match(zeropnt_ptrn + \"\\d{2}\" + number + \"\\d*$\")) & (df['tag'].str.match(nonoun)) & (df['type'] == 'cardinal')), 'point3'] = string\n",
    "        df.loc[((df['word'].str.match(zeropnt_ptrn + \"\\d{3}\" + number + \"\\d*$\")) & (df['tag'].str.match(nonoun)) & (df['type'] == 'cardinal')), 'point4'] = string\n",
    "        df.loc[((df['word'].str.match(zeropnt_ptrn + \"\\d{4}\" + number + \"\\d*$\")) & (df['tag'].str.match(nonoun)) & (df['type'] == 'cardinal')), 'point5'] = string\n",
    "        df.loc[((df['word'].str.match(zeropnt_ptrn + \"\\d{5}\" + number + \"\\d*$\")) & (df['tag'].str.match(nonoun)) & (df['type'] == 'cardinal')), 'point6'] = string\n",
    "        df.loc[((df['word'].str.match(zeropnt_ptrn + \"\\d{6}\" + number + \"\\d*$\")) & (df['tag'].str.match(nonoun)) & (df['type'] == 'cardinal')), 'point7'] = string\n",
    "        df.loc[((df['word'].str.match(zeropnt_ptrn + \"\\d{7}\" + number + \"\\d*$\")) & (df['tag'].str.match(nonoun)) & (df['type'] == 'cardinal')), 'point8'] = string\n",
    "        df.loc[((df['word'].str.match(zeropnt_ptrn + \"\\d{8}\" + number + \"\\d*$\")) & (df['tag'].str.match(nonoun)) & (df['type'] == 'cardinal')), 'point9'] = string\n",
    "        df.loc[((df['word'].str.match(zeropnt_ptrn + \"\\d{9}\" + number + \"\\d*$\")) & (df['tag'].str.match(nonoun)) & (df['type'] == 'cardinal')), 'point10'] = string\n",
    "  \n",
    "\n",
    "dec_ones_neutral = [(' eitt', '1'), (' tvö', '2'), (' þrjú', '3'), (' fjögur', '4')]\n",
    "def replace_no_rule_cardinal(df):\n",
    "    print(\"replace_no_rule_cardinal\")\n",
    "    for string, number in tqdm(dec_ones_neutral):\n",
    "        df.loc[((df['word'].str.match(ones_ptrn_no11 + number + \"$\")) & (df['tag'].str.match(nonoun)) & (df['type'] == 'cardinal')), 'ones'] = string\n",
    "    \n",
    "other_numbers_zip = [(' fimm', '5'),\n",
    "                     (' sex', '6'),\n",
    "                     (' sjö', '7'),\n",
    "                     (' átta', '8'),\n",
    "                     (' níu', '9')]\n",
    "\n",
    "def replace_other_ones_cardinal(df):\n",
    "    print(\"replace_other_ones_cardinal\")\n",
    "    for string, number in tqdm(other_numbers_zip):\n",
    "        df.loc[(df['word'].str.match(ones_ptrn_no11 + number + dec_ptrn) & (df['type'] == 'cardinal')), 'ones'] = string\n",
    "        df.loc[(df['word'].str.match(zeropnt_ptrn + number + \"\\d*$\") & (df['type'] == 'cardinal')), 'points'] = ' komma ' + string\n",
    "        df.loc[(df['word'].str.match(zeropnt_ptrn + \"\\d\" + number + \"\\d*$\") & (df['type'] == 'cardinal')), 'point2'] = string\n",
    "        df.loc[(df['word'].str.match(zeropnt_ptrn + \"\\d{2}\" + number + \"\\d*$\") & (df['type'] == 'cardinal')), 'point3'] = string\n",
    "        df.loc[(df['word'].str.match(zeropnt_ptrn + \"\\d{3}\" + number + \"\\d*$\") & (df['type'] == 'cardinal')), 'point4'] = string\n",
    "        df.loc[(df['word'].str.match(zeropnt_ptrn + \"\\d{4}\" + number + \"\\d*$\") & (df['type'] == 'cardinal')), 'point5'] = string\n",
    "        df.loc[(df['word'].str.match(zeropnt_ptrn + \"\\d{5}\" + number + \"\\d*$\") & (df['type'] == 'cardinal')), 'point6'] = string\n",
    "        df.loc[(df['word'].str.match(zeropnt_ptrn + \"\\d{6}\" + number + \"\\d*$\") & (df['type'] == 'cardinal')), 'point7'] = string\n",
    "        df.loc[(df['word'].str.match(zeropnt_ptrn + \"\\d{7}\" + number + \"\\d*$\") & (df['type'] == 'cardinal')), 'point8'] = string\n",
    "        df.loc[(df['word'].str.match(zeropnt_ptrn + \"\\d{8}\" + number + \"\\d*$\") & (df['type'] == 'cardinal')), 'point9'] = string\n",
    "        df.loc[(df['word'].str.match(zeropnt_ptrn + \"\\d{9}\" + number + \"\\d*$\") & (df['type'] == 'cardinal')), 'point10'] = string\n",
    "    \n",
    "tens_zip = [(' tíu', '10'), \n",
    "            (' ellefu', '11'),\n",
    "            (' tólf', '12'),\n",
    "            (' þrettán', '13'), \n",
    "            (' fjórtán', '14'),\n",
    "            (' fimmtán', '15'),\n",
    "            (' sextán', '16'),\n",
    "            (' sautján', '17'),\n",
    "            (' átján', '18'),\n",
    "            (' nítján', '19')]\n",
    "\n",
    "def replace_tens_cardinal(df):\n",
    "    print(\"replace_tens_cardinal\")\n",
    "    for string, number in tqdm(tens_zip):\n",
    "        df.loc[((df['word'].str.match(tns_ptrn + number + dec_ptrn))  & (df['type'] == 'cardinal')), 'dozens'] = string\n",
    "        "
   ]
  },
  {
   "cell_type": "code",
   "execution_count": 11,
   "metadata": {},
   "outputs": [],
   "source": [
    "ones_numerator = [(' einn', '1'), (' tveir', '2'), (' þrír', '3'), (' fjórir', '4'), (' fimm', '5'), \n",
    "                  (' sex', '6'), (' sjö', '7'), (' átta', '8'), (' níu', '9')]\n",
    "\n",
    "tens_numerator = [(' tíu', '10'), (' ellefu', '11'), (' tólf', '12'), (' þrettán', '13'), (' fjórtán', '14'), \n",
    "                   (' fimmtán', '15'), (' sextán', '16'), (' sautján', '17'), (' átján', '18'), (' nítján', '19')]\n",
    "\n",
    "dozens_numerator = [(' tuttugu', '2'), (' þrjátíu', '3'), (' fjörutíu', '4'), (' fimmtíu', '5'), (' sextíu', '6'),\n",
    "                    (' sjötíu', '7'), (' áttatíu', '8'), (' níutíu', '9')]\n",
    "\n",
    "ones_denominator = [(' aðrir', '2'), (' þriðju', '3'), (' fjórðu', '4'), (' fimmtu', '5'), \n",
    "                    (' sjöttu', '6'), (' sjöundu', '7'), (' áttundu', '8'), (' níundu', '9')]\n",
    "\n",
    "tens_denominator = [(' tíundu', '10'), (' elleftu', '11'), (' tólftu', '12'), (' þrettándu', '13'), \n",
    "                    (' fjórtándu', '14'), (' fimmtándu', '15'), (' sextándu', '16'), (' sautjándu', '17'),\n",
    "                    (' átjándu', '18'), (' nítjándu', '19')]\n",
    "\n",
    "dozens_denominator = [(' tuttugustu', '2'), (' þrítugustu', '3'), (' fertugustu', '4'), (' fimmtugustu', '5'), \n",
    "                    (' sextugustu', '6'), (' sjötugustu', '7'), (' áttugustu', '8'), (' nítugustu', '9')]\n",
    "\n",
    "def replace_numerator_fractions(df):\n",
    "    print(\"replace_numerator_fractions\")\n",
    "    for word_num, no_num in tqdm(ones_numerator):\n",
    "        for word_doz_num, no_doz_num in dozens_numerator:\n",
    "            df.loc[((df['word'].str.match(fraction_ptrn_before + no_num + \"\\/\\d+$\")) & (df['type'] == \"cardinal\")), 'points'] = ' og' + word_num\n",
    "            df.loc[((df['word'].str.match(\"^\" + no_num + \"\\/\\d+$\")) & (df['type'] == \"fraction\")), 'points'] = word_num\n",
    "            df.loc[((df['word'].str.match(fraction_ptrn_before + no_doz_num + no_num + \"\\/\\d+$\")) & (df['type'] == \"cardinal\")), 'points'] = ' og' + word_doz_num + ' og' + word_num\n",
    "            df.loc[((df['word'].str.match(\"^\" + no_doz_num + no_num + \"\\/\\d+$\")) & (df['type'] == \"fraction\")), 'points'] = word_doz_num + ' og' + word_num         \n",
    "    \n",
    "def replace_tens_fractions(df):\n",
    "    print(\"replace_tens_fractions\")\n",
    "    for word_num, no_num in tqdm(tens_numerator):\n",
    "        for word_den, no_den in tens_denominator:\n",
    "            df.loc[((df['word'].str.match(fraction_ptrn_before + no_num + \"\\/\\d+$\")) & (df['type'] == \"cardinal\")), 'points'] = ' og' + word_num\n",
    "            df.loc[((df['word'].str.match(\"^\" + no_num + \"\\/\\d+$\")) & (df['type'] == \"fraction\")), 'points'] = word_num\n",
    "            df.loc[((df['word'].str.match(fraction_ptrn_before + \"\\d+\\/\" + no_den + \"$\")) & (df['type'] == \"cardinal\")), 'point2'] = ' og' + word_den\n",
    "            df.loc[((df['word'].str.match(\"^\\d+\\/\" + no_den + \"$\")) & (df['type'] == \"fraction\")), 'point2'] = word_den\n",
    "\n",
    "def replace_denominator_fractions(df):\n",
    "    print(\"replace_denominator_fractions\")\n",
    "    for word_den, no_den in tqdm(ones_denominator):\n",
    "        for word_doz_den, no_doz_den in dozens_denominator:\n",
    "            df.loc[((df['word'].str.match(fraction_ptrn_before + \"\\d+\\/\" + no_den + \"$\")) & (df['type'] == \"cardinal\")), 'point2'] = ' og' + word_den\n",
    "            df.loc[((df['word'].str.match(\"^\\d+\\/\" + no_den + \"$\")) & (df['type'] == \"fraction\")), 'point2'] = word_den\n",
    "            df.loc[((df['word'].str.match(fraction_ptrn_before + \"\\d+\\/\" + no_doz_den + no_den + \"$\")) & (df['type'] == \"cardinal\")), 'point2'] = word_doz_den + ' og' + word_den\n",
    "            df.loc[((df['word'].str.match(\"^\\d+\\/\" + no_doz_den + no_den + \"$\")) & (df['type'] == \"fraction\")), 'point2'] = word_doz_den + ' og' + word_den         \n",
    "         \n",
    "half_zip = [(hálfur, ' hálfur'),\n",
    "            (hálfan, ' hálfan'),\n",
    "            (hálfum, ' hálfum'),\n",
    "            (hálfs, ' hálfs'),\n",
    "            (hálf, ' hálf'),\n",
    "            (hálfa, ' hálfa'),\n",
    "            (hálfri, ' hálfri'),\n",
    "            (hálfrar, ' hálfrar'),\n",
    "            (hálft, ' hálft'),\n",
    "            (hálfu, ' hálfu'),\n",
    "            (hálfir, ' hálfir'),\n",
    "            (hálfra, ' hálfra')]\n",
    "\n",
    "def replace_half_fraction(df):\n",
    "    print(\"replace_half_fraction\")\n",
    "    for rule, string in tqdm(half_zip):\n",
    "        df.loc[((df['word'].str.match(half_ptrn)) & (df['tag'].str.match(rule)) & (df['type'] == \"cardinal\") & (df['type'] == \"cardinal\")), 'points'] = ' og' + string\n",
    "        df.loc[((df['word'].str.match(r\"^(1\\/2|½)$\")) & (df['tag'].str.match(rule)) & (df['type'] == \"fraction\")), 'points'] = string\n",
    "        df.loc[((df['word'].str.match(half_ptrn)) & (df['tag'].str.match(\"^\" + nonoun + \"$\")) & (df['type'] == \"cardinal\")), 'points'] = ' og hálfur'\n",
    "        df.loc[((df['word'].str.match(r\"^(1\\/2|½)$\")) & (df['tag'].str.match(\"^\" + nonoun + \"$\")) & (df['type'] == \"fraction\")), 'points'] = 'hálfur'\n",
    "        df.loc[((df['word'].str.match(half_ptrn)) & (df['tag'].str.match(rule)) & (df['type'] == \"cardinal\") & (df['type'] == \"cardinal\")), 'point2'] = ''\n",
    "        df.loc[((df['word'].str.match(r\"^(1\\/2|½)$\")) & (df['tag'].str.match(rule)) & (df['type'] == \"fraction\")), 'point2'] = ''\n",
    "        df.loc[((df['word'].str.match(half_ptrn)) & (df['tag'].str.match(\"^\" + nonoun + \"$\")) & (df['type'] == \"cardinal\")), 'point2'] = ''\n",
    "        df.loc[((df['word'].str.match(r\"^(1\\/2|½)$\")) & (df['tag'].str.match(\"^\" + nonoun + \"$\")) & (df['type'] == \"fraction\")), 'point2'] = ''\n"
   ]
  },
  {
   "cell_type": "code",
   "execution_count": 12,
   "metadata": {},
   "outputs": [],
   "source": [
    "annar = r\"[nl]ken-?(g?s?|[svo]?[fme]?)\"\n",
    "annan = r\"[nl]keo-?(g?s?|[svo]?[fme]?)\"\n",
    "öðrum = r\"[nl]((ke)|([kvh]f))þ-?(g?s?|[svo]?[fme]?)\"\n",
    "annars = r\"[nl]kee-?(g?s?|[svo]?[fme]?)\"\n",
    "aðrir = r\"[nl]kfn-?(g?s?|[svo]?[fme]?)\"\n",
    "aðra = r\"[nl](kf|ve)o-?((g?s?)|([svo]?[fme]?))\"\n",
    "annarra = r\"[nl][kvh]fe-?(g?s?|[svo]?[fme]?)\"\n",
    "önnur = r\"[nl](ven|hf[no])-?(g?s?|[svo]?[fme]?)\"\n",
    "annarri = r\"[nl]veþ-?(g?s?|[svo]?[fme]?)\"\n",
    "annarrar = r\"[nl]vee-?(g?s?|[svo]?[fme]?)\"\n",
    "aðrar = r\"[nl]vf[no]-?(g?s?|[svo]?[fme]?)\"\n",
    "annað = r\"[nl]he[no]-?(g?s?|[svo]?[fme]?)\"\n",
    "öðru = r\"[nl]heþ-?(g?s?|[svo]?[fme]?)\"\n",
    "annars = r\"[nl][kh]ee-?(g?s?|[svo]?[fme]?)\"\n",
    "\n",
    "two_ordinal_zip = [(annar, ' annar'),\n",
    "                    (annan, ' annan'),\n",
    "                    (öðrum, ' öðrum'),\n",
    "                    (annars, ' annars'),\n",
    "                    (aðrir, ' aðrir'),\n",
    "                    (aðra, ' aðra'),\n",
    "                    (annarra, ' annarra'),\n",
    "                    (önnur, ' önnur'),\n",
    "                    (annarri, ' annarri'),\n",
    "                    (annarrar, ' annarrar'),\n",
    "                    (aðrar, ' aðrar'),\n",
    "                    (annað, ' annað'),\n",
    "                    (öðru, ' öðru'),\n",
    "                    (annars, ' annars')]\n",
    "\n",
    "def replace_two_ordinal(df):\n",
    "    print(\"replace_two_ordinal\")\n",
    "    for rule, string in tqdm(two_ordinal_zip):\n",
    "        df.loc[((df['word'].str.match(ones_ptrn_no11 + \"2\\.$\")) & (df['tag'].str.match(rule)) & (df['type'] == 'ordinal')), 'ones'] = string\n",
    "    df.loc[((df['word'].str.match(ones_ptrn_no11 + \"2\\.$\")) & (df['tag'].str.match(nonoun)) & (df['type'] == 'ordinal')), 'ones'] = ' annan'"
   ]
  },
  {
   "cell_type": "code",
   "execution_count": 13,
   "metadata": {},
   "outputs": [],
   "source": [
    "fyrsti = r\"[nl]ken-?(g?s?|[svo]?[fme]?)\"\n",
    "fyrsta = r\"[nl](ke[oþe]|ven|he[noþe])-?(g?s?|[svo]?[fme]?)\"\n",
    "fyrstu = r\"[nl](([kvh]f[noþe])|(ve[oþe]))-?(g?s?|[svo]?[fme]?)\"\n",
    "\n",
    "ordinal_ones_zip = [(' fyrst', '1'),\n",
    "               (' þriðj', '3'), \n",
    "               (' fjórð', '4'), \n",
    "               (' fimmt', '5'), \n",
    "               (' sjött', '6'),\n",
    "               (' sjöund', '7'),\n",
    "               (' áttund', '8'),\n",
    "               (' níund', '9')]\n",
    "\n",
    "\n",
    "ordinal_tens_zip = [(' tíund', '10'), \n",
    "               (' elleft', '11'),\n",
    "               (' tólft', '12'),\n",
    "               (' þrettánd', '13'), \n",
    "               (' fjórtánd', '14'),\n",
    "               (' fimmtánd', '15'),\n",
    "               (' sextánd', '16'),\n",
    "               (' sautjánd', '17'),\n",
    "               (' átjánd', '18'),\n",
    "               (' nítjánd', '19')]\n",
    "\n",
    "ordinal_letters = [(fyrsti, 'i'), \n",
    "           (fyrsta, 'a'), \n",
    "           (fyrstu, 'u')]\n",
    "\n",
    "def replace_zero_ordinal(df):\n",
    "    print(\"replace_zero_ordinal\")\n",
    "    for rule, letter in tqdm(ordinal_letters):\n",
    "        df.loc[((df['word'].str.match(\"^0\\.$\")) & (df['tag'].str.match(rule)) & (df['type'] == 'ordinal')), 'ones'] = 'núllt' + letter\n",
    "    df.loc[((df['word'].str.match(\"^0\\.$\")) & (df['tag'].str.match(nonoun)) & (df['type'] == 'ordinal')), 'ones'] = 'núllta'\n",
    "    \n",
    "def replace_ones_ordinal(df):\n",
    "    print(\"replace_ones_ordinal\")\n",
    "    for string, number in tqdm(ordinal_ones_zip):\n",
    "        for rule, letter in ordinal_letters:\n",
    "            df.loc[((df['word'].str.match(ones_ptrn_no11 + number + \"\\.$\")) & (df['tag'].str.match(rule)) & (df['type'] == 'ordinal')), 'ones'] = string + letter\n",
    "        df.loc[((df['word'].str.match(ones_ptrn_no11 + number + \"\\.$\")) & (df['tag'].str.match(nonoun)) & (df['type'] == 'ordinal')), 'ones'] = string + 'a'\n",
    "    \n",
    "def replace_tens_ordinal(df):\n",
    "    print(\"replace_tens_ordinal\")\n",
    "    for string, number in tqdm(ordinal_tens_zip):\n",
    "        for rule, letter in ordinal_letters:\n",
    "            df.loc[((df['word'].str.match(tns_ptrn + number + \"\\.$\")) & (df['tag'].str.match(rule)) & (df['type'] == 'ordinal')), 'dozens'] = string + letter\n",
    "        df.loc[((df['word'].str.match(tns_ptrn + number + \"\\.$\")) & (df['tag'].str.match(nonoun)) & (df['type'] == 'ordinal')), 'dozens'] = string + 'a'"
   ]
  },
  {
   "cell_type": "code",
   "execution_count": 14,
   "metadata": {},
   "outputs": [],
   "source": [
    "dozens_zip = [(' tuttugu', '2'),\n",
    "               (' þrjátíu', '3'),\n",
    "               (' fjörutíu', '4'), \n",
    "               (' fimmtíu', '5'),\n",
    "               (' sextíu', '6'), \n",
    "               (' sjötíu', '7'),\n",
    "               (' áttatíu', '8'),\n",
    "               (' níutíu', '9')]\n",
    "\n",
    "def replace_dozens_cardinal(df):\n",
    "    print(\"replace_dozens_cardinal\")\n",
    "    for string, number in tqdm(dozens_zip):\n",
    "        # tuttugu\n",
    "        df.loc[(df['word'].str.match(tns_ptrn + number + \"0\" + dec_ptrn) & (df['type'] == 'cardinal')), 'dozens'] = string\n",
    "        # tuttugu og fjórir\n",
    "        df.loc[(df['word'].str.match(tns_ptrn + number + \"[1-9]\" + dec_ptrn) & (df['type'] == 'cardinal')), 'dozens'] = string + ' og'\n",
    "    \n",
    "dozens_ordinal_zip = [(' tuttug', '2'),\n",
    "                      (' þrítug', '3'),\n",
    "                      (' fertug', '4'),\n",
    "                      (' fimmtug', '5'),\n",
    "                      (' sextug', '6'),\n",
    "                      (' sjötug', '7'),\n",
    "                      (' áttug', '8'),\n",
    "                      (' nítug', '9')]\n",
    "\n",
    "dozens_ordinal_letters = [(fyrsti, 'asti'),\n",
    "                          (fyrsta, 'asta'),\n",
    "                          (fyrstu, 'ustu')]\n",
    "\n",
    "def replace_dozens_ordinal(df):\n",
    "    print(\"replace_dozens_ordinal\")\n",
    "    for string, number in tqdm(dozens_ordinal_zip):\n",
    "        for rule, letter in dozens_ordinal_letters:\n",
    "            df.loc[((df['word'].str.match(tns_ptrn + number + \"0\\.$\")) & (df['tag'].str.match(rule)) & (df['type'] == 'ordinal')), 'dozens'] = string + letter\n",
    "            df.loc[((df['word'].str.match(tns_ptrn + number + \"[1-9]\\.$\")) & (df['tag'].str.match(rule)) & (df['type'] == 'ordinal')), 'dozens'] = string + letter + ' og'\n",
    "        df.loc[((df['word'].str.match(tns_ptrn + number + \"0\\.$\")) & (df['tag'].str.match(nonoun)) & (df['type'] == 'ordinal')), 'dozens'] = string + 'asta'\n",
    "        df.loc[((df['word'].str.match(tns_ptrn + number + \"[1-9]\\.$\")) & (df['tag'].str.match(nonoun)) & (df['type'] == 'ordinal')), 'dozens'] = string + 'asta og'  \n",
    "    "
   ]
  },
  {
   "cell_type": "code",
   "execution_count": 15,
   "metadata": {},
   "outputs": [],
   "source": [
    "# CARDINAL\n",
    "\n",
    "def replace_onehundred_onethousand_cardinal(df):\n",
    "    print(\"replace_onehundred_onethousand_cardinal\")\n",
    "    df.loc[((df['word'].str.match(hndrds_ptrn_no11_def + \"1([01][1-9]|[1-9]0)\" + dec_ptrn)) & (df['type'].str.match(\"^(cardinal|ordinal)$\"))), 'hundreds'] = ' eitt hundrað og'\n",
    "    df.loc[((df['word'].str.match(hndrds_ptrn_no11_def + \"1[2-9]0\\.$\")) & (df['type'].str.match(\"^(cardinal|ordinal)$\"))), 'hundreds'] = ' eitt hundrað og'\n",
    "    df.loc[((df['word'].str.match(\"^1([01][1-9]|[1-9]0)\" + dec_ptrn)) & (df['type'].str.match(\"^(cardinal|ordinal)$\"))), 'hundreds'] = 'hundrað og'\n",
    "    df.loc[((df['word'].str.match(\"^1([2-9]0)\\.$\")) & (df['type'].str.match(\"^(cardinal|ordinal)$\"))), 'hundreds'] = 'hundrað og'\n",
    "    df.loc[((df['word'].str.match(hndrds_ptrn_no11_def + \"1([2-9][1-9]|00)\" + dec_ptrn_ordinal)) & (df['type'].str.match(\"^(cardinal|ordinal)$\"))), 'hundreds'] = ' eitt hundrað'\n",
    "    df.loc[((df['word'].str.match(\"^1([2-9][1-9]|00)\" + dec_ptrn_ordinal)) & (df['type'].str.match(\"^(cardinal|ordinal)$\"))), 'hundreds'] = 'hundrað'\n",
    "    \n",
    "    df.loc[((df['word'].str.match(ones_ptrn_no11 + \"1\" + thsnds_and_ptrn_cardinal + dec_ptrn)) & (df['type'].str.match(\"^(cardinal|ordinal)$\"))), 'thousands'] = ' eitt þúsund og'\n",
    "    df.loc[((df['word'].str.match(ones_ptrn_no11 + \"1\" + thsnds_and_ptrn_ordinal)) & (df['type'].str.match(\"^(cardinal|ordinal)$\"))), 'thousands'] = ' eitt þúsund og'\n",
    "    df.loc[((df['word'].str.match(ones_ptrn_no11 + \"1\\.?((000$)|(([1-9](?!00)\\d{2})|(0[2-9][1-9]))\" + dec_ptrn_ordinal + \")\")) & (df['type'].str.match(\"^(cardinal|ordinal)$\"))), 'thousands'] = ' eitt þúsund'\n",
    "    \n",
    "    df.loc[((df['word'].str.match(\"^1\\.?000$\")) & (df['type'].str.match(\"^(cardinal|ordinal)$\"))), 'thousands'] = ' þúsund'\n",
    "    \n",
    "def replace_ten_hundredthousand_cardinal(df):\n",
    "    print(\"replace_ten_hundredthousand_cardinal\")\n",
    "    df.loc[((df['word'].str.match(tns_ptrn + \"10\" + thsnds_and_ptrn_cardinal + dec_ptrn_ordinal)) & (df['type'].str.match(\"^(cardinal|ordinal)$\"))), 'ten thousands'] = ' tíu þúsund og'\n",
    "    df.loc[((df['word'].str.match(tns_ptrn + \"10\" + thsnds_and_ptrn_ordinal)) & (df['type'].str.match(\"^(cardinal|ordinal)$\"))), 'ten thousands'] = ' tíu þúsund og'\n",
    "    df.loc[((df['word'].str.match(tns_ptrn + \"10\" + thsnds_ptrn_after + dec_ptrn_ordinal)) & (df['type'].str.match(\"^(cardinal|ordinal)$\"))), 'ten thousands'] = ' tíu þúsund'\n",
    "    \n",
    "    df.loc[((df['word'].str.match(hndrds_ptrn_11 + \"100\" + thsnds_and_ptrn_cardinal + dec_ptrn)) & (df['type'].str.match(\"^(cardinal|ordinal)$\"))), 'hundred thousands'] = ' eitt hundrað þúsund og'\n",
    "    df.loc[((df['word'].str.match(\"^100\" + thsnds_and_ptrn_cardinal + dec_ptrn)) & (df['type'].str.match(\"^(cardinal|ordinal)$\"))), 'hundred thousands'] = 'hundrað þúsund og'\n",
    "    df.loc[((df['word'].str.match(hndrds_ptrn_11 + \"100\" + thsnds_and_ptrn_ordinal)) & (df['type'].str.match(\"^(cardinal|ordinal)$\"))), 'hundred thousands'] = ' eitt hundrað þúsund og'\n",
    "    df.loc[((df['word'].str.match(\"^100\" + thsnds_and_ptrn_ordinal)) & (df['type'].str.match(\"^(cardinal|ordinal)$\"))), 'hundred thousands'] = 'hundrað þúsund og'\n",
    "    \n",
    "    df.loc[((df['word'].str.match(hndrds_ptrn_no11_def + \"100\" + thsnds_ptrn_after + dec_ptrn_ordinal)) & (df['type'].str.match(\"^(cardinal|ordinal)$\"))), 'hundred thousands'] = ' eitt hundrað þúsund'\n",
    "    df.loc[((df['word'].str.match(\"^100\" + thsnds_ptrn_after + dec_ptrn_ordinal)) & (df['type'].str.match(\"^(cardinal|ordinal)$\"))), 'hundred thousands'] = 'hundrað þúsund'\n",
    "    \n",
    "    df.loc[((df['word'].str.match(hndrds_ptrn_11 + \"1\" + hndrd_and_thsnd + dec_ptrn_ordinal)) & (df['type'].str.match(\"^(cardinal|ordinal)$\"))), 'hundred thousands'] = ' eitt hundrað og'\n",
    "    df.loc[((df['word'].str.match(\"^1\" + hndrd_and_thsnd + dec_ptrn_ordinal)) & (df['type'].str.match(\"^(cardinal|ordinal)$\"))), 'hundred thousands'] = ' hundrað og'\n",
    "    \n",
    "    df.loc[((df['word'].str.match(hndrds_ptrn_11 + \"1\" + hndrd_thsnd_after + dec_ptrn_ordinal)) & (df['type'].str.match(\"^(cardinal|ordinal)$\"))), 'hundred thousands'] = ' eitt hundrað'\n",
    "    df.loc[((df['word'].str.match(\"^1\" + hndrd_thsnd_after + dec_ptrn_ordinal)) & (df['type'].str.match(\"^(cardinal|ordinal)$\"))), 'hundred thousands'] = 'hundrað'\n",
    "\n",
    "    \n",
    "def replace_one_million_cardinal(df):\n",
    "    print(\"replace_one_million_cardinal\")\n",
    "    df.loc[((df['word'].str.match(ones_ptrn_no11 + \"1\" + million_and_cardinal + dec_ptrn)) & (df['type'].str.match(\"^(cardinal|ordinal)$\"))), 'millions'] = ' ein milljón og'\n",
    "    df.loc[((df['word'].str.match(ones_ptrn_no11 + \"1\" + million_and_ordinal + dec_ptrn)) & (df['type'].str.match(\"^(cardinal|ordinal)$\"))), 'millions'] = ' ein milljón og'\n",
    "    df.loc[((df['word'].str.match(ones_ptrn_no11 + \"1\" + milln_ptrn_after + dec_ptrn_ordinal)) & (df['type'].str.match(\"^(cardinal|ordinal)$\"))), 'millions'] = ' ein milljón'\n",
    "    \n",
    "    df.loc[((df['word'].str.match(tns_ptrn + \"10\" + million_and_cardinal + dec_ptrn)) & (df['type'].str.match(\"^(cardinal|ordinal)$\"))), 'ten millions'] = 'tíu milljónir og'\n",
    "    df.loc[((df['word'].str.match(tns_ptrn + \"10\" + million_and_ordinal)) & (df['type'].str.match(\"^(cardinal|ordinal)$\"))), 'ten millions'] = 'tíu milljónir og' \n",
    "    df.loc[((df['word'].str.match(tns_ptrn + \"10\" + milln_ptrn_after + dec_ptrn_ordinal)) & (df['type'].str.match(\"^(cardinal|ordinal)$\"))), 'ten millions'] = 'tíu milljónir'\n",
    "    \n",
    "    df.loc[((df['word'].str.match(hndrds_ptrn_11 + \"100\" + million_and_cardinal + dec_ptrn)) & (df['type'].str.match(\"^(cardinal|ordinal)$\"))), 'hundred millions'] = ' eitt hundrað milljónir og'\n",
    "    df.loc[((df['word'].str.match(hndrds_ptrn_11 + \"100\" + million_and_ordinal)) & (df['type'].str.match(\"^(cardinal|ordinal)$\"))), 'hundred millions'] = ' eitt hundrað milljónir og'\n",
    "    df.loc[((df['word'].str.match(\"^100\" + million_and_cardinal + dec_ptrn)) & (df['type'].str.match(\"^(cardinal|ordinal)$\"))), 'hundred millions'] = 'hundrað milljónir og'\n",
    "    df.loc[((df['word'].str.match(\"^100\" + million_and_ordinal)) & (df['type'].str.match(\"^(cardinal|ordinal)$\"))), 'hundred millions'] = 'hundrað milljónir og'\n",
    "    df.loc[((df['word'].str.match(hndrds_ptrn_11 + \"100\" + milln_ptrn_after + dec_ptrn_ordinal)) & (df['type'].str.match(\"^(cardinal|ordinal)$\"))), 'hundred millions'] = ' eitt hundrað milljónir'\n",
    "    df.loc[((df['word'].str.match(\"^100\" + milln_ptrn_after + dec_ptrn_ordinal)) & (df['type'].str.match(\"^(cardinal|ordinal)$\"))), 'hundred millions'] = 'hundrað milljónir'\n",
    "    df.loc[((df['word'].str.match(hndrds_ptrn_11 + \"1\" + hndrd_and_million + dec_ptrn_ordinal)) & (df['type'].str.match(\"^(cardinal|ordinal)$\"))), 'hundred millions'] = ' eitt hundrað og'\n",
    "    df.loc[((df['word'].str.match(\"^1\" + hndrd_and_million + dec_ptrn_ordinal)) & (df['type'].str.match(\"^(cardinal|ordinal)$\"))), 'hundred millions'] = 'hundrað og'\n",
    "    df.loc[((df['word'].str.match(hndrds_ptrn_11 + \"1\" + hndrd_million + dec_ptrn_ordinal)) & (df['type'].str.match(\"^(cardinal|ordinal)$\"))), 'hundred millions'] = ' eitt hundrað'\n",
    "    df.loc[((df['word'].str.match(\"^1\" + hndrd_million + dec_ptrn_ordinal)) & (df['type'].str.match(\"^(cardinal|ordinal)$\"))), 'hundred millions'] = 'hundrað'\n",
    "\n",
    "    \n",
    "def replace_one_billion_cardinal(df):\n",
    "    print(\"replace_one_billion_cardinal\")\n",
    "    df.loc[((df['word'].str.match(ones_ptrn_no11 + \"1\" + billion_and_cardinal + dec_ptrn)) & (df['type'].str.match(\"^(cardinal|ordinal)$\"))), 'billions'] = ' einn milljarður og'\n",
    "    df.loc[((df['word'].str.match(ones_ptrn_no11 + \"1\" + billion_and_ordinal)) & (df['type'].str.match(\"^(cardinal|ordinal)$\"))), 'billions'] = ' einn milljarður og'\n",
    "    df.loc[((df['word'].str.match(ones_ptrn_no11 + \"1\" + billion_after + dec_ptrn_ordinal)) & (df['type'].str.match(\"^(cardinal|ordinal)$\"))), 'billions'] = ' einn milljarður'\n",
    "    \n",
    "    df.loc[((df['word'].str.match(tns_ptrn + \"10\" + billion_and_cardinal + dec_ptrn)) & (df['type'].str.match(\"^(cardinal|ordinal)$\"))), 'ten billions'] = 'tíu milljarðar og'\n",
    "    df.loc[((df['word'].str.match(tns_ptrn + \"10\" + billion_and_ordinal)) & (df['type'].str.match(\"^(cardinal|ordinal)$\"))), 'ten billions'] = 'tíu milljarðar og' \n",
    "    df.loc[((df['word'].str.match(tns_ptrn + \"10\" + billion_after + dec_ptrn_ordinal)) & (df['type'].str.match(\"^(cardinal|ordinal)$\"))), 'ten billions'] = 'tíu milljarðar'\n",
    "    \n",
    "    df.loc[((df['word'].str.match(hndrds_ptrn_11 + \"100\" + billion_and_cardinal + dec_ptrn)) & (df['type'].str.match(\"^(cardinal|ordinal)$\"))), 'hundred billions'] = ' eitt hundrað milljarðar og'\n",
    "    df.loc[((df['word'].str.match(hndrds_ptrn_11 + \"100\" + billion_and_ordinal)) & (df['type'].str.match(\"^(cardinal|ordinal)$\"))), 'hundred billions'] = ' eitt hundrað milljarðar og'\n",
    "    df.loc[((df['word'].str.match(\"^100\" + billion_and_cardinal + dec_ptrn)) & (df['type'].str.match(\"^(cardinal|ordinal)$\"))), 'hundred billions'] = 'hundrað milljarðar og'\n",
    "    df.loc[((df['word'].str.match(\"^100\" + billion_and_ordinal)) & (df['type'].str.match(\"^(cardinal|ordinal)$\"))), 'hundred billions'] = 'hundrað milljarðar og'\n",
    "    df.loc[((df['word'].str.match(hndrds_ptrn_11 + \"100\" + billion_after + dec_ptrn_ordinal)) & (df['type'].str.match(\"^(cardinal|ordinal)$\"))), 'hundred billions'] = ' eitt hundrað milljarðar'\n",
    "    df.loc[((df['word'].str.match(\"^100\" + billion_after + dec_ptrn_ordinal)) & (df['type'].str.match(\"^(cardinal|ordinal)$\"))), 'hundred billions'] = 'hundrað milljarðar'\n",
    "    \n",
    "    df.loc[((df['word'].str.match(hndrds_ptrn_11 + \"1\" + hndrd_and_billion + dec_ptrn_ordinal)) & (df['type'].str.match(\"^(cardinal|ordinal)$\"))), 'hundred millions'] = ' eitt hundrað og'\n",
    "    df.loc[((df['word'].str.match(\"^1\" + hndrd_and_billion + dec_ptrn_ordinal)) & (df['type'].str.match(\"^(cardinal|ordinal)$\"))), 'hundred billions'] = 'hundrað og'\n",
    "    df.loc[((df['word'].str.match(hndrds_ptrn_11 + \"1\" + hndrd_billion + dec_ptrn_ordinal)) & (df['type'].str.match(\"^(cardinal|ordinal)$\"))), 'hundred billions'] = ' eitt hundrað'\n",
    "    df.loc[((df['word'].str.match(\"^1\" + hndrd_billion + dec_ptrn_ordinal)) & (df['type'].str.match(\"^(cardinal|ordinal)$\"))), 'hundred billions'] = 'hundrað'\n",
    "\n",
    "    "
   ]
  },
  {
   "cell_type": "code",
   "execution_count": 16,
   "metadata": {},
   "outputs": [],
   "source": [
    "# ORDINAL\n",
    "\n",
    "def replace_onehundred_onethousand_ordinal(df):\n",
    "    print(\"replace_onehundred_onethousand_ordinal\")\n",
    "    for rule, letter in tqdm(dozens_ordinal_letters):\n",
    "        df.loc[((df['word'].str.match(hndrds_ptrn_no11_def + \"1([01][1-9]|10)\\.$\")) & (df['tag'].str.match(rule)) & (df['type'].str.match(\"^(cardinal|ordinal)$\"))), 'hundreds'] = ' eitt hundrað' + letter + ' og'\n",
    "        df.loc[((df['word'].str.match(\"^1([01][1-9]|10)\\.$\")) & (df['tag'].str.match(rule)) & (df['type'].str.match(\"^(cardinal|ordinal)$\"))), 'hundreds'] = 'hundrað' + letter + ' og'\n",
    "        df.loc[((df['word'].str.match(hndrds_ptrn_no11_def + \"100\\.$\")) & (df['tag'].str.match(rule)) & (df['type'].str.match(\"^(cardinal|ordinal)$\"))), 'hundreds'] = ' eitt hundrað' + letter\n",
    "        df.loc[((df['word'].str.match(\"^100\\.$\")) & (df['tag'].str.match(rule)) & (df['type'].str.match(\"^(cardinal|ordinal)$\"))), 'hundreds'] = 'hundrað' + letter\n",
    "        \n",
    "        df.loc[((df['word'].str.match(ones_ptrn_no11 + \"1\\.?0([01][1-9]|10)\\.$\")) & (df['tag'].str.match(rule)) & (df['type'].str.match(\"^(cardinal|ordinal)$\"))), 'thousands'] = ' eitt þúsund' + letter + ' og'\n",
    "        df.loc[((df['word'].str.match(ones_ptrn_no11 + \"1\\.?000\\.$\")) & (df['tag'].str.match(rule)) & (df['type'].str.match(\"^(cardinal|ordinal)$\"))), 'thousands'] = ' eitt þúsund' + letter\n",
    "        \n",
    "    df.loc[((df['word'].str.match(hndrds_ptrn_no11_def + \"1([01][1-9]|10)\\.$\")) & (df['tag'].str.match(nonoun)) & (df['type'] == 'ordinal')), 'hundreds'] = ' eitt hundraðasta og'\n",
    "    df.loc[((df['word'].str.match(\"^1([01][1-9]|10)\\.$\")) & (df['tag'].str.match(nonoun)) & (df['type'] == 'ordinal')), 'hundreds'] = 'hundraðasta og'\n",
    "    df.loc[((df['word'].str.match(hndrds_ptrn_no11_def + \"100\\.$\")) & (df['tag'].str.match(nonoun)) & (df['type'] == 'ordinal')), 'hundreds'] = ' eitt hundraðasta'\n",
    "    df.loc[((df['word'].str.match(\"^100\\.$\")) & (df['tag'].str.match(nonoun)) & (df['type'] == 'ordinal')), 'hundreds'] = 'hundraðasta'\n",
    "    \n",
    "    df.loc[((df['word'].str.match(ones_ptrn_no11 + \"1\\.?0([01][1-9]|10)\\.$\")) & (df['tag'].str.match(nonoun)) & (df['type'] == 'ordinal')), 'thousands'] = ' eitt þúsundasta og'\n",
    "    df.loc[((df['word'].str.match(ones_ptrn_no11 + \"1\\.?000\\.$\")) & (df['tag'].str.match(nonoun)) & (df['type'] == 'ordinal')), 'thousands'] = ' eitt þúsundasta'\n",
    "\n",
    "    \n",
    "def replace_ten_hundredthousand_ordinal(df):\n",
    "    print(\"replace_ten_hundredthousand_ordinal\")\n",
    "    for rule, letter in tqdm(dozens_ordinal_letters):\n",
    "        df.loc[((df['word'].str.match(tns_ptrn + \"10\\.?0([01][1-9]|10)\\.$\")) & (df['tag'].str.match(rule)) & (df['type'].str.match(\"^(cardinal|ordinal)$\"))), 'ten thousands'] = ' tíu þúsund' + letter + ' og'\n",
    "        df.loc[((df['word'].str.match(tns_ptrn + \"10\\.?000\\.$\")) & (df['tag'].str.match(rule)) & (df['type'].str.match(\"^(cardinal|ordinal)$\"))), 'ten thousands'] = ' tíu þúsund' + letter   \n",
    "        df.loc[((df['word'].str.match(hndrds_ptrn_11 + \"100\\.?0([01][1-9]|10)\\.$\")) & (df['tag'].str.match(rule)) & (df['type'].str.match(\"^(cardinal|ordinal)$\"))), 'hundred thousands'] = ' eitt hundrað þúsund' + letter + ' og'\n",
    "        df.loc[((df['word'].str.match(\"^100\\.?0([01][1-9]|10)\\.$\")) & (df['tag'].str.match(rule)) & (df['type'].str.match(\"^(cardinal|ordinal)$\"))), 'hundred thousands'] = 'hundrað þúsund' + letter + ' og'         \n",
    "        df.loc[((df['word'].str.match(hndrds_ptrn_11 + \"100\\.?000\\.$\")) & (df['tag'].str.match(rule)) & (df['type'].str.match(\"^(cardinal|ordinal)$\"))), 'hundred thousands'] = ' eitt hundrað þúsund' + letter\n",
    "        df.loc[((df['word'].str.match(\"^100\\.?000\\.$\")) & (df['tag'].str.match(rule)) & (df['type'].str.match(\"^(cardinal|ordinal)$\"))), 'hundred thousands'] = 'hundrað þúsund' + letter\n",
    "        \n",
    "    df.loc[((df['word'].str.match(tns_ptrn + \"10\\.?0([01][1-9]|10)\\.$\")) & (df['tag'].str.match(nonoun)) & (df['type'] == 'ordinal')), 'ten thousands'] = ' tíu þúsundasta og'\n",
    "    df.loc[((df['word'].str.match(tns_ptrn + \"10\\.?000\\.$\")) & (df['tag'].str.match(nonoun)) & (df['type'] == 'ordinal')), 'ten thousands'] = ' tíu þúsundasta'\n",
    "    df.loc[((df['word'].str.match(hndrds_ptrn_11 + \"100\\.?0([01][1-9]|10)\\.$\")) & (df['tag'].str.match(nonoun)) & (df['type'] == 'ordinal')), 'hundred thousands'] = ' eitt hundrað þúsundasta og'\n",
    "    df.loc[((df['word'].str.match(\"^100\\.?0([01][1-9]|10)\\.$\")) & (df['tag'].str.match(nonoun)) & (df['type'] == 'ordinal')), 'hundred thousands'] = 'hundrað þúsundasta og'\n",
    "    df.loc[((df['word'].str.match(hndrds_ptrn_11 + \"100\\.?000\\.$\")) & (df['tag'].str.match(nonoun)) & (df['type'] == 'ordinal')), 'hundred thousands'] = ' eitt hundrað þúsundasta'\n",
    "    df.loc[((df['word'].str.match(\"^100\\.?000\\.$\")) & (df['tag'].str.match(nonoun)) & (df['type'] == 'ordinal')), 'hundred thousands'] = 'hundrað þúsundasta'\n",
    "\n",
    "    \n",
    "def replace_one_million_ordinal(df):\n",
    "    print(\"replace_one_million_ordinal\")\n",
    "    for rule, letter in tqdm(dozens_ordinal_letters):\n",
    "        df.loc[((df['word'].str.match(ones_ptrn_no11 + \"1\\.000\\.0([01][1-9]|10)\\.$\")) & (df['tag'].str.match(rule)) & (df['type'].str.match(\"^(cardinal|ordinal)$\"))), 'millions'] = ' einmilljón' + letter + ' og'\n",
    "        df.loc[((df['word'].str.match(\"^1\\.000\\.0([01][1-9]|10)\\.$\")) & (df['tag'].str.match(rule)) & (df['type'].str.match(\"^(cardinal|ordinal)$\"))), 'millions'] = ' milljón' + letter + ' og'\n",
    "        df.loc[((df['word'].str.match(ones_ptrn_no11 + \"1(\\.000){2}\\.$\")) & (df['tag'].str.match(rule)) & (df['type'].str.match(\"^(cardinal|ordinal)$\"))), 'millions'] = ' einmilljón' + letter\n",
    "        df.loc[((df['word'].str.match(\"^1(\\.000){2}\\.$\")) & (df['tag'].str.match(rule)) & (df['type'].str.match(\"^(cardinal|ordinal)$\"))), 'millions'] = ' milljón' + letter\n",
    "        df.loc[((df['word'].str.match(tns_ptrn + \"10\\.000\\.0([01][1-9]|10)\\.$\")) & (df['tag'].str.match(rule)) & (df['type'].str.match(\"^(cardinal|ordinal)$\"))), 'ten millions'] = ' tímilljón'+ letter + ' og'\n",
    "        df.loc[((df['word'].str.match(tns_ptrn + \"10(\\.000){2}\\.$\")) & (df['tag'].str.match(rule)) & (df['type'].str.match(\"^(cardinal|ordinal)$\"))), 'ten millions'] = ' tímilljón'+ letter\n",
    "        df.loc[((df['word'].str.match(hndrds_ptrn_11 + \"100\\.000\\.0([01][1-9]|10)\\.$\")) & (df['tag'].str.match(rule)) & (df['type'].str.match(\"^(cardinal|ordinal)$\"))), 'hundred millions'] = ' eitt hundraðmilljón' + letter + ' og'\n",
    "        df.loc[((df['word'].str.match(\"^100\\.000\\.0([01][1-9]|10)\\.$\")) & (df['tag'].str.match(rule)) & (df['type'].str.match(\"^(cardinal|ordinal)$\"))), 'hundred millions'] = 'hundraðmilljón' + letter + ' og'\n",
    "        df.loc[((df['word'].str.match(hndrds_ptrn_11 + \"100(\\.000){2}\\.$\")) & (df['tag'].str.match(rule)) & (df['type'].str.match(\"^(cardinal|ordinal)$\"))), 'hundred millions'] = ' eitt hundraðmilljón' + letter\n",
    "        df.loc[((df['word'].str.match(\"^100(\\.000){2}\\.$\")) & (df['tag'].str.match(rule))) & (df['type'].str.match(\"^(cardinal|ordinal)$\")), 'hundred millions'] = 'hundraðmilljón' + letter\n",
    "    \n",
    "    df.loc[((df['word'].str.match(ones_ptrn_no11 + \"1\\.000\\.0([01][1-9]|10)\\.$\")) & (df['tag'].str.match(nonoun)) & (df['type'] == 'ordinal')), 'millions'] = ' einmilljónasta og'\n",
    "    df.loc[((df['word'].str.match(\"^1\\.000\\.0([01][1-9]|10)\\.$\")) & (df['tag'].str.match(nonoun)) & (df['type'] == 'ordinal')), 'millions'] = ' milljónasta og'\n",
    "    df.loc[((df['word'].str.match(ones_ptrn_no11 + \"1\\.000\\.000\\.$\")) & (df['tag'].str.match(nonoun)) & (df['type'] == 'ordinal')), 'millions'] = ' einmilljónasta'\n",
    "    df.loc[((df['word'].str.match(\"^1\\.000\\.000\\.$\")) & (df['tag'].str.match(nonoun)) & (df['type'] == 'ordinal')), 'millions'] = ' milljónasta'\n",
    "    df.loc[((df['word'].str.match(tns_ptrn + \"10\\.000\\.0([01][1-9]|10)\\.$\")) & (df['tag'].str.match(nonoun)) & (df['type'] == 'ordinal')), 'ten millions'] = ' tímilljónasta og'\n",
    "    df.loc[((df['word'].str.match(tns_ptrn + \"10\\.000\\.000\\.$\")) & (df['tag'].str.match(nonoun)) & (df['type'] == 'ordinal')), 'ten millions'] = ' tímilljónasta'\n",
    "    df.loc[((df['word'].str.match(hndrds_ptrn_11 + \"100\\.000\\.0([01][1-9]|10)\\.$\")) & (df['tag'].str.match(nonoun)) & (df['type'] == 'ordinal')), 'hundred millions'] = ' eitt hundraðmilljónasta og'\n",
    "    df.loc[((df['word'].str.match(\"^100\\.000\\.0([01][1-9]|10)\\.$\")) & (df['tag'].str.match(nonoun)) & (df['type'] == 'ordinal')), 'hundred millions'] = 'hundraðmilljónasta og'\n",
    "    df.loc[((df['word'].str.match(hndrds_ptrn_11 + \"100(\\.000){2}\\.$\")) & (df['tag'].str.match(nonoun)) & (df['type'] == 'ordinal')), 'hundred millions'] = ' eitt hundraðmilljónasta'\n",
    "    df.loc[((df['word'].str.match(\"^100(\\.000){2}\\.$\")) & (df['tag'].str.match(nonoun)) & (df['type'] == 'ordinal')), 'hundred millions'] = 'hundraðmilljónasta'\n",
    "\n",
    "    \n",
    "def replace_one_billion_ordinal(df):\n",
    "    print(\"replace_one_billion_ordinal\")\n",
    "    for rule, letter in tqdm(dozens_ordinal_letters):\n",
    "        df.loc[((df['word'].str.match(ones_ptrn_no11 + \"1(\\.000){2}\\.0([01][1-9]|10)\\.$\")) & (df['tag'].str.match(rule)) & (df['type'].str.match(\"^(cardinal|ordinal)$\"))), 'billions'] = ' einmilljarð' + letter + ' og'\n",
    "        df.loc[((df['word'].str.match(\"^1(\\.000){2}\\.0([01][1-9]|10)\\.$\")) & (df['tag'].str.match(rule)) & (df['type'].str.match(\"^(cardinal|ordinal)$\"))), 'billions'] = 'milljarð' + letter + ' og'\n",
    "        df.loc[((df['word'].str.match(tns_ptrn + \"10(\\.000){2}\\.0([01][1-9]|10)\\.$\")) & (df['tag'].str.match(rule)) & (df['type'].str.match(\"^(cardinal|ordinal)$\"))), 'ten billions'] = ' tímilljarð' + letter + ' og' \n",
    "        df.loc[((df['word'].str.match(hndrds_ptrn_11 + \"100(\\.000){2}\\.0([01][1-9]|10)\\.$\")) & (df['tag'].str.match(rule)) & (df['type'].str.match(\"^(cardinal|ordinal)$\"))), 'hundred billions'] = ' eitt hundraðmilljarð' + letter + ' og'\n",
    "        df.loc[((df['word'].str.match(\"^100(\\.000){2}\\.0([01][1-9]|10)\\.$\")) & (df['tag'].str.match(rule)) & (df['type'].str.match(\"^(cardinal|ordinal)$\"))), 'hundred billions'] = 'hundraðmilljarð' + letter + ' og'        \n",
    "        df.loc[((df['word'].str.match(ones_ptrn_no11 + \"1(\\.000){3}\\.$\")) & (df['tag'].str.match(rule)) & (df['type'].str.match(\"^(cardinal|ordinal)$\"))), 'billions'] = ' einmilljarð' + letter\n",
    "        df.loc[((df['word'].str.match(\"^1(\\.000){3}\\.$\")) & (df['tag'].str.match(rule)) & (df['type'].str.match(\"^(cardinal|ordinal)$\"))), 'billions'] = 'milljarð' + letter\n",
    "        df.loc[((df['word'].str.match(tns_ptrn + \"10(\\.000){3}\\.$\")) & (df['tag'].str.match(rule)) & (df['type'].str.match(\"^(cardinal|ordinal)$\"))), 'ten billions'] = 'tímilljarð' + letter\n",
    "        df.loc[((df['word'].str.match(hndrds_ptrn_11 + \"100(\\.000){3}\\.$\")) & (df['tag'].str.match(rule)) & (df['type'].str.match(\"^(cardinal|ordinal)$\"))), 'hundred billions'] = ' eitt hundraðmilljarð' + letter\n",
    "        df.loc[((df['word'].str.match(\"^100(\\.000){3}\\.$\")) & (df['tag'].str.match(rule)) & (df['type'].str.match(\"^(cardinal|ordinal)$\"))), 'hundred billions'] = 'hundrað milljarð' + letter\n",
    "        \n",
    "    df.loc[((df['word'].str.match(ones_ptrn_no11 + \"1(\\.000){2}\\.0([01][1-9]|10)\\.$\")) & (df['tag'].str.match(nonoun)) & (df['type'] == 'ordinal')), 'billions'] = ' einmilljarðasta og'\n",
    "    df.loc[((df['word'].str.match(\"^1(\\.000){2}\\.0([01][1-9]|10)\\.$\")) & (df['tag'].str.match(nonoun)) & (df['type'] == 'ordinal')), 'billions'] = 'milljarðasta og'\n",
    "    df.loc[((df['word'].str.match(tns_ptrn + \"10(\\.000){2}\\.0([01][1-9]|10)\\.$\")) & (df['tag'].str.match(nonoun)) & (df['type'] == 'ordinal')), 'ten billions'] = 'tímilljarðasta og' \n",
    "    df.loc[((df['word'].str.match(hndrds_ptrn_11 + \"100(\\.000){2}\\.0([01][1-9]|10)\\.$\")) & (df['tag'].str.match(nonoun)) & (df['type'] == 'ordinal')), 'hundred billions'] = ' eitt hundrað milljarðasta og'\n",
    "    df.loc[((df['word'].str.match(\"^100(\\.000){2}\\.0([01][1-9]|10)\\.$\")) & (df['tag'].str.match(nonoun)) & (df['type'] == 'ordinal')), 'hundred billions'] = 'hundraðmilljarðasta og'        \n",
    "    df.loc[((df['word'].str.match(ones_ptrn_no11 + \"1(\\.000){3}\\.$\")) & (df['tag'].str.match(nonoun)) & (df['type'] == 'ordinal')), 'billions'] = ' einmilljarðasta'\n",
    "    df.loc[((df['word'].str.match(\"^1(\\.000){3}\\.$\")) & (df['tag'].str.match(nonoun)) & (df['type'] == 'ordinal')), 'billions'] = 'milljarðasta'\n",
    "    df.loc[((df['word'].str.match(tns_ptrn + \"10(\\.000){3}\\.$\")) & (df['tag'].str.match(nonoun)) & (df['type'] == 'ordinal')), 'ten billions'] = 'tímilljarðasta'\n",
    "    df.loc[((df['word'].str.match(hndrds_ptrn_11 + \"100(\\.000){3}\\.$\")) & (df['tag'].str.match(nonoun)) & (df['type'] == 'ordinal')), 'hundred billions'] = ' eitt hundraðmilljarðasta'\n",
    "    df.loc[((df['word'].str.match(\"^100(\\.000){3}\\.$\")) & (df['tag'].str.match(nonoun)) & (df['type'] == 'ordinal')), 'hundred billions'] = 'hundraðmilljarðasta'\n",
    "\n"
   ]
  },
  {
   "cell_type": "code",
   "execution_count": 17,
   "metadata": {},
   "outputs": [],
   "source": [
    "hundreds_thousands_zip = [\n",
    "                (' tvö', '2'),\n",
    "                (' þrjú', '3'),\n",
    "                (' fjögur', '4'),\n",
    "                (' fimm', '5'),\n",
    "                (' sex', '6'),\n",
    "                (' sjö', '7'),\n",
    "                (' átta', '8'),\n",
    "                (' níu', '9')\n",
    "               ]\n",
    "# CARDINAL\n",
    "\n",
    "def replace_hundred_bignos_cardinal(df):\n",
    "    print(\"replace_hundred_bignos_cardinal\")\n",
    "    for string, number in tqdm(hundreds_thousands_zip):\n",
    "        df.loc[((df['word'].str.match(hndrds_ptrn_11 + number + \"([01][1-9]|[1-9]0)\" + dec_ptrn))  & (df['type'].str.match(\"^(cardinal|ordinal)$\"))), 'hundreds'] = string + ' hundruð og'\n",
    "        df.loc[((df['word'].str.match(hndrds_ptrn_11 + number + \"[2-9]0\\.$\"))  & (df['type'].str.match(\"^(cardinal|ordinal)$\"))), 'hundreds'] = string + ' hundruð og'\n",
    "        df.loc[((df['word'].str.match(hndrds_ptrn_11 + number + \"([2-9][1-9]|00)\" + dec_ptrn_ordinal))  & (df['type'].str.match(\"^(cardinal|ordinal)$\"))), 'hundreds'] = string + ' hundruð'\n",
    "\n",
    "        df.loc[((df['word'].str.match(ones_ptrn_no11 + number + thsnds_and_ptrn_cardinal + dec_ptrn))  & (df['type'].str.match(\"^(cardinal|ordinal)$\"))), 'thousands'] = string + ' þúsund og'\n",
    "        df.loc[((df['word'].str.match(ones_ptrn_no11 + number + thsnds_and_ptrn_ordinal))  & (df['type'].str.match(\"^(cardinal|ordinal)$\"))), 'thousands'] = string + ' þúsund og'\n",
    "        df.loc[((df['word'].str.match(ones_ptrn_no11 + number + \"\\.?((000$)|(([1-9](?!00)\\d{2})|(0[2-9][1-9]))\" + dec_ptrn_ordinal + \")\"))  & (df['type'].str.match(\"^(cardinal|ordinal)$\"))), 'thousands'] = string + ' þúsund'\n",
    "        \n",
    "        #df.loc[(df['word'].str.match(hndrds_ptrn_no11_def + number + \"00(\\.?000$|\" + thsnds_ptrn_after + dec_ptrn_ordinal + \")\")), 'hundred thousands'] = string + ' hundruð þúsund'\n",
    "        df.loc[((df['word'].str.match(hndrds_ptrn_no11 + number + \"00\" + thsnds_ptrn_after + dec_ptrn_ordinal))  & (df['type'].str.match(\"^(cardinal|ordinal)$\"))), 'hundred thousands'] = string + ' hundruð þúsund'\n",
    "        df.loc[((df['word'].str.match(hndrds_ptrn_11 + number + \"00\" + thsnds_and_ptrn_cardinal + dec_ptrn))  & (df['type'].str.match(\"^(cardinal|ordinal)$\"))), 'hundred thousands'] = string + ' hundruð þúsund og'\n",
    "        df.loc[((df['word'].str.match(hndrds_ptrn_11 + number + \"00\" + thsnds_and_ptrn_ordinal)) & (df['type'].str.match(\"^(cardinal|ordinal)$\"))), 'hundred thousands'] = string + ' hundruð þúsund og'\n",
    "        df.loc[((df['word'].str.match(hndrds_ptrn_11 + number + hndrd_and_thsnd + dec_ptrn_ordinal))  & (df['type'].str.match(\"^(cardinal|ordinal)$\"))), 'hundred thousands'] = string + ' hundruð og'\n",
    "        df.loc[((df['word'].str.match(hndrds_ptrn_11 + number + hndrd_thsnd_after + dec_ptrn_ordinal))  & (df['type'].str.match(\"^(cardinal|ordinal)$\"))), 'hundred thousands'] = string + ' hundruð'\n",
    "        \n",
    "        df.loc[((df['word'].str.match(hndrds_ptrn_11 + number + \"00\" + million_and_cardinal + dec_ptrn))  & (df['type'].str.match(\"^(cardinal|ordinal)$\"))), 'hundred millions'] = string + ' hundruð milljónir og'\n",
    "        df.loc[((df['word'].str.match(hndrds_ptrn_11 + number + \"00\" + million_and_ordinal))  & (df['type'].str.match(\"^(cardinal|ordinal)$\"))), 'hundred millions'] = string + ' hundruð milljónir og'\n",
    "        df.loc[((df['word'].str.match(hndrds_ptrn_11 + number + \"00\" + milln_ptrn_after + dec_ptrn_ordinal))), 'hundred millions'] = string +  ' hundruð milljónir'\n",
    "        df.loc[((df['word'].str.match(hndrds_ptrn_11 + number + hndrd_and_million + dec_ptrn_ordinal))  & (df['type'].str.match(\"^(cardinal|ordinal)$\"))), 'hundred millions'] = string + ' hundruð og'\n",
    "        df.loc[((df['word'].str.match(hndrds_ptrn_11 + number + hndrd_million + dec_ptrn_ordinal))  & (df['type'].str.match(\"^(cardinal|ordinal)$\"))), 'hundred millions'] = string + ' hundruð'\n",
    "        \n",
    "        df.loc[((df['word'].str.match(hndrds_ptrn_11 + number + \"00\" + billion_and_cardinal + dec_ptrn))  & (df['type'].str.match(\"^(cardinal|ordinal)$\"))), 'hundred billions'] = string + ' hundruð milljarðar og'\n",
    "        df.loc[((df['word'].str.match(hndrds_ptrn_11 + number + \"00\" + billion_and_ordinal))  & (df['type'].str.match(\"^(cardinal|ordinal)$\"))), 'hundred billions'] = string + ' hundruð milljarðar og'\n",
    "        df.loc[((df['word'].str.match(hndrds_ptrn_11 + number + \"00\" + billion_after + dec_ptrn_ordinal))  & (df['type'].str.match(\"^(cardinal|ordinal)$\"))), 'hundred billions'] = string + ' hundruð milljarðar'\n",
    "        df.loc[((df['word'].str.match(hndrds_ptrn_11 + number + hndrd_and_billion + dec_ptrn_ordinal))  & (df['type'].str.match(\"^(cardinal|ordinal)$\"))), 'hundred billions'] = string + ' hundruð og'\n",
    "        df.loc[((df['word'].str.match(hndrds_ptrn_11 + number + hndrd_billion + dec_ptrn_ordinal))  & (df['type'].str.match(\"^(cardinal|ordinal)$\"))), 'hundred billions'] = string + ' hundruð'\n",
    "\n",
    "def replace_ten_bignos_cardinal(df):\n",
    "    print(\"replace_ten_bignos_cardinal\")\n",
    "    for string, number in tqdm(dozens_zip):\n",
    "        df.loc[((df['word'].str.match(tns_ptrn + number + \"0\" + thsnds_and_ptrn_cardinal + dec_ptrn))  & (df['type'].str.match(\"^(cardinal|ordinal)$\"))), 'ten thousands'] = string + ' þúsund og'\n",
    "        df.loc[((df['word'].str.match(tns_ptrn + number + \"0\" + thsnds_and_ptrn_ordinal))  & (df['type'].str.match(\"^(cardinal|ordinal)$\"))), 'ten thousands'] = string + ' þúsund og'\n",
    "        df.loc[((df['word'].str.match(tns_ptrn + number + \"0\" + thsnds_ptrn_after + dec_ptrn_ordinal))  & (df['type'].str.match(\"^(cardinal|ordinal)$\"))), 'ten thousands'] = string + ' þúsund'\n",
    "        df.loc[((df['word'].str.match(tns_ptrn + number + \"[1-9]\\.?\\d{3}\" + dec_ptrn_ordinal))  & (df['type'].str.match(\"^(cardinal|ordinal)$\"))), 'ten thousands'] = string + ' og'\n",
    "\n",
    "        df.loc[((df['word'].str.match(tns_ptrn + number + \"0\" + million_and_cardinal + dec_ptrn))  & (df['type'].str.match(\"^(cardinal|ordinal)$\"))), 'ten millions'] = string + ' milljónir og'\n",
    "        df.loc[((df['word'].str.match(tns_ptrn + number + \"0\" + million_and_ordinal))  & (df['type'].str.match(\"^(cardinal|ordinal)$\"))), 'ten millions'] = string + ' milljónir og' \n",
    "        df.loc[((df['word'].str.match(tns_ptrn + number + \"0\" + milln_ptrn_after + dec_ptrn_ordinal))  & (df['type'].str.match(\"^(cardinal|ordinal)$\"))), 'ten millions'] = string + ' milljónir'\n",
    "        df.loc[((df['word'].str.match(tns_ptrn + number + \"[1-9](\\.\\d{3}){2}\" + dec_ptrn_ordinal))  & (df['type'].str.match(\"^(cardinal|ordinal)$\"))), 'ten millions'] = string + ' og'\n",
    "\n",
    "        df.loc[((df['word'].str.match(tns_ptrn + number + \"0\" + billion_and_cardinal + dec_ptrn))  & (df['type'].str.match(\"^(cardinal|ordinal)$\"))), 'ten billions'] = string + ' milljarðar og'\n",
    "        df.loc[((df['word'].str.match(tns_ptrn + number + \"0\" + billion_and_ordinal))  & (df['type'].str.match(\"^(cardinal|ordinal)$\"))), 'ten billions'] = string + ' milljarðar og' \n",
    "        df.loc[((df['word'].str.match(tns_ptrn + number + \"0\" + billion_after + dec_ptrn_ordinal))  & (df['type'].str.match(\"^(cardinal|ordinal)$\"))), 'ten billions'] = string + ' milljarðar'\n",
    "        df.loc[((df['word'].str.match(tns_ptrn + number + \"[1-9](\\.\\d{3}){3}\" + dec_ptrn_ordinal))  & (df['type'].str.match(\"^(cardinal|ordinal)$\"))), 'ten billions'] = string + ' og'\n",
    "\n",
    "\n",
    "millions_zip = [(' tvær', '2'),\n",
    "                (' þrjár', '3'),\n",
    "                (' fjórar', '4'),\n",
    "                (' fimm', '5'),\n",
    "                (' sex', '6'),\n",
    "                (' sjö', '7'),\n",
    "                (' átta', '8'),\n",
    "                (' níu', '9')]\n",
    "\n",
    "def replace_millions_cardinal(df):\n",
    "    print(\"replace_millions_cardinal\")\n",
    "    for string, number in tqdm(millions_zip):\n",
    "        df.loc[((df['word'].str.match(ones_ptrn_no11 + number + million_and_cardinal + dec_ptrn))  & (df['type'].str.match(\"^(cardinal|ordinal)$\"))), 'millions'] = string + ' milljónir og'\n",
    "        df.loc[((df['word'].str.match(ones_ptrn_no11 + number + million_and_ordinal))  & (df['type'].str.match(\"^(cardinal|ordinal)$\"))), 'millions'] = string + ' milljónir og'\n",
    "        df.loc[((df['word'].str.match(ones_ptrn_no11 + number + milln_ptrn_after + dec_ptrn_ordinal))  & (df['type'].str.match(\"^(cardinal|ordinal)$\"))), 'millions'] = string + ' milljónir'\n",
    "\n",
    "        \n",
    "billions_zip = [(' tveir', '2'),\n",
    "                (' þrír', '3'),\n",
    "                (' fjórir', '4'),\n",
    "                (' fimm', '5'),\n",
    "                (' sex', '6'),\n",
    "                (' sjö', '7'),\n",
    "                (' átta', '8'),\n",
    "                (' níu', '9')]\n",
    "    \n",
    "def replace_billions_cardinal(df):\n",
    "    print(\"replace_billions_cardinal\")\n",
    "    for string, number in tqdm(billions_zip):\n",
    "        df.loc[((df['word'].str.match(ones_ptrn_no11 + number + billion_and_cardinal + dec_ptrn))  & (df['type'].str.match(\"^(cardinal|ordinal)$\"))), 'billions'] = string + ' milljarðar og'\n",
    "        df.loc[((df['word'].str.match(ones_ptrn_no11 + number + billion_and_ordinal))  & (df['type'].str.match(\"^(cardinal|ordinal)$\"))), 'billions'] = string + ' milljarðar og'\n",
    "        df.loc[((df['word'].str.match(ones_ptrn_no11 + number + billion_after + dec_ptrn_ordinal))  & (df['type'].str.match(\"^(cardinal|ordinal)$\"))), 'billions'] = string + ' milljarðar'\n",
    "\n",
    "# ORDINAL\n",
    "\n",
    "def replace_hundred_bignos_ordinal(df):\n",
    "    print(\"replace_hundred_bignos_ordinal\")\n",
    "    for string, number in tqdm(hundreds_thousands_zip):\n",
    "        for rule, letter in dozens_ordinal_letters:\n",
    "            df.loc[((df['word'].str.match(hndrds_ptrn_11 + number + \"([01][1-9]|10)\\.$\")) & (df['tag'].str.match(rule))  & (df['type'].str.match(\"^(cardinal|ordinal)$\"))), 'hundreds'] = string + ' hundruð' + letter + ' og'\n",
    "            df.loc[((df['word'].str.match(hndrds_ptrn_11 + number + \"00\\.$\")) & (df['tag'].str.match(rule))  & (df['type'].str.match(\"^(cardinal|ordinal)$\"))), 'hundreds'] = string + ' hundruð' + letter\n",
    "            df.loc[((df['word'].str.match(ones_ptrn_11 + number + \"\\.?0([01][1-9]|10)\\.$\")) & (df['tag'].str.match(rule))  & (df['type'].str.match(\"^(cardinal|ordinal)$\"))), 'thousands'] = string + ' þúsund' + letter + ' og'\n",
    "            df.loc[((df['word'].str.match(ones_ptrn_11 + number + \"\\.?000\\.$\")) & (df['tag'].str.match(rule))  & (df['type'].str.match(\"^(cardinal|ordinal)$\"))), 'thousands'] = string + ' þúsund' + letter\n",
    "            df.loc[((df['word'].str.match(hndrds_ptrn_11 + number + \"00\\.?0([01][1-9]|10)\\.$\")) & (df['tag'].str.match(rule))  & (df['type'].str.match(\"^(cardinal|ordinal)$\"))), 'hundred thousands'] = string + ' hundruðþúsund' + letter + ' og'     \n",
    "            df.loc[((df['word'].str.match(hndrds_ptrn_11 + number + \"00\\.?000\\.$\")) & (df['tag'].str.match(rule))  & (df['type'].str.match(\"^(cardinal|ordinal)$\"))), 'hundred thousands'] = string + ' hundruðþúsund' + letter\n",
    "\n",
    "            df.loc[((df['word'].str.match(hndrds_ptrn_11 + number + \"00\\.000\\.0([01][1-9]|10)\\.$\")) & (df['tag'].str.match(rule))  & (df['type'].str.match(\"^(cardinal|ordinal)$\"))), 'hundred millions'] = string + ' hundruðmilljón' + letter + ' og'\n",
    "            df.loc[((df['word'].str.match(hndrds_ptrn_11 + number + \"00(\\.000){2}\\.$\")) & (df['tag'].str.match(rule))  & (df['type'].str.match(\"^(cardinal|ordinal)$\"))), 'hundred millions'] = string + ' hundruðmilljón' + letter\n",
    "\n",
    "            df.loc[((df['word'].str.match(hndrds_ptrn_11 + number + \"00(\\.000){2}\\.0([01][1-9]|10)\\.$\")) & (df['tag'].str.match(rule))  & (df['type'].str.match(\"^(cardinal|ordinal)$\"))), 'hundred billions'] = string + ' hundruðmilljarð' + letter + ' og'\n",
    "            df.loc[((df['word'].str.match(hndrds_ptrn_11 + number + \"00(\\.000){3}\\.$\")) & (df['tag'].str.match(rule))  & (df['type'].str.match(\"^(cardinal|ordinal)$\"))), 'hundred billions'] = string + ' hundruðmilljarð' + letter\n",
    "\n",
    "        df.loc[((df['word'].str.match(hndrds_ptrn_11 + number + \"([01][1-9]|10)\\.$\")) & (df['tag'].str.match(nonoun)) & (df['type'] == 'ordinal')), 'hundreds'] = string + ' hundruðasta og'\n",
    "        df.loc[((df['word'].str.match(hndrds_ptrn_11 + number + \"00\\.$\")) & (df['tag'].str.match(nonoun)) & (df['type'] == 'ordinal')), 'hundreds'] = string + ' hundruðasta'\n",
    "        df.loc[((df['word'].str.match(ones_ptrn_11 + number + \"\\.?0([01][1-9]|10)\\.$\")) & (df['tag'].str.match(nonoun)) & (df['type'] == 'ordinal')), 'thousands'] = string + ' þúsundasta og'\n",
    "        df.loc[((df['word'].str.match(ones_ptrn_11 + number + \"\\.?000\\.$\")) & (df['tag'].str.match(nonoun)) & (df['type'] == 'ordinal')), 'thousands'] = string + ' þúsundasta'\n",
    "        df.loc[((df['word'].str.match(hndrds_ptrn_11 + number + \"00\\.?0([01][1-9]|10)\\.$\")) & (df['tag'].str.match(nonoun)) & (df['type'] == 'ordinal')), 'hundred thousands'] = string + ' hundruðþúsundasta og'\n",
    "        df.loc[((df['word'].str.match(hndrds_ptrn_11 + number + \"00\\.?000\\.$\")) & (df['tag'].str.match(nonoun)) & (df['type'] == 'ordinal')), 'hundred thousands'] = string + ' hundruðþúsundasta'\n",
    "\n",
    "        df.loc[((df['word'].str.match(hndrds_ptrn_11 + number + \"00\\.000\\.0([01][1-9]|10)\\.$\")) & (df['tag'].str.match(nonoun)) & (df['type'] == 'ordinal')), 'hundred millions'] = string + ' hundruðmilljónasta og'\n",
    "        df.loc[((df['word'].str.match(hndrds_ptrn_11 + number + \"00(\\.000){2}\\.$\")) & (df['tag'].str.match(nonoun)) & (df['type'] == 'ordinal')), 'hundred millions'] = string + ' hundruðmilljónasta'\n",
    "\n",
    "        df.loc[((df['word'].str.match(hndrds_ptrn_11 + number + \"00(\\.000){2}\\.0([01][1-9]|10)\\.$\")) & (df['tag'].str.match(nonoun)) & (df['type'] == 'ordinal')), 'hundred billions'] = string + ' hundruð milljarðasta og'\n",
    "        df.loc[((df['word'].str.match(hndrds_ptrn_11 + number + \"00(\\.000){3}\\.$\")) & (df['tag'].str.match(nonoun)) & (df['type'] == 'ordinal')), 'hundred billions'] = string + ' hundruðmilljarðasta'\n",
    "\n",
    "        \n",
    "def replace_ten_bignos_ordinal(df):\n",
    "    print(\"replace_ten_bignos_ordinal\")\n",
    "    for string, number in tqdm(dozens_zip):\n",
    "        for rule, letter in dozens_ordinal_letters:\n",
    "            df.loc[((df['word'].str.match(tns_ptrn + number + \"0\\.?0([01][1-9]|10)\\.$\")) & (df['tag'].str.match(rule))  & (df['type'].str.match(\"^(cardinal|ordinal)$\"))), 'ten thousands'] = string + ' þúsund' + letter + ' og'\n",
    "            df.loc[((df['word'].str.match(tns_ptrn + number + \"0\\.?000\\.$\")) & (df['tag'].str.match(rule))  & (df['type'].str.match(\"^(cardinal|ordinal)$\"))), 'ten thousands'] = string + ' þúsund' + letter\n",
    "\n",
    "            df.loc[((df['word'].str.match(tns_ptrn + number + \"0\\.000\\.0([01][1-9]|10)\\.$\")) & (df['tag'].str.match(rule))  & (df['type'].str.match(\"^(cardinal|ordinal)$\"))), 'ten millions'] = string + 'milljón'+ letter + ' og'\n",
    "            df.loc[((df['word'].str.match(tns_ptrn + number + \"0(\\.000){2}\\.$\")) & (df['tag'].str.match(rule))  & (df['type'].str.match(\"^(cardinal|ordinal)$\"))), 'ten millions'] = string + 'milljón'+ letter\n",
    "\n",
    "            df.loc[((df['word'].str.match(tns_ptrn + number + \"0(\\.000){2}\\.0([01][1-9]|10)\\.$\")) & (df['tag'].str.match(rule))  & (df['type'].str.match(\"^(cardinal|ordinal)$\"))), 'ten billions'] = string + 'milljarð' + letter + ' og' \n",
    "            df.loc[((df['word'].str.match(tns_ptrn + number + \"0(\\.000){3}\\.$\")) & (df['tag'].str.match(rule))  & (df['type'].str.match(\"^(cardinal|ordinal)$\"))), 'ten billions'] = string + 'milljarð' + letter\n",
    "\n",
    "        df.loc[((df['word'].str.match(tns_ptrn + number + \"0\\.?0([01][1-9]|10)\\.$\")) & (df['tag'].str.match(nonoun)) & (df['type'] == 'ordinal')), 'ten thousands'] = string + ' þúsundasta og'\n",
    "        df.loc[((df['word'].str.match(tns_ptrn + number + \"0\\.?000\\.$\")) & (df['tag'].str.match(nonoun)) & (df['type'] == 'ordinal')), 'ten thousands'] = string + ' þúsundasta'\n",
    "\n",
    "        df.loc[((df['word'].str.match(tns_ptrn + number + \"0\\.000\\.0([01][1-9]|10)\\.$\")) & (df['tag'].str.match(nonoun)) & (df['type'] == 'ordinal')), 'ten millions'] = string + 'milljónasta og'\n",
    "        df.loc[((df['word'].str.match(tns_ptrn + number + \"0\\.000\\.000\\.$\")) & (df['tag'].str.match(nonoun)) & (df['type'] == 'ordinal')), 'ten millions'] = string + 'milljónasta'\n",
    "\n",
    "        df.loc[((df['word'].str.match(tns_ptrn + number + \"0(\\.000){2}\\.0([01][1-9]|10)\\.$\")) & (df['tag'].str.match(nonoun)) & (df['type'] == 'ordinal')), 'ten billions'] = string + 'milljarðasta og'\n",
    "        df.loc[((df['word'].str.match(tns_ptrn + number + \"0(\\.000){3}\\.$\")) & (df['tag'].str.match(nonoun)) & (df['type'] == 'ordinal')), 'ten billions'] = string + 'milljarðasta'\n",
    "\n",
    "        \n",
    "mb_ordinal_zip = [(' tví', '2'),\n",
    "                  (' þrí', '3'),\n",
    "                  (' fer', '4'),\n",
    "                  (' fimm', '5'),\n",
    "                  (' sex', '6'),\n",
    "                  (' sjö', '7'),\n",
    "                  (' átt', '8'),\n",
    "                  (' ní', '9')]\n",
    "\n",
    "def replace_millionsbillions_ordinal(df):\n",
    "    print(\"replace_millionsbillions_ordinal\")\n",
    "    for string, number in tqdm(mb_ordinal_zip):\n",
    "        for rule, letter in dozens_ordinal_letters:\n",
    "            df.loc[((df['word'].str.match(ones_ptrn_11 + number + \"\\.000\\.0([01][1-9]|10)\\.$\")) & (df['tag'].str.match(rule))  & (df['type'].str.match(\"^(cardinal|ordinal)$\"))), 'millions'] = string + 'milljón' + letter + ' og'\n",
    "            df.loc[((df['word'].str.match(ones_ptrn_11 + number + \"(\\.000){2}\\.$\")) & (df['tag'].str.match(rule))  & (df['type'].str.match(\"^(cardinal|ordinal)$\"))), 'millions'] = string + 'milljón' + letter\n",
    "\n",
    "            df.loc[((df['word'].str.match(ones_ptrn_11 + number + \"(\\.000){2}\\.0([01][1-9]|10)\\.$\")) & (df['tag'].str.match(rule))  & (df['type'].str.match(\"^(cardinal|ordinal)$\"))), 'billions'] = string + 'milljarð' + letter + ' og'\n",
    "            df.loc[((df['word'].str.match(ones_ptrn_11 + number + \"(\\.000){3}\\.$\")) & (df['tag'].str.match(rule))  & (df['type'].str.match(\"^(cardinal|ordinal)$\"))), 'billions'] = string + 'milljarð' + letter\n",
    "\n",
    "        df.loc[((df['word'].str.match(ones_ptrn_11 + number + \"\\.000\\.0([01][1-9]|10)\\.$\")) & (df['tag'].str.match(nonoun))  & (df['type'].str.match(\"^(cardinal|ordinal)$\") & (df['type'] == 'ordinal'))), 'millions'] = string + 'milljónasta og'\n",
    "        df.loc[((df['word'].str.match(ones_ptrn_11 + number + \"\\.000\\.000\\.$\")) & (df['tag'].str.match(nonoun)) & (df['type'] == 'ordinal')), 'millions'] = string + 'milljónasta'\n",
    "\n",
    "        df.loc[((df['word'].str.match(ones_ptrn_11 + number + \"(\\.000){2}\\.0([01][1-9]|10)\\.$\")) & (df['tag'].str.match(nonoun)) & (df['type'] == 'ordinal')  & (df['type'].str.match(\"^(cardinal|ordinal)$\"))), 'billions'] = string + 'milljarðasta og'\n",
    "        df.loc[((df['word'].str.match(ones_ptrn_11 + number + \"(\\.000){3}\\.$\")) & (df['tag'].str.match(nonoun)) & (df['type'] == 'ordinal')), 'billions'] = string + 'milljarðasta'\n",
    "\n",
    "        "
   ]
  },
  {
   "cell_type": "code",
   "execution_count": 18,
   "metadata": {},
   "outputs": [],
   "source": [
    "ten_hundreds_thousands_zip = [(' ellefu', '11'),\n",
    "                    (' tólf', '12'),\n",
    "                    (' þrettán', '13'),\n",
    "                    (' fjórtán', '14'),\n",
    "                    (' fimmtán', '15'),\n",
    "                    (' sextán', '16'),\n",
    "                    (' sautján', '17'),\n",
    "                    (' átján', '18'),\n",
    "                    (' nítján', '19')]\n",
    "\n",
    "def replace_ten_hundreds_thousands_cardinal(df):\n",
    "    print(\"replace_ten_hundreds_thousands_cardinal\")\n",
    "    for string, number in tqdm(ten_hundreds_thousands_zip):\n",
    "        df.loc[((df['word'].str.match(\"^\" + number + \"([01][1-9]|[1-9]0)\" + dec_ptrn)) & (df['type'].str.match(\"^(cardinal|ordinal|fraction)\"))), 'hundreds'] = string + ' hundruð og'\n",
    "        df.loc[((df['word'].str.match(\"^\" + number + \"(00|[2-9][1-9])\" + dec_ptrn_ordinal)) & (df['type'].str.match(\"^(cardinal|ordinal|fraction)\"))), 'hundreds'] = string + ' hundruð'\n",
    "        df.loc[((df['word'].str.match(\"^\" + number + \"([01][1-9]|[1-9]0)\" + dec_ptrn)) & (df['type'].str.match(\"^(cardinal|ordinal|fraction)\"))), 'thousands'] = \"\"\n",
    "        df.loc[((df['word'].str.match(\"^\" + number + \"(00|[2-9][1-9])\" + dec_ptrn_ordinal)) & (df['type'].str.match(\"^(cardinal|ordinal|fraction)\"))), 'thousands'] = \"\"\n",
    "        df.loc[((df['word'].str.match(tns_ptrn + number + thsnds_and_ptrn_cardinal + dec_ptrn)) & (df['type'].str.match(\"^(cardinal|ordinal|fraction)\"))), 'thousands'] = string + ' þúsund og'\n",
    "        df.loc[((df['word'].str.match(tns_ptrn + number + thsnds_and_ptrn_ordinal)) & (df['type'].str.match(\"^(cardinal|ordinal|fraction)\"))), 'thousands'] = string + ' þúsund og'\n",
    "        df.loc[((df['word'].str.match(tns_ptrn + number + thsnds_ptrn_after + dec_ptrn_ordinal)) & (df['type'].str.match(\"^(cardinal|ordinal|fraction)\"))), 'thousands'] = string + ' þúsund'\n",
    "        df.loc[((df['word'].str.match(\"^[1-9]?\" + number +  million_and_cardinal + dec_ptrn)) & (df['type'].str.match(\"^(cardinal|ordinal|fraction)\"))), 'millions'] = string + ' milljónir og'\n",
    "        df.loc[((df['word'].str.match(\"^[1-9]?\" + number +  million_and_ordinal)) & (df['type'].str.match(\"^(cardinal|ordinal|fraction)\"))), 'millions'] = string + ' milljónir og'\n",
    "        df.loc[((df['word'].str.match(\"^[1-9]?\" + number +  milln_ptrn_after + dec_ptrn_ordinal)) & (df['type'].str.match(\"^(cardinal|ordinal|fraction)\"))), 'millions'] = string + ' milljónir'\n",
    "        df.loc[((df['word'].str.match(\"^[1-9]?\" + number +  billion_and_cardinal + dec_ptrn)) & (df['type'].str.match(\"^(cardinal|ordinal|fraction)\"))), 'billions'] = string + ' milljarðar og'\n",
    "        df.loc[((df['word'].str.match(\"^[1-9]?\" + number +  billion_and_ordinal)) & (df['type'].str.match(\"^(cardinal|ordinal|fraction)\"))), 'billions'] = string + ' milljarðar og'\n",
    "        df.loc[((df['word'].str.match(\"^[1-9]?\" + number +  billion_after + dec_ptrn_ordinal)) & (df['type'].str.match(\"^(cardinal|ordinal|fraction)\"))), 'billions'] = string + ' milljarðar'\n",
    "        \n",
    "def replace_ten_hundreds_thousands_ordinal(df):\n",
    "    print(\"replace_ten_hundreds_thousands_ordinal\")\n",
    "    for string, number in tqdm(ten_hundreds_thousands_zip):\n",
    "        for rule, letter in dozens_ordinal_letters:\n",
    "            df.loc[((df['word'].str.match(\"^\" + number + \"([01][1-9]|10)\\.$\")) & (df['tag'].str.match(rule)) & (df['type'].str.match(\"^(cardinal|ordinal|fraction)\"))), 'hundreds'] = string + ' hundruð' + letter + ' og'\n",
    "            df.loc[((df['word'].str.match(tns_ptrn + number + \"\\.?0([01][1-9]|10)\\.$\")) & (df['tag'].str.match(rule))), 'thousands'] = string + ' þúsund' + letter + ' og'\n",
    "            df.loc[((df['word'].str.match(\"^[1-9]?\" + number + \"\\.000\\.0([01][1-9]|10)\\.$\")) & (df['tag'].str.match(rule))), 'millions'] = string + ' milljón' + letter + ' og'\n",
    "            df.loc[((df['word'].str.match(\"^\" + number + \"([01][1-9]|10)\\.$\")) & (df['tag'].str.match(rule))), 'thousands'] = \"\"\n",
    "            \n",
    "        df.loc[((df['word'].str.match(\"^\" + number + \"([01][1-9]|10)\\.$\")) & (df['tag'] == 'ordinal')), 'hundreds'] = string + ' hundruðasta og'\n",
    "        df.loc[((df['word'].str.match(tns_ptrn + number + \"\\.?0([01][1-9]|10)\\.$\")) & (df['tag'] == 'ordinal')), 'thousands'] = string + ' þúsundasta og'\n",
    "        df.loc[((df['word'].str.match(\"^[1-9]?\" + number + \"\\.000\\.0([01][1-9]|10)\\.$\")) & (df['tag'] == 'ordinal')), 'millions'] = string + ' milljónasta og'\n",
    "        df.loc[((df['word'].str.match(\"^\" + number + \"([01][1-9]|10)\\.$\")) & (df['tag'] == 'ordinal')), 'thousands'] = \"\"\n",
    " "
   ]
  },
  {
   "cell_type": "code",
   "execution_count": 19,
   "metadata": {},
   "outputs": [],
   "source": [
    "def run_numbers(df, domain):\n",
    "    start = time.time()\n",
    "    replace_zero_cardinal(df)\n",
    "    replace_ones_cardinal(df)\n",
    "    replace_no_rule_cardinal_decimal(df)\n",
    "    replace_no_rule_cardinal(df)\n",
    "    replace_other_ones_cardinal(df)\n",
    "    replace_tens_cardinal(df)\n",
    "    if domain == 'other':\n",
    "        replace_numerator_fractions(df)\n",
    "        replace_tens_fractions(df)\n",
    "        replace_denominator_fractions(df)\n",
    "        replace_half_fraction(df)\n",
    "    elif domain == 'sport':\n",
    "        pass\n",
    "    replace_two_ordinal(df)\n",
    "    replace_zero_ordinal(df)\n",
    "    replace_ones_ordinal(df)\n",
    "    replace_tens_ordinal(df)\n",
    "    replace_dozens_cardinal(df)\n",
    "    replace_dozens_ordinal(df)\n",
    "    replace_onehundred_onethousand_cardinal(df)\n",
    "    replace_ten_hundredthousand_cardinal(df)\n",
    "    replace_one_million_cardinal(df)\n",
    "    replace_one_billion_cardinal(df)\n",
    "    replace_onehundred_onethousand_ordinal(df)\n",
    "    replace_ten_hundredthousand_ordinal(df)\n",
    "    replace_one_million_ordinal(df)\n",
    "    replace_one_billion_ordinal(df)\n",
    "    replace_hundred_bignos_cardinal(df)\n",
    "    replace_ten_bignos_cardinal(df)\n",
    "    replace_millions_cardinal(df)\n",
    "    replace_billions_cardinal(df)\n",
    "    replace_hundred_bignos_ordinal(df)\n",
    "    replace_ten_bignos_ordinal(df)\n",
    "    replace_millionsbillions_ordinal(df)\n",
    "    replace_ten_hundreds_thousands_cardinal(df)\n",
    "    replace_ten_hundreds_thousands_ordinal(df)\n",
    "    print(f\"run done in {time.time() - start}\")\n",
    "    \n",
    "def clean_df(df):   \n",
    "    df = df.fillna(\"\")\n",
    "    \n",
    "    #df['number'] = df['hundred billions'] + \\\n",
    "    df['number'] = df['ten billions'] + \\\n",
    "                   df['billions'] + \\\n",
    "                   df['hundred millions'] + \\\n",
    "                   df['ten millions'] + \\\n",
    "                   df['millions'] + \\\n",
    "                   df['hundred thousands'] + \\\n",
    "                   df['ten thousands'] + \\\n",
    "                   df['thousands'] + \\\n",
    "                   df['hundreds'] + \\\n",
    "                   df['dozens'] + \\\n",
    "                   df['ones'] + \\\n",
    "                   df['points'] + \\\n",
    "                   df['point2'] + \\\n",
    "                   df['point3'] + \\\n",
    "                   df['point4'] + \\\n",
    "                   df['point5'] + \\\n",
    "                   df['point6'] + \\\n",
    "                   df['point7'] + \\\n",
    "                   df['point8'] + \\\n",
    "                   df['point9'] + \\\n",
    "                   df['point10']\n",
    "    \n",
    "    return df[['sentence_id', 'token_id', 'word', 'tag', 'type', 'number']]\n",
    "    "
   ]
  },
  {
   "cell_type": "code",
   "execution_count": 21,
   "metadata": {},
   "outputs": [
    {
     "name": "stdout",
     "output_type": "stream",
     "text": [
      "replace_zero_cardinal\n",
      "replace_ones_cardinal\n"
     ]
    },
    {
     "data": {
      "application/vnd.jupyter.widget-view+json": {
       "model_id": "f0131f8e0d6c4a168c55925f9e1d96e7",
       "version_major": 2,
       "version_minor": 0
      },
      "text/plain": [
       "HBox(children=(FloatProgress(value=0.0, max=27.0), HTML(value='')))"
      ]
     },
     "metadata": {},
     "output_type": "display_data"
    },
    {
     "name": "stdout",
     "output_type": "stream",
     "text": [
      "\n",
      "replace_no_rule_cardinal_decimal\n"
     ]
    },
    {
     "data": {
      "application/vnd.jupyter.widget-view+json": {
       "model_id": "1bb0f926b66746f090a8509f57ce2667",
       "version_major": 2,
       "version_minor": 0
      },
      "text/plain": [
       "HBox(children=(FloatProgress(value=0.0, max=4.0), HTML(value='')))"
      ]
     },
     "metadata": {},
     "output_type": "display_data"
    },
    {
     "name": "stdout",
     "output_type": "stream",
     "text": [
      "\n",
      "replace_no_rule_cardinal\n"
     ]
    },
    {
     "data": {
      "application/vnd.jupyter.widget-view+json": {
       "model_id": "194c812632a04769b5fe31f34e2f1fd6",
       "version_major": 2,
       "version_minor": 0
      },
      "text/plain": [
       "HBox(children=(FloatProgress(value=0.0, max=4.0), HTML(value='')))"
      ]
     },
     "metadata": {},
     "output_type": "display_data"
    },
    {
     "name": "stdout",
     "output_type": "stream",
     "text": [
      "\n",
      "replace_other_ones_cardinal\n"
     ]
    },
    {
     "data": {
      "application/vnd.jupyter.widget-view+json": {
       "model_id": "a2e9afaf37424369952e77887645505a",
       "version_major": 2,
       "version_minor": 0
      },
      "text/plain": [
       "HBox(children=(FloatProgress(value=0.0, max=5.0), HTML(value='')))"
      ]
     },
     "metadata": {},
     "output_type": "display_data"
    },
    {
     "name": "stdout",
     "output_type": "stream",
     "text": [
      "\n",
      "replace_tens_cardinal\n"
     ]
    },
    {
     "data": {
      "application/vnd.jupyter.widget-view+json": {
       "model_id": "2050ecba3056477e8ae67a54fb404575",
       "version_major": 2,
       "version_minor": 0
      },
      "text/plain": [
       "HBox(children=(FloatProgress(value=0.0, max=10.0), HTML(value='')))"
      ]
     },
     "metadata": {},
     "output_type": "display_data"
    },
    {
     "name": "stdout",
     "output_type": "stream",
     "text": [
      "\n",
      "replace_two_ordinal\n"
     ]
    },
    {
     "data": {
      "application/vnd.jupyter.widget-view+json": {
       "model_id": "96ea8bf9c76745b1bcae28f531081d46",
       "version_major": 2,
       "version_minor": 0
      },
      "text/plain": [
       "HBox(children=(FloatProgress(value=0.0, max=14.0), HTML(value='')))"
      ]
     },
     "metadata": {},
     "output_type": "display_data"
    },
    {
     "name": "stdout",
     "output_type": "stream",
     "text": [
      "\n",
      "replace_zero_ordinal\n"
     ]
    },
    {
     "data": {
      "application/vnd.jupyter.widget-view+json": {
       "model_id": "c0d5bb57f80d4844a5f8180ad453e585",
       "version_major": 2,
       "version_minor": 0
      },
      "text/plain": [
       "HBox(children=(FloatProgress(value=0.0, max=3.0), HTML(value='')))"
      ]
     },
     "metadata": {},
     "output_type": "display_data"
    },
    {
     "name": "stdout",
     "output_type": "stream",
     "text": [
      "\n",
      "replace_ones_ordinal\n"
     ]
    },
    {
     "data": {
      "application/vnd.jupyter.widget-view+json": {
       "model_id": "f4a2a605d8f9480da6d41c273f55e528",
       "version_major": 2,
       "version_minor": 0
      },
      "text/plain": [
       "HBox(children=(FloatProgress(value=0.0, max=8.0), HTML(value='')))"
      ]
     },
     "metadata": {},
     "output_type": "display_data"
    },
    {
     "name": "stdout",
     "output_type": "stream",
     "text": [
      "\n",
      "replace_tens_ordinal\n"
     ]
    },
    {
     "data": {
      "application/vnd.jupyter.widget-view+json": {
       "model_id": "abe007b41bed4f4187d5de79bc3f098b",
       "version_major": 2,
       "version_minor": 0
      },
      "text/plain": [
       "HBox(children=(FloatProgress(value=0.0, max=10.0), HTML(value='')))"
      ]
     },
     "metadata": {},
     "output_type": "display_data"
    },
    {
     "name": "stdout",
     "output_type": "stream",
     "text": [
      "\n",
      "replace_dozens_cardinal\n"
     ]
    },
    {
     "data": {
      "application/vnd.jupyter.widget-view+json": {
       "model_id": "394a58f3c9424d0791a1fa5462c0b099",
       "version_major": 2,
       "version_minor": 0
      },
      "text/plain": [
       "HBox(children=(FloatProgress(value=0.0, max=8.0), HTML(value='')))"
      ]
     },
     "metadata": {},
     "output_type": "display_data"
    },
    {
     "name": "stdout",
     "output_type": "stream",
     "text": [
      "\n",
      "replace_dozens_ordinal\n"
     ]
    },
    {
     "data": {
      "application/vnd.jupyter.widget-view+json": {
       "model_id": "24b2a0486ac94417a6426be8a52c22fe",
       "version_major": 2,
       "version_minor": 0
      },
      "text/plain": [
       "HBox(children=(FloatProgress(value=0.0, max=8.0), HTML(value='')))"
      ]
     },
     "metadata": {},
     "output_type": "display_data"
    },
    {
     "name": "stdout",
     "output_type": "stream",
     "text": [
      "\n",
      "replace_onehundred_onethousand_cardinal\n",
      "replace_ten_hundredthousand_cardinal\n",
      "replace_one_million_cardinal\n",
      "replace_one_billion_cardinal\n",
      "replace_onehundred_onethousand_ordinal\n"
     ]
    },
    {
     "data": {
      "application/vnd.jupyter.widget-view+json": {
       "model_id": "f1b8408917d548acbb8fc9ad720d82c5",
       "version_major": 2,
       "version_minor": 0
      },
      "text/plain": [
       "HBox(children=(FloatProgress(value=0.0, max=3.0), HTML(value='')))"
      ]
     },
     "metadata": {},
     "output_type": "display_data"
    },
    {
     "name": "stdout",
     "output_type": "stream",
     "text": [
      "\n",
      "replace_ten_hundredthousand_ordinal\n"
     ]
    },
    {
     "data": {
      "application/vnd.jupyter.widget-view+json": {
       "model_id": "5b9154a5bcb2436fa45079a06bd9fb0a",
       "version_major": 2,
       "version_minor": 0
      },
      "text/plain": [
       "HBox(children=(FloatProgress(value=0.0, max=3.0), HTML(value='')))"
      ]
     },
     "metadata": {},
     "output_type": "display_data"
    },
    {
     "name": "stdout",
     "output_type": "stream",
     "text": [
      "\n",
      "replace_one_million_ordinal\n"
     ]
    },
    {
     "data": {
      "application/vnd.jupyter.widget-view+json": {
       "model_id": "a10831d5cbdf409691ac474ba94ba126",
       "version_major": 2,
       "version_minor": 0
      },
      "text/plain": [
       "HBox(children=(FloatProgress(value=0.0, max=3.0), HTML(value='')))"
      ]
     },
     "metadata": {},
     "output_type": "display_data"
    },
    {
     "name": "stdout",
     "output_type": "stream",
     "text": [
      "\n",
      "replace_one_billion_ordinal\n"
     ]
    },
    {
     "data": {
      "application/vnd.jupyter.widget-view+json": {
       "model_id": "ee260dcb63b14e03845b30173b72dadd",
       "version_major": 2,
       "version_minor": 0
      },
      "text/plain": [
       "HBox(children=(FloatProgress(value=0.0, max=3.0), HTML(value='')))"
      ]
     },
     "metadata": {},
     "output_type": "display_data"
    },
    {
     "name": "stdout",
     "output_type": "stream",
     "text": [
      "\n",
      "replace_hundred_bignos_cardinal\n"
     ]
    },
    {
     "data": {
      "application/vnd.jupyter.widget-view+json": {
       "model_id": "5062a097f38b4f0e9afe14a840a53556",
       "version_major": 2,
       "version_minor": 0
      },
      "text/plain": [
       "HBox(children=(FloatProgress(value=0.0, max=8.0), HTML(value='')))"
      ]
     },
     "metadata": {},
     "output_type": "display_data"
    },
    {
     "name": "stdout",
     "output_type": "stream",
     "text": [
      "\n",
      "replace_ten_bignos_cardinal\n"
     ]
    },
    {
     "data": {
      "application/vnd.jupyter.widget-view+json": {
       "model_id": "1a9b87a1e53645ceb1773a32fdbe85ce",
       "version_major": 2,
       "version_minor": 0
      },
      "text/plain": [
       "HBox(children=(FloatProgress(value=0.0, max=8.0), HTML(value='')))"
      ]
     },
     "metadata": {},
     "output_type": "display_data"
    },
    {
     "name": "stdout",
     "output_type": "stream",
     "text": [
      "\n",
      "replace_millions_cardinal\n"
     ]
    },
    {
     "data": {
      "application/vnd.jupyter.widget-view+json": {
       "model_id": "babb97f77c8f4e08beb3ff6e34a6ea3f",
       "version_major": 2,
       "version_minor": 0
      },
      "text/plain": [
       "HBox(children=(FloatProgress(value=0.0, max=8.0), HTML(value='')))"
      ]
     },
     "metadata": {},
     "output_type": "display_data"
    },
    {
     "name": "stdout",
     "output_type": "stream",
     "text": [
      "\n",
      "replace_billions_cardinal\n"
     ]
    },
    {
     "data": {
      "application/vnd.jupyter.widget-view+json": {
       "model_id": "111f1c9f6d0f49b9a2632ada5c4cd58f",
       "version_major": 2,
       "version_minor": 0
      },
      "text/plain": [
       "HBox(children=(FloatProgress(value=0.0, max=8.0), HTML(value='')))"
      ]
     },
     "metadata": {},
     "output_type": "display_data"
    },
    {
     "name": "stdout",
     "output_type": "stream",
     "text": [
      "\n",
      "replace_hundred_bignos_ordinal\n"
     ]
    },
    {
     "data": {
      "application/vnd.jupyter.widget-view+json": {
       "model_id": "de7b312e8f704c43abaf978cbddfd348",
       "version_major": 2,
       "version_minor": 0
      },
      "text/plain": [
       "HBox(children=(FloatProgress(value=0.0, max=8.0), HTML(value='')))"
      ]
     },
     "metadata": {},
     "output_type": "display_data"
    },
    {
     "name": "stdout",
     "output_type": "stream",
     "text": [
      "\n",
      "replace_ten_bignos_ordinal\n"
     ]
    },
    {
     "data": {
      "application/vnd.jupyter.widget-view+json": {
       "model_id": "6764717d84eb4d0c963f2a8a1bfc1e76",
       "version_major": 2,
       "version_minor": 0
      },
      "text/plain": [
       "HBox(children=(FloatProgress(value=0.0, max=8.0), HTML(value='')))"
      ]
     },
     "metadata": {},
     "output_type": "display_data"
    },
    {
     "name": "stdout",
     "output_type": "stream",
     "text": [
      "\n",
      "replace_millionsbillions_ordinal\n"
     ]
    },
    {
     "data": {
      "application/vnd.jupyter.widget-view+json": {
       "model_id": "6f51a1fb11b7423fb169a9549ca83a77",
       "version_major": 2,
       "version_minor": 0
      },
      "text/plain": [
       "HBox(children=(FloatProgress(value=0.0, max=8.0), HTML(value='')))"
      ]
     },
     "metadata": {},
     "output_type": "display_data"
    },
    {
     "name": "stdout",
     "output_type": "stream",
     "text": [
      "\n",
      "replace_ten_hundreds_thousands_cardinal\n"
     ]
    },
    {
     "data": {
      "application/vnd.jupyter.widget-view+json": {
       "model_id": "9b0f5059264f4e36ba968f45e72700c2",
       "version_major": 2,
       "version_minor": 0
      },
      "text/plain": [
       "HBox(children=(FloatProgress(value=0.0, max=9.0), HTML(value='')))"
      ]
     },
     "metadata": {},
     "output_type": "display_data"
    },
    {
     "name": "stdout",
     "output_type": "stream",
     "text": [
      "\n",
      "replace_ten_hundreds_thousands_ordinal\n"
     ]
    },
    {
     "data": {
      "application/vnd.jupyter.widget-view+json": {
       "model_id": "fadaad5e58d841bcbd59f8103ab8fee0",
       "version_major": 2,
       "version_minor": 0
      },
      "text/plain": [
       "HBox(children=(FloatProgress(value=0.0, max=9.0), HTML(value='')))"
      ]
     },
     "metadata": {},
     "output_type": "display_data"
    },
    {
     "name": "stdout",
     "output_type": "stream",
     "text": [
      "\n",
      "run done in 417.230021238327\n"
     ]
    }
   ],
   "source": [
    "run_numbers(df_sport_run, 'sport')"
   ]
  },
  {
   "cell_type": "code",
   "execution_count": null,
   "metadata": {},
   "outputs": [],
   "source": [
    "run_numbers(df_other_run, 'other')"
   ]
  },
  {
   "cell_type": "code",
   "execution_count": 22,
   "metadata": {},
   "outputs": [],
   "source": [
    "df_sport_clean = clean_df(df_sport_run)"
   ]
  },
  {
   "cell_type": "code",
   "execution_count": null,
   "metadata": {},
   "outputs": [],
   "source": [
    "df_other_clean = clean_df(df_other_run)"
   ]
  },
  {
   "cell_type": "markdown",
   "metadata": {},
   "source": [
    "## TIME"
   ]
  },
  {
   "cell_type": "code",
   "execution_count": 23,
   "metadata": {},
   "outputs": [],
   "source": [
    "def replace_zero_time(df):\n",
    "    print(\"replace_zero_time\")\n",
    "    df.loc[((df['word'].str.match(\"^0\\d[:\\.][0-5]\\d$\")) & (df['type'] == 'time')), 'hour_ten'] = ' núll'\n",
    "    df.loc[((df['word'].str.match(\"^00[:\\.][0-5]\\d$\")) & (df['type'] == 'time')), 'hour_one'] = ' núll'\n",
    "    df.loc[((df['word'].str.match(\"^([01]?[0-9]|2[0-4])[:\\.]0\\d$\")) & (df['type'] == 'time')), 'minute_ten'] = ' núll'\n",
    "    df.loc[((df['word'].str.match(\"^([01]?[0-9]|2[0-4])[:\\.]00$\")) & (df['type'] == 'time')), 'minute_one'] = ' núll'\n",
    "    \n",
    "ones_zip_time = [(' eitt', '1'), \n",
    "                     (' tvö', '2'), \n",
    "                     (' þrjú', '3'), \n",
    "                     (' fjögur', '4'),\n",
    "                     (' fimm', '5'),\n",
    "                     (' sex', '6'),\n",
    "                     (' sjö', '7'),\n",
    "                     (' átta', '8'),\n",
    "                     (' níu', '9')]\n",
    "\n",
    "def replace_ones_time(df):\n",
    "    print(\"replace_ones_time\")\n",
    "    for string, number in tqdm(ones_zip_time):\n",
    "        df.loc[((df['word'].str.match(\"^[02]?\" + number + \"[:\\.][0-5]\\d$\")) & (df['type'] == 'time')), 'hour_one'] = string\n",
    "        df.loc[((df['word'].str.match(\"^([01]?[0-9]|2[0-4])[:\\.][02-5]\" + number + \"$\")) & (df['type'] == 'time')), 'minute_one'] = string\n",
    "        df.loc[((df['sentbefore'].str.match(\"^[Kk]l\\.$\")) & (df['word'].str.match(\"^0\" + number + \"$\")) & (df['type'] == 'timedigit')), 'minute_one'] = \"núll \" + string\n",
    "        df.loc[((df['sent2before'].str.match(\"^[Kk]l$\")) & (df['sentbefore'].str.match(\"^:$\")) & (df['word'].str.match(\"^0\" + number + \"$\")) & (df['type'] == 'timedigit')), 'minute_one'] = \"núll \" + string\n",
    "    \n",
    "tens_zip_time = [(' tíu', '10'), \n",
    "            (' ellefu', '11'),\n",
    "            (' tólf', '12'),\n",
    "            (' þrettán', '13'), \n",
    "            (' fjórtán', '14'),\n",
    "            (' fimmtán', '15'),\n",
    "            (' sextán', '16'),\n",
    "            (' sautján', '17'),\n",
    "            (' átján', '18'),\n",
    "            (' nítján', '19'),\n",
    "            (' tuttugu', '20')]\n",
    "\n",
    "def replace_tens_time(df):\n",
    "    print(\"replace_tens_time\")\n",
    "    for string, number in tqdm(tens_zip_time):\n",
    "        df.loc[((df['word'].str.match(\"^\" + number + \"[:\\.][0-5]\\d$\")) & (df['type'] == 'time')), 'hour_ten'] = string\n",
    "        df.loc[((df['word'].str.match(\"^([01]?[0-9]|2[0-4])[:\\.]\" + number + \"$\")) & (df['type'] == 'time')), 'minute_ten'] = string\n",
    "\n",
    "\n",
    "def replace_hour_twenty_time(df):\n",
    "    print(\"replace_hour_twenty_time\")\n",
    "    for string, number in tqdm(tens_zip_time):\n",
    "        df.loc[((df['word'].str.match(\"^2[1-4][:\\.][0-5]\\d$\")) & (df['type'] == 'time')), 'hour_ten'] = \"tuttugu og\"\n",
    "\n",
    "dozens_zip_time = [(\" tuttugu\", \"2\"),\n",
    "           (\" þrjátíu\", \"3\"),\n",
    "           (\" fjörutíu\", \"4\"),\n",
    "           (\" fimmtíu\", \"5\")]\n",
    "\n",
    "def replace_minutes_tens_time(df):\n",
    "    print(\"replace_ones_time\")\n",
    "    for string, number in tqdm(dozens_zip_time):\n",
    "        df.loc[((df['word'].str.match(\"^([01]?\\d|2[0-4])[:\\.]\" + number + \"0$\")) & (df['type'] == 'time')), 'minute_ten'] = string\n",
    "        df.loc[((df['word'].str.match(\"^([01]?\\d|2[0-4])[:\\.]\" + number + \"[1-9]$\")) & (df['type'] == 'time')), 'minute_ten'] = string + \" og\"\n"
   ]
  },
  {
   "cell_type": "code",
   "execution_count": 24,
   "metadata": {},
   "outputs": [],
   "source": [
    "def run_time(df):\n",
    "    start = time.time()\n",
    "    replace_zero_time(df)\n",
    "    replace_ones_time(df)\n",
    "    replace_tens_time(df)\n",
    "    replace_hour_twenty_time(df)\n",
    "    replace_minutes_tens_time(df)\n",
    "    print(f\"run_time done in {time.time() - start}\")\n",
    "    \n",
    "def clean_df_time(df):\n",
    "    df = df.fillna(\"\")\n",
    "    df['number'] = df['number'] + df['hour_ten'] + df['hour_one'] + df['minute_ten'] + df['minute_one']\n",
    "    return df[['sentence_id', 'token_id', 'word', 'number', 'tag', 'type']]"
   ]
  },
  {
   "cell_type": "code",
   "execution_count": 27,
   "metadata": {},
   "outputs": [],
   "source": [
    "df_other_clean['sentbefore'] = [\"\"] + list(df_other_clean['word'][:-1])\n",
    "df_other_clean['sent2before'] = [\"\", \"\"] + list(df_other_clean['word'][:-2])"
   ]
  },
  {
   "cell_type": "code",
   "execution_count": 25,
   "metadata": {},
   "outputs": [],
   "source": [
    "df_sport_clean['sentbefore'] = [\"\"] + list(df_sport_clean['word'][:-1])\n",
    "df_sport_clean['sent2before'] = [\"\", \"\"] + list(df_sport_clean['word'][:-2])"
   ]
  },
  {
   "cell_type": "code",
   "execution_count": 175,
   "metadata": {},
   "outputs": [],
   "source": [
    "df_sample_clean['sentbefore'] = [\"\"] + list(df_sample_clean['word'][:-1])\n",
    "df_sample_clean['sent2before'] = [\"\", \"\"] + list(df_sample_clean['word'][:-2])"
   ]
  },
  {
   "cell_type": "code",
   "execution_count": 26,
   "metadata": {},
   "outputs": [
    {
     "name": "stdout",
     "output_type": "stream",
     "text": [
      "replace_zero_time\n",
      "replace_ones_time\n"
     ]
    },
    {
     "data": {
      "application/vnd.jupyter.widget-view+json": {
       "model_id": "3b6084a615074e7b87400b986aac847f",
       "version_major": 2,
       "version_minor": 0
      },
      "text/plain": [
       "HBox(children=(FloatProgress(value=0.0, max=9.0), HTML(value='')))"
      ]
     },
     "metadata": {},
     "output_type": "display_data"
    },
    {
     "name": "stdout",
     "output_type": "stream",
     "text": [
      "\n",
      "replace_tens_time\n"
     ]
    },
    {
     "data": {
      "application/vnd.jupyter.widget-view+json": {
       "model_id": "3ce47cd59e19411bb1f02881986e6609",
       "version_major": 2,
       "version_minor": 0
      },
      "text/plain": [
       "HBox(children=(FloatProgress(value=0.0, max=11.0), HTML(value='')))"
      ]
     },
     "metadata": {},
     "output_type": "display_data"
    },
    {
     "name": "stdout",
     "output_type": "stream",
     "text": [
      "\n",
      "replace_hour_twenty_time\n"
     ]
    },
    {
     "data": {
      "application/vnd.jupyter.widget-view+json": {
       "model_id": "9f0f3bfe1e9f4f1eb50bfff4432bb432",
       "version_major": 2,
       "version_minor": 0
      },
      "text/plain": [
       "HBox(children=(FloatProgress(value=0.0, max=11.0), HTML(value='')))"
      ]
     },
     "metadata": {},
     "output_type": "display_data"
    },
    {
     "name": "stdout",
     "output_type": "stream",
     "text": [
      "\n",
      "replace_ones_time\n"
     ]
    },
    {
     "data": {
      "application/vnd.jupyter.widget-view+json": {
       "model_id": "bbc37e0a5e9c4f9db4142c100b76fbf1",
       "version_major": 2,
       "version_minor": 0
      },
      "text/plain": [
       "HBox(children=(FloatProgress(value=0.0, max=4.0), HTML(value='')))"
      ]
     },
     "metadata": {},
     "output_type": "display_data"
    },
    {
     "name": "stdout",
     "output_type": "stream",
     "text": [
      "\n",
      "run_time done in 18.502429962158203\n"
     ]
    }
   ],
   "source": [
    "run_time(df_sport_clean)\n",
    "df_time_sport = clean_df_time(df_sport_clean)"
   ]
  },
  {
   "cell_type": "code",
   "execution_count": 28,
   "metadata": {
    "collapsed": true
   },
   "outputs": [
    {
     "name": "stdout",
     "output_type": "stream",
     "text": [
      "replace_zero_time\n",
      "replace_ones_time\n"
     ]
    },
    {
     "data": {
      "application/vnd.jupyter.widget-view+json": {
       "model_id": "b2268c82091a4bde9187ba4a2947bfef",
       "version_major": 2,
       "version_minor": 0
      },
      "text/plain": [
       "HBox(children=(FloatProgress(value=0.0, max=9.0), HTML(value='')))"
      ]
     },
     "metadata": {},
     "output_type": "display_data"
    },
    {
     "name": "stdout",
     "output_type": "stream",
     "text": [
      "\n",
      "replace_tens_time\n"
     ]
    },
    {
     "data": {
      "application/vnd.jupyter.widget-view+json": {
       "model_id": "ca302e9d413a4cfd9c0d7da88df2e302",
       "version_major": 2,
       "version_minor": 0
      },
      "text/plain": [
       "HBox(children=(FloatProgress(value=0.0, max=11.0), HTML(value='')))"
      ]
     },
     "metadata": {},
     "output_type": "display_data"
    },
    {
     "name": "stdout",
     "output_type": "stream",
     "text": [
      "\n",
      "replace_hour_twenty_time\n"
     ]
    },
    {
     "data": {
      "application/vnd.jupyter.widget-view+json": {
       "model_id": "8ae9f17668f04ddd8865d17a6789488d",
       "version_major": 2,
       "version_minor": 0
      },
      "text/plain": [
       "HBox(children=(FloatProgress(value=0.0, max=11.0), HTML(value='')))"
      ]
     },
     "metadata": {},
     "output_type": "display_data"
    },
    {
     "name": "stdout",
     "output_type": "stream",
     "text": [
      "\n",
      "replace_ones_time\n"
     ]
    },
    {
     "data": {
      "application/vnd.jupyter.widget-view+json": {
       "model_id": "e686a05e93b24b2991a709b53ebab336",
       "version_major": 2,
       "version_minor": 0
      },
      "text/plain": [
       "HBox(children=(FloatProgress(value=0.0, max=4.0), HTML(value='')))"
      ]
     },
     "metadata": {},
     "output_type": "display_data"
    },
    {
     "name": "stdout",
     "output_type": "stream",
     "text": [
      "\n",
      "run_time done in 941.632486820221\n"
     ]
    }
   ],
   "source": [
    "run_time(df_other_clean)\n",
    "df_time_other = clean_df_time(df_other_clean)"
   ]
  },
  {
   "cell_type": "markdown",
   "metadata": {},
   "source": [
    "## SPORT"
   ]
  },
  {
   "cell_type": "code",
   "execution_count": 27,
   "metadata": {},
   "outputs": [],
   "source": [
    "def replace_units_sport(df):\n",
    "    print(\"replace_units_sport\")\n",
    "    for rule, string, number in tqdm(ones_zip):\n",
    "        df.loc[((df['word'].str.match(\"^[1-9]?\" + number + \"\\/[1-9]\\d?$\")) & (df['tag'].str.match(rule))), 'first_team_one'] = string\n",
    "        df.loc[((df['word'].str.match(\"^[1-9]\\d?\\/[1-9]?\" + number + \"$\")) & (df['tag'].str.match(rule))), 'second_team_one'] = string\n",
    "        df.loc[((df['word'].str.match(\"^[1-9]\\d?\\/[1-9]?\" + number + \"$\")) & (df['tag'].str.match(rule))), 'second_team_one'] = string\n",
    "        \n",
    "def replace_units_sport_no_rule(df):\n",
    "    print(\"replace_units_sport_no_rule\")\n",
    "    for string, number in tqdm(dec_ones_neutral): \n",
    "        df.loc[((df['word'].str.match(\"^[1-9]?\" + number + \"\\/[1-9]\\d?$\")) & (df['tag'].str.match(\"^(\" + nonoun + \"|[nl]([kvh]e[noþe])?(\\-)*(g?s?|[svo]?[fme]?))$\"))), 'first_team_one'] = string\n",
    "        df.loc[((df['word'].str.match(\"^[1-9]\\d?\\/[1-9]?\" + number + \"$\")) & (df['tag'].str.match(\"^(\" + nonoun + \"|[nl]([kvh]e[noþe])?(\\-)*(g?s?|[svo]?[fme]?))$\"))), 'second_team_one'] = string\n",
    "        df.loc[((df['word'].str.match(\"^[1-9]\\d?\\/[1-9]?\" + number + \"$\")) & (df['tag'].str.match(\"^(\" + nonoun + \"|[nl]([kvh]e[noþe])?(\\-)*(g?s?|[svo]?[fme]?))$\"))), 'second_team_one'] = string\n",
    "          \n",
    "def replace_one_sport(df):\n",
    "    print(\"replace_one_sport\")\n",
    "    df.loc[((df['word'].str.match(\"^[1-9]?1\\/[1-9]\\d?$\")) & (df['tag'] == \"^(\" + nonoun + \"|[nl]([kvh]f[noþe])?(\\-)*(g?s?|[svo]?[fme]?)$\")), 'first_team_one'] = \" ein\"\n",
    "    df.loc[((df['word'].str.match(\"^[1-9]?1\\/[1-9]\\d?$\")) & (df['tag'] == \"^(\" + nonoun + \"|[nl]([kvh]f[noþe])?(\\-)*(g?s?|[svo]?[fme]?)$\")), 'first_team_one'] = \" eitt\"        \n",
    "\n",
    "def replace_other_ones_sport(df):\n",
    "    print(\"replace_other_ones_sport\")\n",
    "    for string, number in tqdm(other_numbers_zip):\n",
    "        df.loc[(df['word'].str.match(\"^[1-9]?\" + number + \"\\/[1-9]\\d?$\")), 'first_team_one'] = string\n",
    "        df.loc[(df['word'].str.match(\"^[1-9]\\d?\\/[1-9]?\" + number + \"$\")), 'second_team_one'] = string\n",
    "        \n",
    "def replace_tens_sport(df):\n",
    "    print(\"replace_tens_sport\")\n",
    "    for string, number in tqdm(tens_zip):\n",
    "        df.loc[(df['word'].str.match(\"^\" + number + \"\\/[1-9]\\d?$\")), 'first_team_one'] = string\n",
    "        df.loc[(df['word'].str.match(\"^[1-9]\\d?\\/\" + number)), 'second_team_one'] = string\n",
    "\n",
    "def replace_dozens_sport(df):\n",
    "    print(\"replace_dozens_sport\")\n",
    "    for string, number in tqdm(dozens_zip):\n",
    "        df.loc[(df['word'].str.match(\"^\" + number + \"0\\/[1-9]\\d?$\")), 'first_team_ten'] = string\n",
    "        df.loc[(df['word'].str.match(\"^[1-9]\\d?\\/\" + number + \"0$\")), 'second_team_ten'] = string\n",
    "        df.loc[(df['word'].str.match(\"^\" + number + \"[1-9]\\/[1-9]\\d?$\")), 'first_team_ten'] = string + \" og\"\n",
    "        df.loc[(df['word'].str.match(\"^[1-9]\\d?\\/\" + number + \"[1-9]$\")), 'second_team_ten'] = string + \" og\"\n",
    "        \n",
    "def replace_between_sport(df):\n",
    "    print(\"replace_between_sport\")\n",
    "    df.loc[(df['word'].str.match(\"^[1-9]\\d?\\/[1-9]?\\d$\")), 'between_teams'] = \" <sil>\""
   ]
  },
  {
   "cell_type": "code",
   "execution_count": 28,
   "metadata": {},
   "outputs": [],
   "source": [
    "def run_sport(df):\n",
    "    start = time.time()\n",
    "    replace_units_sport(df)\n",
    "    replace_one_sport(df)\n",
    "    replace_units_sport_no_rule(df)\n",
    "    replace_other_ones_sport(df)\n",
    "    replace_tens_sport(df)\n",
    "    replace_dozens_sport(df)\n",
    "    replace_between_sport(df)\n",
    "    replace_half_fraction(df)\n",
    "    print(f\"run_sport done in {time.time() - start}\")\n",
    "    \n",
    "def clean_df_sport(df):\n",
    "    df = df.fillna(\"\")\n",
    "    df['number'] = df['number'] + df['first_team_ten'] + df['first_team_one'] + df['between_teams'] + \\\n",
    "                   df['second_team_ten'] + df['second_team_one']\n",
    "    \n",
    "    return df[['sentence_id', 'token_id', 'word', 'number', 'tag', 'type']]\n",
    "    "
   ]
  },
  {
   "cell_type": "code",
   "execution_count": 29,
   "metadata": {},
   "outputs": [
    {
     "name": "stdout",
     "output_type": "stream",
     "text": [
      "replace_units_sport\n"
     ]
    },
    {
     "data": {
      "application/vnd.jupyter.widget-view+json": {
       "model_id": "3a19284b94d94bad8328c87056c64aea",
       "version_major": 2,
       "version_minor": 0
      },
      "text/plain": [
       "HBox(children=(FloatProgress(value=0.0, max=27.0), HTML(value='')))"
      ]
     },
     "metadata": {},
     "output_type": "display_data"
    },
    {
     "name": "stdout",
     "output_type": "stream",
     "text": [
      "\n",
      "replace_one_sport\n",
      "replace_units_sport_no_rule\n"
     ]
    },
    {
     "data": {
      "application/vnd.jupyter.widget-view+json": {
       "model_id": "4fbe82945ad1422cb8cc456b9d995d47",
       "version_major": 2,
       "version_minor": 0
      },
      "text/plain": [
       "HBox(children=(FloatProgress(value=0.0, max=4.0), HTML(value='')))"
      ]
     },
     "metadata": {},
     "output_type": "display_data"
    },
    {
     "name": "stdout",
     "output_type": "stream",
     "text": [
      "\n",
      "replace_other_ones_sport\n"
     ]
    },
    {
     "data": {
      "application/vnd.jupyter.widget-view+json": {
       "model_id": "a531fae4bb694070af6b5904b88dff35",
       "version_major": 2,
       "version_minor": 0
      },
      "text/plain": [
       "HBox(children=(FloatProgress(value=0.0, max=5.0), HTML(value='')))"
      ]
     },
     "metadata": {},
     "output_type": "display_data"
    },
    {
     "name": "stdout",
     "output_type": "stream",
     "text": [
      "\n",
      "replace_tens_sport\n"
     ]
    },
    {
     "data": {
      "application/vnd.jupyter.widget-view+json": {
       "model_id": "1ba684c4376849ee966d2293fb794d7c",
       "version_major": 2,
       "version_minor": 0
      },
      "text/plain": [
       "HBox(children=(FloatProgress(value=0.0, max=10.0), HTML(value='')))"
      ]
     },
     "metadata": {},
     "output_type": "display_data"
    },
    {
     "name": "stdout",
     "output_type": "stream",
     "text": [
      "\n",
      "replace_dozens_sport\n"
     ]
    },
    {
     "data": {
      "application/vnd.jupyter.widget-view+json": {
       "model_id": "58c4f573da104d919866a02fea077d73",
       "version_major": 2,
       "version_minor": 0
      },
      "text/plain": [
       "HBox(children=(FloatProgress(value=0.0, max=8.0), HTML(value='')))"
      ]
     },
     "metadata": {},
     "output_type": "display_data"
    },
    {
     "name": "stdout",
     "output_type": "stream",
     "text": [
      "\n",
      "replace_between_sport\n",
      "replace_half_fraction\n"
     ]
    },
    {
     "data": {
      "application/vnd.jupyter.widget-view+json": {
       "model_id": "10a98bde134d45ac9049c67b85a267fa",
       "version_major": 2,
       "version_minor": 0
      },
      "text/plain": [
       "HBox(children=(FloatProgress(value=0.0, max=12.0), HTML(value='')))"
      ]
     },
     "metadata": {},
     "output_type": "display_data"
    },
    {
     "name": "stdout",
     "output_type": "stream",
     "text": [
      "\n",
      "run_sport done in 68.86919212341309\n"
     ]
    }
   ],
   "source": [
    "run_sport(df_time_sport)\n",
    "df_sport_sport = clean_df_sport(df_time_sport)"
   ]
  },
  {
   "cell_type": "markdown",
   "metadata": {},
   "source": [
    "## DIGIT"
   ]
  },
  {
   "cell_type": "code",
   "execution_count": 30,
   "metadata": {},
   "outputs": [],
   "source": [
    "digit_numbers = [('0', ' núll'),\n",
    "                 ('1', ' einn'),\n",
    "                 ('2', ' tveir'),\n",
    "                 ('3', ' þrír'),\n",
    "                 ('4', ' fjórir'),\n",
    "                 ('5', ' fimm'),\n",
    "                 ('6', ' sex'),\n",
    "                 ('7', ' sjö'),\n",
    "                 ('8', ' átta'),\n",
    "                 ('9', ' níu'),\n",
    "                 ('\\-', ' <sil>'),\n",
    "                 ('\\+', ' plús'),\n",
    "                 ('\\.', ' punktur'),\n",
    "                 (':', ' tvípunktur'),\n",
    "                 (',', ' komma'),\n",
    "                 ('\\/', ' skástrik')]\n",
    "\n",
    "def digit_fun(substr):\n",
    "    substr = re.sub(\" \", \"<sil> \", substr)\n",
    "    for digit, word in digit_numbers:\n",
    "        substr = re.sub(digit, word, substr)\n",
    "    return substr"
   ]
  },
  {
   "cell_type": "code",
   "execution_count": 31,
   "metadata": {},
   "outputs": [],
   "source": [
    "def replace_digits(df):\n",
    "    start = time.time()\n",
    "    for i in tqdm(range(len(df))):\n",
    "        if df['type'].iloc[i] == 'digit' or (df['type'].iloc[i] == 'timedigit' and df['number'].iloc[i] == \"\"):\n",
    "            df['number'].iloc[i] = digit_fun(df['word'].iloc[i])\n",
    "    print(f\"replace_digits done in {time.time() - start}\")"
   ]
  },
  {
   "cell_type": "code",
   "execution_count": 32,
   "metadata": {},
   "outputs": [
    {
     "data": {
      "application/vnd.jupyter.widget-view+json": {
       "model_id": "783c8e4ea658478da8ff9978ebca4b0b",
       "version_major": 2,
       "version_minor": 0
      },
      "text/plain": [
       "HBox(children=(FloatProgress(value=0.0, max=13512.0), HTML(value='')))"
      ]
     },
     "metadata": {},
     "output_type": "display_data"
    },
    {
     "name": "stdout",
     "output_type": "stream",
     "text": [
      "\n",
      "replace_digits done in 0.3570671081542969\n"
     ]
    }
   ],
   "source": [
    "replace_digits(df_sport_sport)\n",
    "df_digit_sport = df_sport_sport"
   ]
  },
  {
   "cell_type": "code",
   "execution_count": 36,
   "metadata": {},
   "outputs": [
    {
     "data": {
      "application/vnd.jupyter.widget-view+json": {
       "model_id": "5eab5b53924942acaf737b72424c45cc",
       "version_major": 2,
       "version_minor": 0
      },
      "text/plain": [
       "HBox(children=(FloatProgress(value=0.0, max=738684.0), HTML(value='')))"
      ]
     },
     "metadata": {},
     "output_type": "display_data"
    },
    {
     "name": "stdout",
     "output_type": "stream",
     "text": [
      "\n",
      "replace_digits done in 15.56499695777893\n"
     ]
    }
   ],
   "source": [
    "replace_digits(df_time_other)\n",
    "df_digit_other = df_time_other"
   ]
  },
  {
   "cell_type": "code",
   "execution_count": 178,
   "metadata": {},
   "outputs": [
    {
     "data": {
      "application/vnd.jupyter.widget-view+json": {
       "model_id": "ef76048b0424480787e88b19b865502e",
       "version_major": 2,
       "version_minor": 0
      },
      "text/plain": [
       "HBox(children=(FloatProgress(value=0.0, max=97.0), HTML(value='')))"
      ]
     },
     "metadata": {},
     "output_type": "display_data"
    },
    {
     "name": "stdout",
     "output_type": "stream",
     "text": [
      "\n",
      "replace_digits done in 0.022760868072509766\n"
     ]
    }
   ],
   "source": [
    "replace_digits(df_time_sample)"
   ]
  },
  {
   "cell_type": "code",
   "execution_count": 33,
   "metadata": {},
   "outputs": [],
   "source": [
    "digit_numbers_ord = [('0', 'núllta'),\n",
    "                 ('1', 'fyrsta'),\n",
    "                 ('2', 'annan'),\n",
    "                 ('3', 'þriðja'),\n",
    "                 ('4', 'fjórða'),\n",
    "                 ('5', 'fimmta'),\n",
    "                 ('6', 'sjötta'),\n",
    "                 ('7', 'sjöunda'),\n",
    "                 ('8', 'áttunda'),\n",
    "                 ('9', 'níunda')]\n",
    "\n",
    "def replace_digits_ord(df):\n",
    "    start = time.time()\n",
    "    for number, string in tqdm(digit_numbers_ord):\n",
    "        df.loc[((df['word'].str.match(\"^0\" + number + \"\\.$\")) & (df['type'] == 'digitzero')), 'number'] = \"núll \" + string\n",
    "    print(f\"replace_digits_ord done in {time.time() - start}\")"
   ]
  },
  {
   "cell_type": "code",
   "execution_count": 34,
   "metadata": {},
   "outputs": [
    {
     "data": {
      "application/vnd.jupyter.widget-view+json": {
       "model_id": "3dc46a81ec9349ccb3d4af5df28db46d",
       "version_major": 2,
       "version_minor": 0
      },
      "text/plain": [
       "HBox(children=(FloatProgress(value=0.0, max=10.0), HTML(value='')))"
      ]
     },
     "metadata": {},
     "output_type": "display_data"
    },
    {
     "name": "stdout",
     "output_type": "stream",
     "text": [
      "\n",
      "replace_digits_ord done in 2.466248035430908\n"
     ]
    }
   ],
   "source": [
    "replace_digits_ord(df_digit_sport)\n",
    "df_digitzero_sport = df_digit_sport"
   ]
  },
  {
   "cell_type": "code",
   "execution_count": 40,
   "metadata": {},
   "outputs": [
    {
     "data": {
      "application/vnd.jupyter.widget-view+json": {
       "model_id": "928ec0e7ad6241f89637aacdd605be1c",
       "version_major": 2,
       "version_minor": 0
      },
      "text/plain": [
       "HBox(children=(FloatProgress(value=0.0, max=10.0), HTML(value='')))"
      ]
     },
     "metadata": {},
     "output_type": "display_data"
    },
    {
     "name": "stdout",
     "output_type": "stream",
     "text": [
      "\n",
      "replace_digits_ord done in 119.8602499961853\n"
     ]
    }
   ],
   "source": [
    "replace_digits_ord(df_digit_other)\n",
    "df_digitzero_other = df_digit_other"
   ]
  },
  {
   "cell_type": "code",
   "execution_count": 179,
   "metadata": {},
   "outputs": [
    {
     "data": {
      "application/vnd.jupyter.widget-view+json": {
       "model_id": "5288549546754f198e7095675efb4715",
       "version_major": 2,
       "version_minor": 0
      },
      "text/plain": [
       "HBox(children=(FloatProgress(value=0.0, max=10.0), HTML(value='')))"
      ]
     },
     "metadata": {},
     "output_type": "display_data"
    },
    {
     "name": "stdout",
     "output_type": "stream",
     "text": [
      "\n",
      "replace_digits_ord done in 0.0493779182434082\n"
     ]
    }
   ],
   "source": [
    "replace_digits_ord(df_time_sample)"
   ]
  },
  {
   "cell_type": "markdown",
   "metadata": {},
   "source": [
    "### LETTERS"
   ]
  },
  {
   "cell_type": "code",
   "execution_count": 35,
   "metadata": {},
   "outputs": [],
   "source": [
    "def replace_letters(df):\n",
    "    start = time.time()\n",
    "    for i in tqdm(range(len(df))):\n",
    "        if df['type'].iloc[i] == 'letters':\n",
    "            df['number'].iloc[i] = \" \".join(df['word'].iloc[i].replace(\".\", \"\"))\n",
    "    print(f\"replace_letters done in {time.time() - start}\")"
   ]
  },
  {
   "cell_type": "code",
   "execution_count": 36,
   "metadata": {},
   "outputs": [
    {
     "data": {
      "application/vnd.jupyter.widget-view+json": {
       "model_id": "68f200f44a50412b8a357c9dea4eba57",
       "version_major": 2,
       "version_minor": 0
      },
      "text/plain": [
       "HBox(children=(FloatProgress(value=0.0, max=13512.0), HTML(value='')))"
      ]
     },
     "metadata": {},
     "output_type": "display_data"
    },
    {
     "name": "stdout",
     "output_type": "stream",
     "text": [
      "\n",
      "replace_letters done in 0.21475720405578613\n"
     ]
    }
   ],
   "source": [
    "replace_letters(df_sport_sport)\n",
    "df_letters_sport = df_digitzero_sport"
   ]
  },
  {
   "cell_type": "code",
   "execution_count": 43,
   "metadata": {},
   "outputs": [
    {
     "data": {
      "application/vnd.jupyter.widget-view+json": {
       "model_id": "15a38aad35134e1cafde5a023e2c8eb7",
       "version_major": 2,
       "version_minor": 0
      },
      "text/plain": [
       "HBox(children=(FloatProgress(value=0.0, max=738684.0), HTML(value='')))"
      ]
     },
     "metadata": {},
     "output_type": "display_data"
    },
    {
     "name": "stdout",
     "output_type": "stream",
     "text": [
      "\n",
      "replace_letters done in 30.062265157699585\n"
     ]
    }
   ],
   "source": [
    "replace_letters(df_digitzero_other)\n",
    "df_letters_other = df_digitzero_other"
   ]
  },
  {
   "cell_type": "code",
   "execution_count": 180,
   "metadata": {},
   "outputs": [
    {
     "data": {
      "application/vnd.jupyter.widget-view+json": {
       "model_id": "125c7b9be1304e7e936bdcec919dca08",
       "version_major": 2,
       "version_minor": 0
      },
      "text/plain": [
       "HBox(children=(FloatProgress(value=0.0, max=97.0), HTML(value='')))"
      ]
     },
     "metadata": {},
     "output_type": "display_data"
    },
    {
     "name": "stdout",
     "output_type": "stream",
     "text": [
      "\n",
      "replace_letters done in 0.021661996841430664\n"
     ]
    }
   ],
   "source": [
    "replace_letters(df_time_sample)"
   ]
  },
  {
   "cell_type": "markdown",
   "metadata": {},
   "source": [
    "### PLAIN"
   ]
  },
  {
   "cell_type": "code",
   "execution_count": 37,
   "metadata": {},
   "outputs": [],
   "source": [
    "def replace_plain(df):\n",
    "    start = time.time()\n",
    "    for i in tqdm(range(len(df))):\n",
    "        if df['number'].iloc[i] == '':\n",
    "            df['number'].iloc[i] = df['word'].iloc[i]\n",
    "    print(f\"replace_plain done in {time.time() - start}\")"
   ]
  },
  {
   "cell_type": "code",
   "execution_count": 74,
   "metadata": {},
   "outputs": [
    {
     "data": {
      "application/vnd.jupyter.widget-view+json": {
       "model_id": "1a878ba781a7466eb2c6ed53b9a45bd1",
       "version_major": 2,
       "version_minor": 0
      },
      "text/plain": [
       "HBox(children=(FloatProgress(value=0.0, max=13512.0), HTML(value='')))"
      ]
     },
     "metadata": {},
     "output_type": "display_data"
    },
    {
     "name": "stdout",
     "output_type": "stream",
     "text": [
      "\n",
      "replace_plain done in 0.3638758659362793\n"
     ]
    }
   ],
   "source": [
    "replace_plain(df_letters_sport)\n",
    "df_plain_sport = df_letters_sport\n",
    "df_plain_sport['sentafter'] = list(df_plain_sport['word'][1:]) + [\"\"]\n",
    "df_plain_sport['sentbefore'] = [\"\"] + list(df_plain_sport['word'][:-1])"
   ]
  },
  {
   "cell_type": "code",
   "execution_count": 47,
   "metadata": {},
   "outputs": [
    {
     "data": {
      "application/vnd.jupyter.widget-view+json": {
       "model_id": "ba16dd65ca3f4fe4a7cf119999030edb",
       "version_major": 2,
       "version_minor": 0
      },
      "text/plain": [
       "HBox(children=(FloatProgress(value=0.0, max=738684.0), HTML(value='')))"
      ]
     },
     "metadata": {},
     "output_type": "display_data"
    },
    {
     "name": "stdout",
     "output_type": "stream",
     "text": [
      "\n",
      "replace_plain done in 2554.0069308280945\n"
     ]
    }
   ],
   "source": [
    "replace_plain(df_letters_other)"
   ]
  },
  {
   "cell_type": "code",
   "execution_count": 68,
   "metadata": {},
   "outputs": [],
   "source": [
    "df_plain_other = df_letters_other\n",
    "df_plain_other['sentafter'] = list(df_plain_other['word'][1:]) + [\"\"]\n",
    "df_plain_other['sentbefore'] = [\"\"] + list(df_plain_other['word'][:-1])"
   ]
  },
  {
   "cell_type": "code",
   "execution_count": 42,
   "metadata": {},
   "outputs": [],
   "source": [
    "def replace_symbols(df, domain):\n",
    "    start = time.time()\n",
    "    if domain == 'other':\n",
    "        df.loc[((df['sentbefore'].str.match(all_numbers_ptrn)) & (df['sentafter'].str.match(all_numbers_ptrn)) & (df['word'].str.match(\"^(-|–)$\"))), 'number'] = \"til\"\n",
    "    elif domain == 'sport':\n",
    "        df.loc[((df['sentbefore'].str.match(\"^((\\d{1,2}(\\.\\d{3})+)|\\d+)$\")) & (df['sentafter'].str.match(\"^((\\d{1,2}(\\.\\d{3})+)|\\d+)$\")) & (df['word'].str.match(\"^(-|–|:)$\"))), 'number'] = \"\"\n",
    "    df.loc[(df['word'] == \"&\"), 'number'] = \"og\"\n",
    "    df.loc[(df['word'] == \"/\"), 'number'] = \"skástrik\"\n",
    "    df.loc[(df['word'] == \"+\"), 'number'] = \"plús\"\n",
    "    df.loc[(df['word'] == \"=\"), 'number'] = \"jafnt og\"\n",
    "    df.loc[(df['word'] == \"≠\"), 'number'] = \"ekki jafnt og\"\n",
    "    df.loc[(df['word'] == \"ε\"), 'number'] = \"epsilon\"\n",
    "    df.loc[(df['word'].str.match(r\"^\\±|\\∓$\")), 'number'] = \"plús mínus\"\n",
    "    df.loc[(df['word'].str.match(r\"^\\~|\\≈$\")), 'number'] = \"um það bil\"\n",
    "    df.loc[(df['word'] == \"→\"), 'number'] = \"þar af leiðandi\"\n",
    "    df.loc[(df['word'] == \"≡\"), 'number'] = \"skilgreint sem\"\n",
    "    df.loc[(df['word'] == \"<\"), 'number'] = \"minna en\"\n",
    "    df.loc[(df['word'] == \">\"), 'number'] = \"stærra en\"\n",
    "    df.loc[(df['word'] == \"≤\"), 'number'] = \"minna en eða jafnt og\"\n",
    "    df.loc[(df['word'] == \"≥\"), 'number'] = \"stærra en eða jafnt og\"\n",
    "    df.loc[(df['word'] == \"∞\"), 'number'] = \"óendanlegt\"\n",
    "    df.loc[(df['word'] == \"°\"), 'number'] = \"gráður\"\n",
    "    print(f\"replace_symbols done in {time.time() - start}\")\n",
    "    \n",
    "def replace_greek_letters(df):\n",
    "    start = time.time()\n",
    "    df.loc[(df['word'].str.match(r\"^(Α|α)$\")), 'number'] = \"alfa\"\n",
    "    df.loc[(df['word'].str.match(r\"^(Β|β)$\")), 'number'] = \"beta\"\n",
    "    df.loc[(df['word'].str.match(r\"^(Γ|γ)$\")), 'number'] = \"gamma\"\n",
    "    df.loc[(df['word'].str.match(r\"^(Δ|δ)$\")), 'number'] = \"delta\"\n",
    "    df.loc[(df['word'].str.match(r\"^(Ε|ε)$\")), 'number'] = \"epsilon\"\n",
    "    df.loc[(df['word'].str.match(r\"^(Ζ|ζ)$\")), 'number'] = \"zeta\"\n",
    "    df.loc[(df['word'].str.match(r\"^(Η|η)$\")), 'number'] = \"eta\"\n",
    "    df.loc[(df['word'].str.match(r\"^(Θ|θ)$\")), 'number'] = \"þeta\"\n",
    "    df.loc[(df['word'].str.match(r\"^(Ι|ι)$\")), 'number'] =  \"jóta\"\n",
    "    df.loc[(df['word'].str.match(r\"^(Κ|κ)$\")), 'number'] = \"kappa\"\n",
    "    df.loc[(df['word'].str.match(r\"^(Λ|λ)$\")), 'number'] = \"lambda\"\n",
    "    df.loc[(df['word'].str.match(r\"^(Μ|μ)$\")), 'number'] = \"mý\"\n",
    "    df.loc[(df['word'].str.match(r\"^(Ν|ν)$\")), 'number'] = \"ný\"\n",
    "    df.loc[(df['word'].str.match(r\"^(Ξ|ξ)$\")), 'number'] = \"xí\"\n",
    "    df.loc[(df['word'].str.match(r\"^(Ο|ο)$\")), 'number'] = \"ómíkrón\"\n",
    "    df.loc[(df['word'].str.match(r\"^(Π π)$\")), 'number'] = \"pí\"\n",
    "    df.loc[(df['word'].str.match(r\"^(Ρ|ρ)$\")), 'number'] = \"hró\"\n",
    "    df.loc[(df['word'].str.match(r\"^(Σ|σ)$\")), 'number'] = \"sigma\"\n",
    "    df.loc[(df['word'].str.match(r\"^(Τ|τ)$\")), 'number'] = \"tá\"\n",
    "    df.loc[(df['word'].str.match(r\"^(Υ|υ)$\")), 'number'] = \"upsílon\"\n",
    "    df.loc[(df['word'].str.match(r\"^(Φ|φ)$\")), 'number'] = \"fí\"\n",
    "    df.loc[(df['word'].str.match(r\"^(Χ|χ)$\")), 'number'] = \"kí\"\n",
    "    df.loc[(df['word'].str.match(r\"^(Ψ|ψ)$\")), 'number'] = \"psí\"\n",
    "    df.loc[(df['word'].str.match(r\"^(Ω|ω)$\")), 'number'] = \"ómega\"\n",
    "    print(f\"replace_greek_letters done in {time.time() - start}\")\n"
   ]
  },
  {
   "cell_type": "code",
   "execution_count": 77,
   "metadata": {},
   "outputs": [
    {
     "name": "stdout",
     "output_type": "stream",
     "text": [
      "replace_symbols done in 3.4470958709716797\n",
      "replace_greek_letters done in 4.970217943191528\n"
     ]
    }
   ],
   "source": [
    "replace_symbols(df_plain_sport, 'sport')\n",
    "replace_greek_letters(df_plain_sport)"
   ]
  },
  {
   "cell_type": "code",
   "execution_count": 80,
   "metadata": {},
   "outputs": [],
   "source": [
    "sport_number = list(df_plain_sport['number'])\n",
    "sport_tag = [\"\"] + list(df_plain_sport['tag'][:-1])\n",
    "df_sport_save = pd.DataFrame(list(zip(sport_number, sport_tag)), columns=[\"word\", \"tag\"])"
   ]
  },
  {
   "cell_type": "code",
   "execution_count": 82,
   "metadata": {},
   "outputs": [],
   "source": [
    "df_sport_save.to_csv(\"output_normalization.csv\")"
   ]
  },
  {
   "cell_type": "code",
   "execution_count": 99,
   "metadata": {},
   "outputs": [
    {
     "name": "stdout",
     "output_type": "stream",
     "text": [
      "replace_symbols done in 184.33853673934937\n",
      "replace_greek_letters done in 256.29939913749695\n"
     ]
    }
   ],
   "source": [
    "replace_symbols(df_plain_csv, 'other')\n",
    "replace_greek_letters(df_plain_csv)"
   ]
  }
 ],
 "metadata": {
  "kernelspec": {
   "display_name": "Python 3",
   "language": "python",
   "name": "python3"
  },
  "language_info": {
   "codemirror_mode": {
    "name": "ipython",
    "version": 3
   },
   "file_extension": ".py",
   "mimetype": "text/x-python",
   "name": "python",
   "nbconvert_exporter": "python",
   "pygments_lexer": "ipython3",
   "version": "3.7.7"
  }
 },
 "nbformat": 4,
 "nbformat_minor": 4
}
