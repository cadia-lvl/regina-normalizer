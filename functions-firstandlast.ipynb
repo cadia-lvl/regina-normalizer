{
 "cells": [
  {
   "cell_type": "code",
   "execution_count": 1,
   "metadata": {
    "collapsed": true
   },
   "outputs": [
    {
     "name": "stderr",
     "output_type": "stream",
     "text": [
      "/Users/starspace/anaconda3/lib/python3.7/site-packages/tensorflow/python/framework/dtypes.py:516: FutureWarning: Passing (type, 1) or '1type' as a synonym of type is deprecated; in a future version of numpy, it will be understood as (type, (1,)) / '(1,)type'.\n",
      "  _np_qint8 = np.dtype([(\"qint8\", np.int8, 1)])\n",
      "/Users/starspace/anaconda3/lib/python3.7/site-packages/tensorflow/python/framework/dtypes.py:517: FutureWarning: Passing (type, 1) or '1type' as a synonym of type is deprecated; in a future version of numpy, it will be understood as (type, (1,)) / '(1,)type'.\n",
      "  _np_quint8 = np.dtype([(\"quint8\", np.uint8, 1)])\n",
      "/Users/starspace/anaconda3/lib/python3.7/site-packages/tensorflow/python/framework/dtypes.py:518: FutureWarning: Passing (type, 1) or '1type' as a synonym of type is deprecated; in a future version of numpy, it will be understood as (type, (1,)) / '(1,)type'.\n",
      "  _np_qint16 = np.dtype([(\"qint16\", np.int16, 1)])\n",
      "/Users/starspace/anaconda3/lib/python3.7/site-packages/tensorflow/python/framework/dtypes.py:519: FutureWarning: Passing (type, 1) or '1type' as a synonym of type is deprecated; in a future version of numpy, it will be understood as (type, (1,)) / '(1,)type'.\n",
      "  _np_quint16 = np.dtype([(\"quint16\", np.uint16, 1)])\n",
      "/Users/starspace/anaconda3/lib/python3.7/site-packages/tensorflow/python/framework/dtypes.py:520: FutureWarning: Passing (type, 1) or '1type' as a synonym of type is deprecated; in a future version of numpy, it will be understood as (type, (1,)) / '(1,)type'.\n",
      "  _np_qint32 = np.dtype([(\"qint32\", np.int32, 1)])\n",
      "/Users/starspace/anaconda3/lib/python3.7/site-packages/tensorflow/python/framework/dtypes.py:525: FutureWarning: Passing (type, 1) or '1type' as a synonym of type is deprecated; in a future version of numpy, it will be understood as (type, (1,)) / '(1,)type'.\n",
      "  np_resource = np.dtype([(\"resource\", np.ubyte, 1)])\n",
      "/Users/starspace/anaconda3/lib/python3.7/site-packages/tensorboard/compat/tensorflow_stub/dtypes.py:541: FutureWarning: Passing (type, 1) or '1type' as a synonym of type is deprecated; in a future version of numpy, it will be understood as (type, (1,)) / '(1,)type'.\n",
      "  _np_qint8 = np.dtype([(\"qint8\", np.int8, 1)])\n",
      "/Users/starspace/anaconda3/lib/python3.7/site-packages/tensorboard/compat/tensorflow_stub/dtypes.py:542: FutureWarning: Passing (type, 1) or '1type' as a synonym of type is deprecated; in a future version of numpy, it will be understood as (type, (1,)) / '(1,)type'.\n",
      "  _np_quint8 = np.dtype([(\"quint8\", np.uint8, 1)])\n",
      "/Users/starspace/anaconda3/lib/python3.7/site-packages/tensorboard/compat/tensorflow_stub/dtypes.py:543: FutureWarning: Passing (type, 1) or '1type' as a synonym of type is deprecated; in a future version of numpy, it will be understood as (type, (1,)) / '(1,)type'.\n",
      "  _np_qint16 = np.dtype([(\"qint16\", np.int16, 1)])\n",
      "/Users/starspace/anaconda3/lib/python3.7/site-packages/tensorboard/compat/tensorflow_stub/dtypes.py:544: FutureWarning: Passing (type, 1) or '1type' as a synonym of type is deprecated; in a future version of numpy, it will be understood as (type, (1,)) / '(1,)type'.\n",
      "  _np_quint16 = np.dtype([(\"quint16\", np.uint16, 1)])\n",
      "/Users/starspace/anaconda3/lib/python3.7/site-packages/tensorboard/compat/tensorflow_stub/dtypes.py:545: FutureWarning: Passing (type, 1) or '1type' as a synonym of type is deprecated; in a future version of numpy, it will be understood as (type, (1,)) / '(1,)type'.\n",
      "  _np_qint32 = np.dtype([(\"qint32\", np.int32, 1)])\n",
      "/Users/starspace/anaconda3/lib/python3.7/site-packages/tensorboard/compat/tensorflow_stub/dtypes.py:550: FutureWarning: Passing (type, 1) or '1type' as a synonym of type is deprecated; in a future version of numpy, it will be understood as (type, (1,)) / '(1,)type'.\n",
      "  np_resource = np.dtype([(\"resource\", np.ubyte, 1)])\n",
      "/Users/starspace/.local/lib/python3.7/site-packages/tqdm/std.py:668: FutureWarning: The Panel class is removed from pandas. Accessing it from the top-level namespace will also be removed in the next version\n",
      "  from pandas import Panel\n"
     ]
    }
   ],
   "source": [
    "import pandas as pd\n",
    "pd.set_option('display.max_rows', None)\n",
    "import re\n",
    "from tokenizer import split_into_sentences\n",
    "import pos\n",
    "import time\n",
    "from tqdm.auto import tqdm\n",
    "tqdm.pandas()"
   ]
  },
  {
   "cell_type": "code",
   "execution_count": 2,
   "metadata": {},
   "outputs": [],
   "source": [
    "# Initialize the tagger\n",
    "tagger = pos.Tagger(\n",
    "    model_file=\"tagger-v2.0.0.pt\",\n",
    "    device=\"cpu\",\n",
    ")"
   ]
  },
  {
   "cell_type": "code",
   "execution_count": 3,
   "metadata": {},
   "outputs": [],
   "source": [
    "acc_words = '[Uu]m(fram|hverfis)|UM(FRAM|HVERFIS)|[Uu]m|UM|[Gg]egnum|GEGNUM|[Kk]ringum|KRINGUM|[Vv]ið|VIÐ|[Íí]|[Áá]'\n",
    "dat_words = '[Ff]rá|FRÁ|[Aa][ðf]|A[ÐF]|[Áá]samt|ÁSAMT|[Gg]agnvart|GAGNVART|[Gg]egnt?|GEGNT?|[Hh]anda|HANDA|[Hh]já|HJÁ|[Mm]eð( )?fram|MEÐ( )?FRAM|[Mm]óti?|MÓTI?|[Uu]ndan|UNDAN|[Nn]álægt|NÁLÆGT'\n",
    "gen_words = '[Tt]il|TIL|[Aa]uk|AUK|[Áá]n|ÁN|[Hh]andan|HANDAN|[Ii]nnan|INNAN|[Mm]eðal|MEÐAL|[Mm]egin|MEGIN|[Mm]ill(i|um)|MILL(I|UM)|[Oo]fan|OFAN|[Ss]akir|SAKIR|[Ss]ökum|SÖKUM|[Uu]tan|UTAN|[Vv]egna|VEGNA'\n",
    "accdat_words = \"[Ee]ftir|EFTIR|[Ff]yrir|FYRIR|[Mm]eð|MEÐ|[Uu]ndir|UNDIR|[Vv]ið|VIÐ|[Yy]fir|YFIR\"\n",
    "accgen_words = acc_words + \"|\" + gen_words\n",
    "accdat_words_comb = acc_words + \"|\" + dat_words + \"|\" + accdat_words\n",
    "accdatgen_words_comb = accdat_words_comb + \"|\" + gen_words\n",
    "\n",
    "amounts = \"([Hh]undr[au]ð|HUNDR[AU]Ð|[Þþ]úsund|ÞÚSUND|[Mm]illjón(ir)?|MILLJÓN(IR)?)\"\n",
    "date_ptrn = r\"^((([012]?[1-9]|3[01])\\. ?)?(jan(úar)?|feb(rúar)?|mars?|apr(íl)?|maí|jú[nl]í?|ág(úst)?|sep(t(ember)?)?|okt(óber)?|nóv(ember)?|des(ember)?) )\\d{2,4}$\""
   ]
  },
  {
   "cell_type": "code",
   "execution_count": 4,
   "metadata": {},
   "outputs": [],
   "source": [
    "sport_df = pd.read_csv('dataframe_sport_0503.csv', keep_default_na=False, na_values=['_'])"
   ]
  },
  {
   "cell_type": "code",
   "execution_count": null,
   "metadata": {},
   "outputs": [],
   "source": [
    "other_df = pd.read_csv('dataframe_other_0503.csv', keep_default_na=False, na_values=['_'])"
   ]
  },
  {
   "cell_type": "code",
   "execution_count": 5,
   "metadata": {},
   "outputs": [],
   "source": [
    "sport_df_use = sport_df[['sentence_id', 'token_id', 'before']]"
   ]
  },
  {
   "cell_type": "code",
   "execution_count": null,
   "metadata": {},
   "outputs": [],
   "source": [
    "other_df_use = other_df[['sentence_id', 'token_id', 'before']]"
   ]
  },
  {
   "cell_type": "code",
   "execution_count": 6,
   "metadata": {},
   "outputs": [],
   "source": [
    "\"\"\" get preceding and following words in a dataframe \"\"\"\n",
    "def make_dataframe_for_abbr(df, order, col):\n",
    "    df['sentbefore'] = [\"\"] + list(df[col][:-1])\n",
    "    df['sent2before'] = [\"\", \"\"] + list(df[col][:-2])\n",
    "    df['sent3before'] = [\"\", \"\", \"\"] + list(df[col][:-3])\n",
    "    df['sentafter'] = list(df[col][1:]) + [\"\"]\n",
    "    if order == 'first':\n",
    "        df['after'] = df['before']\n",
    "        df['type'] = \"\"\n",
    "    elif order == 'second':\n",
    "        pass\n",
    "    return df"
   ]
  },
  {
   "cell_type": "code",
   "execution_count": 7,
   "metadata": {
    "collapsed": true
   },
   "outputs": [
    {
     "name": "stderr",
     "output_type": "stream",
     "text": [
      "/Users/starspace/anaconda3/lib/python3.7/site-packages/ipykernel_launcher.py:3: SettingWithCopyWarning: \n",
      "A value is trying to be set on a copy of a slice from a DataFrame.\n",
      "Try using .loc[row_indexer,col_indexer] = value instead\n",
      "\n",
      "See the caveats in the documentation: https://pandas.pydata.org/pandas-docs/stable/user_guide/indexing.html#returning-a-view-versus-a-copy\n",
      "  This is separate from the ipykernel package so we can avoid doing imports until\n",
      "/Users/starspace/anaconda3/lib/python3.7/site-packages/ipykernel_launcher.py:4: SettingWithCopyWarning: \n",
      "A value is trying to be set on a copy of a slice from a DataFrame.\n",
      "Try using .loc[row_indexer,col_indexer] = value instead\n",
      "\n",
      "See the caveats in the documentation: https://pandas.pydata.org/pandas-docs/stable/user_guide/indexing.html#returning-a-view-versus-a-copy\n",
      "  after removing the cwd from sys.path.\n"
     ]
    }
   ],
   "source": [
    "sport_dataframe = make_dataframe_for_abbr(sport_df_use, 'first', 'before')"
   ]
  },
  {
   "cell_type": "code",
   "execution_count": null,
   "metadata": {},
   "outputs": [],
   "source": [
    "other_dataframe = make_dataframe_for_abbr(other_df_use, 'first', 'before')"
   ]
  },
  {
   "cell_type": "code",
   "execution_count": 8,
   "metadata": {},
   "outputs": [],
   "source": [
    "link_ptrn_external = \"(https?:\\/\\/)?(www\\.)?([A-ZÁÐÉÍÓÚÝÞÆÖa-záðéíóúýþæö\\d\\-_\\.]+)?\\.[a-z]+(\\/[A-ZÁÐÉÍÓÚÝÞÆÖa-záðéíóúýþæö\\d_\\/\\?\\.=\\-\\&\\%]*)?\"\n",
    "link_ptrn_internal = \"(file|(https?:\\/\\/)?localhost):(\\/)*([A-ZÁÐÉÍÓÚÝÞÆÖa-záðéíóúýþæö\\d_\\/\\?\\.=\\-\\&\\%]*)\"\n",
    "link_ptrn_mail = \"[A-ZÁÐÉÍÓÚÝÞÆÖa-záðéíóúýþæö\\d\\-_\\.]*@[A-ZÁÐÉÍÓÚÝÞÆÖa-záðéíóúýþæö\\d\\-_\\.]+(\\.[a-z]+)?\"\n",
    "link_ptrn_hashtag = \"# ?[A-ZÁÐÉÍÓÚÝÞÆÖa-záðéíóúýþæö\\d\\-_]+\"\n",
    "link_ptrn_all = \"^(\" + link_ptrn_external + \"|\" + link_ptrn_internal + \"|\" + link_ptrn_mail + \"|\" + link_ptrn_hashtag + \")$\"\n",
    "ordinal_ptrn = \"^(\\d{1,2}(\\.\\d{3})*|\\d+)\\.$\"\n",
    "\n",
    "\"\"\"exclude web links and ordinal numbers from tokenization\"\"\"\n",
    "def set_type(df):\n",
    "    start = time.time()\n",
    "    df.loc[(df['after'].str.match(link_ptrn_all)), 'type'] = \"wlink\"\n",
    "    df.loc[(df['after'].str.match(ordinal_ptrn)), 'type'] = \"ordinal\"\n",
    "    print(f\"set_type done in {time.time() - start}\")\n",
    "    "
   ]
  },
  {
   "cell_type": "code",
   "execution_count": 9,
   "metadata": {},
   "outputs": [
    {
     "name": "stdout",
     "output_type": "stream",
     "text": [
      "set_type done in 0.37906527519226074\n"
     ]
    }
   ],
   "source": [
    "set_type(sport_dataframe)"
   ]
  },
  {
   "cell_type": "code",
   "execution_count": null,
   "metadata": {},
   "outputs": [],
   "source": [
    "set_type(other_dataframe)"
   ]
  },
  {
   "cell_type": "code",
   "execution_count": 10,
   "metadata": {},
   "outputs": [],
   "source": [
    "\"\"\"expands most abbreviations, a.m.k. -> að minnsta kosti\"\"\"\n",
    "def replace_abbr_words(df):\n",
    "    start = time.time()\n",
    "    # setja allt /s, /t hérna, tonn, hektari, \n",
    "    df['after'] = df['after'].str.replace(r\"^(((((\\d{1,2}\\.)?(\\d{3}\\.)*\\d{3}|\\d+)(,\\d+)?|\" + amounts + \")( )?)\\s)(þús\\.?)( [A-ZÁÐÉÍÓÚÝÞÆÖa-záðéíóúýþæö]*)?$\", '\\g<1>þúsund \\g<11>').astype('str')\n",
    "    df.loc[((df['sentbefore'].str.match(\"^[Mm]örg$\")) & (df['after'].str.match(\"^þús\\.?$\"))), 'after'] = \"þúsund\"\n",
    "    df.loc[((df['sentbefore'].str.match(\"^\\d+\\.$\")) & (df['after'].str.match(\"^gr\\.$\"))), 'after'] = \"grein\"\n",
    "    df.loc[((df['sentbefore'].str.match(\"^\\d+\\.$\")) & (df['after'].str.match(\"^mgr\\.$\"))), 'after'] = \"málsgrein\"\n",
    "    df.loc[((df['sentbefore'].str.match(\"^\\d+\\.$\")) & (df['after'].str.match(\"^nmgr\\.$\"))), 'after'] = \"neðanmálsgrein\"\n",
    "    df['after'] = df['after'].str.replace(r\"^([Kk]l ?(\\.|\\:)?)(\\s?\\d{2}[:\\.]\\d{2})$\", 'klukkan \\g<3>').astype('str')\n",
    "    df['after'] = df['after'].str.replace(r\"(?i)^kl ?(\\.|\\:)? ?((núll|eitt|tvö|þrjú|fjögur|fimm|sex|sjö|átta|níu|tíu|ellefu|tólf|((þret|fjór|fimm|sex)tán)|((sau|á|ní)tján)|tuttugu( og (eitt|tvö|þrjú|fjögur))?).*)$\", \"klukkan \\g<2>\").astype('str')\n",
    "    df['after'] = df['after'].str.replace(r\"^([Ss]íma)?(nr\\.?)$\", '\\g<1>númer').astype('str')\n",
    "    df['after'] = df['after'].str.replace(r\"([Ff]\\.?[Kk]r\\.?)$\", ' fyrir Krist').astype('str')\n",
    "    df['after'] = df['after'].str.replace(r\"([Ee]\\.?[Kk]r\\.?)$\", ' eftir Krist').astype('str')\n",
    "    df['after'] = df['after'].str.replace(r\"^([Cc]a|CA)\\.?$\", 'sirka').astype('str')\n",
    "    df.loc[((df['after'].str.match(\"^[Ii]nnsk\\.$\")) & (df['sentafter'].str.match(\"^(blm\\.?|blaðamanns)$\"))), 'after'] = \"innskot\"\n",
    "    df.loc[((df['sentbefore'].str.match(\"^(?i)[Ii]nnsk(\\.|ot)$\")) & (df['after'].str.match(\"^([Bb]lm|BLM)\\.?$\"))), 'after'] = \"blaðamanns\"\n",
    "    df.loc[((df['sentbefore'].str.match(\"^\\d+\\.$\")) & (df['after'].str.match(\"^[Ss]ek\\.?$\"))), 'after'] = \"sekúnda\"\n",
    "    df.loc[((df['sentbefore'].str.match(\"^\\d+\\.$\")) & (df['after'].str.match(\"^[Mm]ín\\.?$\"))), 'after'] = \"mínúta\"\n",
    "    df['after'] = df['after'].str.replace(r\"^([Nn]\\.?k\\.?|N\\.?K\\.?)$\", 'næstkomandi').astype('str')\n",
    "    df['after'] = df['after'].str.replace(r\"^[Dd]r\\.?$\", 'doktor').astype('str')\n",
    "    df['after'] = df['after'].str.replace(r\"^([Ss]ltjn|SLTJN)\\.?$\", 'Seltjarnarnes').astype('str')\n",
    "    df['after'] = df['after'].str.replace(r\"^([Rr]ví?k|RVÍ?K)$\", 'Reykjavík').astype('str')\n",
    "    df['after'] = df['after'].str.replace(r\"^([Kk]höfn|[Kk]bh|KBH)$\", 'Kaupmannahöfn').astype('str')\n",
    "    df['after'] = df['after'].str.replace(r\"^([Ss]thlm|STHLM)$\", 'Stokkhólmur').astype('str')\n",
    "    df['after'] = df['after'].str.replace(r\"^[Ss]\\. ?s\\.?$\", 'svo sem').astype('str')\n",
    "    df['after'] = df['after'].str.replace(r\"^([Vv]s\\.?|VS\\.?)$\", 'versus').astype('str')\n",
    "    df['after'] = df['after'].str.replace(r\"^([Tt]\\.?d\\.?|T\\.?D\\.?)$\", 'til dæmis').astype('str')\n",
    "    df['after'] = df['after'].str.replace(r\"^([Aa]\\.?m\\.?k\\.?|A\\.?M\\.?K\\.?)$\", 'að minnsta kosti').astype('str')\n",
    "    df['after'] = df['after'].str.replace(r\"^[Aa]\\.m\\.m\\.?$\", 'að mínu mati').astype('str')\n",
    "    df['after'] = df['after'].str.replace(r\"^[Aa]\\.n\\.l\\.?$\", 'að nokkru leyti').astype('str')\n",
    "    df['after'] = df['after'].str.replace(r\"^([Aa]lm|ALM)\\.?$\", 'almennt').astype('str')\n",
    "    df['after'] = df['after'].str.replace(r\"^(?i)ath\\.?$\", 'athugið').astype('str')\n",
    "    df['after'] = df['after'].str.replace(r\"^(?i)aths\\.?$\", 'athugasemd').astype('str')\n",
    "    df['after'] = df['after'].str.replace(r\"^(?i)atr\\.?$\", 'atriði').astype('str')\n",
    "    df['after'] = df['after'].str.replace(r\"^[Ff]él\\.?$\", 'félag').astype('str')\n",
    "    df.loc[((df['sentbefore'].str.match(\"^\\($\")) & (df['after'].str.match(\"^e\\.$\"))), 'after'] = \"enska\"\n",
    "    df['after'] = df['after'].str.replace(r\"^([Íí]sl|ÍSL)\\.?$\", 'íslenska').astype('str')\n",
    "    df['after'] = df['after'].str.replace(r\"^(?i)e\\.?h\\.?f\\.?$\", 'E H F').astype('str')\n",
    "    df['after'] = df['after'].str.replace(r\"^(?i)o\\.?h\\.?f\\.?$\", 'O H F').astype('str')\n",
    "    df['after'] = df['after'].str.replace(r\"^(?i)h\\.?f\\.?$\", 'H F').astype('str')\n",
    "    df['after'] = df['after'].str.replace(r\"^(?i)s\\.?f\\.?$\", 'S F').astype('str')\n",
    "    df['after'] = df['after'].str.replace(r\"^(?i)q\\.?e\\.?d\\.?$\", 'Q E D').astype('str')\n",
    "    df['after'] = df['after'].str.replace(r\"^([Ee]nnfr|ENNFR)\\.?$\", 'ennfremur').astype('str')\n",
    "    df['after'] = df['after'].str.replace(r\"^([Ee]\\.k\\.?|E\\.K\\.?)$\", 'einhvers konar').astype('str')\n",
    "    df['after'] = df['after'].str.replace(r\"^([Ff]rh|FRH)\\.?$\", 'framhald').astype('str')\n",
    "    df['after'] = df['after'].str.replace(r\"^([Ff]rt|FRT)\\.?$\", 'framtíð').astype('str') \n",
    "    df['after'] = df['after'].str.replace(r\"^[Hh]dl\\.?$\", 'héraðsdómslögmaður').astype('str')\n",
    "    df['after'] = df['after'].str.replace(r\"^[Hh]rl\\.?$\", 'hæstaréttarlögmaður').astype('str')\n",
    "    df['after'] = df['after'].str.replace(r\"^([Hh]öf|HÖF)\\.?$\", 'höfundur').astype('str')\n",
    "    df['after'] = df['after'].str.replace(r\"^[Hh]r\\.?$\", 'herra').astype('str')\n",
    "    df['after'] = df['after'].str.replace(r\"^[Hh]v\\.?$\", 'háttvirtur').astype('str')\n",
    "    #df.loc[((df['sentbefore'].str.match(\"^\\W$\")) & (df['after'].str.match(\"^[Ss]r\\.?$\"))), 'after'] = \"séra\"\n",
    "    #df.loc[((df['sentbefore'].str.match(\"^[A-ZÁÐÉÍÓÚÝÞÆÖa-záðéíóúýþæö]+$\")) & (df['after'].str.match(\"^([Ss]r|SR)\\.?$\"))), 'after'] = \"eldri\"\n",
    "    df.loc[((df['sentbefore'].str.match(\"^[A-ZÁÐÉÍÓÚÝÞÆÖa-záðéíóúýþæö]+$\")) & (df['after'].str.match(\"^([Jj]r)\\.?$\"))), 'after'] = \"yngri\"\n",
    "    df['after'] = df['after'].str.replace(r\"^[Kk]k$\", 'karlkyn').astype('str')\n",
    "    df['after'] = df['after'].str.replace(r\"^[Hh]v?k$\", 'hvorugkyn').astype('str')\n",
    "    df['after'] = df['after'].str.replace(r\"^[Kk]vk$\", 'kvenkyn').astype('str')\n",
    "    df.loc[((df['after'].str.match(\"^[Kk]t\\.?$\")) & (df['sentafter'].str.match(\"^(:|\\d{6}\\-?\\d{4})$\"))), 'after'] = \"kennitala\"\n",
    "    df.loc[((df['after'].str.match(\"^[Ss]\\.?$\")) & (df['sentafter'].str.match(\"^(:|\\d{3}\\-?\\d{4})$\"))), 'after'] = \"sími\"\n",
    "    df.loc[((df['after'].str.match(\"^[Rr]n\\.?$\")) & (df['sentafter'].str.match(\"^(:|[\\d-]+)$\"))), 'after'] = \"reikningsnúmer\"\n",
    "    df['after'] = df['after'].str.replace(r\"^((\\d{1,2}\\.)?(\\d{3}\\.?)*\\d+(,\\d+)?)(x|\\*)((\\d{1,2}\\.)?(\\d{3}\\.?)*\\d+(,\\d+)?)$\", '\\g<1> sinnum \\g<6>').astype('str')\n",
    "    df.loc[((df['sentbefore'].str.match(\"^(\\d{1,2}\\.)?(\\d{3}\\.?)*\\d+(,\\d+)?$\")) & (df['sentafter'].str.match(\"^(\\d{1,2}\\.)?(\\d{3}\\.?)*\\d+(,\\d+)?$\")) & (df['after'].str.match(\"^(\\*|x)$\"))), 'after'] = \"sinnum\"\n",
    "    df['after'] = df['after'].str.replace(r\"^[Nn]úv\\.?$\", 'núverandi').astype('str')\n",
    "    df['after'] = df['after'].str.replace(r\"^[Rr]itstj\\.?$\", 'ritstjóri').astype('str')\n",
    "    df['after'] = df['after'].str.replace(r\"^[Rr]slm\\.?$\", 'rannsóknarlögreglumaður').astype('str')\n",
    "    df['after'] = df['after'].str.replace(r\"^[Ss]br\\.?$\", 'samanber').astype('str')\n",
    "    df['after'] = df['after'].str.replace(r\"^([Ss]\\.?l\\.?|SL\\.)$\", 'síðastliðinn').astype('str')\n",
    "    df['after'] = df['after'].str.replace(r\"^([Ss]\\.?k\\.?)$\", 'svokallað').astype('str')\n",
    "    df['after'] = df['after'].str.replace(r\"^([Ss]kv\\.?|SKV\\.?)$\", 'samkvæmt').astype('str')\n",
    "    df['after'] = df['after'].str.replace(r\"^([Tt]bl|TBL)\\.?$\", 'tölublað').astype('str')\n",
    "    \n",
    "    df['after'] = df['after'].str.replace(r\"^([Tt]l\\.?)$\", 'tengiliður').astype('str')\n",
    "    df.loc[((df['sentbefore'].str.match(\"^\\d+\\.$\")) & (df['after'].str.match(\"^([Úú]tg|ÚTG)\\.?$\"))), 'after'] = \"útgáfa\"\n",
    "    df['after'] = df['after'].str.replace(r\"^([Vv]sk\\.?)$\", 'virðisaukaskatt').astype('str')\n",
    "    df['after'] = df['after'].str.replace(r\"^([Þþ]f\\.?)$\", 'þolfall').astype('str')\n",
    "    df['after'] = df['after'].str.replace(r\"^([Þþ]gf\\.?)$\", 'þágufall').astype('str')\n",
    "    df['after'] = df['after'].str.replace(r\"^([Þþ]lt\\.?)$\", 'þáliðin tíð').astype('str')\n",
    "    df['after'] = df['after'].str.replace(r\"^([Ll]h\\.?nt\\.?)$\", 'lýsingarháttur nútíðar').astype('str')\n",
    "    df['after'] = df['after'].str.replace(r\"^([Ll]h\\.?þt\\.?)$\", 'lýsingarháttur þátíðar').astype('str')\n",
    "    df['after'] = df['after'].str.replace(r\"^([Óó]ákv\\.gr\\.)$\", 'óákveðinn greinir').astype('str')\n",
    "    df['after'] = df['after'].str.replace(r\"^([Mm]\\.a\\.)$\", 'meðal annars').astype('str')\n",
    "    df['after'] = df['after'].str.replace(r\"^([Mm]\\.?v\\.?)$\", 'miðað við').astype('str')\n",
    "    df['after'] = df['after'].str.replace(r\"^([Pp]\\.?s\\.?)$\", 'P S').astype('str')\n",
    "    df['after'] = df['after'].str.replace(r\"^([Ff]\\.?hl\\.?|F\\.HL\\.)$\", 'fyrri hluti').astype('str')\n",
    "    df['after'] = df['after'].str.replace(r\"^([Ss]\\.?hl\\.?|S\\.HL\\.)$\", 'síðari hluti').astype('str')\n",
    "    df['after'] = df['after'].str.replace(r\"^([Tt]\\.h\\.)$\", 'til hægri').astype('str')\n",
    "    df['after'] = df['after'].str.replace(r\"^([Tt]\\.v\\.)$\", 'til vinstri').astype('str')\n",
    "    df['after'] = df['after'].str.replace(r\"^([Þþ]\\.á\\.)$\", 'þessa árs').astype('str')\n",
    "    df['after'] = df['after'].str.replace(r\"^([Þþ]\\.h\\.)$\", 'þess háttar').astype('str')\n",
    "    df['after'] = df['after'].str.replace(r\"^([Þþ]\\.m\\.)$\", 'þessa mánaðar').astype('str')\n",
    "    df['after'] = df['after'].str.replace(r\"^([Þþ]\\.e\\.)$\", 'það er').astype('str')\n",
    "    df['after'] = df['after'].str.replace(r\"^([Ff]\\.o\\.t\\.)$\", 'fyrir okkar tímatal').astype('str')\n",
    "    df['after'] = df['after'].str.replace(r\"^([Ee]\\.?t\\.?v\\.?)$\", 'ef til vill').astype('str')\n",
    "    df['after'] = df['after'].str.replace(r\"^([Gg]\\.?r\\.?f\\.?|G\\.?R\\.?F\\.?)$\", 'gerum ráð fyrir').astype('str')\n",
    "    df['after'] = df['after'].str.replace(r\"^([Gg]\\.?m\\.?g\\.?|G\\.?M\\.?G\\.?)$\", 'guð minn góður').astype('str')\n",
    "    df['after'] = df['after'].str.replace(r\"^([Hh]\\.u\\.b\\.?|H\\.U\\.B\\.?)$\", 'hér um bil').astype('str')\n",
    "    df['after'] = df['after'].str.replace(r\"^([Mm]\\.a\\.o\\.?|M\\.A\\.O\\.?)$\", 'meðal annarra orða').astype('str')\n",
    "    df['after'] = df['after'].str.replace(r\"^([Mm]\\.a\\.s\\.?|M\\.A\\.S\\.?)$\", 'meira að segja').astype('str')\n",
    "    df['after'] = df['after'].str.replace(r\"^([Mm]\\.?t\\.?t\\.?|M\\.?T\\.?T\\.?)$\", 'með tilliti til').astype('str')\n",
    "    df['after'] = df['after'].str.replace(r\"^([Mm]\\.?ö\\.?o\\.?|M\\.?Ö\\.?O\\.?)$\", 'með öðrum orðum').astype('str')\n",
    "    df['after'] = df['after'].str.replace(r\"^([Nn]\\.?t\\.?t\\.?|N\\.?T\\.T\\.?)($)$\", 'nánar tiltekið').astype('str')\n",
    "    df['after'] = df['after'].str.replace(r\"^([Oo]\\.?fl\\.?|O\\.?FL\\.?)$\", 'og fleira').astype('str')\n",
    "    \n",
    "    df['after'] = df['after'].str.replace(r\"^([Oo]\\.?m\\.?fl\\.?|O\\.?M\\.?FL\\.?)$\", 'og margt fleira').astype('str')\n",
    "    df['after'] = df['after'].str.replace(r\"^([Oo]\\.?s\\.?frv?\\.?|O\\.?S\\.?FRV?\\.?)$\", 'og svo framvegis').astype('str')\n",
    "    df['after'] = df['after'].str.replace(r\"^([Oo]\\.?þ\\.?h\\.?|O\\.?Þ\\.?H\\.?)$\", 'og þess háttar').astype('str')\n",
    "    df['after'] = df['after'].str.replace(r\"^([Oo]\\.þ\\.u\\.l\\.?|O\\.Þ\\.U\\.L\\.?)$\", 'og því um líkt').astype('str')\n",
    "    df['after'] = df['after'].str.replace(r\"^([Þþ]\\.?e\\.?a\\.?s\\.?|Þ\\.?E\\.?A\\.?S\\.?)$\", 'það er að segja').astype('str')\n",
    "    df['after'] = df['after'].str.replace(r\"^([Þþ]\\.?þ\\.?\\.?a\\.?a\\.?|Þ\\.?Þ\\.?A\\.?A\\.?)$\", 'þá og því aðeins að').astype('str')\n",
    "    df['after'] = df['after'].str.replace(r\"^([Tt]\\.a\\.m\\.?|T\\.A\\.M\\.)$\", 'til að mynda').astype('str')\n",
    "    df['after'] = df['after'].str.replace(r\"^([Uu]\\.?þ\\.?b\\.?|U\\.?Þ\\.?B\\.?)$\", 'um það bil').astype('str')\n",
    "    df['after'] = df['after'].str.replace(r\"^([Þþ]\\.u\\.l\\.?|Þ\\.U\\.L\\.)$\", 'því um líkt').astype('str')\n",
    "    df['after'] = df['after'].str.replace(r\"^([Þþ]\\.a\\.l\\.?|Þ\\.A\\.L\\.)$\", 'þar af leiðandi').astype('str')\n",
    "    df['after'] = df['after'].str.replace(r\"^([þÞ]\\.á(\\.| )m\\.?|Þ\\.Á(\\.| )M\\.?)$\", 'þar á meðal').astype('str')\n",
    "    df['after'] = df['after'].str.replace(r\"^([Þþ]\\.m\\.t\\.?|Þ\\.M\\.T\\.?)$\", 'þar með talið').astype('str')\n",
    "    \n",
    "    \n",
    "    df['after'] = df['after'].str.replace(r\"^([Mm]\\.y\\.s\\.?)$\", 'metra yfir sjávarmáli').astype('str')\n",
    "    df.loc[((df['after'].str.match(\"^f\\.?$\")) & (df['sentafter'].str.match(date_ptrn))), 'after'] = \"fæddur\"\n",
    "    df['after'] = df['after'].str.replace(r\"^([Ff]\\.h\\.?)$\", 'fyrir hönd').astype('str')\n",
    "    df['after'] = df['after'].str.replace(r\"^([Þþ]\\.a\\.?)$\", 'þannig að').astype('str')\n",
    "    df['after'] = df['after'].str.replace(r\"^([Pp]k\\.?)$\", 'pakki').astype('str')\n",
    "    df['after'] = df['after'].str.replace(r\"^([Aa]lþm\\.?)$\", 'alþingismaður').astype('str')\n",
    "    df['after'] = df['after'].str.replace(r\"^([Áá]rg\\.?)$\", 'árgangur').astype('str')\n",
    "    df['after'] = df['after'].str.replace(r\"^([Oo](\\.?|g )fl\\.|O(\\.?|G )FL\\.)$\", 'og fleira').astype('str')\n",
    "    df['after'] = df['after'].str.replace(r\"^([Ss]amþ|SAMÞ)\\.?$\", 'samþykki').astype('str')\n",
    "    df['after'] = df['after'].str.replace(r\"^([Uu]ppl|UPPL)\\.?$\", 'upplýsingar').astype('str')\n",
    "    df['after'] = df['after'].str.replace(r\"^([Mm]fl|MFL)\\.?$\", 'meistaraflokkur').astype('str')\n",
    "    df['after'] = df['after'].str.replace(r\"^([Ll]td|LTD)\\.?$\", 'limited').astype('str')\n",
    "    df['after'] = df['after'].str.replace(r\"^([Uu]td|UTD)\\.?$\", 'united').astype('str')\n",
    "    df['after'] = df['after'].str.replace(r\"^([Ss]gt\\.?)$\", 'sergeant').astype('str')\n",
    "    df['after'] = df['after'].str.replace(r\"^([Ss]t\\.?)$\", 'saint').astype('str')\n",
    "    df['after'] = df['after'].str.replace(r\"^([Nn]kl|NKL)$\", 'nákvæmlega').astype('str')\n",
    "    df.loc[((df['after'].str.match(\"^frák\\.?$\")) & (df['sentbefore'].str.match(\"^\\d{1,2}\\/\\d{1,2}$\"))), 'after'] = \"fráköst\"\n",
    "    df['after'] = df['after'].str.replace(r\"^(((\\d{1,2}\\.)?(\\d{3}\\.?)*\\d+(,\\d+)?|\" + amounts + \")( )?)(m\\^2)$\", '\\g<1> fermetrar').astype('str')\n",
    "    df['after'] = df['after'].str.replace(r\"^(((\\d{1,2}\\.)?(\\d{3}\\.?)*\\d+(,\\d+)?|\" + amounts + \")( )?)(m\\^3)$\", '\\g<1> rúmmetrar').astype('str')\n",
    "    df['after'] = df['after'].str.replace(r\"^\\+([1-9])\", 'plús \\g<1>').astype('str')\n",
    "    df['after'] = df['after'].str.replace(r\"^\\-([1-9])\", 'mínus \\g<1>').astype('str')\n",
    "    df['after'] = df['after'].str.replace(r\"^(bls\\.?)(((\\d{1,2}\\.)?(\\d{3}\\.?)*\\d+(,\\d+)?|\" + amounts + \")( )?)$\", 'blaðsíða \\g<1>').astype('str')\n",
    "    df.loc[((df['after'].str.match(\"^[Bb]ls\\.?$\")) & (df['sentafter'].str.match(\"^(((\\d{1,2}\\.)?(\\d{3}\\.?)*\\d+(,\\d+)?|\" + amounts + \")( )?)$\"))), 'after'] = \"blaðsíða\"\n",
    "    # degrees\n",
    "    df['after'] = df['after'].str.replace(r\"([02-9])( )?°C$\", '\\g<1> gráður selsíus').astype('str')\n",
    "    df['after'] = df['after'].str.replace(r\"(1)( )?°C$\", '\\g<1> gráða selsíus').astype('str')\n",
    "    df['after'] = df['after'].str.replace(r\"([02-9])( )?°F$\", '\\g<1> gráður fahrenheit').astype('str')\n",
    "    df['after'] = df['after'].str.replace(r\"(1)( )?°F$\", '\\g<1> gráða fahrenheit').astype('str')\n",
    "    # direction degrees\n",
    "    df['after'] = df['after'].str.replace(r\"([02-9])( )?°W$\", '\\g<1> gráður vestur').astype('str')\n",
    "    df['after'] = df['after'].str.replace(r\"(1)( )?°W$\", '\\g<1> gráða vestur').astype('str')\n",
    "    df['after'] = df['after'].str.replace(r\"([02-9])( )?°N$\", '\\g<1> gráður norður').astype('str')\n",
    "    df['after'] = df['after'].str.replace(r\"(1)( )?°N$\", '\\g<1> gráða norður').astype('str')\n",
    "    df['after'] = df['after'].str.replace(r\"([02-9])( )?°E$\", '\\g<1> gráður austur').astype('str')\n",
    "    df['after'] = df['after'].str.replace(r\"(1)( )?°E$\", '\\g<1> gráða austur').astype('str')\n",
    "    df['after'] = df['after'].str.replace(r\"([02-9])( )?°S$\", '\\g<1> gráður suður').astype('str')\n",
    "    df['after'] = df['after'].str.replace(r\"(1)( )?°S$\", '\\g<1> gráða suður').astype('str')\n",
    "    print(f\"abbreviations done in {time.time() - start}\")\n"
   ]
  },
  {
   "cell_type": "code",
   "execution_count": 11,
   "metadata": {},
   "outputs": [],
   "source": [
    "\"\"\"replaces an abbreviation after a slash, m/s -> m á sekúndu\"\"\"\n",
    "def denominator_measurement(df):\n",
    "    start = time.time()\n",
    "    df['after'] = df['after'].str.replace(r\"\\/t\\.?$\", ' á tonnið').astype('str')\n",
    "    df['after'] = df['after'].str.replace(r\"\\/ha\\.?$\", ' á hektarann').astype('str')\n",
    "    df['after'] = df['after'].str.replace(r\"\\/ng\\.?$\", ' á nanógrammið').astype('str')\n",
    "    df['after'] = df['after'].str.replace(r\"\\/mg\\.?$\", ' á milligrammið').astype('str')\n",
    "    df['after'] = df['after'].str.replace(r\"\\/µg\\.?$\", ' á míkrógrammið').astype('str')\n",
    "    df['after'] = df['after'].str.replace(r\"\\/gr?\\.?$\", ' á grammið').astype('str')\n",
    "    df['after'] = df['after'].str.replace(r\"\\/kg?$\", ' á kílóið').astype('str')\n",
    "    df['after'] = df['after'].str.replace(r\"\\/lbs$\", ' á pundið').astype('str')\n",
    "    df['after'] = df['after'].str.replace(r\"\\/ml$\", ' á millilítrann').astype('str')\n",
    "    df['after'] = df['after'].str.replace(r\"\\/dl$\", ' á desilítrann').astype('str')\n",
    "    df['after'] = df['after'].str.replace(r\"\\/[sc]l$\", ' á sentilítrann').astype('str')\n",
    "    df['after'] = df['after'].str.replace(r\"\\/l$\", ' á lítrann').astype('str')\n",
    "    df['after'] = df['after'].str.replace(r\"\\/tsk$\", ' á teskeið').astype('str')\n",
    "    df['after'] = df['after'].str.replace(r\"\\/msk$\", ' á matskeið').astype('str')\n",
    "    df['after'] = df['after'].str.replace(r\"\\/ft$\", ' á fetið').astype('str')\n",
    "    df['after'] = df['after'].str.replace(r\"\\/m\\.?$\", ' á metrann').astype('str')\n",
    "    df['after'] = df['after'].str.replace(r\"\\/pm\\.?$\", ' á píkómetra').astype('str')\n",
    "    df['after'] = df['after'].str.replace(r\"\\/nm\\.?$\", ' á nanómetra').astype('str')\n",
    "    df['after'] = df['after'].str.replace(r\"\\/[cs]m\\.?$\", ' á sentimetra').astype('str')\n",
    "    df['after'] = df['after'].str.replace(r\"\\/dm\\.?$\", ' á desimetra').astype('str')\n",
    "    df['after'] = df['after'].str.replace(r\"\\/km\\.?$\", ' á kílómetra').astype('str')\n",
    "    df['after'] = df['after'].str.replace(r\"\\/Nm\\.?$\", ' á Njútonmetra').astype('str')\n",
    "    df['after'] = df['after'].str.replace(r\"\\/klst$\", ' á klukkustund').astype('str')\n",
    "    df['after'] = df['after'].str.replace(r\"\\/kw\\.?(st|h)\\.?$\", ' á kílóvattstund').astype('str')\n",
    "    df['after'] = df['after'].str.replace(r\"\\/Mw\\.?(st|h)\\.?$\", ' á megavattstund').astype('str')\n",
    "    df['after'] = df['after'].str.replace(r\"\\/Gw\\.?(st|h)\\.?$\", ' á gígavattstund').astype('str')\n",
    "    df['after'] = df['after'].str.replace(r\"\\/Tw\\.?(st|h)\\.?$\", ' á teravattstund').astype('str')\n",
    "    df['after'] = df['after'].str.replace(r\"\\/s(ek)?\\.?$\", ' á sekúndu').astype('str')\n",
    "    df['after'] = df['after'].str.replace(r\"\\/mín\\.?$\", ' á mínútu').astype('str')\n",
    "    df['after'] = df['after'].str.replace(r\"\\/ms(ek)?\\.?$\", ' á millisekúndu').astype('str')\n",
    "    df['after'] = df['after'].str.replace(r\"\\/kr\\.?$\", ' á krónu').astype('str')\n",
    "    df['after'] = df['after'].str.replace(r\"\\/fm\\.?$\", ' á fermetra').astype('str')\n",
    "    df['after'] = df['after'].str.replace(r\"\\/ferm\\.?$\", ' á fermetra').astype('str')\n",
    "    df['after'] = df['after'].str.replace(r\"\\/m²$\", ' á fermetra').astype('str')\n",
    "    df['after'] = df['after'].str.replace(r\"\\/m2$\", ' á fermetra').astype('str')\n",
    "    df['after'] = df['after'].str.replace(r\"\\/rúmm\\.?$\", ' á rúmmetra').astype('str')\n",
    "    df['after'] = df['after'].str.replace(r\"\\/m³$\", ' á rúmmetra').astype('str')\n",
    "    df['after'] = df['after'].str.replace(r\"\\/m3$\", ' á rúmmetra').astype('str')\n",
    "    df['after'] = df['after'].str.replace(r\"\\/mm²$\", ' á fermillimetra').astype('str')\n",
    "    df['after'] = df['after'].str.replace(r\"\\/mm2$\", ' á fermillimetra').astype('str')\n",
    "    df['after'] = df['after'].str.replace(r\"\\/mm³$\", ' á rúmmillimetra').astype('str')\n",
    "    df['after'] = df['after'].str.replace(r\"\\/mm3$\", ' á rúmmillimetra').astype('str')\n",
    "    df['after'] = df['after'].str.replace(r\"\\/[cs]m²$\", ' á fermillimetra').astype('str')\n",
    "    df['after'] = df['after'].str.replace(r\"\\/[cs]m2$\", ' á fermillimetra').astype('str')\n",
    "    df['after'] = df['after'].str.replace(r\"\\/[cs]m³$\", ' á rúmmillimetra').astype('str')\n",
    "    df['after'] = df['after'].str.replace(r\"\\/[cs]m3$\", ' á rúmmillimetra').astype('str')\n",
    "    df['after'] = df['after'].str.replace(r\"\\/km²$\", ' á ferkílómillimetra').astype('str')\n",
    "    df['after'] = df['after'].str.replace(r\"\\/km2$\", ' á ferkílómillimetra').astype('str')\n",
    "    df['after'] = df['after'].str.replace(r\"\\/km³$\", ' á rúmkílómillimetra').astype('str')\n",
    "    df['after'] = df['after'].str.replace(r\"\\/km3$\", ' á rúmkílómillimetra').astype('str')\n",
    "    \n",
    "    df['after'] = df['after'].str.replace(r\"\\/\\%$\", ' á prósentið').astype('str')\n",
    "    df['after'] = df['after'].str.replace(r\"\\/stk\\.?$\", ' á stykkið').astype('str')\n",
    "    df['after'] = df['after'].str.replace(r\"\\/V$\", ' á volt').astype('str')\n",
    "    df['after'] = df['after'].str.replace(r\"\\/kV$\", ' á kílóvolt').astype('str')\n",
    "    df['after'] = df['after'].str.replace(r\"\\/Hz\", ' á herz').astype('str')\n",
    "    df['after'] = df['after'].str.replace(r\"\\/kHz$\", ' á kílóherz').astype('str')\n",
    "    df['after'] = df['after'].str.replace(r\"\\/MHz$\", ' á megaherz').astype('str')\n",
    "    df['after'] = df['after'].str.replace(r\"\\/GHz$\", ' á gígaherz').astype('str')\n",
    "    df['after'] = df['after'].str.replace(r\"\\/W$\", ' á vatt').astype('str')\n",
    "    df['after'] = df['after'].str.replace(r\"\\/kW$\", ' á kílóvatt').astype('str')\n",
    "    print(f\"demoniator_measure done in {time.time() - start}\")"
   ]
  },
  {
   "cell_type": "code",
   "execution_count": 12,
   "metadata": {},
   "outputs": [],
   "source": [
    "\"\"\"expands abbreviations for directions, SV-átt -> suðvestanátt\"\"\"\n",
    "def directions(df):\n",
    "    start = time.time()\n",
    "    df.loc[((df['after'].str.match(\"^SV$\")) & (df['sentafter'].str.match(\"^(\\-|–|—)?$\"))), 'after'] = \"suðvestur\"\n",
    "    df.loc[((df['after'].str.match(\"^SSV$\")) & (df['sentafter'].str.match(\"^(\\-|–|—)?$\"))), 'after'] = \"suðsuðvestur\"\n",
    "    #df.loc[((df['after'].str.match(\"^V$\")) & (df['sentafter'].str.match(\"^(\\-|–|—)?$\"))), 'after'] = \"vestur\"\n",
    "    df.loc[((df['after'].str.match(\"^NV$\")) & (df['sentafter'].str.match(\"^(\\-|–|—)?$\"))), 'after'] = \"norðvestur\"\n",
    "    df.loc[((df['after'].str.match(\"^NNV$\")) & (df['sentafter'].str.match(\"^(\\-|–|—)?$\"))), 'after'] = \"norðnorðvestur\"\n",
    "    #df.loc[((df['after'].str.match(\"^N$\")) & (df['sentafter'].str.match(\"^(\\-|–|—)?$\"))), 'after'] = \"norður\"\n",
    "    df.loc[((df['after'].str.match(\"^NA$\")) & (df['sentafter'].str.match(\"^(\\-|–|—)?$\"))), 'after'] = \"norðaustur\"\n",
    "    df.loc[((df['after'].str.match(\"^NNA$\")) & (df['sentafter'].str.match(\"^(\\-|–|—)?$\"))), 'after'] = \"norðaustur\"\n",
    "    #df.loc[((df['after'].str.match(\"^A$\")) & (df['sentafter'].str.match(\"^(\\-|–|—)?$\"))), 'after'] = \"austur\"\n",
    "    df.loc[((df['after'].str.match(\"^SA$\")) & (df['sentafter'].str.match(\"^(\\-|–|—)?$\"))), 'after'] = \"suðaustur\"\n",
    "    df.loc[((df['after'].str.match(\"^SSA$\")) & (df['sentafter'].str.match(\"^(\\-|–|—)?$\"))), 'after'] = \"suðsuðaustur\"\n",
    "    #df.loc[((df['after'].str.match(\"^S$\")) & (df['sentafter'].str.match(\"^(\\-|–|—)?$\"))), 'after'] = \"suður\"\n",
    "\n",
    "    df['after'] = df['after'].str.replace(r\"^(SV(\\-|–|—))(?!(til|lands|átt|verðu|vert))([A-ZÁÐÉÍÓÚÝÞÆÖ][A-ZÁÐÉÍÓÚÝÞÆÖa-záðéíóúýþæö]+)$\", 'suðvestur\\g<2>\\g<4>').astype('str')\n",
    "    df['after'] = df['after'].str.replace(r\"^(NV(\\-|–|—))(?!(til|lands|átt|verðu|vert))([A-ZÁÐÉÍÓÚÝÞÆÖ][A-ZÁÐÉÍÓÚÝÞÆÖa-záðéíóúýþæö]+)$\", 'norðvestur\\g<2>\\g<4>').astype('str')\n",
    "    df['after'] = df['after'].str.replace(r\"^(NA(\\-|–|—))(?!(til|lands|átt|verðu|vert))([A-ZÁÐÉÍÓÚÝÞÆÖ][A-ZÁÐÉÍÓÚÝÞÆÖa-záðéíóúýþæö]+)$\", 'norðaustur\\g<2>\\g<4>').astype('str')\n",
    "    df['after'] = df['after'].str.replace(r\"^(SA(\\-|–|—))(?!(til|lands|átt|verðu|vert))([A-ZÁÐÉÍÓÚÝÞÆÖ][A-ZÁÐÉÍÓÚÝÞÆÖa-záðéíóúýþæö]+)$\", 'suðaustur\\g<2>\\g<4>').astype('str')\n",
    "    df['after'] = df['after'].str.replace(r\"^(A(\\-|–|—))([A-ZÁÐÉÍÓÚÝÞÆÖa-záðéíóúýþæö]*sýsl[ua])$\", 'austur\\g<2>\\g<3>').astype('str')\n",
    "    df['after'] = df['after'].str.replace(r\"^(S(\\-|–|—))([A-ZÁÐÉÍÓÚÝÞÆÖa-záðéíóúýþæö]*sýsl[ua])$\", 'suður\\g<2>\\g<3>').astype('str')\n",
    "    df['after'] = df['after'].str.replace(r\"^(V(\\-|–|—))([A-ZÁÐÉÍÓÚÝÞÆÖa-záðéíóúýþæö]*sýsl[ua])$\", 'vestur\\g<2>\\g<3>').astype('str')\n",
    "    df['after'] = df['after'].str.replace(r\"^(N(\\-|–|—))([A-ZÁÐÉÍÓÚÝÞÆÖa-záðéíóúýþæö]*sýsl[ua])$\", 'norður\\g<2>\\g<3>').astype('str')\n",
    "\n",
    "    df['after'] = df['after'].str.replace(r\"^(SV(\\-|–|—))(?!(til|lands|átt|verðu|vert))([a-záðéíóúýþæö]+)$\", 'suðvestur\\g<4>').astype('str')\n",
    "    df['after'] = df['after'].str.replace(r\"^(V(\\-|–|—))(?!(til|lands|átt|verðu|vert))([a-záðéíóúýþæö]+)$\", 'vestur\\g<4>').astype('str')\n",
    "    df['after'] = df['after'].str.replace(r\"^(NV(\\-|–|—))(?!(til|lands|átt|verðu|vert))([a-záðéíóúýþæö]+)$\", 'norðvestur\\g<4>').astype('str')\n",
    "    df['after'] = df['after'].str.replace(r\"^(N(\\-|–|—))(?!(til|lands|átt|verðu|vert))([a-záðéíóúýþæö]+)$\", 'norður\\g<4>').astype('str')\n",
    "    df['after'] = df['after'].str.replace(r\"^(NA(\\-|–|—))(?!(til|lands|átt|verðu|vert))([a-záðéíóúýþæö]+)$\", 'norðaustur\\g<4>').astype('str')\n",
    "    df['after'] = df['after'].str.replace(r\"^(SA(\\-|–|—))(?!(til|lands|átt|verðu|vert))([a-záðéíóúýþæö]+)$\", 'suðaustur\\g<4>').astype('str')\n",
    "    df['after'] = df['after'].str.replace(r\"^(S(\\-|–|—))(?!(til|lands|átt|verðu|vert))([a-záðéíóúýþæö]+)$\", 'suður\\g<4>').astype('str')\n",
    "\n",
    "    df['after'] = df['after'].str.replace(r\"^(SV(\\-|–|—))(lands|átt|verðu|vert)$\", 'suðvestan\\g<3>').astype('str')\n",
    "    df['after'] = df['after'].str.replace(r\"^(V(\\-|–|—))(lands|átt|verðu|vert)$\", 'vestan\\g<3>').astype('str')\n",
    "    df['after'] = df['after'].str.replace(r\"^(NV(\\-|–|—))(lands|átt|verðu|vert)$\", 'norðvestan\\g<3>').astype('str')\n",
    "    df['after'] = df['after'].str.replace(r\"^(N(\\-|–|—))(lands|átt|verðu|vert)$\", 'norðan\\g<3>').astype('str')\n",
    "    df['after'] = df['after'].str.replace(r\"^(NA(\\-|–|—))(lands|átt|verðu|vert)$\", 'norðaustan\\g<3>').astype('str')\n",
    "    df['after'] = df['after'].str.replace(r\"^(A(\\-|–|—))(lands|átt|verðu|vert)$\", 'austan\\g<3>').astype('str')\n",
    "    df['after'] = df['after'].str.replace(r\"^(SA(\\-|–|—))(lands|átt|verðu|vert)$\", 'suðaustan\\g<3>').astype('str')\n",
    "    df['after'] = df['after'].str.replace(r\"^(S(\\-|–|—))(lands|átt|verðu|vert)$\", 'sunnan\\g<3>').astype('str')\n",
    "\n",
    "    df['after'] = df['after'].str.replace(r\"^(A(\\-|–|—))(land|landi)$\", 'austur\\g<3>').astype('str')\n",
    "\n",
    "    df['after'] = df['after'].str.replace(r\"^(SV(\\-|–|—))(til)$\", 'suðvestan \\g<3>').astype('str')\n",
    "    df['after'] = df['after'].str.replace(r\"^(V(\\-|–|—))(til)$\", 'vestan \\g<3>').astype('str')\n",
    "    df['after'] = df['after'].str.replace(r\"^(NV(\\-|–|—))(til)$\", 'norðvestan \\g<3>').astype('str')\n",
    "    df['after'] = df['after'].str.replace(r\"^(N(\\-|–|—))(til)$\", 'norðan \\g<3>').astype('str')\n",
    "    df['after'] = df['after'].str.replace(r\"^(NA(\\-|–|—))(til)$\", 'norðaustan \\g<3>').astype('str')\n",
    "    df['after'] = df['after'].str.replace(r\"^(A(\\-|–|—))(til)$\", 'austan \\g<3>').astype('str')\n",
    "    df['after'] = df['after'].str.replace(r\"^(SA(\\-|–|—))(til)$\", 'suðaustan \\g<3>').astype('str')\n",
    "    df['after'] = df['after'].str.replace(r\"^(S(\\-|–|—))(til)$\", 'sunnan \\g<3>').astype('str')\n",
    "    print(f\"directions done in {time.time() - start}\")"
   ]
  },
  {
   "cell_type": "code",
   "execution_count": 13,
   "metadata": {},
   "outputs": [],
   "source": [
    "# kemur bara ef það er núll á undan\n",
    "\n",
    "wlink_numbers = [('0', 'núll'),\n",
    "                 ('1', 'einn'),\n",
    "                 ('2', 'tveir'),\n",
    "                 ('3', 'þrír'),\n",
    "                 ('4', 'fjórir'),\n",
    "                 ('5', 'fimm'),\n",
    "                 ('6', 'sex'),\n",
    "                 ('7', 'sjö'),\n",
    "                 ('8', 'átta'),\n",
    "                 ('9', 'níu'),\n",
    "                 ('\\.', 'punktur'),\n",
    "                 ('\\-', 'bandstrik'),\n",
    "                 ('\\/', 'skástrik'),\n",
    "                 ('_', 'undirstrik'),\n",
    "                 ('@', 'hjá'),\n",
    "                 (':', 'tvípunktur'),\n",
    "                 ('=', 'jafnt og'),\n",
    "                 ('\\?', 'spurningarmerki'),\n",
    "                 ('!', 'upphrópunarmerki'),\n",
    "                 ('&', 'og'),\n",
    "                 ('%', 'prósent'),\n",
    "                 ('#', 'myllumerki')]\n",
    "\n",
    "\n",
    "def wlink_fun(substr):\n",
    "    substr = \" \".join(substr)\n",
    "    for symbol, word in wlink_numbers:\n",
    "        substr = re.sub(symbol, word, substr)\n",
    "    return substr\n",
    "\n",
    "\"\"\"expands weblinks, www.mbl.is/innlent -> w w w punktur m b l punktur i s skástrik i n n l e n t\"\"\"\n",
    "def replace_weblinks(df):\n",
    "    start = time.time()\n",
    "    for i in range(len(df)):\n",
    "        if df['type'].iloc[i] == 'wlink':\n",
    "            df['after'].iloc[i] = wlink_fun(df['after'].iloc[i])\n",
    "        else:\n",
    "            pass\n",
    "    print(f\"replace_weblinks done in {time.time() - start}\")"
   ]
  },
  {
   "cell_type": "code",
   "execution_count": 14,
   "metadata": {},
   "outputs": [],
   "source": [
    "\"\"\"separate words that are like 3N4L to 3 N 4 L, also from % and °\"\"\"\n",
    "def separate(df):\n",
    "    start = time.time()\n",
    "    df['after'] = df['after'].str.replace(r\"^(?i)2ja$\", 'tveggja').astype('str')\n",
    "    df['after'] = df['after'].str.replace(r\"^(?i)3ja$\", 'þriggja').astype('str')\n",
    "    df['after'] = df['after'].str.replace(r\"^(?i)4ð(a|i)$\", 'fjórð\\g<1>').astype('str')\n",
    "    df['after'] = df['after'].str.replace(r\"^(?i)5t(a|i)$\", 'fimmt\\g<1>').astype('str')\n",
    "    df['after'] = df['after'].str.replace(r\"^(?i)6t(a|i)$\", 'sjött\\g<1>').astype('str')\n",
    "    df['after'] = df['after'].str.replace(r\"^(?i)7d(a|i)$\", 'sjöund\\g<1>').astype('str')\n",
    "    df['after'] = df['after'].str.replace(r\"^(?i)8d(a|i)$\", 'áttund\\g<1>').astype('str')\n",
    "    df['after'] = df['after'].str.replace(r\"^(?i)9d(a|i)$\", 'níund\\g<1>').astype('str')\n",
    "    \n",
    "    df['after'] = df['after'].str.replace(r\"(?i)([a-záðéíóúýþæö]+)(\\d+)\", '\\g<1> \\g<2>').astype('str')\n",
    "    df['after'] = df['after'].str.replace(r\"(?i)(\\d+)([a-záðéíóúýþæö]+)\", '\\g<1> \\g<2>').astype('str')\n",
    "    df['after'] = df['after'].str.replace(r\"^([A-ZÁÐÉÍÓÚÝÞÆÖ]+)(\\-[A-ZÁÐÉÍÓÚÝÞÆÖa-záðéíóúýþæö]+)$\", \"\\g<1> \\g<2>\").astype(\"str\")\n",
    "    df['after'] = df['after'].str.replace(r\"^([A-ZÁÐÉÍÓÚÝÞÆÖa-záðéíóúýþæö]+\\-)([A-ZÁÐÉÍÓÚÝÞÆÖ]+)$\", \"\\g<1> \\g<2>\").astype(\"str\")\n",
    "    df['after'] = df['after'].str.replace(r\"(?i)([\\da-záðéíóúýþæö]+)(°)\", '\\g<1> \\g<2>').astype('str')\n",
    "    df['after'] = df['after'].str.replace(r\"(?i)([\\da-záðéíóúýþæö]+)(\\%)\", '\\g<1> \\g<2>').astype('str')\n",
    "    print(f\"separate done in {time.time() - start}\")"
   ]
  },
  {
   "cell_type": "code",
   "execution_count": 15,
   "metadata": {},
   "outputs": [],
   "source": [
    "\"\"\"separate 02.12.2014 to 02. 12. 2014 so they’re read as two ordinals and one cardinal\"\"\"\n",
    "def dates_in_numbers(df):\n",
    "    start = time.time()\n",
    "    df['after'] = df['after'].str.replace(r\"^(0?[1-9]|[12]\\d|3[01])\\.(0?[1-9]|1[012])\\.(\\d{3,4})$\", \" \\g<1>. \\g<2>. \\g<3>\").astype('str')\n",
    "    df['after'] = df['after'].str.replace(r\"^(0?[1-9]|[12]\\d|3[01])\\.(0?[1-9]|1[012])\\.$\", \" \\g<1>. \\g<2>.\").astype('str')\n",
    "    print(f\"dates_in_numbers done in {time.time() - start}\")"
   ]
  },
  {
   "cell_type": "code",
   "execution_count": 16,
   "metadata": {},
   "outputs": [],
   "source": [
    "\"\"\"561 1234 -> 561-1234 so it won’t be tokenized separately\"\"\"\n",
    "def phone_numbers(df):\n",
    "    start = time.time()\n",
    "    df['after'] = df['after'].str.replace(\"(\\d{3})( )(\\d{4})\", \" \\g<1>-\\g<3>\").astype('str')\n",
    "    print(f\"phone_numbers done in {time.time() - start}\")"
   ]
  },
  {
   "cell_type": "code",
   "execution_count": 17,
   "metadata": {},
   "outputs": [],
   "source": [
    "def first_functions(df):\n",
    "    replace_abbr_words(df)\n",
    "    denominator_measurement(df)\n",
    "    directions(df)\n",
    "    replace_weblinks(df)"
   ]
  },
  {
   "cell_type": "code",
   "execution_count": 18,
   "metadata": {
    "scrolled": true
   },
   "outputs": [
    {
     "name": "stdout",
     "output_type": "stream",
     "text": [
      "abbreviations done in 5.51167106628418\n",
      "demoniator_measure done in 0.5761139392852783\n",
      "directions done in 2.506467819213867\n",
      "replace_weblinks done in 0.1289970874786377\n"
     ]
    },
    {
     "name": "stderr",
     "output_type": "stream",
     "text": [
      "/Users/starspace/anaconda3/lib/python3.7/site-packages/pandas/core/indexing.py:671: SettingWithCopyWarning: \n",
      "A value is trying to be set on a copy of a slice from a DataFrame\n",
      "\n",
      "See the caveats in the documentation: https://pandas.pydata.org/pandas-docs/stable/user_guide/indexing.html#returning-a-view-versus-a-copy\n",
      "  self._setitem_with_indexer(indexer, value)\n"
     ]
    }
   ],
   "source": [
    "first_functions(sport_dataframe)"
   ]
  },
  {
   "cell_type": "code",
   "execution_count": null,
   "metadata": {},
   "outputs": [],
   "source": [
    "first_functions(other_dataframe)"
   ]
  },
  {
   "cell_type": "code",
   "execution_count": 19,
   "metadata": {},
   "outputs": [],
   "source": [
    "\"\"\"compares whether a word was changed, marking it as an abbreviation, not necessary in tts\"\"\"\n",
    "def df_comparison(df, col1, col2, typecol):\n",
    "    start = time.time()\n",
    "    df['compare'] = df[col1] == df[col2]\n",
    "    df.loc[((df['compare'] == False) & (df['type'] == \"\")), 'type'] = typecol\n",
    "    print(f\"df_comparison finished in {time.time() - start}\")"
   ]
  },
  {
   "cell_type": "code",
   "execution_count": 20,
   "metadata": {},
   "outputs": [
    {
     "name": "stdout",
     "output_type": "stream",
     "text": [
      "df_comparison finished in 0.20363473892211914\n"
     ]
    }
   ],
   "source": [
    "df_comparison(sport_dataframe, 'before', 'after', 'abbr')"
   ]
  },
  {
   "cell_type": "code",
   "execution_count": null,
   "metadata": {},
   "outputs": [],
   "source": [
    "df_comparison(other_dataframe, 'before', 'after', 'abbr')"
   ]
  },
  {
   "cell_type": "code",
   "execution_count": 21,
   "metadata": {},
   "outputs": [],
   "source": [
    "def second_functions(df):\n",
    "    separate(df)\n",
    "    dates_in_numbers(df)\n",
    "    phone_numbers(df)"
   ]
  },
  {
   "cell_type": "code",
   "execution_count": 22,
   "metadata": {},
   "outputs": [
    {
     "name": "stdout",
     "output_type": "stream",
     "text": [
      "separate done in 0.39779210090637207\n",
      "dates_in_numbers done in 0.05438089370727539\n",
      "phone_numbers done in 0.024616241455078125\n"
     ]
    }
   ],
   "source": [
    "second_functions(sport_dataframe)"
   ]
  },
  {
   "cell_type": "code",
   "execution_count": null,
   "metadata": {},
   "outputs": [],
   "source": [
    "second_functions(other_dataframe)"
   ]
  },
  {
   "cell_type": "markdown",
   "metadata": {},
   "source": [
    "## MAKE A FLAT DATAFRAME FOR MEASURE"
   ]
  },
  {
   "cell_type": "code",
   "execution_count": 23,
   "metadata": {},
   "outputs": [],
   "source": [
    "\"\"\"tokenize the words after an expansion of abbreviations, skip weblinks and ordinals (they are split up incorrectly)\"\"\"\n",
    "def tokenize_nsw(df, after_column):\n",
    "    start = time.time()\n",
    "    print(f\"length of dataframe is {len(df)}\")\n",
    "    # tokenize every cell of the dataframe to keep structure\n",
    "    for i in tqdm(range(len(df))):\n",
    "        if df['type'].iloc[i] == 'wlink' or df['type'].iloc[i] == 'ordinal':\n",
    "            df[after_column].iloc[i] = [df[after_column].iloc[i]]\n",
    "        else:\n",
    "            df[after_column].iloc[i] = [sentence.split() for sentence in split_into_sentences(df[after_column].iloc[i])][0]\n",
    "    print(f\"tokenize_nsw is done in {time.time() - start}\")\n",
    "\n",
    "\"\"\"remove words from brackets\"\"\"\n",
    "def flatten_nsw(df):\n",
    "    start = time.time()\n",
    "    # split expanded words into one word a row\n",
    "    df_expanded = pd.DataFrame([\n",
    "        [s_nr, w_nr, before, a, tag] for s_nr, w_nr, before, after, tag in df.values for a in after\n",
    "    ], columns=df.columns)\n",
    "    print(f\"flatten_nsw is done in {time.time() - start}\")\n",
    "    \n",
    "    return df_expanded"
   ]
  },
  {
   "cell_type": "code",
   "execution_count": 24,
   "metadata": {},
   "outputs": [
    {
     "name": "stdout",
     "output_type": "stream",
     "text": [
      "length of dataframe is 12106\n"
     ]
    },
    {
     "data": {
      "application/vnd.jupyter.widget-view+json": {
       "model_id": "cfb05b133d024b5da30d7864a8a90e73",
       "version_major": 2,
       "version_minor": 0
      },
      "text/plain": [
       "HBox(children=(FloatProgress(value=0.0, max=12106.0), HTML(value='')))"
      ]
     },
     "metadata": {},
     "output_type": "display_data"
    },
    {
     "name": "stdout",
     "output_type": "stream",
     "text": [
      "\n",
      "tokenize_nsw is done in 4.458677053451538\n"
     ]
    }
   ],
   "source": [
    "tokenize_nsw(sport_dataframe, 'after')"
   ]
  },
  {
   "cell_type": "code",
   "execution_count": null,
   "metadata": {},
   "outputs": [],
   "source": [
    "tokenize_nsw(other_dataframe, 'after')"
   ]
  },
  {
   "cell_type": "code",
   "execution_count": 25,
   "metadata": {},
   "outputs": [
    {
     "name": "stdout",
     "output_type": "stream",
     "text": [
      "flatten_nsw is done in 0.030373811721801758\n"
     ]
    }
   ],
   "source": [
    "sport_expanded = flatten_nsw(sport_dataframe[['sentence_id', 'token_id', 'before', 'after', 'type']])"
   ]
  },
  {
   "cell_type": "code",
   "execution_count": null,
   "metadata": {},
   "outputs": [],
   "source": [
    "other_expanded = flatten_nsw(other_dataframe[['sentence_id', 'token_id', 'before', 'after', 'type']])"
   ]
  },
  {
   "cell_type": "code",
   "execution_count": 26,
   "metadata": {},
   "outputs": [],
   "source": [
    "sport_dataframe_expanded = make_dataframe_for_abbr(sport_expanded, 'second', 'after')"
   ]
  },
  {
   "cell_type": "code",
   "execution_count": null,
   "metadata": {},
   "outputs": [],
   "source": [
    "other_dataframe_expanded = make_dataframe_for_abbr(other_expanded, 'second', 'after')"
   ]
  },
  {
   "cell_type": "code",
   "execution_count": 27,
   "metadata": {},
   "outputs": [
    {
     "name": "stdout",
     "output_type": "stream",
     "text": [
      "set_type done in 0.4164271354675293\n"
     ]
    }
   ],
   "source": [
    "sport_dataframe_expanded['after_measure'] = sport_dataframe_expanded['after']\n",
    "set_type(sport_dataframe_expanded)"
   ]
  },
  {
   "cell_type": "code",
   "execution_count": null,
   "metadata": {},
   "outputs": [],
   "source": [
    "other_dataframe_expanded['after_measure'] = other_dataframe_expanded['after']\n",
    "set_type(other_dataframe_expanded)"
   ]
  },
  {
   "cell_type": "markdown",
   "metadata": {},
   "source": [
    "## MEASUREMENTS"
   ]
  },
  {
   "cell_type": "markdown",
   "metadata": {},
   "source": [
    "#### Tonn"
   ]
  },
  {
   "cell_type": "code",
   "execution_count": 28,
   "metadata": {},
   "outputs": [],
   "source": [
    "def df_tonn(df):\n",
    "    print(\"df_tonn\")\n",
    "    df.loc[((df['sent2before'].str.match(\"^\"+ acc_words + \"$\")) & (df['sentbefore'].str.match(\"^((\\d{1,2}\\.)?(\\d{3}\\.?)*\\d+(,\\d+)?|\" + amounts + \")$\")) & (df['after_measure'].str.match(\"^t\\.?$\"))), 'after_measure'] = \"tonn\"\n",
    "    df.loc[((df['sent3before'].str.match(\"^\"+ acc_words + \"$\")) & (df['sent2before'].str.match(\"^(\\d{1,2}\\.)?(\\d{3}\\.?)*\\d+(,\\d+)?$\")) & (df['sentbefore'].str.match(\"^\" + amounts + \"$\")) & (df['after_measure'].str.match(\"^t\\.?$\"))), 'after_measure'] = \"tonn\"\n",
    "    df.loc[((df['sent2before'].str.match(\"^\"+ dat_words + \"$\")) & (df['sentbefore'].str.match(\"^((\\d{1,2}\\.)?(\\d{3}\\.?)*(\\d*1|\\d+(,\\d*)1))$\")) & (df['after_measure'].str.match(\"^t\\.?$\"))), 'after_measure'] = \"tonni\"\n",
    "    df.loc[((df['sent2before'].str.match(\"^\"+ gen_words + \"$\")) & (df['sentbefore'].str.match(\"^((\\d{1,2}\\.)?(\\d{3}\\.?)*\\d*(1|(,\\d*)1))$\")) & (df['after_measure'].str.match(\"^t\\.?$\"))), 'after_measure'] = \"tonns\"\n",
    "    df.loc[((df['sent2before'].str.match(\"^\"+ dat_words + \"$\")) & (df['sentbefore'].str.match(\"^((\\d{1,2}\\.)?(\\d{3}\\.?)*(\\d*[02-9]|\\d+(,\\d*[02-9]))|\" + amounts + \")$\")) & (df['after_measure'].str.match(\"^t\\.?$\"))), 'after_measure'] = \"tonnum\"\n",
    "    df.loc[((df['sent3before'].str.match(\"^\"+ dat_words + \"$\")) & (df['sent2before'].str.match(\"^(\\d{1,2}\\.)?(\\d{3}\\.?)*\\d+(,\\d+)?$\")) & (df['sentbefore'].str.match(\"^\" + amounts + \"$\")) & (df['after_measure'].str.match(\"^t\\.?$\"))), 'after_measure'] = \"tonnum\"    \n",
    "    df.loc[((df['sent2before'].str.match(\"^\"+ gen_words + \"$\")) & (df['sentbefore'].str.match(\"^((\\d{1,2}\\.)?(\\d{3}\\.?)*(\\d*[02-9]|\\d+(,\\d*[02-9]))|\" + amounts + \")$\")) & (df['after_measure'].str.match(\"^t\\.?$\"))), 'after_measure'] = \"tonna\"\n",
    "    df.loc[((df['sent3before'].str.match(\"^\"+ gen_words + \"$\")) & (df['sent2before'].str.match(\"^(\\d{1,2}\\.)?(\\d{3}\\.?)*\\d+(,\\d+)?$\")) & (df['sentbefore'].str.match(\"^\" + amounts + \"$\")) & (df['after_measure'].str.match(\"^t\\.?$\"))), 'after_measure'] = \"tonna\"       \n",
    "    df.loc[((df['sentbefore'].str.match(\"^((\\d{1,2}\\.)?(\\d{3}\\.?)*\\d+(,\\d+)?|\" + amounts + \")$\")) & (df['after_measure'].str.match(\"^t\\.?$\"))), 'after_measure'] = \"tonn\"\n",
    "    df.loc[((df['sent2before'].str.match(\"(\\d{1,2}\\.)?(\\d{3}\\.?)*\\d+(,\\d+)?$\")) & (df['sentbefore'].str.match(\"^\" + amounts + \"$\")) & (df['after_measure'].str.match(\"^t\\.?$\"))), 'after_measure'] = \"tonn\""
   ]
  },
  {
   "cell_type": "markdown",
   "metadata": {},
   "source": [
    "#### Hektarar"
   ]
  },
  {
   "cell_type": "code",
   "execution_count": 29,
   "metadata": {},
   "outputs": [],
   "source": [
    "def df_hektari(df):\n",
    "    print(\"df_hektari\")\n",
    "    df.loc[((df['sent2before'].str.match(\"^\"+ accdatgen_words_comb + \"$\")) & (df['sentbefore'].str.match(\"^((\\d{1,2}\\.)?(\\d{3}\\.?)*\\d*(1|(,\\d*)1))$\")) & (df['after_measure'].str.match(\"^ha\\.?$\"))), 'after_measure'] = \"hektara\"\n",
    "    df.loc[((df['sent3before'].str.match(\"^\"+ accgen_words + \"$\")) & (df['sent2before'].str.match(\"^(\\d{1,2}\\.)?(\\d{3}\\.?)*\\d+(,\\d+)?$\")) & (df['sentbefore'].str.match(\"^\" + amounts + \"$\")) & (df['after_measure'].str.match(\"^ha\\.?$\"))), 'after_measure'] = \"hektara\"\n",
    "    df.loc[((df['sent2before'].str.match(\"^\"+ accgen_words + \"$\")) & (df['sentbefore'].str.match(\"^((\\d{1,2}\\.)?(\\d{3}\\.?)*(\\d*[02-9]|\\d+(,\\d*[02-9]))|\" + amounts + \")$\")) & (df['after_measure'].str.match(\"^ha\\.?$\"))), 'after_measure'] = \"hektara\"\n",
    "    df.loc[((df['sent2before'].str.match(\"^\"+ dat_words + \"$\")) & (df['sentbefore'].str.match(\"^((\\d{1,2}\\.)?(\\d{3}\\.?)*(\\d*[02-9]|\\d+(,\\d*[02-9]))|\" + amounts + \")$\")) & (df['after_measure'].str.match(\"^ha\\.?$\"))), 'after_measure'] = \"hekturum\"\n",
    "    df.loc[((df['sent3before'].str.match(\"^\"+ dat_words + \"$\")) & (df['sent2before'].str.match(\"^(\\d{1,2}\\.)?(\\d{3}\\.?)*\\d+(,\\d+)?$\")) & (df['sentbefore'].str.match(\"^\" + amounts + \"$\")) & (df['after_measure'].str.match(\"^ha\\.?$\"))), 'after_measure'] = \"hekturum\"  \n",
    "    df.loc[((df['sentbefore'].str.match(\"^(\\d{1,2}\\.)?(\\d{3}\\.?)*\\d*(1|(,\\d*)1)$\")) & (df['after_measure'].str.match(\"^ha\\.?$\"))), 'after_measure'] = \"hektari\" \n",
    "    df.loc[((df['sentbefore'].str.match(\"^((\\d{1,2}\\.)?(\\d{3}\\.?)*(\\d*[02-9]|\\d+(,\\d*[02-9]))|\" + amounts + \")$\")) & (df['after_measure'].str.match(\"^ha\\.?$\"))), 'after_measure'] = \"hektarar\"\n",
    "    df.loc[((df['sent2before'].str.match(\"^(\\d{1,2}\\.)?(\\d{3}\\.?)*\\d+(,\\d+)?$\")) & (df['sentbefore'].str.match(\"^\" + amounts + \"$\")) & (df['after_measure'].str.match(\"^ha\\.?$\"))), 'after_measure'] = \"hektarar\"    \n"
   ]
  },
  {
   "cell_type": "markdown",
   "metadata": {},
   "source": [
    "#### somegram"
   ]
  },
  {
   "cell_type": "code",
   "execution_count": 30,
   "metadata": {},
   "outputs": [],
   "source": [
    "prefix_weight = [('nanó', 'n'),\n",
    "                 ('milli', 'm'),\n",
    "                 ('míkró', 'µ'),\n",
    "                 ('píkó', 'p'),\n",
    "                 ('attó', 'a'),\n",
    "                 ('zeptó', 'z'),\n",
    "                 ('yoktó', 'y')]\n",
    "\n",
    "def df_somegram(df):\n",
    "    print(\"df_somegram\")\n",
    "    for prefix, letter in tqdm(prefix_weight):\n",
    "        df.loc[((df['sent2before'].str.match(\"^\"+ acc_words + \"$\")) & (df['sentbefore'].str.match(\"^(\\d{1,2}\\.)?(\\d{3}\\.?)*\\d*(1|(,\\d*)1)$\")) & (df['after_measure'].str.match(\"^\" + letter + \"g\\.?$\"))), 'after_measure'] = prefix + \"gramm\"\n",
    "        df.loc[((df['sent2before'].str.match(\"^\"+ dat_words + \"$\")) & (df['sentbefore'].str.match(\"^(\\d{1,2}\\.)?(\\d{3}\\.?)*\\d*(1|(,\\d*)1)$\")) & (df['after_measure'].str.match(\"^\" + letter + \"g\\.?$\"))), 'after_measure'] = prefix + \"grammi\"\n",
    "        df.loc[((df['sent2before'].str.match(\"^\"+ gen_words + \"$\")) & (df['sentbefore'].str.match(\"^(\\d{1,2}\\.)?(\\d{3}\\.?)*\\d*(1|(,\\d*)1)$\")) & (df['after_measure'].str.match(\"^\" + letter + \"g\\.?$\"))), 'after_measure'] = prefix + \"gramms\"\n",
    "        df.loc[((df['sent2before'].str.match(\"^\"+ acc_words + \"$\")) & (df['sentbefore'].str.match(\"^((\\d{1,2}\\.)?(\\d{3}\\.?)*(\\d*[02-9]|\\d+(,\\d*[02-9]))|\" + amounts + \")$\")) & (df['after_measure'].str.match(\"^\" + letter + \"g\\.?$\"))), 'after_measure'] = prefix + \"grömm\"\n",
    "        df.loc[((df['sent3before'].str.match(\"^\"+ acc_words + \"$\")) & (df['sent2before'].str.match(\"^(\\d{1,2}\\.)?(\\d{3}\\.?)*\\d+(,\\d+)?$\")) & (df['sentbefore'].str.match(\"^\" + amounts + \"$\")) & (df['after_measure'].str.match(\"^\" + letter + \"g\\.?$\"))), 'after_measure'] = prefix + \"grömm\"\n",
    "        df.loc[((df['sent2before'].str.match(\"^\"+ dat_words + \"$\")) & (df['sentbefore'].str.match(\"^((\\d{1,2}\\.)?(\\d{3}\\.?)*(\\d*[02-9]|\\d+(,\\d*[02-9]))|\" + amounts + \")$\")) & (df['after_measure'].str.match(\"^\" + letter + \"g\\.?$\"))), 'after_measure'] = prefix + \"grömmum\"\n",
    "        df.loc[((df['sent3before'].str.match(\"^\"+ dat_words + \"$\")) & (df['sent2before'].str.match(\"^(\\d{1,2}\\.)?(\\d{3}\\.?)*\\d+(,\\d+)?$\")) & (df['sentbefore'].str.match(\"^\" + amounts + \"$\")) & (df['after_measure'].str.match(\"^\" + letter + \"g\\.?$\"))), 'after_measure'] = prefix + \"grömmum\"    \n",
    "        df.loc[((df['sent2before'].str.match(\"^\"+ gen_words + \"$\")) & (df['sentbefore'].str.match(\"^((\\d{1,2}\\.)?(\\d{3}\\.?)*(\\d*[02-9]|\\d+(,\\d*[02-9]))|\" + amounts + \")$\")) & (df['after_measure'].str.match(\"^\" + letter + \"g\\.?$\"))), 'after_measure'] = prefix + \"gramma\"\n",
    "        df.loc[((df['sent3before'].str.match(\"^\"+ gen_words + \"$\")) & (df['sent2before'].str.match(\"^(\\d{1,2}\\.)?(\\d{3}\\.?)*\\d+(,\\d+)?$\")) & (df['sentbefore'].str.match(\"^\" + amounts + \"$\")) & (df['after_measure'].str.match(\"^\" + letter + \"g\\.?$\"))), 'after_measure'] = prefix + \"gramma\"       \n",
    "        df.loc[((df['sentbefore'].str.match(\"^(\\d{1,2}\\.)?(\\d{3}\\.?)*(\\d*(1|(,\\d*)1))$\")) & (df['after_measure'].str.match(\"^\" + letter + \"g\\.?$\"))), 'after_measure'] = prefix + \"gramm\" \n",
    "        df.loc[((df['sentbefore'].str.match(\"^((\\d{1,2}\\.)?(\\d{3}\\.?)*(\\d*[02-9]|\\d+(,\\d*[02-9]))|\" + amounts + \")$\")) & (df['after_measure'].str.match(\"^\" + letter + \"g\\.?$\"))), 'after_measure'] = prefix + \"grömm\"\n",
    "        df.loc[((df['sent2before'].str.match(\"^(\\d{1,2}\\.)?(\\d{3}\\.?)*\\d+(,\\d+)?$\")) & (df['sentbefore'].str.match(\"^\" + amounts + \"$\")) & (df['after_measure'].str.match(\"^\" + letter + \"g\\.?$\"))), 'after_measure'] = prefix + \"grömm\"  \n",
    "\n",
    "    \n",
    "def df_somegram_noprior(df):\n",
    "    print(\"df_somegram_noprior\")\n",
    "    for prefix, letter in tqdm(prefix_weight[:3]):\n",
    "        df.loc[(df['after_measure'].str.match(\"^\" + letter + \"g\\.?$\")), 'after_measure'] = prefix + \"grömm\"  \n"
   ]
  },
  {
   "cell_type": "markdown",
   "metadata": {},
   "source": [
    "#### gram"
   ]
  },
  {
   "cell_type": "code",
   "execution_count": 31,
   "metadata": {},
   "outputs": [],
   "source": [
    "def df_gram(df):\n",
    "    print(\"df_gram\")\n",
    "    df.loc[((df['sent2before'].str.match(\"^\"+ acc_words + \"$\")) & (df['sentbefore'].str.match(\"^(\\d{1,2}\\.)?(\\d{3}\\.?)*\\d*(1|(,\\d*)1)$\")) & (df['after_measure'].str.match(\"^gr?\\.?$\"))), 'after_measure'] = \"gramm\"\n",
    "    df.loc[((df['sent2before'].str.match(\"^\"+ dat_words + \"$\")) & (df['sentbefore'].str.match(\"^(\\d{1,2}\\.)?(\\d{3}\\.?)*\\d*(1|(,\\d*)1)$\")) & (df['after_measure'].str.match(\"^gr?\\.?$\"))), 'after_measure'] = \"grammi\"\n",
    "    df.loc[((df['sent2before'].str.match(\"^\"+ gen_words + \"$\")) & (df['sentbefore'].str.match(\"^(\\d{1,2}\\.)?(\\d{3}\\.?)*\\d*(1|(,\\d*)1)$\")) & (df['after_measure'].str.match(\"^gr?\\.?$\"))), 'after_measure'] = \"gramms\"\n",
    "    df.loc[((df['sent2before'].str.match(\"^\"+ acc_words + \"$\")) & (df['sentbefore'].str.match(\"^((\\d{1,2}\\.)?(\\d{3}\\.?)*(\\d*[02-9]|\\d+(,\\d*[02-9]))|\" + amounts + \")$\")) & (df['after_measure'].str.match(\"^gr?\\.?$\"))), 'after_measure'] = \"grömm\"\n",
    "    df.loc[((df['sent3before'].str.match(\"^\"+ acc_words + \"$\")) & (df['sent2before'].str.match(\"^(\\d{1,2}\\.)?(\\d{3}\\.?)*\\d+(,\\d+)?$\")) & (df['sentbefore'].str.match(\"^\" + amounts + \"$\")) & (df['after_measure'].str.match(\"^gr?\\.?$\"))), 'after_measure'] = \"grömm\"\n",
    "    df.loc[((df['sent2before'].str.match(\"^\"+ dat_words + \"$\")) & (df['sentbefore'].str.match(\"^((\\d{1,2}\\.)?(\\d{3}\\.?)*(\\d*[02-9]|\\d+(,\\d*[02-9]))|\" + amounts + \")$\")) & (df['after_measure'].str.match(\"^gr?\\.?$\"))), 'after_measure'] = \"grömmum\"\n",
    "    df.loc[((df['sent3before'].str.match(\"^\"+ dat_words + \"$\")) & (df['sent2before'].str.match(\"^(\\d{1,2}\\.)?(\\d{3}\\.?)*\\d+(,\\d+)?$\")) & (df['sentbefore'].str.match(\"^\" + amounts + \"$\")) & (df['after_measure'].str.match(\"^gr?\\.?$\"))), 'after_measure'] = \"grömmum\"    \n",
    "    df.loc[((df['sent2before'].str.match(\"^\"+ gen_words + \"$\")) & (df['sentbefore'].str.match(\"^((\\d{1,2}\\.)?(\\d{3}\\.?)*(\\d*[02-9]|\\d+(,\\d*[02-9]))|\" + amounts + \")$\")) & (df['after_measure'].str.match(\"^gr?\\.?$\"))), 'after_measure'] = \"gramma\"\n",
    "    df.loc[((df['sent3before'].str.match(\"^\"+ gen_words + \"$\")) & (df['sent2before'].str.match(\"^(\\d{1,2}\\.)?(\\d{3}\\.?)*\\d+(,\\d+)?$\")) & (df['sentbefore'].str.match(\"^\" + amounts + \"$\")) & (df['after_measure'].str.match(\"^gr?\\.?$\"))), 'after_measure'] = \"gramma\"       \n",
    "    df.loc[((df['sentbefore'].str.match(\"^(\\d{1,2}\\.)?(\\d{3}\\.?)*\\d*(1|(,\\d*)1)$\")) & (df['after_measure'].str.match(\"^gr?\\.?$\"))), 'after_measure'] = \"gramm\" \n",
    "    df.loc[((df['sentbefore'].str.match(\"^((\\d{1,2}\\.)?(\\d{3}\\.?)*(\\d*[02-9]|\\d+(,\\d*[02-9]))|\" + amounts + \")$\")) & (df['after_measure'].str.match(\"^gr?\\.?$\"))), 'after_measure'] = \"grömm\"\n",
    "    df.loc[((df['sent2before'].str.match(\"^(\\d{1,2}\\.)?(\\d{3}\\.?)*\\d+(,\\d+)?$\")) & (df['sentbefore'].str.match(\"^\" + amounts + \"$\")) & (df['after_measure'].str.match(\"^gr?\\.?$\"))), 'after_measure'] = \"grömm\"  \n"
   ]
  },
  {
   "cell_type": "markdown",
   "metadata": {},
   "source": [
    "#### basegram"
   ]
  },
  {
   "cell_type": "code",
   "execution_count": 32,
   "metadata": {},
   "outputs": [],
   "source": [
    "base_weight = [('kíló', 'kg'),\n",
    "               ('pund', 'lbs')]\n",
    "\n",
    "def df_basegram(df):\n",
    "    print(\"df_basegram\")\n",
    "    for word, letters in tqdm(base_weight):\n",
    "        df.loc[((df['sent2before'].str.match(\"^\"+ acc_words + \"$\")) & (df['sentbefore'].str.match(\"^((\\d{1,2}\\.)?(\\d{3}\\.?)*\\d+(,\\d+)?|\" + amounts + \")$\")) & (df['after_measure'].str.match(\"^\" + letters + \"\\.?$\"))), 'after_measure'] = word\n",
    "        df.loc[((df['sent2before'].str.match(\"^\"+ dat_words + \"$\")) & (df['sentbefore'].str.match(\"^(\\d{1,2}\\.)?(\\d{3}\\.?)*\\d*(1|(,\\d*)1)$\")) & (df['after_measure'].str.match(\"^\" + letters + \"\\.?$\"))), 'after_measure'] = word + \"i\"\n",
    "        df.loc[((df['sent2before'].str.match(\"^\"+ gen_words + \"$\")) & (df['sentbefore'].str.match(\"^(\\d{1,2}\\.)?(\\d{3}\\.?)*\\d*(1|(,\\d*)1)$\")) & (df['after_measure'].str.match(\"^\" + letters + \"\\.?$\"))), 'after_measure'] = word + \"s\"\n",
    "        df.loc[((df['sent3before'].str.match(\"^\"+ acc_words + \"$\")) & (df['sent2before'].str.match(\"^(\\d{1,2}\\.)?(\\d{3}\\.?)*\\d+(,\\d+)?$\")) & (df['sentbefore'].str.match(\"^\" + amounts + \"$\")) & (df['after_measure'].str.match(\"^\" + letters + \"\\.?$\"))), 'after_measure'] = word\n",
    "        df.loc[((df['sent2before'].str.match(\"^\"+ dat_words + \"$\")) & (df['sentbefore'].str.match(\"^((\\d{1,2}\\.)?(\\d{3}\\.?)*(\\d*[02-9]|\\d+(,\\d*[02-9]))|\" + amounts + \")$\")) & (df['after_measure'].str.match(\"^\" + letters + \"\\.?$\"))), 'after_measure'] = word + \"um\"\n",
    "        df.loc[((df['sent3before'].str.match(\"^\"+ dat_words + \"$\")) & (df['sent2before'].str.match(\"^(\\d{1,2}\\.)?(\\d{3}\\.?)*\\d+(,\\d+)?$\")) & (df['sentbefore'].str.match(\"^\" + amounts + \"$\")) & (df['after_measure'].str.match(\"^\" + letters + \"\\.?$\"))), 'after_measure'] = word + \"um\"    \n",
    "        df.loc[((df['sent2before'].str.match(\"^\"+ gen_words + \"$\")) & (df['sentbefore'].str.match(\"^((\\d{1,2}\\.)?(\\d{3}\\.?)*(\\d*[02-9]|\\d+(,\\d*[02-9]))|\" + amounts + \")$\")) & (df['after_measure'].str.match(\"^\" + letters + \"\\.?$\"))), 'after_measure'] = word + \"a\"\n",
    "        df.loc[((df['sent3before'].str.match(\"^\"+ gen_words + \"$\")) & (df['sent2before'].str.match(\"^(\\d{1,2}\\.)?(\\d{3}\\.?)*\\d+(,\\d+)?$\")) & (df['sentbefore'].str.match(\"^\" + amounts + \"$\")) & (df['after_measure'].str.match(\"^\" + letters + \"\\.?$\"))), 'after_measure'] = word + \"a\"       \n",
    "        df.loc[((df['sentbefore'].str.match(\"^((\\d{1,2}\\.)?(\\d{3}\\.?)*\\d+(,\\d+)?|\" + amounts + \")$\")) & (df['after_measure'].str.match(\"^\" + letters + \"\\.?$\"))), 'after_measure'] = word\n",
    "        df.loc[((df['sent2before'].str.match(\"^(\\d{1,2}\\.)?(\\d{3}\\.?)*\\d+(,\\d+)?$\")) & (df['sentbefore'].str.match(\"^\" + amounts + \"$\")) & (df['after_measure'].str.match(\"^\" + letters + \"\\.?$\"))), 'after_measure'] = word \n",
    "    \n",
    "        df.loc[(df['after_measure'].str.match(\"^\" + letters + \"\\.?$\")), 'after_measure'] = word \n"
   ]
  },
  {
   "cell_type": "markdown",
   "metadata": {},
   "source": [
    "#### someliter"
   ]
  },
  {
   "cell_type": "code",
   "execution_count": 33,
   "metadata": {},
   "outputs": [],
   "source": [
    "prefix_liter = [('', ''),\n",
    "                 ('d', 'desi'),\n",
    "                 ('c', 'senti'),\n",
    "                 ('m', 'milli'),\n",
    "                 ('µ', 'míkró')]\n",
    "\n",
    "\n",
    "def df_someliter(df):\n",
    "    print(\"df_someliter\")\n",
    "    for letter, prefix in tqdm(prefix_liter):\n",
    "        df.loc[((df['sent2before'].str.match(\"^\"+ accdatgen_words_comb + \"$\")) & (df['sentbefore'].str.match(\"^(\\d{1,2}\\.)?(\\d{3}\\.?)*\\d*(1|(,\\d*)1)$\")) & (df['after_measure'].str.match(\"^\" + letter + \"[Ll]\\.?$\"))), 'after_measure'] = prefix + \"lítra\"\n",
    "        df.loc[((df['sent3before'].str.match(\"^\"+ accgen_words + \"$\")) & (df['sent2before'].str.match(\"^(\\d{1,2}\\.)?(\\d{3}\\.?)*\\d+(,\\d+)?$\")) & (df['sentbefore'].str.match(\"^\" + amounts + \"$\")) & (df['after_measure'].str.match(\"^\" + letter + \"[Ll]\\.?$\"))), 'after_measure'] = prefix + \"lítra\"\n",
    "        df.loc[((df['sent2before'].str.match(\"^\"+ accgen_words + \"$\")) & (df['sentbefore'].str.match(\"^((\\d{1,2}\\.)?(\\d{3}\\.?)*(\\d*[02-9]|\\d+(,\\d*[02-9])?)|\" + amounts + \")$\")) & (df['after_measure'].str.match(\"^\" + letter + \"[Ll]\\.?$\"))), 'after_measure'] = prefix + \"lítra\"\n",
    "        df.loc[((df['sent2before'].str.match(\"^\"+ dat_words + \"$\")) & (df['sentbefore'].str.match(\"^((\\d{1,2}\\.)?(\\d{3}\\.?)*(\\d*[02-9]|\\d+(,\\d*[02-9])?)|\" + amounts + \")$\")) & (df['after_measure'].str.match(\"^\" + letter + \"[Ll]\\.?$\"))), 'after_measure'] = prefix + \"lítrum\"\n",
    "        df.loc[((df['sent3before'].str.match(\"^\"+ dat_words + \"$\")) & (df['sent2before'].str.match(\"^(\\d{1,2}\\.)?(\\d{3}\\.?)*\\d+(,\\d+)?$\")) & (df['sentbefore'].str.match(\"^\" + amounts + \"$\")) & (df['after_measure'].str.match(\"^\" + letter + \"[Ll]\\.?$\"))), 'after_measure'] = prefix + \"lítrum\"  \n",
    "        df.loc[((df['sentbefore'].str.match(\"^(\\d{1,2}\\.)?(\\d{3}\\.?)*\\d*(1|(,\\d*)1)$\")) & (df['after_measure'].str.match(\"^\" + letter + \"[Ll]\\.?$\"))), 'after_measure'] = prefix + \"lítri\" \n",
    "        df.loc[((df['sentbefore'].str.match(\"^((\\d{1,2}\\.)?(\\d{3}\\.?)*(\\d*[02-9](,\\d+)?)|\" + amounts + \")$\")) & (df['after_measure'].str.match(\"^\" + letter + \"[Ll]\\.?$\"))), 'after_measure'] = prefix + \"lítrar\"\n",
    "        df.loc[((df['sent2before'].str.match(\"^(\\d{1,2}\\.)?(\\d{3}\\.?)*\\d+(,\\d+)?$\")) & (df['sentbefore'].str.match(\"^\" + amounts + \"$\")) & (df['after_measure'].str.match(\"^\" + letter + \"[Ll]\\.?$\"))), 'after_measure'] = prefix + \"lítrar\"\n",
    "\n",
    "    \n",
    "def df_someliter_no_prior(df):\n",
    "    print(\"df_someliter_noprior\")\n",
    "    for letter, prefix in tqdm(prefix_liter[1:]):\n",
    "        df.loc[((df['after_measure'].str.match(\"^\" + letter + \"l\\.?$\"))), 'after_measure'] = prefix + \"lítrar\"   \n"
   ]
  },
  {
   "cell_type": "markdown",
   "metadata": {},
   "source": [
    "#### somespoon"
   ]
  },
  {
   "cell_type": "code",
   "execution_count": 34,
   "metadata": {},
   "outputs": [],
   "source": [
    "prefix_spoon = [('t', 'te'),\n",
    "                ('m', 'mat')]\n",
    "def df_somespoon(df):\n",
    "    print(\"df_somespoon\")\n",
    "    for letter, prefix in tqdm(prefix_spoon):\n",
    "        df.loc[((df['sent2before'].str.match(\"^\"+ accdat_words + \"$\")) & (df['sentbefore'].str.match(\"^(\\d{1,2}\\.)?(\\d{3}\\.?)*\\d*(1|(,\\d*)1)$\")) & (df['after_measure'].str.match(\"^\" + letter + \"sk\\.?$\"))), 'after_measure'] = prefix + \"skeið\"\n",
    "        df.loc[((df['sent2before'].str.match(\"^\"+ gen_words + \"$\")) & (df['sentbefore'].str.match(\"^(\\d{1,2}\\.)?(\\d{3}\\.?)*\\d*(1|(,\\d*)1)$\")) & (df['after_measure'].str.match(\"^\" + letter + \"sk\\.?$\"))), 'after_measure'] = prefix + \"skeiðar\"\n",
    "        df.loc[((df['sent2before'].str.match(\"^\"+ acc_words + \"$\")) & (df['sentbefore'].str.match(\"^((\\d{1,2}\\.)?(\\d{3}\\.?)*(\\d*[02-9]|\\d+(,\\d*[02-9]))|\" + amounts + \")$\")) & (df['after_measure'].str.match(\"^\" + letter + \"sk\\.?$\"))), 'after_measure'] = prefix + \"skeiðar\"\n",
    "        df.loc[((df['sent3before'].str.match(\"^\"+ acc_words + \"$\")) & (df['sent2before'].str.match(\"^(\\d{1,2}\\.)?(\\d{3}\\.?)*\\d+(,\\d+)?$\")) & (df['sentbefore'].str.match(\"^\" + amounts + \"$\")) & (df['after_measure'].str.match(\"^\" + letter + \"sk\\.?$\"))), 'after_measure'] = prefix + \"skeiðar\"\n",
    "        df.loc[((df['sent2before'].str.match(\"^\"+ dat_words + \"$\")) & (df['sentbefore'].str.match(\"^((\\d{1,2}\\.)?(\\d{3}\\.?)*(\\d*[02-9]|\\d+(,\\d*[02-9]))|\" + amounts + \")$\")) & (df['after_measure'].str.match(\"^\" + letter + \"sk\\.?$\"))), 'after_measure'] = prefix + \"skeiðum\"\n",
    "        df.loc[((df['sent3before'].str.match(\"^\"+ dat_words + \"$\")) & (df['sent2before'].str.match(\"^(\\d{1,2}\\.)?(\\d{3}\\.?)*\\d+(,\\d+)?$\")) & (df['sentbefore'].str.match(\"^\" + amounts + \"$\")) & (df['after_measure'].str.match(\"^\" + letter + \"sk\\.?$\"))), 'after_measure'] = prefix + \"skeiðum\"    \n",
    "        df.loc[((df['sent2before'].str.match(\"^\"+ gen_words + \"$\")) & (df['sentbefore'].str.match(\"^((\\d{1,2}\\.)?(\\d{3}\\.?)*(\\d*[02-9]|\\d+(,\\d*[02-9]))|\" + amounts + \")$\")) & (df['after_measure'].str.match(\"^\" + letter + \"sk\\.?$\"))), 'after_measure'] = prefix + \"skeiða\"\n",
    "        df.loc[((df['sent3before'].str.match(\"^\"+ gen_words + \"$\")) & (df['sent2before'].str.match(\"^(\\d{1,2}\\.)?(\\d{3}\\.?)*\\d+(,\\d+)?$\")) & (df['sentbefore'].str.match(\"^\" + amounts + \"$\")) & (df['after_measure'].str.match(\"^\" + letter + \"sk\\.?$\"))), 'after_measure'] = prefix + \"skeiða\"       \n",
    "        df.loc[((df['sentbefore'].str.match(\"^(\\d{1,2}\\.)?(\\d{3}\\.?)*\\d*(1|(,\\d*)1)$\")) & (df['after_measure'].str.match(\"^\" + letter + \"sk\\.?$\"))), 'after_measure'] = prefix + \"skeið\"\n",
    "        df.loc[((df['sentbefore'].str.match(\"^((\\d{1,2}\\.)?(\\d{3}\\.?)*(\\d*[02-9]|\\d+(,\\d*[02-9]))|\" + amounts + \")$\")) & (df['after_measure'].str.match(\"^\" + letter + \"sk\\.?$\"))), 'after_measure'] = prefix + \"skeiðar\"\n",
    "        df.loc[((df['sent2before'].str.match(\"^(\\d{1,2}\\.)?(\\d{3}\\.?)*\\d+(,\\d+)?$\")) & (df['sentbefore'].str.match(\"^\" + amounts + \"$\")) & (df['after_measure'].str.match(\"^\" + letter + \"sk\\.?$\"))), 'after_measure'] = prefix + \"skeiðar\"\n",
    "\n",
    "        df.loc[(df['after_measure'].str.match(\"^\" + letter + \"sk\\.?$\")), 'after_measure'] = prefix + \"skeiðar\"\n"
   ]
  },
  {
   "cell_type": "markdown",
   "metadata": {},
   "source": [
    "#### Fet\n"
   ]
  },
  {
   "cell_type": "code",
   "execution_count": 35,
   "metadata": {},
   "outputs": [],
   "source": [
    "def df_fet(df):\n",
    "    print(\"df_fet\")\n",
    "    df.loc[((df['sent2before'].str.match(\"^\"+ acc_words + \"$\")) & (df['sentbefore'].str.match(\"^((\\d{1,2}\\.)?(\\d{3}\\.?)*\\d+(,\\d+)?|\" + amounts + \")$\")) & (df['after_measure'].str.match(\"^(\\′|ft\\.?)$\"))), 'after_measure'] = \"fet\"\n",
    "    df.loc[((df['sent3before'].str.match(\"^\"+ acc_words + \"$\")) & (df['sent2before'].str.match(\"^(\\d{1,2}\\.)?(\\d{3}\\.?)*\\d+(,\\d+)?$\")) & (df['sentbefore'].str.match(\"^\" + amounts + \"$\")) & (df['after_measure'].str.match(\"^(\\′|ft\\.?)$\"))), 'after_measure'] = \"fet\"\n",
    "    df.loc[((df['sent2before'].str.match(\"^\"+ dat_words + \"$\")) & (df['sentbefore'].str.match(\"^(\\d{1,2}\\.)?(\\d{3}\\.?)*\\d*(1|(,\\d*)1)$\")) & (df['after_measure'].str.match(\"^(\\′|ft\\.?)$\"))), 'after_measure'] = \"feti\"\n",
    "    df.loc[((df['sent2before'].str.match(\"^\"+ gen_words + \"$\")) & (df['sentbefore'].str.match(\"^(\\d{1,2}\\.)?(\\d{3}\\.?)*\\d*(1|(,\\d*)1)$\")) & (df['after_measure'].str.match(\"^(\\′|ft\\.?)$\"))), 'after_measure'] = \"fets\"\n",
    "    df.loc[((df['sent2before'].str.match(\"^\"+ dat_words + \"$\")) & (df['sentbefore'].str.match(\"^((\\d{1,2}\\.)?(\\d{3}\\.?)*(\\d*[02-9]|\\d+(,\\d*[02-9]))|\" + amounts + \")$\")) & (df['after_measure'].str.match(\"^(\\′|ft\\.?)$\"))), 'after_measure'] = \"fetum\"\n",
    "    df.loc[((df['sent3before'].str.match(\"^\"+ dat_words + \"$\")) & (df['sent2before'].str.match(\"^(\\d{1,2}\\.)?(\\d{3}\\.?)*\\d+(,\\d+)?$\")) & (df['sentbefore'].str.match(\"^\" + amounts + \"$\")) & (df['after_measure'].str.match(\"^(\\′|ft\\.?)$\"))), 'after_measure'] = \"fetum\"    \n",
    "    df.loc[((df['sent2before'].str.match(\"^\"+ gen_words + \"$\")) & (df['sentbefore'].str.match(\"^((\\d{1,2}\\.)?(\\d{3}\\.?)*(\\d*[02-9]|\\d+(,\\d*[02-9]))|\" + amounts + \")$\")) & (df['after_measure'].str.match(\"^(\\′|ft\\.?)$\"))), 'after_measure'] = \"feta\"\n",
    "    df.loc[((df['sent3before'].str.match(\"^\"+ gen_words + \"$\")) & (df['sent2before'].str.match(\"^(\\d{1,2}\\.)?(\\d{3}\\.?)*\\d+(,\\d+)?$\")) & (df['sentbefore'].str.match(\"^\" + amounts + \"$\")) & (df['after_measure'].str.match(\"^(\\′|ft\\.?)$\"))), 'after_measure'] = \"feta\"       \n",
    "    df.loc[((df['sentbefore'].str.match(\"^((\\d{1,2}\\.)?(\\d{3}\\.?)*(\\d*[02-9]|\\d+(,\\d*[02-9]))|\" + amounts + \")$\")) & (df['after_measure'].str.match(\"^(\\′|ft\\.?)$\"))), 'after_measure'] = \"fet\"\n",
    "    df.loc[((df['sent2before'].str.match(\"^(\\d{1,2}\\.)?(\\d{3}\\.?)*\\d+(,\\d+)?$\")) & (df['sentbefore'].str.match(\"^\" + amounts + \"$\")) & (df['after_measure'].str.match(\"^(\\′|ft\\.?)$\"))), 'after_measure'] = \"fet\"\n"
   ]
  },
  {
   "cell_type": "markdown",
   "metadata": {},
   "source": [
    "#### tomma"
   ]
  },
  {
   "cell_type": "code",
   "execution_count": 36,
   "metadata": {},
   "outputs": [],
   "source": [
    "def df_inch(df):\n",
    "    print(\"df_inch\")\n",
    "    df.loc[((df['sent2before'].str.match(\"^\"+ accdatgen_words_comb + \"$\")) & (df['sentbefore'].str.match(\"^(\\d{1,2}\\.)?(\\d{3}\\.?)*\\d*(1|(,\\d*)1)$\")) & (df['after_measure'].str.match(\"^\\″$\"))), 'after_measure'] = \"tommu\"\n",
    "    df.loc[((df['sent2before'].str.match(\"^\"+ acc_words + \"$\")) & (df['sentbefore'].str.match(\"^((\\d{1,2}\\.)?(\\d{3}\\.?)*(\\d*[02-9]|\\d+(,\\d*[02-9]))|\" + amounts + \")$\")) & (df['after_measure'].str.match(\"^\\″$\"))), 'after_measure'] = \"tommur\"\n",
    "    df.loc[((df['sent2before'].str.match(\"^\"+ dat_words + \"$\")) & (df['sentbefore'].str.match(\"^((\\d{1,2}\\.)?(\\d{3}\\.?)*(\\d*[02-9]|\\d+(,\\d*[02-9]))|\" + amounts + \")$\")) & (df['after_measure'].str.match(\"^\\″$\"))), 'after_measure'] = \"tommum\"\n",
    "    df.loc[((df['sent2before'].str.match(\"^\"+ gen_words + \"$\")) & (df['sentbefore'].str.match(\"^((\\d{1,2}\\.)?(\\d{3}\\.?)*(\\d*[02-9]|\\d+(,\\d*[02-9]))|\" + amounts + \")$\")) & (df['after_measure'].str.match(\"^\\″$\"))), 'after_measure'] = \"tomma\"\n",
    "    df.loc[((df['sentbefore'].str.match(\"^(\\d{1,2}\\.)?(\\d{3}\\.?)*\\d*(1|(,\\d*)1)$\")) & (df['after_measure'].str.match(\"^\\″$\"))), 'after_measure'] = \"tomma\"\n",
    "    df.loc[((df['sentbefore'].str.match(\"^(\\d{1,2}\\.)?(\\d{3}\\.?)*(\\d+(,\\d+)?|\" + amounts + \")$\")) & (df['after_measure'].str.match(\"^\\″$\"))), 'after_measure'] = \"tommur\" \n",
    "\n",
    "    "
   ]
  },
  {
   "cell_type": "markdown",
   "metadata": {},
   "source": [
    "#### metri"
   ]
  },
  {
   "cell_type": "code",
   "execution_count": 37,
   "metadata": {},
   "outputs": [],
   "source": [
    "def df_metri(df):\n",
    "    print(\"df_metri\")\n",
    "    df.loc[((df['sent2before'].str.match(\"^\"+ accdatgen_words_comb + \"$\")) & (df['sentbefore'].str.match(\"^(\\d{1,2}\\.)?(\\d{3}\\.?)*\\d*(1|(,\\d*)1)$\")) & (df['after_measure'].str.match(\"^m\\.?$\")) & (df['sentafter'].str.match(r\"^(?![kmgyabefstvö]\\.)(.*)$\"))), 'after_measure'] = \"metra\"\n",
    "    df.loc[((df['sent3before'].str.match(\"^\"+ accgen_words + \"$\")) & (df['sent2before'].str.match(\"^(\\d{1,2}\\.)?(\\d{3}\\.?)*\\d+(,\\d+)?$\")) & (df['sentbefore'].str.match(\"^\" + amounts + \"$\")) & (df['after_measure'].str.match(\"^m\\.?$\")) & (df['sentafter'].str.match(r\"^(?![kmgyabefstvö]\\.)(.*)$\"))), 'after_measure'] = \"metra\"\n",
    "    df.loc[((df['sent2before'].str.match(\"^\"+ accgen_words + \"$\")) & (df['sentbefore'].str.match(\"^((\\d{1,2}\\.)?(\\d{3}\\.?)*(\\d*[02-9]|\\d+(,\\d*[02-9]))|\" + amounts + \")$\")) & (df['after_measure'].str.match(\"^m\\.?$\")) & (df['sentafter'].str.match(r\"^(?![kmgyabefstvö]\\.)(.*)$\"))), 'after_measure'] = \"metra\"\n",
    "    df.loc[((df['sent2before'].str.match(\"^\"+ dat_words + \"$\")) & (df['sentbefore'].str.match(\"^((\\d{1,2}\\.)?(\\d{3}\\.?)*(\\d*[02-9]|\\d+(,\\d*[02-9]))|\" + amounts + \")$\")) & (df['after_measure'].str.match(\"^m\\.?$\")) & (df['sentafter'].str.match(r\"^(?![kmgyabefstvö]\\.)(.*)$\"))), 'after_measure'] = \"metrum\"\n",
    "    df.loc[((df['sent3before'].str.match(\"^\"+ dat_words + \"$\")) & (df['sent2before'].str.match(\"^(\\d{1,2}\\.)?(\\d{3}\\.?)*\\d+(,\\d+)?$\")) & (df['sentbefore'].str.match(\"^\" + amounts + \"$\")) & (df['after_measure'].str.match(\"^m\\.?$\")) & (df['sentafter'].str.match(r\"^(?![kmgyabefstvö]\\.)(.*)$\"))), 'after_measure'] = \"metrum\"  \n",
    "    df.loc[((df['sentbefore'].str.match(\"^(\\d{1,2}\\.)?(\\d{3}\\.?)*\\d*(1|(,\\d*)1)$\")) & (df['after_measure'].str.match(\"^m\\.?$\")) & (df['sentafter'].str.match(r\"^(?![kmgyabefstvö]\\.)(.*)$\"))), 'after_measure'] = \"metri\" \n",
    "    df.loc[((df['sentbefore'].str.match(\"^((\\d{1,2}\\.)?(\\d{3}\\.?)*(\\d*[02-9]|\\d+(,\\d*[02-9]))|\" + amounts + \")$\")) & (df['after_measure'].str.match(\"^m\\.?$\")) & (df['sentafter'].str.match(r\"^(?![kmgyabefstvö]\\.)(.*)$\"))), 'after_measure'] = \"metrar\"\n",
    "    df.loc[((df['sent2before'].str.match(\"^(\\d{1,2}\\.)?(\\d{3}\\.?)*\\d+(,\\d+)?$\")) & (df['sentbefore'].str.match(\"^\" + amounts + \"$\")) & (df['after_measure'].str.match(\"^m\\.?$\")) & (df['sentafter'].str.match(r\"^(?![kmgyabefstvö]\\.)(.*)$\"))), 'after_measure'] = \"metrar\"    \n"
   ]
  },
  {
   "cell_type": "markdown",
   "metadata": {},
   "source": [
    "#### somemeter"
   ]
  },
  {
   "cell_type": "code",
   "execution_count": 38,
   "metadata": {},
   "outputs": [],
   "source": [
    "prefix_meter = [('p', 'píkó'),\n",
    "                ('n', 'nanó'),\n",
    "                ('µ', 'míkró'),\n",
    "                ('m', 'milli'),\n",
    "                ('[cs]', 'senti'),\n",
    "                ('d', 'desi'),\n",
    "                ('k', 'kíló'),\n",
    "                ('N', 'njúton')]\n",
    "\n",
    "def df_somemeter(df):\n",
    "    print(\"df_somemeter\")\n",
    "    for letter, prefix in tqdm(prefix_meter):\n",
    "        df.loc[((df['sent2before'].str.match(\"^\"+ accdatgen_words_comb + \"$\")) & (df['sentbefore'].str.match(\"^(\\d{1,2}\\.)?(\\d{3}\\.?)*\\d*(1|(,\\d*)1)$\")) & (df['after_measure'].str.match(\"^\" + letter + \"m\\.?$\"))), 'after_measure'] = prefix + \"metra\"\n",
    "        df.loc[((df['sent3before'].str.match(\"^\"+ accgen_words + \"$\")) & (df['sent2before'].str.match(\"^(\\d{1,2}\\.)?(\\d{3}\\.?)*\\d+(,\\d+)?$\")) & (df['sentbefore'].str.match(\"^\" + amounts + \"$\")) & (df['after_measure'].str.match(\"^\" + letter + \"m\\.?$\"))), 'after_measure'] = prefix + \"metra\"\n",
    "        df.loc[((df['sent2before'].str.match(\"^\"+ accgen_words + \"$\")) & (df['sentbefore'].str.match(\"^((\\d{1,2}\\.)?(\\d{3}\\.?)*(\\d*[02-9]|\\d+(,\\d*[02-9]))|\" + amounts + \")$\")) & (df['after_measure'].str.match(\"^\" + letter + \"m\\.?$\"))), 'after_measure'] = prefix + \"metra\"\n",
    "        df.loc[((df['sent2before'].str.match(\"^\"+ dat_words + \"$\")) & (df['sentbefore'].str.match(\"^((\\d{1,2}\\.)?(\\d{3}\\.?)*(\\d*[02-9]|\\d+(,\\d*[02-9]))|\" + amounts + \")$\")) & (df['after_measure'].str.match(\"^\" + letter + \"m\\.?$\"))), 'after_measure'] = prefix + \"metrum\"\n",
    "        df.loc[((df['sent3before'].str.match(\"^\"+ dat_words + \"$\")) & (df['sent2before'].str.match(\"^(\\d{1,2}\\.)?(\\d{3}\\.?)*\\d+(,\\d+)?$\")) & (df['sentbefore'].str.match(\"^\" + amounts + \"$\")) & (df['after_measure'].str.match(\"^\" + letter + \"m\\.?$\"))), 'after_measure'] = prefix + \"metrum\"  \n",
    "        df.loc[((df['sentbefore'].str.match(\"^(\\d{1,2}\\.)?(\\d{3}\\.?)*\\d*(1|(,\\d*)1)$\")) & (df['after_measure'].str.match(\"^\" + letter + \"m\\.?$\"))), 'after_measure'] = prefix + \"metri\" \n",
    "        df.loc[((df['sentbefore'].str.match(\"^((\\d{1,2}\\.)?(\\d{3}\\.?)*(\\d*[02-9]|\\d+(,\\d*[02-9]))|\" + amounts + \")$\")) & (df['after_measure'].str.match(\"^\" + letter + \"m\\.?$\"))), 'after_measure'] = prefix + \"metrar\"\n",
    "        df.loc[((df['sent2before'].str.match(\"^(\\d{1,2}\\.)?(\\d{3}\\.?)*\\d+(,\\d+)?$\")) & (df['sentbefore'].str.match(\"^\" + amounts + \"$\")) & (df['after_measure'].str.match(\"^\" + letter + \"m\\.?$\"))), 'after_measure'] = prefix + \"metrar\"    \n",
    "        \n",
    "        df.loc[(df['after_measure'].str.match(\"^\" + letter + \"m\\.?$\")), 'after_measure'] = prefix + \"metrar\"    \n"
   ]
  },
  {
   "cell_type": "markdown",
   "metadata": {},
   "source": [
    "#### kwh"
   ]
  },
  {
   "cell_type": "code",
   "execution_count": 39,
   "metadata": {},
   "outputs": [],
   "source": [
    "watt_prefix = [('', ''), ('k', 'kíló'), ('M', 'Mega'), ('G', 'Gíga'), ('T', 'Tera')]\n",
    "\n",
    "def df_kwst(df):\n",
    "    print(\"df_kwst\")\n",
    "    for letter, prefix in tqdm(watt_prefix):\n",
    "        df.loc[((df['sent2before'].str.match(\"^\"+ accdat_words + \"$\")) & (df['sentbefore'].str.match(\"^(\\d{1,2}\\.)?(\\d{3}\\.?)*\\d*(1|(,\\d*)1)$\")) & (df['after_measure'].str.match(\"^\" + letter + \"[Ww]\\.?(st|h)\\.?$\"))), 'after_measure'] = prefix + \"vattstund\"\n",
    "        df.loc[((df['sent2before'].str.match(\"^\"+ gen_words + \"$\")) & (df['sentbefore'].str.match(\"^(\\d{1,2}\\.)?(\\d{3}\\.?)*\\d*(1|(,\\d*)1)$\")) & (df['after_measure'].str.match(\"^\" + letter + \"[Ww]\\.?(st|h)\\.?$\"))), 'after_measure'] = prefix + \"vattstundar\"\n",
    "        df.loc[((df['sent2before'].str.match(\"^\"+ acc_words + \"$\")) & (df['sentbefore'].str.match(\"^((\\d{1,2}\\.)?(\\d{3}\\.?)*(\\d*[02-9]|\\d+(,\\d*[02-9]))|\" + amounts + \")$\")) & (df['after_measure'].str.match(\"^\" + letter + \"[Ww]\\.?(st|h)\\.?$\"))), 'after_measure'] = prefix + \"vattstundir\"\n",
    "        df.loc[((df['sent3before'].str.match(\"^\"+ acc_words + \"$\")) & (df['sent2before'].str.match(\"^(\\d{1,2}\\.)?(\\d{3}\\.?)*\\d+(,\\d+)?$\")) & (df['sentbefore'].str.match(\"^\" + amounts + \"$\")) & (df['after_measure'].str.match(\"^\" + letter + \"[Ww]\\.?(st|h)\\.?$\"))), 'after_measure'] = prefix + \"vattstundir\"\n",
    "        df.loc[((df['sent2before'].str.match(\"^\"+ dat_words + \"$\")) & (df['sentbefore'].str.match(\"^((\\d{1,2}\\.)?(\\d{3}\\.?)*(\\d*[02-9]|\\d+(,\\d*[02-9]))|\" + amounts + \")$\")) & (df['after_measure'].str.match(\"^\" + letter + \"[Ww]\\.?(st|h)\\.?$\"))), 'after_measure'] = prefix + \"vattstundum\"\n",
    "        df.loc[((df['sent3before'].str.match(\"^\"+ dat_words + \"$\")) & (df['sent2before'].str.match(\"^(\\d{1,2}\\.)?(\\d{3}\\.?)*\\d+(,\\d+)?$\")) & (df['sentbefore'].str.match(\"^\" + amounts + \"$\")) & (df['after_measure'].str.match(\"^\" + letter + \"[Ww]\\.?(st|h)\\.?$\"))), 'after_measure'] = prefix + \"vattstundum\"    \n",
    "        df.loc[((df['sent2before'].str.match(\"^\"+ gen_words + \"$\")) & (df['sentbefore'].str.match(\"^((\\d{1,2}\\.)?(\\d{3}\\.?)*(\\d*[02-9]|\\d+(,\\d*[02-9]))|\" + amounts + \")$\")) & (df['after_measure'].str.match(\"^\" + letter + \"[Ww]\\.?(st|h)\\.?$\"))), 'after_measure'] = prefix + \"vattstunda\"\n",
    "        df.loc[((df['sent3before'].str.match(\"^\"+ gen_words + \"$\")) & (df['sent2before'].str.match(\"^(\\d{1,2}\\.)?(\\d{3}\\.?)*\\d+(,\\d+)?$\")) & (df['sentbefore'].str.match(\"^\" + amounts + \"$\")) & (df['after_measure'].str.match(\"^\" + letter + \"[Ww]\\.?(st|h)\\.?$\"))), 'after_measure'] = prefix + \"vattstunda\"       \n",
    "        df.loc[((df['sentbefore'].str.match(\"^(\\d{1,2}\\.)?(\\d{3}\\.?)*\\d*(1|(,\\d*)1)$\")) & (df['after_measure'].str.match(\"^\" + letter + \"[Ww]\\.?(st|h)\\.?$\"))), 'after_measure'] = prefix + \"vattstund\"\n",
    "        df.loc[((df['sentbefore'].str.match(\"^((\\d{1,2}\\.)?(\\d{3}\\.?)*(\\d*[02-9]|\\d+(,\\d*[02-9]))|\" + amounts + \")$\")) & (df['after_measure'].str.match(\"^\" + letter + \"[Ww]\\.?(st|h)\\.?$\"))), 'after_measure'] = prefix + \"vattstundir\"\n",
    "        df.loc[((df['sent2before'].str.match(\"^(\\d{1,2}\\.)?(\\d{3}\\.?)*\\d+(,\\d+)?$\")) & (df['sentbefore'].str.match(\"^\" + amounts + \"$\")) & (df['after_measure'].str.match(\"^\" + letter + \"[Ww]\\.?(st|h)\\.?$\"))), 'after_measure'] = prefix + \"vattstundir\"\n",
    "\n",
    "        df.loc[(df['after_measure'].str.match(\"^\" + letter + \"[Ww]\\.?(st|h)\\.?$\")), 'after_measure'] = prefix + \"vattstundir\"\n"
   ]
  },
  {
   "cell_type": "markdown",
   "metadata": {},
   "source": [
    "#### klst"
   ]
  },
  {
   "cell_type": "code",
   "execution_count": 40,
   "metadata": {},
   "outputs": [],
   "source": [
    "def df_klst(df):\n",
    "    print(\"df_klst\")\n",
    "    df.loc[((df['sent2before'].str.match(\"^\"+ accdat_words + \"$\")) & (df['sentbefore'].str.match(\"^(\\d{1,2}\\.)?(\\d{3}\\.?)*\\d*(1|(,\\d*)1)$\")) & (df['after_measure'].str.match(\"^klst\\.?$\"))), 'after_measure'] = \"klukkustund\"\n",
    "    df.loc[((df['sent2before'].str.match(\"^\"+ gen_words + \"$\")) & (df['sentbefore'].str.match(\"^(\\d{1,2}\\.)?(\\d{3}\\.?)*\\d*(1|(,\\d*)1)$\")) & (df['after_measure'].str.match(\"^klst\\.?$\"))), 'after_measure'] = \"klukkustundar\"\n",
    "    df.loc[((df['sent2before'].str.match(\"^\"+ acc_words + \"$\")) & (df['sentbefore'].str.match(\"^((\\d{1,2}\\.)?(\\d{3}\\.?)*(\\d*[02-9]|\\d+(,\\d*[02-9]))|\" + amounts + \")$\")) & (df['after_measure'].str.match(\"^klst\\.?$\"))), 'after_measure'] = \"klukkustundir\"\n",
    "    df.loc[((df['sent3before'].str.match(\"^\"+ acc_words + \"$\")) & (df['sent2before'].str.match(\"^(\\d{1,2}\\.)?(\\d{3}\\.?)*\\d+(,\\d+)?$\")) & (df['sentbefore'].str.match(\"^\" + amounts + \"$\")) & (df['after_measure'].str.match(\"^klst\\.?$\"))), 'after_measure'] = \"klukkustundir\"\n",
    "    df.loc[((df['sent2before'].str.match(\"^\"+ dat_words + \"$\")) & (df['sentbefore'].str.match(\"^((\\d{1,2}\\.)?(\\d{3}\\.?)*(\\d*[02-9]|\\d+(,\\d*[02-9]))|\" + amounts + \")$\")) & (df['after_measure'].str.match(\"^klst\\.?$\"))), 'after_measure'] = \"klukkustundum\"\n",
    "    df.loc[((df['sent3before'].str.match(\"^\"+ dat_words + \"$\")) & (df['sent2before'].str.match(\"^(\\d{1,2}\\.)?(\\d{3}\\.?)*\\d+(,\\d+)?$\")) & (df['sentbefore'].str.match(\"^\" + amounts + \"$\")) & (df['after_measure'].str.match(\"^klst\\.?$\"))), 'after_measure'] = \"klukkustundum\"    \n",
    "    df.loc[((df['sent2before'].str.match(\"^\"+ gen_words + \"$\")) & (df['sentbefore'].str.match(\"^((\\d{1,2}\\.)?(\\d{3}\\.?)*(\\d*[02-9]|\\d+(,\\d*[02-9]))|\" + amounts + \")$\")) & (df['after_measure'].str.match(\"^klst\\.?$\"))), 'after_measure'] = \"klukkustunda\"\n",
    "    df.loc[((df['sent3before'].str.match(\"^\"+ gen_words + \"$\")) & (df['sent2before'].str.match(\"^(\\d{1,2}\\.)?(\\d{3}\\.?)*\\d+(,\\d+)?$\")) & (df['sentbefore'].str.match(\"^\" + amounts + \"$\")) & (df['after_measure'].str.match(\"^klst\\.?$\"))), 'after_measure'] = \"klukkustunda\"       \n",
    "    df.loc[((df['sentbefore'].str.match(\"^(\\d{1,2}\\.)?(\\d{3}\\.?)*\\d*(1|(,\\d*)1)$\")) & (df['after_measure'].str.match(\"^klst\\.?$\"))), 'after_measure'] = \"klukkustund\"\n",
    "    df.loc[((df['sentbefore'].str.match(\"^((\\d{1,2}\\.)?(\\d{3}\\.?)*(\\d*[02-9]|\\d+(,\\d*[02-9]))|\" + amounts + \")$\")) & (df['after_measure'].str.match(\"^klst\\.?$\"))), 'after_measure'] = \"klukkustundir\"\n",
    "    df.loc[((df['sent2before'].str.match(\"^(\\d{1,2}\\.)?(\\d{3}\\.?)*\\d+(,\\d+)?$\")) & (df['sentbefore'].str.match(\"^\" + amounts + \"$\")) & (df['after_measure'].str.match(\"^klst\\.?$\"))), 'after_measure'] = \"klukkustundir\"\n",
    "\n",
    "    df.loc[(df['after_measure'].str.match(\"^klst\\.?$\")), 'after_measure'] = \"klukkustundir\"\n"
   ]
  },
  {
   "cell_type": "markdown",
   "metadata": {},
   "source": [
    "#### sometime"
   ]
  },
  {
   "cell_type": "code",
   "execution_count": 41,
   "metadata": {},
   "outputs": [],
   "source": [
    "prefix_time = [('mín()?', 'mínút'),\n",
    "               ('s(ek)?', 'sekúnd'),\n",
    "               ('ms(ek)?', 'millisekúnd')]\n",
    "\n",
    "def df_sometime(df):\n",
    "    print(\"df_sometime\")\n",
    "    for letters, prefix in tqdm(prefix_time):\n",
    "        df.loc[((df['sent2before'].str.match(\"^\"+ accdatgen_words_comb + \"$\")) & (df['sentbefore'].str.match(\"^(\\d{1,2}\\.)?(\\d{3}\\.?)*\\d*(1|(,\\d*)1)$\")) & (df['after_measure'].str.match(\"^\" + letters + \"\\.?$\"))), 'after_measure'] = prefix + \"u\"\n",
    "        df.loc[((df['sent3before'].str.match(\"^\"+ acc_words + \"$\")) & (df['sent2before'].str.match(\"^(\\d{1,2}\\.)?(\\d{3}\\.?)*\\d+(,\\d+)?$\")) & (df['sentbefore'].str.match(\"^\" + amounts + \"$\")) & (df['after_measure'].str.match(\"^\" + letters + \"\\.?$\"))), 'after_measure'] = prefix + \"ur\"\n",
    "        df.loc[((df['sent2before'].str.match(\"^\"+ acc_words + \"$\")) & (df['sentbefore'].str.match(\"^((\\d{1,2}\\.)?(\\d{3}\\.?)*(\\d*[02-9]|\\d+(,\\d*[02-9]))|\" + amounts + \")$\")) & (df['after_measure'].str.match(\"^\" + letters + \"\\.?$\"))), 'after_measure'] = prefix + \"ur\"\n",
    "        df.loc[((df['sent2before'].str.match(\"^\"+ dat_words + \"$\")) & (df['sentbefore'].str.match(\"^((\\d{1,2}\\.)?(\\d{3}\\.?)*(\\d*[02-9]|\\d+(,\\d*[02-9]))|\" + amounts + \")$\")) & (df['after_measure'].str.match(\"^\" + letters + \"\\.?$\"))), 'after_measure'] = prefix + \"um\"\n",
    "        df.loc[((df['sent3before'].str.match(\"^\"+ dat_words + \"$\")) & (df['sent2before'].str.match(\"^(\\d{1,2}\\.)?(\\d{3}\\.?)*\\d+(,\\d+)?$\")) & (df['sentbefore'].str.match(\"^\" + amounts + \"$\")) & (df['after_measure'].str.match(\"^\" + letters + \"\\.?$\"))), 'after_measure'] = prefix + \"um\"\n",
    "        df.loc[((df['sent3before'].str.match(\"^\"+ gen_words + \"$\")) & (df['sent2before'].str.match(\"^(\\d{1,2}\\.)?(\\d{3}\\.?)*\\d+(,\\d+)?$\")) & (df['sentbefore'].str.match(\"^\" + amounts + \"$\")) & (df['after_measure'].str.match(\"^\" + letters + \"\\.?$\"))), 'after_measure'] = prefix + \"na\"\n",
    "        df.loc[((df['sent2before'].str.match(\"^\"+ gen_words + \"$\")) & (df['sentbefore'].str.match(\"^((\\d{1,2}\\.)?(\\d{3}\\.?)*(\\d*[02-9]|\\d+(,\\d*[02-9]))|\" + amounts + \")$\")) & (df['after_measure'].str.match(\"^\" + letters + \"\\.?$\"))), 'after_measure'] = prefix + \"na\"\n",
    "        df.loc[((df['sentbefore'].str.match(\"^(\\d{1,2}\\.)?(\\d{3}\\.?)*\\d*(1|(,\\d*)1)$\")) & (df['after_measure'].str.match(\"^\" + letters + \"\\.?$\"))), 'after_measure'] = prefix + \"a\" \n",
    "        df.loc[((df['sentbefore'].str.match(\"^((\\d{1,2}\\.)?(\\d{3}\\.?)*(\\d*[02-9]|\\d+(,\\d*[02-9]))|\" + amounts + \")$\")) & (df['after_measure'].str.match(\"^\" + letters + \"\\.?$\"))), 'after_measure'] = prefix + \"ur\"\n",
    "        df.loc[((df['sent2before'].str.match(\"^(\\d{1,2}\\.)?(\\d{3}\\.?)*\\d+(,\\d+)?$\")) & (df['sentbefore'].str.match(\"^\" + amounts + \"$\")) & (df['after_measure'].str.match(\"^\" + letters + \"\\.?$\"))), 'after_measure'] = prefix + \"ur\"\n",
    "\n"
   ]
  },
  {
   "cell_type": "markdown",
   "metadata": {},
   "source": [
    "#### króna"
   ]
  },
  {
   "cell_type": "code",
   "execution_count": 42,
   "metadata": {},
   "outputs": [],
   "source": [
    "def df_crown(df):\n",
    "    print(\"df_crown\")\n",
    "    df.loc[((df['sent2before'].str.match(\"^\"+ accdatgen_words_comb + \"$\")) & (df['sentbefore'].str.match(\"^(\\d{1,2}\\.)?(\\d{3}\\.?)*\\d*(1|(,\\d*)1)$\")) & (df['after_measure'].str.match(\"^kr\\.?\\-?$\"))), 'after_measure'] = \"krónu\"\n",
    "    df.loc[((df['sent3before'].str.match(\"^\"+ acc_words + \"$\")) & (df['sent2before'].str.match(\"^(\\d{1,2}\\.)?(\\d{3}\\.?)*\\d+(,\\d+)?$\")) & (df['sentbefore'].str.match(\"^\" + amounts + \"$\")) & (df['after_measure'].str.match(\"^kr\\.?\\-?$\"))), 'after_measure'] = \"krónur\"\n",
    "    df.loc[((df['sent2before'].str.match(\"^\"+ acc_words + \"$\")) & (df['sentbefore'].str.match(\"^((\\d{1,2}\\.)?(\\d{3}\\.?)*(\\d*[02-9]|\\d+(,\\d*[02-9]))|\" + amounts + \")$\")) & (df['after_measure'].str.match(\"^kr\\.?\\-?$\"))), 'after_measure'] = \"krónur\"\n",
    "    df.loc[((df['sent2before'].str.match(\"^\"+ dat_words + \"$\")) & (df['sentbefore'].str.match(\"^((\\d{1,2}\\.)?(\\d{3}\\.?)*(\\d*[02-9]|\\d+(,\\d*[02-9]))|\" + amounts + \")$\")) & (df['after_measure'].str.match(\"^kr\\.?\\-?$\"))), 'after_measure'] = \"krónum\"\n",
    "    df.loc[((df['sent3before'].str.match(\"^\"+ dat_words + \"$\")) & (df['sent2before'].str.match(\"^(\\d{1,2}\\.)?(\\d{3}\\.?)*\\d+(,\\d+)?$\")) & (df['sentbefore'].str.match(\"^\" + amounts + \"$\")) & (df['after_measure'].str.match(\"^kr\\.?\\-?$\"))), 'after_measure'] = \"krónum\"\n",
    "    df.loc[((df['sent3before'].str.match(\"^\"+ gen_words + \"$\")) & (df['sent2before'].str.match(\"^(\\d{1,2}\\.)?(\\d{3}\\.?)*\\d+(,\\d+)?$\")) & (df['sentbefore'].str.match(\"^\" + amounts + \"$\")) & (df['after_measure'].str.match(\"^kr\\.?\\-?$\"))), 'after_measure'] = \"króna\"\n",
    "    df.loc[((df['sent2before'].str.match(\"^\"+ gen_words + \"$\")) & (df['sentbefore'].str.match(\"^((\\d{1,2}\\.)?(\\d{3}\\.?)*(\\d*[02-9]|\\d+(,\\d*[02-9]))|\" + amounts + \")$\")) & (df['after_measure'].str.match(\"^kr\\.?\\-?$\"))), 'after_measure'] = \"króna\"\n",
    "    df.loc[((df['sentbefore'].str.match(\"^(\\d{1,2}\\.)?(\\d{3}\\.?)*\\d*(1|(,\\d*)1)$\")) & (df['after_measure'].str.match(\"^kr\\.?\\-?$\"))), 'after_measure'] = \"króna\"\n",
    "    df.loc[((df['sentafter'].str.match(\"^(\\d{1,2}\\.)?(\\d{3}\\.?)*\\d*(1|(,\\d*)1)$\")) & (df['after_measure'].str.match(\"^kr\\.?\\-?$\"))), 'after_measure'] = \"króna\" \n",
    "    df.loc[((df['sentbefore'].str.match(\"^(\\d{1,2}\\.)?(\\d{3}\\.?)*(\\d+(,\\d+)?|\" + amounts + \")$\")) & (df['after_measure'].str.match(\"^kr\\.?\\-?$\"))), 'after_measure'] = \"krónur\"\n",
    "    df.loc[((df['sentafter'].str.match(\"^((\\d{1,2}\\.)?(\\d{3}\\.?)*(\\d*[02-9]|\\d+(,\\d*[02-9]))|\" + amounts + \")$\")) & (df['after_measure'].str.match(\"^kr\\.?\\-?$\"))), 'after_measure'] = \"krónur\"\n",
    "    df.loc[((df['sent2before'].str.match(\"^(\\d{1,2}\\.)?(\\d{3}\\.?)*\\d+(,\\d+)?$\")) & (df['sentbefore'].str.match(\"^\" + amounts + \"$\")) & (df['after_measure'].str.match(\"^kr\\.?\\-?$\"))), 'after_measure'] = \"krónur\"    \n",
    "\n",
    "    df['after_measure'] = df['after_measure'].str.replace(r\"^kr\\. (\\d{1,2}\\.)?(\\d{3}\\.?)*\\d*(1|(,\\d*)1)$\", '\\g<1> króna').astype('str')\n",
    "    df['after_measure'] = df['after_measure'].str.replace(r\"^kr\\.(\\d{1,2}\\.)?(\\d{3}\\.?)*\\d*([02-9]|(,\\d*)[02-9])$\", '\\g<1> krónur').astype('str')\n"
   ]
  },
  {
   "cell_type": "markdown",
   "metadata": {},
   "source": [
    "#### currencies"
   ]
  },
  {
   "cell_type": "code",
   "execution_count": 43,
   "metadata": {},
   "outputs": [],
   "source": [
    "def df_dollari(df):\n",
    "    print(\"df_dollari\")\n",
    "    df.loc[((df['sent2before'].str.match(\"^\"+ accdatgen_words_comb + \"$\")) & (df['sentbefore'].str.match(\"^(\\d{1,2}\\.)?(\\d{3}\\.?)*\\d*(1|(,\\d*)1)$\")) & (df['after_measure'].str.match(\"^\\$$\"))), 'after_measure'] = \"dollara\"\n",
    "    df.loc[((df['sent3before'].str.match(\"^\"+ accgen_words + \"$\")) & (df['sent2before'].str.match(\"^(\\d{1,2}\\.)?(\\d{3}\\.?)*\\d+(,\\d+)?$\")) & (df['sentbefore'].str.match(\"^\" + amounts + \"$\")) & (df['after_measure'].str.match(\"^\\$$\"))), 'after_measure'] = \"dollara\"\n",
    "    df.loc[((df['sent2before'].str.match(\"^\"+ accgen_words + \"$\")) & (df['sentbefore'].str.match(\"^((\\d{1,2}\\.)?(\\d{3}\\.?)*(\\d*[02-9]|\\d+(,\\d*[02-9]))|\" + amounts + \")$\")) & (df['after_measure'].str.match(\"^\\$$\"))), 'after_measure'] = \"dollara\"\n",
    "    df.loc[((df['sent2before'].str.match(\"^\"+ dat_words + \"$\")) & (df['sentbefore'].str.match(\"^((\\d{1,2}\\.)?(\\d{3}\\.?)*(\\d*[02-9]|\\d+(,\\d*[02-9]))|\" + amounts + \")$\")) & (df['after_measure'].str.match(\"^\\$$\"))), 'after_measure'] = \"dollurum\"\n",
    "    df.loc[((df['sent3before'].str.match(\"^\"+ dat_words + \"$\")) & (df['sent2before'].str.match(\"^(\\d{1,2}\\.)?(\\d{3}\\.?)*\\d+(,\\d+)?$\")) & (df['sentbefore'].str.match(\"^\" + amounts + \"$\")) & (df['after_measure'].str.match(\"^\\$$\"))), 'after_measure'] = \"dollurum\"  \n",
    "    df.loc[((df['sentbefore'].str.match(\"^(\\d{1,2}\\.)?(\\d{3}\\.?)*\\d*(1|(,\\d*)1)$\")) & (df['after_measure'].str.match(\"^\\$$\"))), 'after_measure'] = \"dollari\" \n",
    "    df.loc[((df['sentbefore'].str.match(\"^((\\d{1,2}\\.)?(\\d{3}\\.?)*(\\d*[02-9]|\\d+(,\\d*[02-9]))|\" + amounts + \")$\")) & (df['after_measure'].str.match(\"^\\$$\"))), 'after_measure'] = \"dollarar\"\n",
    "    df.loc[((df['sent2before'].str.match(\"^(\\d{1,2}\\.)?(\\d{3}\\.?)*\\d+(,\\d+)?$\")) & (df['sentbefore'].str.match(\"^\" + amounts + \"$\")) & (df['after_measure'].str.match(\"^\\$$\"))), 'after_measure'] = \"dollarar\"\n",
    "        \n",
    "    df['after_measure'] = df['after_measure'].str.replace(r\"^(\\d{1,2}\\.)?(\\d{3}\\.?)*\\d*(1|(,\\d*)1)\\$$\", '\\g<1> dollari').astype('str')\n",
    "    df['after_measure'] = df['after_measure'].str.replace(r\"^(\\d{1,2}\\.)?(\\d{3}\\.?)*\\d*([02-9]|(,\\d*)[02-9])\\$$\", '\\g<1> dollarar').astype('str')\n",
    "    \n",
    "    df['after_measure'] = df['after_measure'].str.replace(r\"^\\$((\\d{1,2}\\.)?(\\d{3}\\.?)*\\d*(1|(,\\d*)1))$\", '\\g<1> dollari').astype('str')\n",
    "    df['after_measure'] = df['after_measure'].str.replace(r\"^\\$((\\d{1,2}\\.)?(\\d{3}\\.?)*\\d*([02-9]|(,\\d*)[02-9]))$\", '\\g<1> dollarar').astype('str')\n",
    "    \n",
    "    df['after_measure'] = df['after_measure'].str.replace(r\"^\\$$\", 'dollarar').astype('str')\n"
   ]
  },
  {
   "cell_type": "code",
   "execution_count": 44,
   "metadata": {},
   "outputs": [],
   "source": [
    "def df_pound(df):\n",
    "    print(\"df_pound\")\n",
    "    df.loc[((df['sent2before'].str.match(\"^\"+ acc_words + \"$\")) & (df['sentbefore'].str.match(\"^((\\d{1,2}\\.)?(\\d{3}\\.?)*\\d+(,\\d+)?|\" + amounts + \")$\")) & (df['after_measure'].str.match(\"^£$\"))), 'after_measure'] = \"pund\"\n",
    "    df.loc[((df['sent3before'].str.match(\"^\"+ acc_words + \"$\")) & (df['sent2before'].str.match(\"^(\\d{1,2}\\.)?(\\d{3}\\.?)*\\d+(,\\d+)?$\")) & (df['sentbefore'].str.match(\"^\" + amounts + \"$\")) & (df['after_measure'].str.match(\"^£$\"))), 'after_measure'] = \"pund\"\n",
    "    df.loc[((df['sent2before'].str.match(\"^\"+ dat_words + \"$\")) & (df['sentbefore'].str.match(\"^(\\d{1,2}\\.)?(\\d{3}\\.?)*\\d*(1|(,\\d*)1)$\")) & (df['after_measure'].str.match(\"^£$\"))), 'after_measure'] = \"pundi\"\n",
    "    df.loc[((df['sent2before'].str.match(\"^\"+ gen_words + \"$\")) & (df['sentbefore'].str.match(\"^(\\d{1,2}\\.)?(\\d{3}\\.?)*\\d*(1|(,\\d*)1)$\")) & (df['after_measure'].str.match(\"^£$\"))), 'after_measure'] = \"punds\"\n",
    "    df.loc[((df['sent2before'].str.match(\"^\"+ dat_words + \"$\")) & (df['sentbefore'].str.match(\"^((\\d{1,2}\\.)?(\\d{3}\\.?)*(\\d*[02-9]|\\d+(,\\d*[02-9]))|\" + amounts + \")$\")) & (df['after_measure'].str.match(\"^£$\"))), 'after_measure'] = \"pundum\"\n",
    "    df.loc[((df['sent3before'].str.match(\"^\"+ dat_words + \"$\")) & (df['sent2before'].str.match(\"^(\\d{1,2}\\.)?(\\d{3}\\.?)*\\d+(,\\d+)?$\")) & (df['sentbefore'].str.match(\"^\" + amounts + \"$\")) & (df['after_measure'].str.match(\"^£$\"))), 'after_measure'] = \"pundum\"    \n",
    "    df.loc[((df['sent2before'].str.match(\"^\"+ gen_words + \"$\")) & (df['sentbefore'].str.match(\"^((\\d{1,2}\\.)?(\\d{3}\\.?)*(\\d*[02-9]|\\d+(,\\d*[02-9]))|\" + amounts + \")$\")) & (df['after_measure'].str.match(\"^£$\"))), 'after_measure'] = \"punda\"\n",
    "    df.loc[((df['sent3before'].str.match(\"^\"+ gen_words + \"$\")) & (df['sent2before'].str.match(\"^(\\d{1,2}\\.)?(\\d{3}\\.?)*\\d+(,\\d+)?$\")) & (df['sentbefore'].str.match(\"^\" + amounts + \"$\")) & (df['after_measure'].str.match(\"^£$\"))), 'after_measure'] = \"punda\"       \n",
    "    df.loc[((df['sentbefore'].str.match(\"^((\\d{1,2}\\.)?(\\d{3}\\.?)*\\d+(,\\d+)?|\" + amounts + \")$\")) & (df['after_measure'].str.match(\"^£$\"))), 'after_measure'] = \"pund\"\n",
    "    df.loc[((df['sent2before'].str.match(\"^(\\d{1,2}\\.)?(\\d{3}\\.?)*\\d+(,\\d+)?$\")) & (df['sentbefore'].str.match(\"^\" + amounts + \"$\")) & (df['after_measure'].str.match(\"^£$\"))), 'after_measure'] = \"pund\"\n",
    "\n",
    "    df['after_measure'] = df['after_measure'].str.replace(r\"^((\\d{1,2}\\.)?(\\d{3}\\.?)*\\d+(,\\d+)?)£$\", '\\g<1> pund').astype('str')\n",
    "    df['after_measure'] = df['after_measure'].str.replace(r\"^£((\\d{1,2}\\.)?(\\d{3}\\.?)*\\d+(,\\d+)?)$\", '\\g<1> pund').astype('str')\n",
    "    \n",
    "    df['after_measure'] = df['after_measure'].str.replace(r\"^£$\", 'pund').astype('str')\n"
   ]
  },
  {
   "cell_type": "code",
   "execution_count": 45,
   "metadata": {},
   "outputs": [],
   "source": [
    "def df_yen(df):\n",
    "    print(\"df_yen\")\n",
    "    df.loc[((df['sent2before'].str.match(\"^\"+ acc_words + \"$\")) & (df['sentbefore'].str.match(\"^(\\d{1,2}\\.)?(\\d{3}\\.?)*\\d*(1|(,\\d*)1)$\")) & (df['after_measure'].str.match(\"^¥$\"))), 'after_measure'] = \"japanskt jen\"\n",
    "    df.loc[((df['sent2before'].str.match(\"^\"+ dat_words + \"$\")) & (df['sentbefore'].str.match(\"^(\\d{1,2}\\.)?(\\d{3}\\.?)*\\d*(1|(,\\d*)1)$\")) & (df['after_measure'].str.match(\"^¥$\"))), 'after_measure'] = \"japönsku jeni\"\n",
    "    df.loc[((df['sent2before'].str.match(\"^\"+ gen_words + \"$\")) & (df['sentbefore'].str.match(\"^(\\d{1,2}\\.)?(\\d{3}\\.?)*\\d*(1|(,\\d*)1)$\")) & (df['after_measure'].str.match(\"^¥$\"))), 'after_measure'] = \"japansks jens\"\n",
    "    df.loc[((df['sent2before'].str.match(\"^\"+ acc_words + \"$\")) & (df['sentbefore'].str.match(\"^((\\d{1,2}\\.)?(\\d{3}\\.?)*(\\d*[02-9]|\\d+(,\\d*[02-9]))|\" + amounts + \")$\")) & (df['after_measure'].str.match(\"^¥$\"))), 'after_measure'] = \"japönsk jen\"\n",
    "    df.loc[((df['sent3before'].str.match(\"^\"+ acc_words + \"$\")) & (df['sent2before'].str.match(\"^(\\d{1,2}\\.)?(\\d{3}\\.?)*\\d+(,\\d+)?$\")) & (df['sentbefore'].str.match(\"^\" + amounts + \"$\")) & (df['after_measure'].str.match(\"^¥$\"))), 'after_measure'] = \"japönsk jen\"\n",
    "    df.loc[((df['sent2before'].str.match(\"^\"+ dat_words + \"$\")) & (df['sentbefore'].str.match(\"^((\\d{1,2}\\.)?(\\d{3}\\.?)*(\\d*[02-9]|\\d+(,\\d*[02-9]))|\" + amounts + \")$\")) & (df['after_measure'].str.match(\"^¥$\"))), 'after_measure'] = \"japönskum jenum\"\n",
    "    df.loc[((df['sent3before'].str.match(\"^\"+ dat_words + \"$\")) & (df['sent2before'].str.match(\"^(\\d{1,2}\\.)?(\\d{3}\\.?)*\\d+(,\\d+)?$\")) & (df['sentbefore'].str.match(\"^\" + amounts + \"$\")) & (df['after_measure'].str.match(\"^¥$\"))), 'after_measure'] = \"japönskum jenum\"    \n",
    "    df.loc[((df['sent2before'].str.match(\"^\"+ gen_words + \"$\")) & (df['sentbefore'].str.match(\"^((\\d{1,2}\\.)?(\\d{3}\\.?)*(\\d*[02-9]|\\d+(,\\d*[02-9]))|\" + amounts + \")$\")) & (df['after_measure'].str.match(\"^¥$\"))), 'after_measure'] = \"japanskra jena\"\n",
    "    df.loc[((df['sent3before'].str.match(\"^\"+ gen_words + \"$\")) & (df['sent2before'].str.match(\"^(\\d{1,2}\\.)?(\\d{3}\\.?)*\\d+(,\\d+)?$\")) & (df['sentbefore'].str.match(\"^\" + amounts + \"$\")) & (df['after_measure'].str.match(\"^¥$\"))), 'after_measure'] = \"japanskra jena\"       \n",
    "    df.loc[((df['sentbefore'].str.match(\"^(\\d{1,2}\\.)?(\\d{3}\\.?)*\\d*(1|(,\\d*)1)$\")) & (df['after_measure'].str.match(\"^¥$\"))), 'after_measure'] = \"japanskt jen\"\n",
    "    df.loc[((df['sentbefore'].str.match(\"^((\\d{1,2}\\.)?(\\d{3}\\.?)*(\\d*[02-9]|\\d+(,\\d*[02-9]))|\" + amounts + \")$\")) & (df['after_measure'].str.match(\"^¥$\"))), 'after_measure'] = \"japönsk jen\"\n",
    "    df.loc[((df['sent2before'].str.match(\"^(\\d{1,2}\\.)?(\\d{3}\\.?)*\\d+(,\\d+)?$\")) & (df['sentbefore'].str.match(\"^\" + amounts + \"$\")) & (df['after_measure'].str.match(\"^¥$\"))), 'after_measure'] = \"japönsk jen\"\n",
    "    \n",
    "    df['after_measure'] = df['after_measure'].str.replace(r\"^(\\d{1,2}\\.)?(\\d{3}\\.?)*\\d*(1|(,\\d*)1)¥$\", '\\g<1> japanskt jen').astype('str')\n",
    "    df['after_measure'] = df['after_measure'].str.replace(r\"^(\\d{1,2}\\.)?(\\d{3}\\.?)*(\\d*[02-9]|\\d+(,\\d*[02-9]))¥$\", '\\g<1> japönsk jen').astype('str')\n",
    "    df['after_measure'] = df['after_measure'].str.replace(r\"^(\\d{1,2}\\.)?(\\d{3}\\.?)*\\d*(1|(,\\d*)1)¥$\", '\\g<1> japanskt jen').astype('str')\n",
    "    df['after_measure'] = df['after_measure'].str.replace(r\"^(\\d{1,2}\\.)?(\\d{3}\\.?)*(\\d*[02-9]|\\d+(,\\d*[02-9]))¥$\", '\\g<1> japönsk jen').astype('str')\n",
    "    \n",
    "    df['after_measure'] = df['after_measure'].str.replace(r\"^¥$\", 'japönsk jen').astype('str')\n"
   ]
  },
  {
   "cell_type": "code",
   "execution_count": 46,
   "metadata": {},
   "outputs": [],
   "source": [
    "currency_list = [('evr', '€'), ('rúpí', '₹'), ('lír', '₤')]\n",
    "\n",
    "def df_currencies(df):\n",
    "    print(\"df_currencies\")\n",
    "    for word, symbol in tqdm(currency_list):\n",
    "        df.loc[((df['sent2before'].str.match(\"^\"+ accdatgen_words_comb + \"$\")) & (df['sentbefore'].str.match(\"^(\\d{1,2}\\.)?(\\d{3}\\.?)*\\d*(1|(,\\d*)1)$\")) & (df['after_measure'].str.match(\"^\" + symbol + \"$\"))), 'after_measure'] = word + \"u\"\n",
    "        df.loc[((df['sent3before'].str.match(\"^\"+ acc_words + \"$\")) & (df['sent2before'].str.match(\"^(\\d{1,2}\\.)?(\\d{3}\\.?)*\\d+(,\\d+)?$\")) & (df['sentbefore'].str.match(\"^\" + amounts + \"$\")) & (df['after_measure'].str.match(\"^\" + symbol + \"$\"))), 'after_measure'] = word + \"ur\"\n",
    "        df.loc[((df['sent2before'].str.match(\"^\"+ acc_words + \"$\")) & (df['sentbefore'].str.match(\"^((\\d{1,2}\\.)?(\\d{3}\\.?)*(\\d*[02-9]|\\d+(,\\d*[02-9]))|\" + amounts + \")$\")) & (df['after_measure'].str.match(\"^\" + symbol + \"$\"))), 'after_measure'] = word + \"ur\"\n",
    "        df.loc[((df['sent2before'].str.match(\"^\"+ dat_words + \"$\")) & (df['sentbefore'].str.match(\"^((\\d{1,2}\\.)?(\\d{3}\\.?)*(\\d*[02-9]|\\d+(,\\d*[02-9]))|\" + amounts + \")$\")) & (df['after_measure'].str.match(\"^\" + symbol + \"$\"))), 'after_measure'] = word + \"um\"\n",
    "        df.loc[((df['sent3before'].str.match(\"^\"+ dat_words + \"$\")) & (df['sent2before'].str.match(\"^(\\d{1,2}\\.)?(\\d{3}\\.?)*\\d+(,\\d+)?$\")) & (df['sentbefore'].str.match(\"^\" + amounts + \"$\")) & (df['after_measure'].str.match(\"^\" + symbol + \"$\"))), 'after_measure'] = word + \"um\"\n",
    "        df.loc[((df['sent3before'].str.match(\"^\"+ gen_words + \"$\")) & (df['sent2before'].str.match(\"^(\\d{1,2}\\.)?(\\d{3}\\.?)*\\d+(,\\d+)?$\")) & (df['sentbefore'].str.match(\"^\" + amounts + \"$\")) & (df['after_measure'].str.match(\"^\" + symbol + \"$\"))), 'after_measure'] = word + \"a\"\n",
    "        df.loc[((df['sent2before'].str.match(\"^\"+ gen_words + \"$\")) & (df['sentbefore'].str.match(\"^((\\d{1,2}\\.)?(\\d{3}\\.?)*(\\d*[02-9]|\\d+(,\\d*[02-9]))|\" + amounts + \")$\")) & (df['after_measure'].str.match(\"^\" + symbol + \"$\"))), 'after_measure'] = word + \"a\"\n",
    "        df.loc[((df['sentbefore'].str.match(\"^(\\d{1,2}\\.)?(\\d{3}\\.?)*\\d*(1|(,\\d*)1)$\")) & (df['after_measure'].str.match(\"^\" + symbol + \"$\"))), 'after_measure'] = word + \"a\"\n",
    "        df.loc[((df['sentafter'].str.match(\"^(\\d{1,2}\\.)?(\\d{3}\\.?)*\\d*(1|(,\\d*)1)$\")) & (df['after_measure'].str.match(\"^\" + symbol + \"$\"))), 'after_measure'] = word + \"a\" \n",
    "        df.loc[((df['sentbefore'].str.match(\"^(((\\d{1,2}\\.)?(\\d{3}\\.?)*\\d+(,\\d+)?)|\" + amounts + \")$\")) & (df['after_measure'].str.match(\"^\" + symbol + \"$\"))), 'after_measure'] = word + \"ur\"\n",
    "        df.loc[((df['sentafter'].str.match(\"^((\\d{1,2}\\.)?(\\d{3}\\.?)*(\\d*[02-9]|\\d+(,\\d*[02-9]))|\" + amounts + \")$\")) & (df['after_measure'].str.match(\"^\" + symbol + \"$\"))), 'after_measure'] = word + \"ur\"\n",
    "        df.loc[((df['sent2before'].str.match(\"^(\\d{1,2}\\.)?(\\d{3}\\.?)*\\d+(,\\d+)?$\")) & (df['sentbefore'].str.match(\"^\" + amounts + \"$\")) & (df['after_measure'].str.match(\"^\" + symbol + \"$\"))), 'after_measure'] = word + \"ur\"\n",
    "        \n",
    "        df['after_measure'] = df['after_measure'].str.replace(r\"^(\\d{1,2}\\.)?(\\d{3}\\.?)*\\d*(1|(,\\d*)1)\" + symbol + \"$\", '\\g<1> ' + word + 'a').astype('str')\n",
    "        df['after_measure'] = df['after_measure'].str.replace(r\"^(\\d{1,2}\\.)?(\\d{3}\\.?)*(\\d*[02-9]|\\d+(,\\d*[02-9]))\" + symbol + \"$\", '\\g<1> ' + word + 'ur').astype('str')\n",
    "        df['after_measure'] = df['after_measure'].str.replace(r\"^\" + symbol + \"(\\d{1,2}\\.)?(\\d{3}\\.?)*\\d*(1|(,\\d*)1)$\", '\\g<1> ' + word + 'a').astype('str')\n",
    "        df['after_measure'] = df['after_measure'].str.replace(r\"^\" + symbol + \"(\\d{1,2}\\.)?(\\d{3}\\.?)*([02-9]|\\d+(,\\d*[02-9]))$\", '\\g<1> ' + word + 'ur').astype('str')\n",
    "        \n",
    "        df['after_measure'] = df['after_measure'].str.replace(r\"^\" + symbol + \"$\", word + 'ur').astype('str')\n"
   ]
  },
  {
   "cell_type": "markdown",
   "metadata": {},
   "source": [
    "#### Currencies in letters"
   ]
  },
  {
   "cell_type": "code",
   "execution_count": 47,
   "metadata": {},
   "outputs": [],
   "source": [
    "currency_letters = [('ISK', 'íslenskar krónur'), ('GBP', 'sterlingspund'), ('EUR', 'evrur'),\n",
    "                    ('USD', 'bandaríkjadalir'), ('DKK', 'danskar krónur'), ('AUD', 'ástralskir dalir'),\n",
    "                    ('JPY', 'japönsk jen'), ('CHF', 'svissneskir frankar'), ('CAD', 'kanadískir dalir'),\n",
    "                    ('CZK', 'tékkneskar krónur'), ('INR', 'indverskar rúpíur'), ('SEK', 'sænskar krónur'),\n",
    "                    ('NOK', 'norskar krónur'), ('PTE', 'portúgalskir skútar')]\n",
    "\n",
    "def df_cur_letters(df):\n",
    "    print(\"df_cur_letters\")\n",
    "    for letters, word in tqdm(currency_letters):\n",
    "        df.loc[((df['sentbefore'].str.match(\"^((\\d{1,2}\\.)?(\\d{3}\\.?)*\\d+(,\\d+)?|\" + amounts + \")$\")) & (df['after_measure'].str.match(\"^\" + letters + \"$\"))), 'after_measure'] = word\n",
    "        df.loc[((df['sent2before'].str.match(\"^(\\d{1,2}\\.)?(\\d{3}\\.?)*\\d+(,\\d+)?$\")) & (df['sentbefore'].str.match(\"^\" + amounts + \"$\")) & (df['after_measure'].str.match(\"^\" + letters + \"$\"))), 'after_measure'] = word\n",
    "        df['after_measure'] = df['after_measure'].str.replace(r\"^(\\d{1,2}\\.)?(\\d{3}\\.?)*\\d+(,\\d+)?\" + letters + \"$\", '\\g<1> ' + word).astype('str')\n",
    "        df['after_measure'] = df['after_measure'].str.replace(r\"^\" + letters + \"(\\d{1,2}\\.)?(\\d{3}\\.?)*\\d+(,\\d+)?$\", '\\g<1> ' + word).astype('str')\n"
   ]
  },
  {
   "cell_type": "markdown",
   "metadata": {},
   "source": [
    "#### thousand krona"
   ]
  },
  {
   "cell_type": "code",
   "execution_count": 48,
   "metadata": {},
   "outputs": [],
   "source": [
    "def df_thousand_krona(df):\n",
    "    print(\"df_thousand_krona\")\n",
    "    df.loc[((df['sent2before'].str.match(\"^\"+ acc_words + \"$\")) & (df['sentbefore'].str.match(\"^(\\d{1,2}\\.)?(\\d{3}\\.?)*\\d+(,\\d+)?$\")) & (df['after_measure'].str.match(\"^þ\\.?kr\\.?\\-?$\"))), 'after_measure'] = \"þúsund krónur\"\n",
    "    df.loc[((df['sent2before'].str.match(\"^\"+ dat_words + \"$\")) & (df['sentbefore'].str.match(\"^(\\d{1,2}\\.)?(\\d{3}\\.?)*\\d+(,\\d+)?$\")) & (df['after_measure'].str.match(\"^þ\\.?kr\\.?\\-?$\"))), 'after_measure'] = \"þúsund krónum\"\n",
    "    df.loc[((df['sent2before'].str.match(\"^\"+ gen_words + \"$\")) & (df['sentbefore'].str.match(\"^(\\d{1,2}\\.)?(\\d{3}\\.?)*\\d+(,\\d+)?$\")) & (df['after_measure'].str.match(\"^þ\\.?kr\\.?\\-?$\"))), 'after_measure'] = \"þúsund króna\"\n",
    "    df.loc[(df['after_measure'].str.match(\"^þ\\.?kr\\.?\\-?$\")), 'after_measure'] = \"þúsund krónur\"\n"
   ]
  },
  {
   "cell_type": "markdown",
   "metadata": {},
   "source": [
    "#### million krona"
   ]
  },
  {
   "cell_type": "code",
   "execution_count": 49,
   "metadata": {},
   "outputs": [],
   "source": [
    "million_list = [('m\\.?kr\\.?\\-?', ' króna'),\n",
    "                ('mljó\\.?', '')]\n",
    "\n",
    "def df_million_krona(df):\n",
    "    print(\"df_million_krona\")\n",
    "    for letters, suffix in tqdm(million_list):\n",
    "        df.loc[((df['sent2before'].str.match(\"^\"+ accdat_words_comb + \"$\")) & (df['sentbefore'].str.match(\"^(\\d{1,2}\\.)?(\\d{3}\\.?)*\\d*(1|(,\\d*)1)$\")) & (df['after_measure'].str.match(\"^\" + letters + \"$\"))), 'after_measure'] = \"milljón\" + suffix\n",
    "        df.loc[((df['sent2before'].str.match(\"^\"+ gen_words + \"$\")) & (df['sentbefore'].str.match(\"^(\\d{1,2}\\.)?(\\d{3}\\.?)*\\d*(1|(,\\d*)1)$\")) & (df['after_measure'].str.match(\"^\" + letters + \"$\"))), 'after_measure'] = \"milljónar\" + suffix\n",
    "        df.loc[((df['sent2before'].str.match(\"^\"+ acc_words + \"$\")) & (df['sentbefore'].str.match(\"^(\\d{1,2}\\.)?(\\d{3}\\.?)*(\\d*[02-9]|\\d+(,\\d*[02-9]))$\")) & (df['after_measure'].str.match(\"^\" + letters + \"$\"))), 'after_measure'] = \"milljónir\" + suffix\n",
    "        df.loc[((df['sent2before'].str.match(\"^\"+ dat_words + \"$\")) & (df['sentbefore'].str.match(\"^(\\d{1,2}\\.)?(\\d{3}\\.?)*(\\d*[02-9]|\\d+(,\\d*[02-9]))$\")) & (df['after_measure'].str.match(\"^\" + letters + \"$\"))), 'after_measure'] = \"milljónum\" + suffix\n",
    "        df.loc[((df['sent2before'].str.match(\"^\"+ gen_words + \"$\")) & (df['sentbefore'].str.match(\"^(\\d{1,2}\\.)?(\\d{3}\\.?)*(\\d*[02-9]|\\d+(,\\d*[02-9]))$\")) & (df['after_measure'].str.match(\"^\" + letters + \"$\"))), 'after_measure'] = \"milljóna\" + suffix\n",
    "        \n",
    "        df.loc[((df['sentbefore'].str.match(\"^(\\d{1,2}\\.)?(\\d{3}\\.?)*(\\d*(1|(,\\d*)1))$\")) & (df['after_measure'].str.match(\"^\" + letters + \"$\"))), 'after_measure'] = \"milljón\" + suffix\n",
    "        df.loc[((df['sentbefore'].str.match(\"^(\\d{1,2}\\.)?(\\d{3}\\.?)*(\\d*[02-9]|\\d+(,\\d*[02-9]))$\")) & (df['after_measure'].str.match(\"^\" + letters + \"$\"))), 'after_measure'] = \"milljónir\" + suffix\n"
   ]
  },
  {
   "cell_type": "markdown",
   "metadata": {},
   "source": [
    "#### billion krona"
   ]
  },
  {
   "cell_type": "code",
   "execution_count": 50,
   "metadata": {},
   "outputs": [],
   "source": [
    "billion_list = [('ma\\.?kr\\.?\\-?', ' króna'),\n",
    "                ('mlja\\.?', '')]\n",
    "\n",
    "def df_billion_krona(df):\n",
    "    print(\"df_billion_krona\")\n",
    "    for letters, suffix in tqdm(billion_list):\n",
    "        df.loc[((df['sent2before'].str.match(\"^\"+ acc_words + \"$\")) & (df['sentbefore'].str.match(\"^(\\d{1,2}\\.)?(\\d{3}\\.?)*(\\d*(1|(,\\d*)1))$\")) & (df['after_measure'].str.match(\"^\" + letters + \"$\"))), 'after_measure'] = \"milljarð\" + suffix\n",
    "        df.loc[((df['sent2before'].str.match(\"^\"+ dat_words + \"$\")) & (df['sentbefore'].str.match(\"^(\\d{1,2}\\.)?(\\d{3}\\.?)*(\\d*(1|(,\\d*)1))$\")) & (df['after_measure'].str.match(\"^\" + letters + \"$\"))), 'after_measure'] = \"milljarði\" + suffix\n",
    "        df.loc[((df['sent2before'].str.match(\"^\"+ gen_words + \"$\")) & (df['sentbefore'].str.match(\"^(\\d{1,2}\\.)?(\\d{3}\\.?)*(\\d*(1|(,\\d*)1))$\")) & (df['after_measure'].str.match(\"^\" + letters + \"$\"))), 'after_measure'] = \"milljarðs\" + suffix\n",
    "        df.loc[((df['sent2before'].str.match(\"^\"+ acc_words + \"$\")) & (df['sentbefore'].str.match(\"^(\\d{1,2}\\.)?(\\d{3}\\.?)*(\\d*[02-9]|\\d+(,\\d*[02-9]))$\")) & (df['after_measure'].str.match(\"^\" + letters + \"$\"))), 'after_measure'] = \"milljarða\" + suffix\n",
    "        df.loc[((df['sent2before'].str.match(\"^\"+ dat_words + \"$\")) & (df['sentbefore'].str.match(\"^(\\d{1,2}\\.)?(\\d{3}\\.?)*(\\d*[02-9]|\\d+(,\\d*[02-9]))$\")) & (df['after_measure'].str.match(\"^\" + letters + \"$\"))), 'after_measure'] = \"milljörðum\" + suffix\n",
    "        df.loc[((df['sent2before'].str.match(\"^\"+ gen_words + \"$\")) & (df['sentbefore'].str.match(\"^(\\d{1,2}\\.)?(\\d{3}\\.?)*(\\d*[02-9]|\\d+(,\\d*[02-9]))$\")) & (df['after_measure'].str.match(\"^\" + letters + \"$\"))), 'after_measure'] = \"milljarða\" + suffix\n",
    "        \n",
    "        df.loc[((df['sentbefore'].str.match(\"^(\\d{1,2}\\.)?(\\d{3}\\.?)*(\\d*(1|(,\\d*)1))$\")) & (df['after_measure'].str.match(\"^\" + letters + \"$\"))), 'after_measure'] = \"milljarður\" + suffix\n",
    "        df.loc[((df['sentbefore'].str.match(\"^(\\d{1,2}\\.)?(\\d{3}\\.?)*(\\d*[02-9]|\\d+(,\\d*[02-9]))$\")) & (df['after_measure'].str.match(\"^\" + letters + \"$\"))), 'after_measure'] = \"milljarðar\" + suffix\n"
   ]
  },
  {
   "cell_type": "markdown",
   "metadata": {},
   "source": [
    "#### dimensionmeter"
   ]
  },
  {
   "cell_type": "code",
   "execution_count": 51,
   "metadata": {},
   "outputs": [],
   "source": [
    "dimension_after = [('²', 'fer'),\n",
    "                   ('2', 'fer'),\n",
    "                   ('³', 'rúm'),\n",
    "                   ('3', 'rúm')]\n",
    "\n",
    "\n",
    "def df_dimensionmeter_after(df):\n",
    "    print(\"df_dimensionmeter_after\")\n",
    "    for superscript, prefix in tqdm(dimension_after):\n",
    "        df.loc[((df['sent2before'].str.match(\"^\"+ accdatgen_words_comb + \"$\")) & (df['sentbefore'].str.match(\"^((\\d{3}\\.?)*\\d*(1|(,\\d*)1))$\")) & (df['after_measure'].str.match(\"^m\" + superscript + \"$\"))), 'after_measure'] = prefix + \"metra\"\n",
    "        df.loc[((df['sent3before'].str.match(\"^\"+ accgen_words + \"$\")) & (df['sent2before'].str.match(\"^(\\d{3}\\.?)*\\d+(,\\d+)?$\")) & (df['sentbefore'].str.match(\"^\" + amounts + \"$\")) & (df['after_measure'].str.match(\"^m\" + superscript + \"$\"))), 'after_measure'] = prefix + \"metra\"\n",
    "        df.loc[((df['sent2before'].str.match(\"^\"+ accgen_words + \"$\")) & (df['sentbefore'].str.match(\"^((\\d{3}\\.?)*\\d*[02-9]|\\d+(,\\d*[02-9])|\" + amounts + \")$\")) & (df['after_measure'].str.match(\"^m\" + superscript + \"$\"))), 'after_measure'] = prefix + \"metra\"\n",
    "        df.loc[((df['sent2before'].str.match(\"^\"+ dat_words + \"$\")) & (df['sentbefore'].str.match(\"^((\\d{3}\\.?)*\\d*[02-9]|\\d+(,\\d*[02-9])|\" + amounts + \")$\")) & (df['after_measure'].str.match(\"^m\" + superscript + \"$\"))), 'after_measure'] = prefix + \"metrum\"\n",
    "        df.loc[((df['sent3before'].str.match(\"^\"+ dat_words + \"$\")) & (df['sent2before'].str.match(\"^(\\d{3}\\.?)*\\d+(,\\d+)?$\")) & (df['sentbefore'].str.match(\"^\" + amounts + \"$\")) & (df['after_measure'].str.match(\"^m\" + superscript + \"$\"))), 'after_measure'] = prefix + \"metrum\"  \n",
    "        df.loc[((df['sentbefore'].str.match(\"^(\\d{1,2}\\.)?(\\d{3}\\.?)*(\\d*(1|(,\\d*)1))$\")) & (df['after_measure'].str.match(\"^m\" + superscript + \"$\"))), 'after_measure'] = prefix + \"metri\" \n",
    "        df.loc[((df['sentbefore'].str.match(\"^((\\d{1,2}\\.)?(\\d{3}\\.?)*(\\d*[02-9]|\\d+(,\\d*[02-9]))|\" + amounts + \")$\")) & (df['after_measure'].str.match(\"^m\" + superscript + \"$\"))), 'after_measure'] = prefix + \"metrar\"\n",
    "        df.loc[((df['sent2before'].str.match(\"^(\\d{1,2}\\.)?(\\d{3}\\.?)*\\d+(,\\d+)?$\")) & (df['sentbefore'].str.match(\"^\" + amounts + \"$\")) & (df['after_measure'].str.match(\"^m\" + superscript + \"$\"))), 'after_measure'] = prefix + \"metrar\"    \n",
    "        \n",
    "        df.loc[(df['after_measure'].str.match(\"^m\" + superscript + \"$\")), 'after_measure'] = prefix + \"metrar\"\n"
   ]
  },
  {
   "cell_type": "code",
   "execution_count": 52,
   "metadata": {},
   "outputs": [],
   "source": [
    "\n",
    "dimension_before = [('f', 'fer'),\n",
    "                    ('fer', 'fer'),\n",
    "                    ('rúm', 'rúm')]\n",
    "\n",
    "def df_dimensionmeter_before(df):\n",
    "    print(\"df_dimensionmeter_before\")\n",
    "    for letters, prefix in tqdm(dimension_before):\n",
    "        df.loc[((df['sent2before'].str.match(\"^\"+ accdatgen_words_comb + \"$\")) & (df['sentbefore'].str.match(\"^(\\d{1,2}\\.)?(\\d{3}\\.?)*(\\d*(1|(,\\d*)1))$\")) & (df['after_measure'].str.match(\"^\" + letters + \"m\\.?$\"))), 'after_measure'] = prefix + \"metra\"\n",
    "        df.loc[((df['sent3before'].str.match(\"^\"+ accgen_words + \"$\")) & (df['sent2before'].str.match(\"^(\\d{1,2}\\.)?(\\d{3}\\.?)*\\d+(,\\d+)?$\")) & (df['sentbefore'].str.match(\"^\" + amounts + \"$\")) & (df['after_measure'].str.match(\"^\" + letters + \"m\\.?$\"))), 'after_measure'] = prefix + \"metra\"\n",
    "        df.loc[((df['sent2before'].str.match(\"^\"+ accgen_words + \"$\")) & (df['sentbefore'].str.match(\"^((\\d{1,2}\\.)?(\\d{3}\\.?)*(\\d*[02-9]|\\d+(,\\d*[02-9]))|\" + amounts + \")$\")) & (df['after_measure'].str.match(\"^\" + letters + \"m\\.?$\"))), 'after_measure'] = prefix + \"metra\"\n",
    "        df.loc[((df['sent2before'].str.match(\"^\"+ dat_words + \"$\")) & (df['sentbefore'].str.match(\"^((\\d{1,2}\\.)?(\\d{3}\\.?)*(\\d*[02-9]|\\d+(,\\d*[02-9]))|\" + amounts + \")$\")) & (df['after_measure'].str.match(\"^\" + letters + \"m\\.?$\"))), 'after_measure'] = prefix + \"metrum\"\n",
    "        df.loc[((df['sent3before'].str.match(\"^\"+ dat_words + \"$\")) & (df['sent2before'].str.match(\"^(\\d{1,2}\\.)?(\\d{3}\\.?)*\\d+(,\\d+)?$\")) & (df['sentbefore'].str.match(\"^\" + amounts + \"$\")) & (df['after_measure'].str.match(\"^\" + letters + \"m\\.?$\"))), 'after_measure'] = prefix + \"metrum\"  \n",
    "        df.loc[((df['sentbefore'].str.match(\"^(\\d{1,2}\\.)?(\\d{3}\\.?)*\\d*(1|(,\\d*)1)$\")) & (df['after_measure'].str.match(\"^\" + letters + \"m\\.?$\"))), 'after_measure'] = prefix + \"metri\" \n",
    "        df.loc[((df['sentbefore'].str.match(\"^((\\d{1,2}\\.)?(\\d{3}\\.?)*(\\d*[02-9]|\\d+(,\\d*[02-9]))|\" + amounts + \")$\")) & (df['after_measure'].str.match(\"^\" + letters + \"m\\.?$\"))), 'after_measure'] = prefix + \"metrar\"\n",
    "        df.loc[((df['sent2before'].str.match(\"^(\\d{1,2}\\.)?(\\d{3}\\.?)*\\d+(,\\d+)?$\")) & (df['sentbefore'].str.match(\"^\" + amounts + \"$\")) & (df['after_measure'].str.match(\"^\" + letters + \"m\\.?$\"))), 'after_measure'] = prefix + \"metrar\"    \n",
    "        \n",
    "        df.loc[(df['after_measure'].str.match(\"^\" + letters + \"m\\.?$\")), 'after_measure'] = prefix + \"metrar\" \n"
   ]
  },
  {
   "cell_type": "code",
   "execution_count": 53,
   "metadata": {},
   "outputs": [],
   "source": [
    "prefix_meter_dimension = [('p', 'píkó'),\n",
    "                ('n', 'nanó'),\n",
    "                ('µ', 'míkró'),\n",
    "                ('m', 'milli'),\n",
    "                ('[cs]', 'senti'),\n",
    "                ('d', 'desi'),\n",
    "                ('k', 'kíló')]\n",
    "\n",
    "\n",
    "def df_prefix_dimensionmeter_after(df):\n",
    "    print(\"df_prefix_dimensionmeter_after\")\n",
    "    for letter, prefix in tqdm(prefix_meter_dimension):\n",
    "        for superscript, string in dimension_after:\n",
    "            df.loc[((df['sent2before'].str.match(\"^\"+ accdatgen_words_comb + \"$\")) & (df['sentbefore'].str.match(\"^(\\d{1,2}\\.)?(\\d{3}\\.?)*(\\d*(1|(,\\d*)1))$\")) & (df['after_measure'].str.match(\"^\" + letter + \"m\" + superscript + \"$\"))), 'after_measure'] = string + prefix + \"metra\"\n",
    "            df.loc[((df['sent3before'].str.match(\"^\"+ accgen_words + \"$\")) & (df['sent2before'].str.match(\"^(\\d{1,2}\\.)?(\\d{3}\\.?)*\\d+(,\\d+)?$\")) & (df['sentbefore'].str.match(\"^\" + amounts + \"$\")) & (df['after_measure'].str.match(\"^\" + letter + \"m\" + superscript + \"$\"))), 'after_measure'] = string + prefix + \"metra\"\n",
    "            df.loc[((df['sent2before'].str.match(\"^\"+ accgen_words + \"$\")) & (df['sentbefore'].str.match(\"^((\\d{1,2}\\.)?(\\d{3}\\.?)*(\\d*[02-9]|\\d+(,\\d*[02-9]))|\" + amounts + \")$\")) & (df['after_measure'].str.match(\"^\" + letter + \"m\" + superscript + \"$\"))), 'after_measure'] = string + prefix + \"metra\"\n",
    "            df.loc[((df['sent2before'].str.match(\"^\"+ dat_words + \"$\")) & (df['sentbefore'].str.match(\"^((\\d{1,2}\\.)?(\\d{3}\\.?)*(\\d*[02-9]|\\d+(,\\d*[02-9]))|\" + amounts + \")$\")) & (df['after_measure'].str.match(\"^\" + letter + \"m\" + superscript + \"$\"))), 'after_measure'] = string + prefix + \"metrum\"\n",
    "            df.loc[((df['sent3before'].str.match(\"^\"+ dat_words + \"$\")) & (df['sent2before'].str.match(\"^(\\d{1,2}\\.)?(\\d{3}\\.?)*\\d+(,\\d+)?$\")) & (df['sentbefore'].str.match(\"^\" + amounts + \"$\")) & (df['after_measure'].str.match(\"^\" + letter + \"m\" + superscript + \"$\"))), 'after_measure'] = string + prefix + \"metrum\"  \n",
    "            df.loc[((df['sentbefore'].str.match(\"^(\\d{1,2}\\.)?(\\d{3}\\.?)*(\\d*(1|(,\\d*)1))$\")) & (df['after_measure'].str.match(\"^\" + letter + \"m\" + superscript + \"$\"))), 'after_measure'] = string + prefix + \"metri\" \n",
    "            df.loc[((df['sentbefore'].str.match(\"^((\\d{1,2}\\.)?(\\d{3}\\.?)*(\\d*[02-9]|\\d+(,\\d*[02-9]))|\" + amounts + \")$\")) & (df['after_measure'].str.match(\"^\" + letter + \"m\" + superscript + \"$\"))), 'after_measure'] = string + prefix + \"metrar\"\n",
    "            df.loc[((df['sent2before'].str.match(\"^(\\d{1,2}\\.)?(\\d{3}\\.?)*\\d+(,\\d+)?$\")) & (df['sentbefore'].str.match(\"^\" + amounts + \"$\")) & (df['after_measure'].str.match(\"^\" + letter + \"m\" + superscript + \"$\"))), 'after_measure'] = string + prefix + \"metrar\"    \n",
    "\n",
    "            df.loc[(df['after_measure'].str.match(\"^\" + letter + \"m\" + superscript + \"$\")), 'after_measure'] = string + prefix + \"metrar\"\n",
    "\n"
   ]
  },
  {
   "cell_type": "code",
   "execution_count": 54,
   "metadata": {},
   "outputs": [],
   "source": [
    "def df_prefix_dimensionmeter_before(df):\n",
    "    print(\"df_prefix_dimensionmeter_before\")\n",
    "    for letter, prefix in tqdm(prefix_meter_dimension):\n",
    "        for preprefix, string in dimension_before:\n",
    "            df.loc[((df['sent2before'].str.match(\"^\"+ accdatgen_words_comb + \"$\")) & (df['sentbefore'].str.match(\"^(\\d{1,2}\\.)?(\\d{3}\\.?)*(\\d*(1|(,\\d*)1))$\")) & (df['after_measure'].str.match(\"^\" + preprefix + letter + \"m\\.?$\"))), 'after_measure'] = string + prefix + \"metra\"\n",
    "            df.loc[((df['sent3before'].str.match(\"^\"+ accgen_words + \"$\")) & (df['sent2before'].str.match(\"^(\\d{1,2}\\.)?(\\d{3}\\.?)*\\d+(,\\d+)?$\")) & (df['sentbefore'].str.match(\"^\" + amounts + \"$\")) & (df['after_measure'].str.match(\"^\" + preprefix + letter + \"m\\.?$\"))), 'after_measure'] = string + prefix + \"metra\"\n",
    "            df.loc[((df['sent2before'].str.match(\"^\"+ accgen_words + \"$\")) & (df['sentbefore'].str.match(\"^((\\d{1,2}\\.)?(\\d{3}\\.?)*(\\d*[02-9]|\\d+(,\\d*[02-9]))|\" + amounts + \")$\")) & (df['after_measure'].str.match(\"^\" + preprefix + letter + \"m\\.?$\"))), 'after_measure'] = string + prefix + \"metra\"\n",
    "            df.loc[((df['sent2before'].str.match(\"^\"+ dat_words + \"$\")) & (df['sentbefore'].str.match(\"^((\\d{1,2}\\.)?(\\d{3}\\.?)*(\\d*[02-9]|\\d+(,\\d*[02-9]))|\" + amounts + \")$\")) & (df['after_measure'].str.match(\"^\" + preprefix + letter + \"m\\.?$\"))), 'after_measure'] = string + prefix +\"metrum\"\n",
    "            df.loc[((df['sent3before'].str.match(\"^\"+ dat_words + \"$\")) & (df['sent2before'].str.match(\"^(\\d{1,2}\\.)?(\\d{3}\\.?)*\\d+(,\\d+)?$\")) & (df['sentbefore'].str.match(\"^\" + amounts + \"$\")) & (df['after_measure'].str.match(\"^\" + preprefix + letter + \"m\\.?$\"))), 'after_measure'] = string + prefix +\"metrum\"  \n",
    "            df.loc[((df['sentbefore'].str.match(\"^(\\d{1,2}\\.)?(\\d{3}\\.?)*(\\d*(1|(,\\d*)1))$\")) & (df['after_measure'].str.match(\"^\" + preprefix + letter + \"m\\.?$\"))), 'after_measure'] = string + prefix + \"metri\" \n",
    "            df.loc[((df['sentbefore'].str.match(\"^((\\d{1,2}\\.)?(\\d{3}\\.?)*(\\d*[02-9]|\\d+(,\\d*[02-9]))|\" + amounts + \")$\")) & (df['after_measure'].str.match(\"^\" + preprefix + letter + \"m\\.?$\"))), 'after_measure'] = string + prefix + \"metrar\"\n",
    "            df.loc[((df['sent2before'].str.match(\"^(\\d{1,2}\\.)?(\\d{3}\\.?)*\\d+(,\\d+)?$\")) & (df['sentbefore'].str.match(\"^\" + amounts + \"$\")) & (df['after_measure'].str.match(\"^\" + preprefix + letter + \"m\\.?$\"))), 'after_measure'] = string + prefix + \"metrar\"    \n",
    "\n",
    "            df.loc[(df['after_measure'].str.match(\"^\" + preprefix + letter + \"m\\.?$\")), 'after_measure'] = string + prefix + \"metrar\" \n"
   ]
  },
  {
   "cell_type": "markdown",
   "metadata": {},
   "source": [
    "#### percent"
   ]
  },
  {
   "cell_type": "code",
   "execution_count": 55,
   "metadata": {},
   "outputs": [],
   "source": [
    "def df_percent(df):\n",
    "    print(\"df_percent\")\n",
    "    df.loc[((df['sent2before'].str.match(\"^\"+ acc_words + \"$\")) & (df['sentbefore'].str.match(\"^((\\d{1,2}\\.)?(\\d{3}\\.?)*\\d+(,\\d+)?|\" + amounts + \")$\")) & (df['after_measure'].str.match(\"^\\%$\"))), 'after_measure'] = \"prósent\"\n",
    "    df.loc[((df['sent3before'].str.match(\"^\"+ acc_words + \"$\")) & (df['sent2before'].str.match(\"^(\\d{1,2}\\.)?(\\d{3}\\.?)*\\d+(,\\d+)?$\")) & (df['sentbefore'].str.match(\"^\" + amounts + \"$\")) & (df['after_measure'].str.match(\"^\\%$\"))), 'after_measure'] = \"prósent\"\n",
    "    df.loc[((df['sent2before'].str.match(\"^\"+ dat_words + \"$\")) & (df['sentbefore'].str.match(\"^(\\d{1,2}\\.)?(\\d{3}\\.?)*\\d*(1|(,\\d*)1)$\")) & (df['after_measure'].str.match(\"^\\%$\"))), 'after_measure'] = \"prósenti\"\n",
    "    df.loc[((df['sent2before'].str.match(\"^\"+ gen_words + \"$\")) & (df['sentbefore'].str.match(\"^(\\d{1,2}\\.)?(\\d{3}\\.?)*\\d*(1|(,\\d*)1)$\")) & (df['after_measure'].str.match(\"^\\%$\"))), 'after_measure'] = \"prósents\"\n",
    "    df.loc[((df['sent2before'].str.match(\"^\"+ dat_words + \"$\")) & (df['sentbefore'].str.match(\"^((\\d{1,2}\\.)?(\\d{3}\\.?)*(\\d*[02-9]|\\d+(,\\d*[02-9]))|\" + amounts + \")$\")) & (df['after_measure'].str.match(\"^\\%$\"))), 'after_measure'] = \"prósentum\"\n",
    "    df.loc[((df['sent3before'].str.match(\"^\"+ dat_words + \"$\")) & (df['sent2before'].str.match(\"^(\\d{1,2}\\.)?(\\d{3}\\.?)*(\\d{3}\\.?)*\\d+(,\\d+)?$\")) & (df['sentbefore'].str.match(\"^\" + amounts + \"$\")) & (df['after_measure'].str.match(\"^\\%$\"))), 'after_measure'] = \"prósentum\"    \n",
    "    df.loc[((df['sent2before'].str.match(\"^\"+ gen_words + \"$\")) & (df['sentbefore'].str.match(\"^((\\d{1,2}\\.)?(\\d{3}\\.?)*(\\d*[02-9]|\\d+(,\\d*[02-9]))|\" + amounts + \")$\")) & (df['after_measure'].str.match(\"^\\%$\"))), 'after_measure'] = \"prósenta\"\n",
    "    df.loc[((df['sent3before'].str.match(\"^\"+ gen_words + \"$\")) & (df['sent2before'].str.match(\"^(\\d{1,2}\\.)?(\\d{3}\\.?)*\\d+(,\\d+)?$\")) & (df['sentbefore'].str.match(\"^\" + amounts + \"$\")) & (df['after_measure'].str.match(\"^\\%$\"))), 'after_measure'] = \"prósenta\"       \n",
    "    df.loc[((df['sentbefore'].str.match(\"^(((\\d{1,2}\\.)?(\\d{3}\\.?)*\\d+(,\\d+)?)|\" + amounts + \")$\")) & (df['after_measure'].str.match(\"^\\%$\"))), 'after_measure'] = \"prósent\"\n",
    "    df.loc[((df['sent2before'].str.match(\"^(\\d{1,2}\\.)?(\\d{3}\\.?)*(\\d+(,\\d+)?)$\")) & (df['sentbefore'].str.match(\"^\" + amounts + \"$\")) & (df['after_measure'].str.match(\"^\\%$\"))), 'after_measure'] = \"prósent\"\n",
    "\n",
    "    df.loc[((df['sentbefore'].str.match(\"^\"+ acc_words + \"$\")) & (df['after_measure'].str.match(\"^(\\d{1,2}\\.)?(\\d{3}\\.?)*(\\d+(,\\d+)?|\" + amounts + \")\\%$\")) & (df['after_measure'].str.match(\"^\\%$\"))), 'after_measure'] = \"prósent\"\n",
    "    df.loc[((df['sentbefore'].str.match(\"^\"+ dat_words + \"$\")) & (df['after_measure'].str.match(\"^(\\d{1,2}\\.)?(\\d{3}\\.?)*(\\d*(1|(,\\d*)1))\\%$\")) & (df['after_measure'].str.match(\"^\\%$\"))), 'after_measure'] = \"prósenti\"\n",
    "    df.loc[((df['sentbefore'].str.match(\"^\"+ gen_words + \"$\")) & (df['after_measure'].str.match(\"^(\\d{1,2}\\.)?(\\d{3}\\.?)*(\\d*(1|(,\\d*)1))\\%$\")) & (df['after_measure'].str.match(\"^\\%$\"))), 'after_measure'] = \"prósents\"\n",
    "    df.loc[((df['sentbefore'].str.match(\"^\"+ dat_words + \"$\")) & (df['after_measure'].str.match(\"^((\\d{1,2}\\.)?(\\d{3}\\.?)*(\\d*[02-9]|\\d+(,\\d*[02-9]))|\" + amounts + \")\\%$\"))), 'after_measure'] = \"prósentum\"  \n",
    "    df.loc[((df['sentbefore'].str.match(\"^\"+ gen_words + \"$\")) & (df['after_measure'].str.match(\"^((\\d{1,2}\\.)?(\\d{3}\\.?)*(\\d*[02-9]|\\d+(,\\d*[02-9]))|\" + amounts + \")\\%$\"))), 'after_measure'] = \"prósenta\"       \n",
    "    \n",
    "    df['after_measure'] = df['after_measure'].str.replace(r\"^(\\d{1,2}\\.)?(\\d{3}\\.?)*\\d+(,\\d+)?\\%$\", '\\g<1> prósent').astype('str')\n",
    "    df['after_measure'] = df['after_measure'].str.replace(r\"^\\%$\", 'prósent').astype('str')\n"
   ]
  },
  {
   "cell_type": "markdown",
   "metadata": {},
   "source": [
    "#### stykki"
   ]
  },
  {
   "cell_type": "code",
   "execution_count": 56,
   "metadata": {},
   "outputs": [],
   "source": [
    "def df_stykki(df):\n",
    "    print(\"df_stykki\")\n",
    "    df.loc[((df['sent2before'].str.match(\"^\"+ accdat_words + \"$\")) & (df['sentbefore'].str.match(\"^(\\d{1,2}\\.)?(\\d{3}\\.?)*(\\d+(,\\d+)?|\" + amounts + \")$\")) & (df['after_measure'].str.match(\"^stk\\.?$\"))), 'after_measure'] = \"stykki\"\n",
    "    df.loc[((df['sent3before'].str.match(\"^\"+ acc_words + \"$\")) & (df['sent2before'].str.match(\"^(\\d{1,2}\\.)?(\\d{3}\\.?)*(\\d+(,\\d+)?)$\")) & (df['sentbefore'].str.match(\"^\" + amounts + \"$\")) & (df['after_measure'].str.match(\"^stk\\.?$\"))), 'after_measure'] = \"stykki\"\n",
    "    df.loc[((df['sent2before'].str.match(\"^\"+ gen_words + \"$\")) & (df['sentbefore'].str.match(\"^(\\d{1,2}\\.)?(\\d{3}\\.?)*(\\d*(1|(,\\d*)1))$\")) & (df['after_measure'].str.match(\"^stk\\.?$\"))), 'after_measure'] = \"stykkis\"\n",
    "    df.loc[((df['sent2before'].str.match(\"^\"+ dat_words + \"$\")) & (df['sentbefore'].str.match(\"^((\\d{1,2}\\.)?(\\d{3}\\.?)*(\\d*[02-9]|\\d+(,\\d*[02-9]))|\" + amounts + \")$\")) & (df['after_measure'].str.match(\"^stk\\.?$\"))), 'after_measure'] = \"stykkjum\"\n",
    "    df.loc[((df['sent3before'].str.match(\"^\"+ dat_words + \"$\")) & (df['sent2before'].str.match(\"^(\\d{1,2}\\.)?(\\d{3}\\.?)*(\\d+(,\\d+)?)$\")) & (df['sentbefore'].str.match(\"^\" + amounts + \"$\")) & (df['after_measure'].str.match(\"^stk\\.?$\"))), 'after_measure'] = \"stykkjum\"    \n",
    "    df.loc[((df['sent2before'].str.match(\"^\"+ gen_words + \"$\")) & (df['sentbefore'].str.match(\"^((\\d{1,2}\\.)?(\\d{3}\\.?)*(\\d*[02-9]|\\d+(,\\d*[02-9]))|\" + amounts + \")$\")) & (df['after_measure'].str.match(\"^stk\\.?$\"))), 'after_measure'] = \"stykkja\"\n",
    "    df.loc[((df['sent3before'].str.match(\"^\"+ gen_words + \"$\")) & (df['sent2before'].str.match(\"^(\\d{1,2}\\.)?(\\d{3}\\.?)*(\\d+(,\\d+)?)$\")) & (df['sentbefore'].str.match(\"^\" + amounts + \"$\")) & (df['after_measure'].str.match(\"^stk\\.?$\"))), 'after_measure'] = \"stykkja\"       \n",
    "    df.loc[((df['sentbefore'].str.match(\"^(\\d{1,2}\\.)?(\\d{3}\\.?)*(\\d+(,\\d+)?|\" + amounts + \")$\")) & (df['after_measure'].str.match(\"^stk\\.?$\"))), 'after_measure'] = \"stykki\"\n",
    "    df.loc[((df['sent2before'].str.match(\"^(\\d{1,2}\\.)?(\\d{3}\\.?)*(\\d+(,\\d+)?)$\")) & (df['sentbefore'].str.match(\"^\" + amounts + \"$\")) & (df['after_measure'].str.match(\"^stk\\.?$\"))), 'after_measure'] = \"stykki\"\n"
   ]
  },
  {
   "cell_type": "markdown",
   "metadata": {},
   "source": [
    "#### electronics"
   ]
  },
  {
   "cell_type": "code",
   "execution_count": 57,
   "metadata": {},
   "outputs": [],
   "source": [
    "measurement = [('V', 'volt'), ('Hz', 'herz')]\n",
    "\n",
    "def df_electronic(df):\n",
    "    print(\"df_electronic\")\n",
    "    for letter, prefix in tqdm(watt_prefix):\n",
    "        for symbol, word in measurement: \n",
    "            df.loc[((df['sent2before'].str.match(\"^\"+ acc_words + \"$\")) & (df['sentbefore'].str.match(\"^((\\d{1,2}\\.)?(\\d{3}\\.?)*\\d+(,\\d+)?|\" + amounts + \")$\")) & (df['after_measure'].str.match(\"^\" + letter + symbol + \"$\"))), 'after_measure'] = prefix + word\n",
    "            df.loc[((df['sent3before'].str.match(\"^\"+ acc_words + \"$\")) & (df['sent2before'].str.match(\"^(\\d{1,2}\\.)?(\\d{3}\\.?)*\\d+(,\\d+)?$\")) & (df['sentbefore'].str.match(\"^\" + amounts + \"$\")) & (df['after_measure'].str.match(\"^\" + letter + symbol + \"$\"))), 'after_measure'] = prefix + word \n",
    "            df.loc[((df['sent2before'].str.match(\"^\"+ dat_words + \"$\")) & (df['sentbefore'].str.match(\"^((\\d{1,2}\\.)?(\\d{3}\\.?)*(\\d*1|\\d+(,\\d*)1))$\")) & (df['after_measure'].str.match(\"^\" + letter + symbol + \"$\"))), 'after_measure'] = prefix + word + \"i\"\n",
    "            df.loc[((df['sent2before'].str.match(\"^\"+ gen_words + \"$\")) & (df['sentbefore'].str.match(\"^((\\d{1,2}\\.)?(\\d{3}\\.?)*\\d*(1|(,\\d*)1))$\")) & (df['after_measure'].str.match(\"^\" + letter + symbol + \"$\"))), 'after_measure'] = prefix + word + \"s\"\n",
    "            df.loc[((df['sent2before'].str.match(\"^\"+ dat_words + \"$\")) & (df['sentbefore'].str.match(\"^((\\d{1,2}\\.)?(\\d{3}\\.?)*(\\d*[02-9]|\\d+(,\\d*[02-9]))|\" + amounts + \")$\")) & (df['after_measure'].str.match(\"^\" + letter + symbol + \"$\"))), 'after_measure'] = prefix + word + \"um\"\n",
    "            df.loc[((df['sent3before'].str.match(\"^\"+ dat_words + \"$\")) & (df['sent2before'].str.match(\"^(\\d{1,2}\\.)?(\\d{3}\\.?)*\\d+(,\\d+)?$\")) & (df['sentbefore'].str.match(\"^\" + amounts + \"$\")) & (df['after_measure'].str.match(\"^\" + letter + symbol + \"$\"))), 'after_measure'] = prefix + word + \"um\"    \n",
    "            df.loc[((df['sent2before'].str.match(\"^\"+ gen_words + \"$\")) & (df['sentbefore'].str.match(\"^((\\d{1,2}\\.)?(\\d{3}\\.?)*(\\d*[02-9]|\\d+(,\\d*[02-9]))|\" + amounts + \")$\")) & (df['after_measure'].str.match(\"^\" + letter + symbol + \"$\"))), 'after_measure'] = prefix + word + \"a\"\n",
    "            df.loc[((df['sent3before'].str.match(\"^\"+ gen_words + \"$\")) & (df['sent2before'].str.match(\"^(\\d{1,2}\\.)?(\\d{3}\\.?)*\\d+(,\\d+)?$\")) & (df['sentbefore'].str.match(\"^\" + amounts + \"$\")) & (df['after_measure'].str.match(\"^\" + letter + symbol + \"$\"))), 'after_measure'] = prefix + word + \"a\"       \n",
    "            df.loc[((df['sentbefore'].str.match(\"^((\\d{1,2}\\.)?(\\d{3}\\.?)*\\d+(,\\d+)?|\" + amounts + \")$\")) & (df['after_measure'].str.match(\"^\" + letter + symbol + \"$\"))), 'after_measure'] = prefix + word\n",
    "            df.loc[((df['sent2before'].str.match(\"(\\d{1,2}\\.)?(\\d{3}\\.?)*\\d+(,\\d+)?$\")) & (df['sentbefore'].str.match(\"^\" + amounts + \"$\")) & (df['after_measure'].str.match(\"^\" + letter + symbol + \"$\"))), 'after_measure'] = prefix + word\n"
   ]
  },
  {
   "cell_type": "code",
   "execution_count": 58,
   "metadata": {},
   "outputs": [],
   "source": [
    "def df_watt(df):\n",
    "    print(\"df_watt\")\n",
    "    for letter, prefix in tqdm(watt_prefix):\n",
    "        df.loc[((df['sent2before'].str.match(\"^\"+ acc_words + \"$\")) & (df['sentbefore'].str.match(\"^(\\d{1,2}\\.)?(\\d{3}\\.?)*\\d*(1|(,\\d*)1)$\")) & (df['after_measure'].str.match(\"(?i)^\" + letter + \"W\\.?$\"))), 'after_measure'] = prefix + \"vatt\"\n",
    "        df.loc[((df['sent2before'].str.match(\"^\"+ dat_words + \"$\")) & (df['sentbefore'].str.match(\"^(\\d{1,2}\\.)?(\\d{3}\\.?)*\\d*(1|(,\\d*)1)$\")) & (df['after_measure'].str.match(\"(?i)^\" + letter + \"W\\.?$\"))), 'after_measure'] = prefix + \"vatti\"\n",
    "        df.loc[((df['sent2before'].str.match(\"^\"+ gen_words + \"$\")) & (df['sentbefore'].str.match(\"^(\\d{1,2}\\.)?(\\d{3}\\.?)*\\d*(1|(,\\d*)1)$\")) & (df['after_measure'].str.match(\"(?i)^\" + letter + \"W\\.?$\"))), 'after_measure'] = prefix + \"vatts\"\n",
    "        df.loc[((df['sent2before'].str.match(\"^\"+ acc_words + \"$\")) & (df['sentbefore'].str.match(\"^((\\d{1,2}\\.)?(\\d{3}\\.?)*(\\d*[02-9]|\\d+(,\\d*[02-9]))|\" + amounts + \")$\")) & (df['after_measure'].str.match(\"(?i)^\" + letter + \"W\\.?$\"))), 'after_measure'] = prefix + \"vött\"\n",
    "        df.loc[((df['sent3before'].str.match(\"^\"+ acc_words + \"$\")) & (df['sent2before'].str.match(\"^(\\d{1,2}\\.)?(\\d{3}\\.?)*\\d+(,\\d+)?$\")) & (df['sentbefore'].str.match(\"^\" + amounts + \"$\")) & (df['after_measure'].str.match(\"(?i)^\" + letter + \"W\\.?$\"))), 'after_measure'] = prefix + \"vött\"\n",
    "        df.loc[((df['sent2before'].str.match(\"^\"+ dat_words + \"$\")) & (df['sentbefore'].str.match(\"^((\\d{1,2}\\.)?(\\d{3}\\.?)*(\\d*[02-9]|\\d+(,\\d*[02-9]))|\" + amounts + \")$\")) & (df['after_measure'].str.match(\"(?i)^\" + letter + \"W\\.?$\"))), 'after_measure'] = prefix + \"vöttum\"\n",
    "        df.loc[((df['sent3before'].str.match(\"^\"+ dat_words + \"$\")) & (df['sent2before'].str.match(\"^(\\d{1,2}\\.)?(\\d{3}\\.?)*\\d+(,\\d+)?$\")) & (df['sentbefore'].str.match(\"^\" + amounts + \"$\")) & (df['after_measure'].str.match(\"(?i)^\" + letter + \"W\\.?$\"))), 'after_measure'] = prefix + \"vöttum\"    \n",
    "        df.loc[((df['sent2before'].str.match(\"^\"+ gen_words + \"$\")) & (df['sentbefore'].str.match(\"^((\\d{1,2}\\.)?(\\d{3}\\.?)*(\\d*[02-9]|\\d+(,\\d*[02-9]))|\" + amounts + \")$\")) & (df['after_measure'].str.match(\"(?i)^\" + letter + \"W\\.?$\"))), 'after_measure'] = prefix + \"vatta\"\n",
    "        df.loc[((df['sent3before'].str.match(\"^\"+ gen_words + \"$\")) & (df['sent2before'].str.match(\"^(\\d{1,2}\\.)?(\\d{3}\\.?)*\\d+(,\\d+)?$\")) & (df['sentbefore'].str.match(\"^\" + amounts + \"$\")) & (df['after_measure'].str.match(\"(?i)^\" + letter + \"W\\.?$\"))), 'after_measure'] = prefix + \"vatta\"       \n",
    "        df.loc[((df['sentbefore'].str.match(\"^(\\d{1,2}\\.)?(\\d{3}\\.?)*(\\d*(1|(,\\d*)1))$\")) & (df['after_measure'].str.match(\"(?i)^\" + letter + \"W\\.?$\"))), 'after_measure'] = prefix + \"vatt\" \n",
    "        df.loc[((df['sentbefore'].str.match(\"^((\\d{1,2}\\.)?(\\d{3}\\.?)*(\\d*[02-9]|\\d+(,\\d*[02-9]))|\" + amounts + \")$\")) & (df['after_measure'].str.match(\"(?i)^\" + letter + \"W\\.?$\"))), 'after_measure'] = prefix + \"vött\"\n",
    "        df.loc[((df['sent2before'].str.match(\"^(\\d{1,2}\\.)?(\\d{3}\\.?)*\\d+(,\\d+)?$\")) & (df['sentbefore'].str.match(\"^\" + amounts + \"$\")) & (df['after_measure'].str.match(\"(?i)^\" + letter + \"W\\.?$\"))), 'after_measure'] = prefix + \"vött\"  \n"
   ]
  },
  {
   "cell_type": "code",
   "execution_count": 59,
   "metadata": {},
   "outputs": [],
   "source": [
    "byte_prefix = [('[Kk]', 'kíló'), ('M', 'mega'), ('G', 'gíga'), ('T', 'tera')]\n",
    "\n",
    "def df_byte(df):\n",
    "    print(\"df_byte\")\n",
    "    for letter, prefix in tqdm(byte_prefix):\n",
    "        df.loc[((df['sent2before'].str.match(\"^\"+ acc_words + \"$\")) & (df['sentbefore'].str.match(\"^((\\d{1,2}\\.)?(\\d{3}\\.?)*\\d+(,\\d+)?|\" + amounts + \")$\")) & (df['after_measure'].str.match(\"^\"+ letter + \"B$\"))), 'after_measure'] = prefix + \"bæt\"\n",
    "        df.loc[((df['sent3before'].str.match(\"^\"+ acc_words + \"$\")) & (df['sent2before'].str.match(\"^(\\d{1,2}\\.)?(\\d{3}\\.?)*\\d+(,\\d+)?$\")) & (df['sentbefore'].str.match(\"^\" + amounts + \"$\")) & (df['after_measure'].str.match(\"^\"+ letter + \"B$\"))), 'after_measure'] = prefix + \"bæt\" \n",
    "        df.loc[((df['sent2before'].str.match(\"^\"+ dat_words + \"$\")) & (df['sentbefore'].str.match(\"^((\\d{1,2}\\.)?(\\d{3}\\.?)*(\\d*1|\\d+(,\\d*)1))$\")) & (df['after_measure'].str.match(\"^\"+ letter + \"B$\"))), 'after_measure'] = prefix + \"bæti\"\n",
    "        df.loc[((df['sent2before'].str.match(\"^\"+ gen_words + \"$\")) & (df['sentbefore'].str.match(\"^((\\d{1,2}\\.)?(\\d{3}\\.?)*\\d*(1|(,\\d*)1))$\")) & (df['after_measure'].str.match(\"^\"+ letter + \"B$\"))), 'after_measure'] = prefix + \"bæts\"\n",
    "        df.loc[((df['sent2before'].str.match(\"^\"+ dat_words + \"$\")) & (df['sentbefore'].str.match(\"^((\\d{1,2}\\.)?(\\d{3}\\.?)*(\\d*[02-9]|\\d+(,\\d*[02-9]))|\" + amounts + \")$\")) & (df['after_measure'].str.match(\"^\"+ letter + \"B$\"))), 'after_measure'] = prefix + \"bætum\"\n",
    "        df.loc[((df['sent3before'].str.match(\"^\"+ dat_words + \"$\")) & (df['sent2before'].str.match(\"^(\\d{1,2}\\.)?(\\d{3}\\.?)*\\d+(,\\d+)?$\")) & (df['sentbefore'].str.match(\"^\" + amounts + \"$\")) & (df['after_measure'].str.match(\"^\"+ letter + \"B$\"))), 'after_measure'] = prefix + \"bætum\"    \n",
    "        df.loc[((df['sent2before'].str.match(\"^\"+ gen_words + \"$\")) & (df['sentbefore'].str.match(\"^((\\d{1,2}\\.)?(\\d{3}\\.?)*(\\d*[02-9]|\\d+(,\\d*[02-9]))|\" + amounts + \")$\")) & (df['after_measure'].str.match(\"^\"+ letter + \"B$\"))), 'after_measure'] = prefix + \"bæta\"\n",
    "        df.loc[((df['sent3before'].str.match(\"^\"+ gen_words + \"$\")) & (df['sent2before'].str.match(\"^(\\d{1,2}\\.)?(\\d{3}\\.?)*\\d+(,\\d+)?$\")) & (df['sentbefore'].str.match(\"^\" + amounts + \"$\")) & (df['after_measure'].str.match(\"^\"+ letter + \"B$\"))), 'after_measure'] = prefix + \"bæta\"       \n",
    "        df.loc[((df['sentbefore'].str.match(\"^((\\d{1,2}\\.)?(\\d{3}\\.?)*\\d+(,\\d+)?|\" + amounts + \")$\")) & (df['after_measure'].str.match(\"^\"+ letter + \"B$\"))), 'after_measure'] = prefix + \"bæt\"\n",
    "        df.loc[((df['sent2before'].str.match(\"(\\d{1,2}\\.)?(\\d{3}\\.?)*\\d+(,\\d+)?$\")) & (df['sentbefore'].str.match(\"^\" + amounts + \"$\")) & (df['after_measure'].str.match(\"^\"+ letter + \"B$\"))), 'after_measure'] = prefix + \"bæt\"\n"
   ]
  },
  {
   "cell_type": "markdown",
   "metadata": {},
   "source": [
    "#### calorie"
   ]
  },
  {
   "cell_type": "code",
   "execution_count": 60,
   "metadata": {},
   "outputs": [],
   "source": [
    "def df_cal(df):\n",
    "    print(\"df_cal\")\n",
    "    df.loc[((df['sent2before'].str.match(\"^\"+ accdatgen_words_comb + \"$\")) & (df['sentbefore'].str.match(\"^(\\d{1,2}\\.)?(\\d{3}\\.?)*\\d*(1|(,\\d*)1)$\")) & (df['after_measure'].str.match(\"^[Kk][Cc]al$\"))), 'after_measure'] = \"kílókaloríu\"\n",
    "    df.loc[((df['sent3before'].str.match(\"^\"+ acc_words + \"$\")) & (df['sent2before'].str.match(\"^(\\d{1,2}\\.)?(\\d{3}\\.?)*\\d+(,\\d+)?$\")) & (df['sentbefore'].str.match(\"^\" + amounts + \"$\")) & (df['after_measure'].str.match(\"^[Kk][Cc]al$\"))), 'after_measure'] = \"kílókaloríur\"\n",
    "    df.loc[((df['sent2before'].str.match(\"^\"+ acc_words + \"$\")) & (df['sentbefore'].str.match(\"^((\\d{1,2}\\.)?(\\d{3}\\.?)*(\\d*[02-9]|\\d+(,\\d*[02-9]))|\" + amounts + \")$\")) & (df['after_measure'].str.match(\"^[Kk][Cc]al$\"))), 'after_measure'] = \"kílókaloríur\"\n",
    "    df.loc[((df['sent2before'].str.match(\"^\"+ dat_words + \"$\")) & (df['sentbefore'].str.match(\"^((\\d{1,2}\\.)?(\\d{3}\\.?)*(\\d*[02-9]|\\d+(,\\d*[02-9]))|\" + amounts + \")$\")) & (df['after_measure'].str.match(\"^[Kk][Cc]al$\"))), 'after_measure'] = \"kílókaloríum\"\n",
    "    df.loc[((df['sent3before'].str.match(\"^\"+ dat_words + \"$\")) & (df['sent2before'].str.match(\"^(\\d{1,2}\\.)?(\\d{3}\\.?)*\\d+(,\\d+)?$\")) & (df['sentbefore'].str.match(\"^\" + amounts + \"$\")) & (df['after_measure'].str.match(\"^[Kk][Cc]al$\"))), 'after_measure'] = \"kílókaloríum\"\n",
    "    df.loc[((df['sent3before'].str.match(\"^\"+ gen_words + \"$\")) & (df['sent2before'].str.match(\"^(\\d{1,2}\\.)?(\\d{3}\\.?)*\\d+(,\\d+)?$\")) & (df['sentbefore'].str.match(\"^\" + amounts + \"$\")) & (df['after_measure'].str.match(\"^[Kk][Cc]al$\"))), 'after_measure'] = \"kílókaloría\"\n",
    "    df.loc[((df['sent2before'].str.match(\"^\"+ gen_words + \"$\")) & (df['sentbefore'].str.match(\"^((\\d{1,2}\\.)?(\\d{3}\\.?)*(\\d*[02-9]|\\d+(,\\d*[02-9]))|\" + amounts + \")$\")) & (df['after_measure'].str.match(\"^[Kk][Cc]al$\"))), 'after_measure'] = \"kílókaloría\"\n",
    "    df.loc[((df['sentbefore'].str.match(\"^(\\d{1,2}\\.)?(\\d{3}\\.?)*\\d*(1|(,\\d*)1)$\")) & (df['after_measure'].str.match(\"^[Kk][Cc]al$\"))), 'after_measure'] = \"kílókaloría\"\n",
    "    df.loc[((df['sentbefore'].str.match(\"^(\\d{1,2}\\.)?(\\d{3}\\.?)*(\\d+(,\\d+)?|\" + amounts + \")$\")) & (df['after_measure'].str.match(\"^[Kk][Cc]al$\"))), 'after_measure'] = \"kílókaloríur\"\n",
    "    df.loc[((df['sent2before'].str.match(\"^(\\d{1,2}\\.)?(\\d{3}\\.?)*\\d+(,\\d+)?$\")) & (df['sentbefore'].str.match(\"^\" + amounts + \"$\")) & (df['after_measure'].str.match(\"^[Kk][Cc]al$\"))), 'after_measure'] = \"kílókaloríur\"    \n"
   ]
  },
  {
   "cell_type": "markdown",
   "metadata": {},
   "source": [
    "#### degree"
   ]
  },
  {
   "cell_type": "code",
   "execution_count": 61,
   "metadata": {},
   "outputs": [],
   "source": [
    "def df_degree(df):\n",
    "    print(\"df_degree\")\n",
    "    df.loc[((df['sent2before'].str.match(\"^\"+ accdatgen_words_comb + \"$\")) & (df['sentbefore'].str.match(\"^(\\d{1,2}\\.)?(\\d{3}\\.?)*\\d*(1|(,\\d*)1)$\")) & (df['after_measure'].str.match(\"^°$\"))), 'after_measure'] = \"gráðu\"\n",
    "    df.loc[((df['sent3before'].str.match(\"^\"+ acc_words + \"$\")) & (df['sent2before'].str.match(\"^(\\d{1,2}\\.)?(\\d{3}\\.?)*\\d+(,\\d+)?$\")) & (df['sentbefore'].str.match(\"^\" + amounts + \"$\")) & (df['after_measure'].str.match(\"^°$\"))), 'after_measure'] = \"gráður\"\n",
    "    df.loc[((df['sent2before'].str.match(\"^\"+ acc_words + \"$\")) & (df['sentbefore'].str.match(\"^((\\d{1,2}\\.)?(\\d{3}\\.?)*(\\d*[02-9]|\\d+(,\\d*[02-9]))|\" + amounts + \")$\")) & (df['after_measure'].str.match(\"^°$\"))), 'after_measure'] = \"gráður\"\n",
    "    df.loc[((df['sent2before'].str.match(\"^\"+ dat_words + \"$\")) & (df['sentbefore'].str.match(\"^((\\d{1,2}\\.)?(\\d{3}\\.?)*(\\d*[02-9]|\\d+(,\\d*[02-9]))|\" + amounts + \")$\")) & (df['after_measure'].str.match(\"^°$\"))), 'after_measure'] = \"gráðum\"\n",
    "    df.loc[((df['sent3before'].str.match(\"^\"+ dat_words + \"$\")) & (df['sent2before'].str.match(\"^(\\d{1,2}\\.)?(\\d{3}\\.?)*\\d+(,\\d+)?$\")) & (df['sentbefore'].str.match(\"^\" + amounts + \"$\")) & (df['after_measure'].str.match(\"^°$\"))), 'after_measure'] = \"gráðum\"\n",
    "    df.loc[((df['sent3before'].str.match(\"^\"+ gen_words + \"$\")) & (df['sent2before'].str.match(\"^(\\d{1,2}\\.)?(\\d{3}\\.?)*\\d+(,\\d+)?$\")) & (df['sentbefore'].str.match(\"^\" + amounts + \"$\")) & (df['after_measure'].str.match(\"^°$\"))), 'after_measure'] = \"gráða\"\n",
    "    df.loc[((df['sent2before'].str.match(\"^\"+ gen_words + \"$\")) & (df['sentbefore'].str.match(\"^((\\d{1,2}\\.)?(\\d{3}\\.?)*(\\d*[02-9]|\\d+(,\\d*[02-9]))|\" + amounts + \")$\")) & (df['after_measure'].str.match(\"^°$\"))), 'after_measure'] = \"gráða\"\n",
    "    df.loc[((df['sentbefore'].str.match(\"^(\\d{1,2}\\.)?(\\d{3}\\.?)*\\d*(1|(,\\d*)1)$\")) & (df['after_measure'].str.match(\"^°$\"))), 'after_measure'] = \"gráða\"\n",
    "    df.loc[((df['sentbefore'].str.match(\"^(\\d{1,2}\\.)?(\\d{3}\\.?)*(\\d+(,\\d+)?|\" + amounts + \")$\")) & (df['after_measure'].str.match(\"^°$\"))), 'after_measure'] = \"gráður\"\n",
    "    df.loc[((df['sent2before'].str.match(\"^(\\d{1,2}\\.)?(\\d{3}\\.?)*\\d+(,\\d+)?$\")) & (df['sentbefore'].str.match(\"^\" + amounts + \"$\")) & (df['after_measure'].str.match(\"^°$\"))), 'after_measure'] = \"gráður\"    \n"
   ]
  },
  {
   "cell_type": "markdown",
   "metadata": {},
   "source": [
    "#### days"
   ]
  },
  {
   "cell_type": "code",
   "execution_count": 62,
   "metadata": {},
   "outputs": [],
   "source": [
    "def df_days(df):\n",
    "    print(\"df_days\")\n",
    "    df.loc[(df['after_measure'].str.match(\"^mán(ud)?\\.?$\")), 'after_measure'] = \"mánudag\"\n",
    "    df.loc[(df['after_measure'].str.match(\"^þri(ðjud)?\\.?$\")), 'after_measure'] = \"þriðjudag\"\n",
    "    df.loc[(df['after_measure'].str.match(\"^miðvikud?\\.?$\")), 'after_measure'] = \"miðvikudag\"\n",
    "    df.loc[(df['after_measure'].str.match(\"^fim(mtud)?\\.?$\")), 'after_measure'] = \"fimmtudag\"\n",
    "    df.loc[(df['after_measure'].str.match(\"^fös(tud)?\\.?$\")), 'after_measure'] = \"föstudag\"\n",
    "    df.loc[(df['after_measure'].str.match(\"^lau(gard)?\\.?$\")), 'after_measure'] = \"laugardag\"\n",
    "    df.loc[(df['after_measure'].str.match(\"^sun(nud)?\\.?$\")), 'after_measure'] = \"sunnudag\"\n"
   ]
  },
  {
   "cell_type": "markdown",
   "metadata": {},
   "source": [
    "#### month"
   ]
  },
  {
   "cell_type": "code",
   "execution_count": 63,
   "metadata": {},
   "outputs": [],
   "source": [
    "def df_months(df):\n",
    "    print(\"df_months\")\n",
    "    df.loc[((df['after_measure'].str.match(\"^jan\\.?$\")) & (df['sentbefore'].str.match(\"^\\d{1,2}\\.$\"))), 'after_measure'] = \"janúar\"\n",
    "    df.loc[((df['after_measure'].str.match(\"^feb\\.?$\")) & (df['sentbefore'].str.match(\"^\\d{1,2}\\.$\"))), 'after_measure'] = \"febrúar\"\n",
    "    df.loc[((df['after_measure'].str.match(\"^mar\\.?$\")) & (df['sentbefore'].str.match(\"^\\d{1,2}\\.$\"))), 'after_measure'] = \"mars\"\n",
    "    df.loc[((df['after_measure'].str.match(\"^apr\\.?$\")) & (df['sentbefore'].str.match(\"^\\d{1,2}\\.$\"))), 'after_measure'] = \"apríl\"\n",
    "    df.loc[((df['after_measure'].str.match(\"^jún\\.?$\")) & (df['sentbefore'].str.match(\"^\\d{1,2}\\.$\"))), 'after_measure'] = \"júní\"\n",
    "    df.loc[((df['after_measure'].str.match(\"^júl\\.?$\")) & (df['sentbefore'].str.match(\"^\\d{1,2}\\.$\"))), 'after_measure'] = \"júlí\"\n",
    "    df.loc[((df['after_measure'].str.match(\"^ág\\.?$\")) & (df['sentbefore'].str.match(\"^\\d{1,2}\\.$\"))), 'after_measure'] = \"ágúst\"\n",
    "    df.loc[((df['after_measure'].str.match(\"^sept?\\.?$\")) & (df['sentbefore'].str.match(\"^\\d{1,2}\\.$\"))), 'after_measure'] = \"september\"\n",
    "    df.loc[((df['after_measure'].str.match(\"^okt\\.?$\")) & (df['sentbefore'].str.match(\"^\\d{1,2}\\.$\"))), 'after_measure'] = \"október\"\n",
    "    df.loc[((df['after_measure'].str.match(\"^nóv\\.?$\")) & (df['sentbefore'].str.match(\"^\\d{1,2}\\.$\"))), 'after_measure'] = \"nóvember\"\n",
    "    df.loc[((df['after_measure'].str.match(\"^des\\.?$\")) & (df['sentbefore'].str.match(\"^\\d{1,2}\\.$\"))), 'after_measure'] = \"desember\"\n",
    "\n"
   ]
  },
  {
   "cell_type": "markdown",
   "metadata": {},
   "source": [
    "#### roman numbers"
   ]
  },
  {
   "cell_type": "code",
   "execution_count": 64,
   "metadata": {},
   "outputs": [],
   "source": [
    "def df_roman_numbers(df):\n",
    "    print(\"df_roman_numbers\")\n",
    "    df.loc[(df['after_measure'].str.match(\"^II\\.?$\")), 'after_measure'] = \"annar\"\n",
    "    df.loc[(df['after_measure'].str.match(\"^III\\.?$\")), 'after_measure'] = \"þriðji\"\n",
    "    df.loc[(df['after_measure'].str.match(\"^IV\\.?$\")), 'after_measure'] = \"fjórði\"\n",
    "    df.loc[(df['after_measure'].str.match(\"^VI\\.?$\")), 'after_measure'] = \"sjötti\"\n",
    "    df.loc[(df['after_measure'].str.match(\"^VII\\.?$\")), 'after_measure'] = \"sjöundi\"\n",
    "    df.loc[(df['after_measure'].str.match(\"^VIII\\.?$\")), 'after_measure'] = \"áttundi\"\n",
    "    df.loc[(df['after_measure'].str.match(\"^IX\\.?$\")), 'after_measure'] = \"níundi\"\n",
    "    df.loc[(df['after_measure'].str.match(\"^XI\\.?$\")), 'after_measure'] = \"ellefti\"\n",
    "    df.loc[(df['after_measure'].str.match(\"^XII\\.?$\")), 'after_measure'] = \"tólfti\"\n",
    "    df.loc[(df['after_measure'].str.match(\"^XIII\\.?$\")), 'after_measure'] = \"þrettándi\"\n",
    "    df.loc[(df['after_measure'].str.match(\"^XIV\\.?$\")), 'after_measure'] = \"fjórtándi\"\n",
    "    df.loc[(df['after_measure'].str.match(\"^XV\\.?$\")), 'after_measure'] = \"fimmtándi\"\n",
    "    df.loc[(df['after_measure'].str.match(\"^XVI\\.?$\")), 'after_measure'] = \"sextándi\"\n",
    "    df.loc[(df['after_measure'].str.match(\"^XVII\\.?$\")), 'after_measure'] = \"sautjándi\"\n",
    "    df.loc[(df['after_measure'].str.match(\"^XVIII\\.?$\")), 'after_measure'] = \"átjándi\"\n",
    "    df.loc[(df['after_measure'].str.match(\"^XIX\\.?$\")), 'after_measure'] = \"nítjándi\"\n"
   ]
  },
  {
   "cell_type": "code",
   "execution_count": 65,
   "metadata": {},
   "outputs": [],
   "source": [
    "def main_measurement(df):\n",
    "    start = time.time()\n",
    "    df_tonn(df)\n",
    "    df_hektari(df)\n",
    "    df_somegram(df)\n",
    "    df_somegram_noprior(df)\n",
    "    df_gram(df)\n",
    "    df_basegram(df)\n",
    "    df_someliter(df)\n",
    "    df_someliter_no_prior(df)\n",
    "    df_somespoon(df)\n",
    "    df_fet(df)\n",
    "    df_inch(df)\n",
    "    df_metri(df)\n",
    "    df_somemeter(df)\n",
    "    df_kwst(df)\n",
    "    df_klst(df)\n",
    "    df_sometime(df)\n",
    "    df_crown(df)\n",
    "    df_dollari(df)\n",
    "    df_pound(df)\n",
    "    df_yen(df)\n",
    "    df_currencies(df)\n",
    "    df_cur_letters(df)\n",
    "    df_thousand_krona(df)\n",
    "    df_million_krona(df)\n",
    "    df_billion_krona(df)\n",
    "    df_dimensionmeter_after(df)\n",
    "    df_dimensionmeter_before(df)\n",
    "    df_prefix_dimensionmeter_after(df)\n",
    "    df_prefix_dimensionmeter_before(df)\n",
    "    df_percent(df)\n",
    "    df_stykki(df)\n",
    "    df_electronic(df)\n",
    "    df_watt(df)\n",
    "    df_byte(df)\n",
    "    df_cal(df)\n",
    "    df_degree(df)\n",
    "    df_days(df)\n",
    "    df_months(df)\n",
    "    df_roman_numbers(df)\n",
    "    print(f\"run done in {time.time() - start}\")"
   ]
  },
  {
   "cell_type": "code",
   "execution_count": null,
   "metadata": {},
   "outputs": [],
   "source": [
    "main_measurement(other_dataframe_expanded)"
   ]
  },
  {
   "cell_type": "code",
   "execution_count": null,
   "metadata": {},
   "outputs": [],
   "source": [
    "df_comparison(other_dataframe_expanded, 'after', 'after_measure', 'measure')"
   ]
  },
  {
   "cell_type": "code",
   "execution_count": null,
   "metadata": {},
   "outputs": [],
   "source": [
    "other_all_measures_type = other_dataframe_expanded[['sentence_id', 'token_id', 'before', 'after', 'after_measure', 'type']]"
   ]
  },
  {
   "cell_type": "code",
   "execution_count": 66,
   "metadata": {
    "collapsed": true
   },
   "outputs": [
    {
     "name": "stdout",
     "output_type": "stream",
     "text": [
      "df_tonn\n",
      "df_hektari\n",
      "df_somegram\n"
     ]
    },
    {
     "data": {
      "application/vnd.jupyter.widget-view+json": {
       "model_id": "a10fa162e556447baeaa17fb479f4dd2",
       "version_major": 2,
       "version_minor": 0
      },
      "text/plain": [
       "HBox(children=(FloatProgress(value=0.0, max=7.0), HTML(value='')))"
      ]
     },
     "metadata": {},
     "output_type": "display_data"
    },
    {
     "name": "stdout",
     "output_type": "stream",
     "text": [
      "\n",
      "df_somegram_noprior\n"
     ]
    },
    {
     "data": {
      "application/vnd.jupyter.widget-view+json": {
       "model_id": "14e8cc2fcf254365b273e117605a4e49",
       "version_major": 2,
       "version_minor": 0
      },
      "text/plain": [
       "HBox(children=(FloatProgress(value=0.0, max=3.0), HTML(value='')))"
      ]
     },
     "metadata": {},
     "output_type": "display_data"
    },
    {
     "name": "stdout",
     "output_type": "stream",
     "text": [
      "\n",
      "df_gram\n",
      "df_basegram\n"
     ]
    },
    {
     "data": {
      "application/vnd.jupyter.widget-view+json": {
       "model_id": "f938d96005244594a59b355bcf5aa2d8",
       "version_major": 2,
       "version_minor": 0
      },
      "text/plain": [
       "HBox(children=(FloatProgress(value=0.0, max=2.0), HTML(value='')))"
      ]
     },
     "metadata": {},
     "output_type": "display_data"
    },
    {
     "name": "stdout",
     "output_type": "stream",
     "text": [
      "\n",
      "df_someliter\n"
     ]
    },
    {
     "data": {
      "application/vnd.jupyter.widget-view+json": {
       "model_id": "d0c90d8adb9b4daeb2bbb9d0e24eff55",
       "version_major": 2,
       "version_minor": 0
      },
      "text/plain": [
       "HBox(children=(FloatProgress(value=0.0, max=5.0), HTML(value='')))"
      ]
     },
     "metadata": {},
     "output_type": "display_data"
    },
    {
     "name": "stdout",
     "output_type": "stream",
     "text": [
      "\n",
      "df_someliter_noprior\n"
     ]
    },
    {
     "data": {
      "application/vnd.jupyter.widget-view+json": {
       "model_id": "737000d3e1be439faa27dd999bc35d1b",
       "version_major": 2,
       "version_minor": 0
      },
      "text/plain": [
       "HBox(children=(FloatProgress(value=0.0, max=4.0), HTML(value='')))"
      ]
     },
     "metadata": {},
     "output_type": "display_data"
    },
    {
     "name": "stdout",
     "output_type": "stream",
     "text": [
      "\n",
      "df_somespoon\n"
     ]
    },
    {
     "data": {
      "application/vnd.jupyter.widget-view+json": {
       "model_id": "13a0eb04b4924abab604a6c459e9682e",
       "version_major": 2,
       "version_minor": 0
      },
      "text/plain": [
       "HBox(children=(FloatProgress(value=0.0, max=2.0), HTML(value='')))"
      ]
     },
     "metadata": {},
     "output_type": "display_data"
    },
    {
     "name": "stdout",
     "output_type": "stream",
     "text": [
      "\n",
      "df_fet\n",
      "df_inch\n",
      "df_metri\n",
      "df_somemeter\n"
     ]
    },
    {
     "data": {
      "application/vnd.jupyter.widget-view+json": {
       "model_id": "9eb519fb1d8645f59395531c99a7c2eb",
       "version_major": 2,
       "version_minor": 0
      },
      "text/plain": [
       "HBox(children=(FloatProgress(value=0.0, max=8.0), HTML(value='')))"
      ]
     },
     "metadata": {},
     "output_type": "display_data"
    },
    {
     "name": "stdout",
     "output_type": "stream",
     "text": [
      "\n",
      "df_kwst\n"
     ]
    },
    {
     "data": {
      "application/vnd.jupyter.widget-view+json": {
       "model_id": "d11fb9436bfb424aa36d0f8925528511",
       "version_major": 2,
       "version_minor": 0
      },
      "text/plain": [
       "HBox(children=(FloatProgress(value=0.0, max=5.0), HTML(value='')))"
      ]
     },
     "metadata": {},
     "output_type": "display_data"
    },
    {
     "name": "stdout",
     "output_type": "stream",
     "text": [
      "\n",
      "df_klst\n",
      "df_sometime\n"
     ]
    },
    {
     "data": {
      "application/vnd.jupyter.widget-view+json": {
       "model_id": "76bccb2a9e174a7d8fbd86a7519c902d",
       "version_major": 2,
       "version_minor": 0
      },
      "text/plain": [
       "HBox(children=(FloatProgress(value=0.0, max=3.0), HTML(value='')))"
      ]
     },
     "metadata": {},
     "output_type": "display_data"
    },
    {
     "name": "stdout",
     "output_type": "stream",
     "text": [
      "\n",
      "df_crown\n",
      "df_dollari\n",
      "df_pound\n",
      "df_yen\n",
      "df_currencies\n"
     ]
    },
    {
     "data": {
      "application/vnd.jupyter.widget-view+json": {
       "model_id": "56a1fd753e16493c9c913c6438dcb00a",
       "version_major": 2,
       "version_minor": 0
      },
      "text/plain": [
       "HBox(children=(FloatProgress(value=0.0, max=3.0), HTML(value='')))"
      ]
     },
     "metadata": {},
     "output_type": "display_data"
    },
    {
     "name": "stdout",
     "output_type": "stream",
     "text": [
      "\n",
      "df_cur_letters\n"
     ]
    },
    {
     "data": {
      "application/vnd.jupyter.widget-view+json": {
       "model_id": "dad21bfa70bf45f6b014efbeb822e634",
       "version_major": 2,
       "version_minor": 0
      },
      "text/plain": [
       "HBox(children=(FloatProgress(value=0.0, max=14.0), HTML(value='')))"
      ]
     },
     "metadata": {},
     "output_type": "display_data"
    },
    {
     "name": "stdout",
     "output_type": "stream",
     "text": [
      "\n",
      "df_thousand_krona\n",
      "df_million_krona\n"
     ]
    },
    {
     "data": {
      "application/vnd.jupyter.widget-view+json": {
       "model_id": "5b1b7e90707a4684af3c69e2a247356d",
       "version_major": 2,
       "version_minor": 0
      },
      "text/plain": [
       "HBox(children=(FloatProgress(value=0.0, max=2.0), HTML(value='')))"
      ]
     },
     "metadata": {},
     "output_type": "display_data"
    },
    {
     "name": "stdout",
     "output_type": "stream",
     "text": [
      "\n",
      "df_billion_krona\n"
     ]
    },
    {
     "data": {
      "application/vnd.jupyter.widget-view+json": {
       "model_id": "7717f53023544cbe898c0067dbddbda7",
       "version_major": 2,
       "version_minor": 0
      },
      "text/plain": [
       "HBox(children=(FloatProgress(value=0.0, max=2.0), HTML(value='')))"
      ]
     },
     "metadata": {},
     "output_type": "display_data"
    },
    {
     "name": "stdout",
     "output_type": "stream",
     "text": [
      "\n",
      "df_dimensionmeter_after\n"
     ]
    },
    {
     "data": {
      "application/vnd.jupyter.widget-view+json": {
       "model_id": "b998fd7cc570488b94720c684229af3e",
       "version_major": 2,
       "version_minor": 0
      },
      "text/plain": [
       "HBox(children=(FloatProgress(value=0.0, max=4.0), HTML(value='')))"
      ]
     },
     "metadata": {},
     "output_type": "display_data"
    },
    {
     "name": "stdout",
     "output_type": "stream",
     "text": [
      "\n",
      "df_dimensionmeter_before\n"
     ]
    },
    {
     "data": {
      "application/vnd.jupyter.widget-view+json": {
       "model_id": "4d834a78215a4750a6ef49c767499795",
       "version_major": 2,
       "version_minor": 0
      },
      "text/plain": [
       "HBox(children=(FloatProgress(value=0.0, max=3.0), HTML(value='')))"
      ]
     },
     "metadata": {},
     "output_type": "display_data"
    },
    {
     "name": "stdout",
     "output_type": "stream",
     "text": [
      "\n",
      "df_prefix_dimensionmeter_after\n"
     ]
    },
    {
     "data": {
      "application/vnd.jupyter.widget-view+json": {
       "model_id": "493d9ef12b544d6186a671b0a207cd0e",
       "version_major": 2,
       "version_minor": 0
      },
      "text/plain": [
       "HBox(children=(FloatProgress(value=0.0, max=7.0), HTML(value='')))"
      ]
     },
     "metadata": {},
     "output_type": "display_data"
    },
    {
     "name": "stdout",
     "output_type": "stream",
     "text": [
      "\n",
      "df_prefix_dimensionmeter_before\n"
     ]
    },
    {
     "data": {
      "application/vnd.jupyter.widget-view+json": {
       "model_id": "5bd97a925c8f449c9225e09415b67962",
       "version_major": 2,
       "version_minor": 0
      },
      "text/plain": [
       "HBox(children=(FloatProgress(value=0.0, max=7.0), HTML(value='')))"
      ]
     },
     "metadata": {},
     "output_type": "display_data"
    },
    {
     "name": "stdout",
     "output_type": "stream",
     "text": [
      "\n",
      "df_percent\n",
      "df_stykki\n",
      "df_electronic\n"
     ]
    },
    {
     "data": {
      "application/vnd.jupyter.widget-view+json": {
       "model_id": "2c2a1f51c5364a34b4e63fd419fb43af",
       "version_major": 2,
       "version_minor": 0
      },
      "text/plain": [
       "HBox(children=(FloatProgress(value=0.0, max=5.0), HTML(value='')))"
      ]
     },
     "metadata": {},
     "output_type": "display_data"
    },
    {
     "name": "stdout",
     "output_type": "stream",
     "text": [
      "\n",
      "df_watt\n"
     ]
    },
    {
     "data": {
      "application/vnd.jupyter.widget-view+json": {
       "model_id": "74b401f2e08741a1b88b923d370a091d",
       "version_major": 2,
       "version_minor": 0
      },
      "text/plain": [
       "HBox(children=(FloatProgress(value=0.0, max=5.0), HTML(value='')))"
      ]
     },
     "metadata": {},
     "output_type": "display_data"
    },
    {
     "name": "stdout",
     "output_type": "stream",
     "text": [
      "\n",
      "df_byte\n"
     ]
    },
    {
     "data": {
      "application/vnd.jupyter.widget-view+json": {
       "model_id": "4cb9f185fdc3456eb04e0252e39d0f9f",
       "version_major": 2,
       "version_minor": 0
      },
      "text/plain": [
       "HBox(children=(FloatProgress(value=0.0, max=4.0), HTML(value='')))"
      ]
     },
     "metadata": {},
     "output_type": "display_data"
    },
    {
     "name": "stdout",
     "output_type": "stream",
     "text": [
      "\n",
      "df_cal\n",
      "df_degree\n",
      "df_days\n",
      "df_months\n",
      "df_roman_numbers\n",
      "run done in 319.3626639842987\n"
     ]
    }
   ],
   "source": [
    "main_measurement(sport_dataframe_expanded)"
   ]
  },
  {
   "cell_type": "code",
   "execution_count": 67,
   "metadata": {},
   "outputs": [
    {
     "name": "stdout",
     "output_type": "stream",
     "text": [
      "df_comparison finished in 0.19866490364074707\n"
     ]
    }
   ],
   "source": [
    "df_comparison(sport_dataframe_expanded, 'after', 'after_measure', 'measure')"
   ]
  },
  {
   "cell_type": "markdown",
   "metadata": {},
   "source": [
    "### Tagger"
   ]
  },
  {
   "cell_type": "code",
   "execution_count": null,
   "metadata": {},
   "outputs": [],
   "source": [
    "tokenize_nsw(other_all_measures_type, 'after_measure')"
   ]
  },
  {
   "cell_type": "code",
   "execution_count": 68,
   "metadata": {},
   "outputs": [
    {
     "name": "stdout",
     "output_type": "stream",
     "text": [
      "length of dataframe is 13512\n"
     ]
    },
    {
     "data": {
      "application/vnd.jupyter.widget-view+json": {
       "model_id": "8415f531899e4d9fb1df6b4f98213da4",
       "version_major": 2,
       "version_minor": 0
      },
      "text/plain": [
       "HBox(children=(FloatProgress(value=0.0, max=13512.0), HTML(value='')))"
      ]
     },
     "metadata": {},
     "output_type": "display_data"
    },
    {
     "name": "stdout",
     "output_type": "stream",
     "text": [
      "\n",
      "tokenize_nsw is done in 5.613346099853516\n"
     ]
    }
   ],
   "source": [
    "tokenize_nsw(sport_dataframe_expanded, 'after_measure')"
   ]
  },
  {
   "cell_type": "code",
   "execution_count": 69,
   "metadata": {},
   "outputs": [],
   "source": [
    "def set_type_second(df):\n",
    "    start = time.time()\n",
    "    df.loc[((df['after'].str.match(link_ptrn_all)) & (df['type'] == '')), 'type'] = \"wlink\"\n",
    "    df.loc[((df['after'].str.match(ordinal_ptrn)) & (df['type'] == '')), 'type'] = \"ordinal\"\n",
    "    print(f\"set_type done in {time.time() - start}\")"
   ]
  },
  {
   "cell_type": "code",
   "execution_count": 70,
   "metadata": {},
   "outputs": [
    {
     "name": "stdout",
     "output_type": "stream",
     "text": [
      "set_type done in 0.41117000579833984\n"
     ]
    }
   ],
   "source": [
    "set_type_second(sport_dataframe_expanded)"
   ]
  },
  {
   "cell_type": "code",
   "execution_count": 72,
   "metadata": {},
   "outputs": [
    {
     "data": {
      "text/html": [
       "<div>\n",
       "<style scoped>\n",
       "    .dataframe tbody tr th:only-of-type {\n",
       "        vertical-align: middle;\n",
       "    }\n",
       "\n",
       "    .dataframe tbody tr th {\n",
       "        vertical-align: top;\n",
       "    }\n",
       "\n",
       "    .dataframe thead th {\n",
       "        text-align: right;\n",
       "    }\n",
       "</style>\n",
       "<table border=\"1\" class=\"dataframe\">\n",
       "  <thead>\n",
       "    <tr style=\"text-align: right;\">\n",
       "      <th></th>\n",
       "      <th>sentence_id</th>\n",
       "      <th>token_id</th>\n",
       "      <th>before</th>\n",
       "      <th>after</th>\n",
       "      <th>type</th>\n",
       "      <th>sentbefore</th>\n",
       "      <th>sent2before</th>\n",
       "      <th>sent3before</th>\n",
       "      <th>sentafter</th>\n",
       "      <th>after_measure</th>\n",
       "      <th>compare</th>\n",
       "    </tr>\n",
       "  </thead>\n",
       "  <tbody>\n",
       "    <tr>\n",
       "      <th>0</th>\n",
       "      <td>1</td>\n",
       "      <td>0</td>\n",
       "      <td>Áfram</td>\n",
       "      <td>Áfram</td>\n",
       "      <td></td>\n",
       "      <td></td>\n",
       "      <td></td>\n",
       "      <td></td>\n",
       "      <td>hélt</td>\n",
       "      <td>[Áfram]</td>\n",
       "      <td>True</td>\n",
       "    </tr>\n",
       "    <tr>\n",
       "      <th>1</th>\n",
       "      <td>1</td>\n",
       "      <td>1</td>\n",
       "      <td>hélt</td>\n",
       "      <td>hélt</td>\n",
       "      <td></td>\n",
       "      <td>Áfram</td>\n",
       "      <td></td>\n",
       "      <td></td>\n",
       "      <td>fjörið</td>\n",
       "      <td>[hélt]</td>\n",
       "      <td>True</td>\n",
       "    </tr>\n",
       "    <tr>\n",
       "      <th>2</th>\n",
       "      <td>1</td>\n",
       "      <td>2</td>\n",
       "      <td>fjörið</td>\n",
       "      <td>fjörið</td>\n",
       "      <td></td>\n",
       "      <td>hélt</td>\n",
       "      <td>Áfram</td>\n",
       "      <td></td>\n",
       "      <td>í</td>\n",
       "      <td>[fjörið]</td>\n",
       "      <td>True</td>\n",
       "    </tr>\n",
       "    <tr>\n",
       "      <th>3</th>\n",
       "      <td>1</td>\n",
       "      <td>3</td>\n",
       "      <td>í</td>\n",
       "      <td>í</td>\n",
       "      <td></td>\n",
       "      <td>fjörið</td>\n",
       "      <td>hélt</td>\n",
       "      <td>Áfram</td>\n",
       "      <td>síðari</td>\n",
       "      <td>[í]</td>\n",
       "      <td>True</td>\n",
       "    </tr>\n",
       "    <tr>\n",
       "      <th>4</th>\n",
       "      <td>1</td>\n",
       "      <td>4</td>\n",
       "      <td>síðari</td>\n",
       "      <td>síðari</td>\n",
       "      <td></td>\n",
       "      <td>í</td>\n",
       "      <td>fjörið</td>\n",
       "      <td>hélt</td>\n",
       "      <td>hálfleik</td>\n",
       "      <td>[síðari]</td>\n",
       "      <td>True</td>\n",
       "    </tr>\n",
       "  </tbody>\n",
       "</table>\n",
       "</div>"
      ],
      "text/plain": [
       "   sentence_id  token_id  before   after type sentbefore sent2before  \\\n",
       "0            1         0   Áfram   Áfram                               \n",
       "1            1         1    hélt    hélt           Áfram               \n",
       "2            1         2  fjörið  fjörið            hélt       Áfram   \n",
       "3            1         3       í       í          fjörið        hélt   \n",
       "4            1         4  síðari  síðari               í      fjörið   \n",
       "\n",
       "  sent3before sentafter after_measure  compare  \n",
       "0                  hélt       [Áfram]     True  \n",
       "1                fjörið        [hélt]     True  \n",
       "2                     í      [fjörið]     True  \n",
       "3       Áfram    síðari           [í]     True  \n",
       "4        hélt  hálfleik      [síðari]     True  "
      ]
     },
     "execution_count": 72,
     "metadata": {},
     "output_type": "execute_result"
    }
   ],
   "source": [
    "sport_dataframe_expanded.iloc[:5]"
   ]
  },
  {
   "cell_type": "code",
   "execution_count": null,
   "metadata": {},
   "outputs": [],
   "source": [
    "set_type_second(other_all_measures_type)"
   ]
  },
  {
   "cell_type": "code",
   "execution_count": 73,
   "metadata": {},
   "outputs": [
    {
     "name": "stdout",
     "output_type": "stream",
     "text": [
      "flatten_nsw is done in 0.03196310997009277\n"
     ]
    }
   ],
   "source": [
    "sport_dataframe_expanded2 = flatten_nsw(sport_dataframe_expanded[['sentence_id', 'token_id', 'before', 'after_measure', 'type']])"
   ]
  },
  {
   "cell_type": "code",
   "execution_count": null,
   "metadata": {},
   "outputs": [],
   "source": [
    "other_dataframe_expanded2 = flatten_nsw(other_all_measures_type[['sentence_id', 'token_id', 'before', 'after_measure', 'type']])\n",
    "\n"
   ]
  },
  {
   "cell_type": "code",
   "execution_count": 74,
   "metadata": {},
   "outputs": [],
   "source": [
    "def get_sentences(df):\n",
    "    start = time.time()\n",
    "    uniquesents = df['sentence_id'].unique()\n",
    "    \n",
    "    allsents = []\n",
    "    for sent in uniquesents:\n",
    "        tmp_sent = df[df['sentence_id'] == sent]['after_measure'].tolist()\n",
    "        allsents.append(tmp_sent)\n",
    "    print(f\"get_sentences done in {time.time() - start}\")\n",
    "    return allsents"
   ]
  },
  {
   "cell_type": "code",
   "execution_count": 75,
   "metadata": {},
   "outputs": [],
   "source": [
    "def tag_into_df(df):\n",
    "    start = time.time()\n",
    "    allsents = get_sentences(df)\n",
    "    tags = tagger.tag_bulk(allsents)\n",
    "    flat_list_tags = [item for sublist in tags for item in sublist]\n",
    "    df['tag'] = flat_list_tags\n",
    "    df['next_tag'] = flat_list_tags[1:] + [\"\"]\n",
    "    print(f\"tag_into_df done in {time.time() - start}\")"
   ]
  },
  {
   "cell_type": "code",
   "execution_count": 76,
   "metadata": {},
   "outputs": [
    {
     "name": "stdout",
     "output_type": "stream",
     "text": [
      "get_sentences done in 0.3118729591369629\n",
      "tag_into_df done in 43.523003816604614\n"
     ]
    }
   ],
   "source": [
    "tag_into_df(sport_dataframe_expanded2)"
   ]
  },
  {
   "cell_type": "code",
   "execution_count": 78,
   "metadata": {},
   "outputs": [
    {
     "data": {
      "text/html": [
       "<div>\n",
       "<style scoped>\n",
       "    .dataframe tbody tr th:only-of-type {\n",
       "        vertical-align: middle;\n",
       "    }\n",
       "\n",
       "    .dataframe tbody tr th {\n",
       "        vertical-align: top;\n",
       "    }\n",
       "\n",
       "    .dataframe thead th {\n",
       "        text-align: right;\n",
       "    }\n",
       "</style>\n",
       "<table border=\"1\" class=\"dataframe\">\n",
       "  <thead>\n",
       "    <tr style=\"text-align: right;\">\n",
       "      <th></th>\n",
       "      <th>sentence_id</th>\n",
       "      <th>token_id</th>\n",
       "      <th>before</th>\n",
       "      <th>after_measure</th>\n",
       "      <th>type</th>\n",
       "      <th>tag</th>\n",
       "      <th>next_tag</th>\n",
       "    </tr>\n",
       "  </thead>\n",
       "  <tbody>\n",
       "    <tr>\n",
       "      <th>0</th>\n",
       "      <td>1</td>\n",
       "      <td>0</td>\n",
       "      <td>Áfram</td>\n",
       "      <td>Áfram</td>\n",
       "      <td></td>\n",
       "      <td>aa</td>\n",
       "      <td>sfg3eþ</td>\n",
       "    </tr>\n",
       "    <tr>\n",
       "      <th>1</th>\n",
       "      <td>1</td>\n",
       "      <td>1</td>\n",
       "      <td>hélt</td>\n",
       "      <td>hélt</td>\n",
       "      <td></td>\n",
       "      <td>sfg3eþ</td>\n",
       "      <td>nheng</td>\n",
       "    </tr>\n",
       "    <tr>\n",
       "      <th>2</th>\n",
       "      <td>1</td>\n",
       "      <td>2</td>\n",
       "      <td>fjörið</td>\n",
       "      <td>fjörið</td>\n",
       "      <td></td>\n",
       "      <td>nheng</td>\n",
       "      <td>af</td>\n",
       "    </tr>\n",
       "    <tr>\n",
       "      <th>3</th>\n",
       "      <td>1</td>\n",
       "      <td>3</td>\n",
       "      <td>í</td>\n",
       "      <td>í</td>\n",
       "      <td></td>\n",
       "      <td>af</td>\n",
       "      <td>lkeþvm</td>\n",
       "    </tr>\n",
       "    <tr>\n",
       "      <th>4</th>\n",
       "      <td>1</td>\n",
       "      <td>4</td>\n",
       "      <td>síðari</td>\n",
       "      <td>síðari</td>\n",
       "      <td></td>\n",
       "      <td>lkeþvm</td>\n",
       "      <td>nkeþ</td>\n",
       "    </tr>\n",
       "  </tbody>\n",
       "</table>\n",
       "</div>"
      ],
      "text/plain": [
       "   sentence_id  token_id  before after_measure type     tag next_tag\n",
       "0            1         0   Áfram         Áfram           aa   sfg3eþ\n",
       "1            1         1    hélt          hélt       sfg3eþ    nheng\n",
       "2            1         2  fjörið        fjörið        nheng       af\n",
       "3            1         3       í             í           af   lkeþvm\n",
       "4            1         4  síðari        síðari       lkeþvm     nkeþ"
      ]
     },
     "execution_count": 78,
     "metadata": {},
     "output_type": "execute_result"
    }
   ],
   "source": [
    "sport_dataframe_expanded2.iloc[:5]"
   ]
  },
  {
   "cell_type": "code",
   "execution_count": null,
   "metadata": {},
   "outputs": [],
   "source": [
    "tag_into_df(other_dataframe_expanded2)"
   ]
  },
  {
   "cell_type": "code",
   "execution_count": 79,
   "metadata": {},
   "outputs": [],
   "source": [
    "sport_df_save = sport_dataframe_expanded2[['sentence_id', 'token_id', 'after_measure', 'next_tag', 'type']]"
   ]
  },
  {
   "cell_type": "code",
   "execution_count": null,
   "metadata": {},
   "outputs": [],
   "source": [
    "other_df_save = other_dataframe_expanded2[['sentence_id', 'token_id', 'after_measure', 'next_tag', 'type']]"
   ]
  },
  {
   "cell_type": "code",
   "execution_count": 80,
   "metadata": {},
   "outputs": [],
   "source": [
    "sport_df_save.to_csv(\"sport_df_tagged_0503.csv\")"
   ]
  },
  {
   "cell_type": "code",
   "execution_count": null,
   "metadata": {},
   "outputs": [],
   "source": [
    "other_df_save.to_csv(\"other_df_tagged_0302.csv\")"
   ]
  }
 ],
 "metadata": {
  "kernelspec": {
   "display_name": "Python 3",
   "language": "python",
   "name": "python3"
  },
  "language_info": {
   "codemirror_mode": {
    "name": "ipython",
    "version": 3
   },
   "file_extension": ".py",
   "mimetype": "text/x-python",
   "name": "python",
   "nbconvert_exporter": "python",
   "pygments_lexer": "ipython3",
   "version": "3.7.7"
  }
 },
 "nbformat": 4,
 "nbformat_minor": 4
}
